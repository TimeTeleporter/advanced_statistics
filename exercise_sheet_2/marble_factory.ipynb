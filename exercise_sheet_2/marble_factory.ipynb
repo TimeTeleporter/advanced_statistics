{
 "cells": [
  {
   "attachments": {},
   "cell_type": "markdown",
   "metadata": {},
   "source": [
    "## Exercise 3: Visit to the marbles factory\n",
    "\n",
    "Given your interest in bags of marbles, the factory invites you to spend a day at their premises. Upon greeting by the manager, they ask you to help them with a production issue. They manufactured several marbles for days until they noticed that the machine had a pigmentation issue, producing bags entirely composed of white marbles, which led to angry phone calls from unhappy customers. There is no way to discern the affected bags externally. To what extent would drawing a single marble from each bag improve the ability to identify affected bags? Assuming that\n",
    "\n",
    "$$P(\\text{normal | white}) = 0.3,$$\n",
    "\n",
    "what can we say about the share of blue marbles in the unaffected bags?\n",
    "\n",
    "First, if we drew a blue marble, we can be certain that the bag is normal, as it doesnt (defectively) consist of only white marbles.\n",
    "\n",
    "$$P(\\text{normal | blue}) = 1.$$\n",
    "\n",
    "Also, we see that the inverse of the first statement gives\n",
    "\n",
    "$$P(\\text{defective | white}) = 0.7.$$\n",
    "\n",
    "Further we know that a defective bag always yields white marbles.\n",
    "\n",
    "$$P(\\text{white | defective}) = 1.$$\n",
    "\n",
    "Lastly we may find the probability to draw a white marble to be\n",
    "\n",
    "$$P(\\text{white}) = P(\\text{white | defective})P(\\text{defective}) + P(\\text{white | normal})P(\\text{normal}).$$\n",
    "\n",
    "The Bayes' theorem then states\n",
    "\n",
    "$$P(\\text{defective | white}) = \\frac{P(\\text{white | defective})P(\\text{defective})}{P(\\text{white | defective})P(\\text{defective}) + P(\\text{white | normal})P(\\text{normal})}.$$\n",
    "\n",
    "This statement can be simplified by considering $P(\\text{normal}) = 1 - P(\\text{defective})$. Inserting these gives\n",
    "\n",
    "$$0.7 = \n",
    "\\frac{P(\\text{defective})}\n",
    "{P(\\text{defective}) + P(\\text{white | normal}) - P(\\text{white | normal})P(\\text{defective})}.$$\n",
    "\n",
    "We find the relation \n",
    "\n",
    "$$P(\\text{white | normal}) = \\frac{3}{7}\\frac{P(\\text{defective})}{1 - P(\\text{defective})}.$$\n",
    "\n",
    "As a final remark, we can state that the probability to draw a blue marble in an unaffected bag is also dependant on the prevalence of defective bags\n",
    "\n",
    "$$P(\\text{blue | normal}) = 1 - \\frac{3}{7}\\frac{P(\\text{defective})}{1 - P(\\text{defective})}.$$"
   ]
  }
 ],
 "metadata": {
  "kernelspec": {
   "display_name": "R",
   "language": "R",
   "name": "ir"
  },
  "language_info": {
   "name": "R"
  },
  "orig_nbformat": 4
 },
 "nbformat": 4,
 "nbformat_minor": 2
}
