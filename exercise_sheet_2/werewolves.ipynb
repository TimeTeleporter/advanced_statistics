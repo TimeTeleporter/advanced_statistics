{
 "cells": [
  {
   "attachments": {},
   "cell_type": "markdown",
   "metadata": {},
   "source": [
    "## Exercise 1: The Werewolves of Millers Hollow\n",
    "\n",
    "Millers Hollow (pop. 842) is haunted by werewolves killing villagers at night. It is estimated that they currently represent 10% of the entire population. As an established statistician, the Council asks for your help in order to devise strategies to identify werewolves and bring Millers Hollow back to peace and tranquility. The Council worked relentlessly in the past year to build a werewolf detector, which samples a tiny bit of blood from each individual submitted to the test. They are very proud of it as this detector has an accuracy of 90% in detecting werewolves from gentle villagers. The Council claims that they would then be able to imprison 90% of the individuals who failed the test. Demonstrate that the Council’s approach is too optimistic. If one villager fails the test, what is the probability that they are a werewolf?"
   ]
  },
  {
   "attachments": {},
   "cell_type": "markdown",
   "metadata": {},
   "source": [
    "We start by defining some variables."
   ]
  },
  {
   "cell_type": "code",
   "execution_count": 4,
   "metadata": {
    "vscode": {
     "languageId": "r"
    }
   },
   "outputs": [],
   "source": [
    "# Population of Millers Hollow\n",
    "population <- 842\n",
    "\n",
    "# Probability of being a werewolve\n",
    "wolve <- 0.1\n",
    "\n",
    "# Probability of being a villager\n",
    "villager <- 1 - wolve\n",
    "\n",
    "# Accuracy of the detector\n",
    "accuracy <- 0.9"
   ]
  },
  {
   "attachments": {},
   "cell_type": "markdown",
   "metadata": {},
   "source": [
    "Now we use the detector on the population and consider the positively detected villagers."
   ]
  },
  {
   "cell_type": "code",
   "execution_count": 5,
   "metadata": {
    "vscode": {
     "languageId": "r"
    }
   },
   "outputs": [],
   "source": [
    "# Of the suspected 10 percent of villagers that are werewolves, the detector identifies 90 percent correctly. These are the true positives.\n",
    "correctly_identified_werewolves <- population * wolve * accuracy\n",
    "\n",
    "# We incorrectly identify 10 percent of the werewolves as villagers. These are the false negatives.\n",
    "incorrectly_identified_werewolves <- population * wolve * (1 - accuracy)\n",
    "\n",
    "# The villagers that are cleared by the detector are the true negatives.\n",
    "correctly_identified_villagers <- population * villager * accuracy\n",
    "\n",
    "# And the villagers that are identified as werewolves are the false positives.\n",
    "incorrectly_identified_villagers <- population * villager * (1 - accuracy)"
   ]
  },
  {
   "attachments": {},
   "cell_type": "markdown",
   "metadata": {},
   "source": [
    "We now want to see of those that failed the test, the true and false positives, how many were actually werewolves with our assumption of 10 percent of the population being werewolves."
   ]
  },
  {
   "cell_type": "code",
   "execution_count": 6,
   "metadata": {
    "vscode": {
     "languageId": "r"
    }
   },
   "outputs": [
    {
     "data": {
      "text/html": [
       "'True positives'"
      ],
      "text/latex": [
       "'True positives'"
      ],
      "text/markdown": [
       "'True positives'"
      ],
      "text/plain": [
       "[1] \"True positives\""
      ]
     },
     "metadata": {},
     "output_type": "display_data"
    },
    {
     "data": {
      "text/html": [
       "75.78"
      ],
      "text/latex": [
       "75.78"
      ],
      "text/markdown": [
       "75.78"
      ],
      "text/plain": [
       "[1] 75.78"
      ]
     },
     "metadata": {},
     "output_type": "display_data"
    },
    {
     "data": {
      "text/html": [
       "'False positives'"
      ],
      "text/latex": [
       "'False positives'"
      ],
      "text/markdown": [
       "'False positives'"
      ],
      "text/plain": [
       "[1] \"False positives\""
      ]
     },
     "metadata": {},
     "output_type": "display_data"
    },
    {
     "data": {
      "text/html": [
       "75.78"
      ],
      "text/latex": [
       "75.78"
      ],
      "text/markdown": [
       "75.78"
      ],
      "text/plain": [
       "[1] 75.78"
      ]
     },
     "metadata": {},
     "output_type": "display_data"
    }
   ],
   "source": [
    "\"True positives\"\n",
    "correctly_identified_werewolves\n",
    "\"False positives\"\n",
    "incorrectly_identified_villagers"
   ]
  },
  {
   "attachments": {},
   "cell_type": "markdown",
   "metadata": {},
   "source": [
    "We see that there are exactly as many villagers identified as werewolves as there are werewolves detected by the detector. As such the probability that the detector correctly identifies a werewolve from the city population is 50 percent."
   ]
  }
 ],
 "metadata": {
  "kernelspec": {
   "display_name": "R",
   "language": "R",
   "name": "ir"
  },
  "language_info": {
   "codemirror_mode": "r",
   "file_extension": ".r",
   "mimetype": "text/x-r-source",
   "name": "R",
   "pygments_lexer": "r",
   "version": "4.2.2"
  },
  "orig_nbformat": 4
 },
 "nbformat": 4,
 "nbformat_minor": 2
}
