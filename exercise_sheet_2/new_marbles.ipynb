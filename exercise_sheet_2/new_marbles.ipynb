{
 "cells": [
  {
   "attachments": {},
   "cell_type": "markdown",
   "metadata": {},
   "source": [
    "## Exercise 2: A new bag of marbles\n",
    "\n",
    "Refer to the example given in the course if needed. It is not even Christmas yet but you were offered a shiny bag that contains a number of marbles. As in the lecture’s example, the marbles can be either black or white. This bag is from another manufacturer than the one in the course so you have no prior knowledge about its contents. You shake the bag and draw the marbles 9 times with replacement. You obtain 3 white marbles and 6 black marbles.\n",
    "\n",
    "1. What is the posterior probability that there are less than 20% of black marbles in the bag?\n",
    "\n",
    "We then want to iterate over all possible configurations of white and black of marbles in the bag. Every configuration can be identified as a pair\n",
    "\n",
    "$$(N, N_b)$$\n",
    "\n",
    "where $N$ is the number of marbles in the bag and $N_b$ is the number of black marbles in the bag. The probability to draw a black marble is then given as\n",
    "\n",
    "$$P_b = \\frac{N_b}{N}.$$"
   ]
  },
  {
   "cell_type": "code",
   "execution_count": 1,
   "metadata": {
    "vscode": {
     "languageId": "r"
    }
   },
   "outputs": [
    {
     "data": {
      "text/html": [
       "<table class=\"dataframe\">\n",
       "<caption>A data.frame: 125750 × 3</caption>\n",
       "<thead>\n",
       "\t<tr><th></th><th scope=col>marbels</th><th scope=col>black</th><th scope=col>black_percentage</th></tr>\n",
       "\t<tr><th></th><th scope=col>&lt;dbl&gt;</th><th scope=col>&lt;dbl&gt;</th><th scope=col>&lt;dbl&gt;</th></tr>\n",
       "</thead>\n",
       "<tbody>\n",
       "\t<tr><th scope=row>1</th><td> 1</td><td>0</td><td>0</td></tr>\n",
       "\t<tr><th scope=row>3</th><td> 2</td><td>0</td><td>0</td></tr>\n",
       "\t<tr><th scope=row>6</th><td> 3</td><td>0</td><td>0</td></tr>\n",
       "\t<tr><th scope=row>10</th><td> 4</td><td>0</td><td>0</td></tr>\n",
       "\t<tr><th scope=row>15</th><td> 5</td><td>0</td><td>0</td></tr>\n",
       "\t<tr><th scope=row>21</th><td> 6</td><td>0</td><td>0</td></tr>\n",
       "\t<tr><th scope=row>28</th><td> 7</td><td>0</td><td>0</td></tr>\n",
       "\t<tr><th scope=row>36</th><td> 8</td><td>0</td><td>0</td></tr>\n",
       "\t<tr><th scope=row>45</th><td> 9</td><td>0</td><td>0</td></tr>\n",
       "\t<tr><th scope=row>55</th><td>10</td><td>0</td><td>0</td></tr>\n",
       "\t<tr><th scope=row>66</th><td>11</td><td>0</td><td>0</td></tr>\n",
       "\t<tr><th scope=row>78</th><td>12</td><td>0</td><td>0</td></tr>\n",
       "\t<tr><th scope=row>91</th><td>13</td><td>0</td><td>0</td></tr>\n",
       "\t<tr><th scope=row>105</th><td>14</td><td>0</td><td>0</td></tr>\n",
       "\t<tr><th scope=row>120</th><td>15</td><td>0</td><td>0</td></tr>\n",
       "\t<tr><th scope=row>136</th><td>16</td><td>0</td><td>0</td></tr>\n",
       "\t<tr><th scope=row>153</th><td>17</td><td>0</td><td>0</td></tr>\n",
       "\t<tr><th scope=row>171</th><td>18</td><td>0</td><td>0</td></tr>\n",
       "\t<tr><th scope=row>190</th><td>19</td><td>0</td><td>0</td></tr>\n",
       "\t<tr><th scope=row>210</th><td>20</td><td>0</td><td>0</td></tr>\n",
       "\t<tr><th scope=row>231</th><td>21</td><td>0</td><td>0</td></tr>\n",
       "\t<tr><th scope=row>253</th><td>22</td><td>0</td><td>0</td></tr>\n",
       "\t<tr><th scope=row>276</th><td>23</td><td>0</td><td>0</td></tr>\n",
       "\t<tr><th scope=row>300</th><td>24</td><td>0</td><td>0</td></tr>\n",
       "\t<tr><th scope=row>325</th><td>25</td><td>0</td><td>0</td></tr>\n",
       "\t<tr><th scope=row>351</th><td>26</td><td>0</td><td>0</td></tr>\n",
       "\t<tr><th scope=row>378</th><td>27</td><td>0</td><td>0</td></tr>\n",
       "\t<tr><th scope=row>406</th><td>28</td><td>0</td><td>0</td></tr>\n",
       "\t<tr><th scope=row>435</th><td>29</td><td>0</td><td>0</td></tr>\n",
       "\t<tr><th scope=row>465</th><td>30</td><td>0</td><td>0</td></tr>\n",
       "\t<tr><th scope=row>⋮</th><td>⋮</td><td>⋮</td><td>⋮</td></tr>\n",
       "\t<tr><th scope=row>111627</th><td>471</td><td>471</td><td>1</td></tr>\n",
       "\t<tr><th scope=row>112100</th><td>472</td><td>472</td><td>1</td></tr>\n",
       "\t<tr><th scope=row>112574</th><td>473</td><td>473</td><td>1</td></tr>\n",
       "\t<tr><th scope=row>113049</th><td>474</td><td>474</td><td>1</td></tr>\n",
       "\t<tr><th scope=row>113525</th><td>475</td><td>475</td><td>1</td></tr>\n",
       "\t<tr><th scope=row>114002</th><td>476</td><td>476</td><td>1</td></tr>\n",
       "\t<tr><th scope=row>114480</th><td>477</td><td>477</td><td>1</td></tr>\n",
       "\t<tr><th scope=row>114959</th><td>478</td><td>478</td><td>1</td></tr>\n",
       "\t<tr><th scope=row>115439</th><td>479</td><td>479</td><td>1</td></tr>\n",
       "\t<tr><th scope=row>115920</th><td>480</td><td>480</td><td>1</td></tr>\n",
       "\t<tr><th scope=row>116402</th><td>481</td><td>481</td><td>1</td></tr>\n",
       "\t<tr><th scope=row>116885</th><td>482</td><td>482</td><td>1</td></tr>\n",
       "\t<tr><th scope=row>117369</th><td>483</td><td>483</td><td>1</td></tr>\n",
       "\t<tr><th scope=row>117854</th><td>484</td><td>484</td><td>1</td></tr>\n",
       "\t<tr><th scope=row>118340</th><td>485</td><td>485</td><td>1</td></tr>\n",
       "\t<tr><th scope=row>118827</th><td>486</td><td>486</td><td>1</td></tr>\n",
       "\t<tr><th scope=row>119315</th><td>487</td><td>487</td><td>1</td></tr>\n",
       "\t<tr><th scope=row>119804</th><td>488</td><td>488</td><td>1</td></tr>\n",
       "\t<tr><th scope=row>120294</th><td>489</td><td>489</td><td>1</td></tr>\n",
       "\t<tr><th scope=row>120785</th><td>490</td><td>490</td><td>1</td></tr>\n",
       "\t<tr><th scope=row>121277</th><td>491</td><td>491</td><td>1</td></tr>\n",
       "\t<tr><th scope=row>121770</th><td>492</td><td>492</td><td>1</td></tr>\n",
       "\t<tr><th scope=row>122264</th><td>493</td><td>493</td><td>1</td></tr>\n",
       "\t<tr><th scope=row>122759</th><td>494</td><td>494</td><td>1</td></tr>\n",
       "\t<tr><th scope=row>123255</th><td>495</td><td>495</td><td>1</td></tr>\n",
       "\t<tr><th scope=row>123752</th><td>496</td><td>496</td><td>1</td></tr>\n",
       "\t<tr><th scope=row>124250</th><td>497</td><td>497</td><td>1</td></tr>\n",
       "\t<tr><th scope=row>124749</th><td>498</td><td>498</td><td>1</td></tr>\n",
       "\t<tr><th scope=row>125249</th><td>499</td><td>499</td><td>1</td></tr>\n",
       "\t<tr><th scope=row>125750</th><td>500</td><td>500</td><td>1</td></tr>\n",
       "</tbody>\n",
       "</table>\n"
      ],
      "text/latex": [
       "A data.frame: 125750 × 3\n",
       "\\begin{tabular}{r|lll}\n",
       "  & marbels & black & black\\_percentage\\\\\n",
       "  & <dbl> & <dbl> & <dbl>\\\\\n",
       "\\hline\n",
       "\t1 &  1 & 0 & 0\\\\\n",
       "\t3 &  2 & 0 & 0\\\\\n",
       "\t6 &  3 & 0 & 0\\\\\n",
       "\t10 &  4 & 0 & 0\\\\\n",
       "\t15 &  5 & 0 & 0\\\\\n",
       "\t21 &  6 & 0 & 0\\\\\n",
       "\t28 &  7 & 0 & 0\\\\\n",
       "\t36 &  8 & 0 & 0\\\\\n",
       "\t45 &  9 & 0 & 0\\\\\n",
       "\t55 & 10 & 0 & 0\\\\\n",
       "\t66 & 11 & 0 & 0\\\\\n",
       "\t78 & 12 & 0 & 0\\\\\n",
       "\t91 & 13 & 0 & 0\\\\\n",
       "\t105 & 14 & 0 & 0\\\\\n",
       "\t120 & 15 & 0 & 0\\\\\n",
       "\t136 & 16 & 0 & 0\\\\\n",
       "\t153 & 17 & 0 & 0\\\\\n",
       "\t171 & 18 & 0 & 0\\\\\n",
       "\t190 & 19 & 0 & 0\\\\\n",
       "\t210 & 20 & 0 & 0\\\\\n",
       "\t231 & 21 & 0 & 0\\\\\n",
       "\t253 & 22 & 0 & 0\\\\\n",
       "\t276 & 23 & 0 & 0\\\\\n",
       "\t300 & 24 & 0 & 0\\\\\n",
       "\t325 & 25 & 0 & 0\\\\\n",
       "\t351 & 26 & 0 & 0\\\\\n",
       "\t378 & 27 & 0 & 0\\\\\n",
       "\t406 & 28 & 0 & 0\\\\\n",
       "\t435 & 29 & 0 & 0\\\\\n",
       "\t465 & 30 & 0 & 0\\\\\n",
       "\t⋮ & ⋮ & ⋮ & ⋮\\\\\n",
       "\t111627 & 471 & 471 & 1\\\\\n",
       "\t112100 & 472 & 472 & 1\\\\\n",
       "\t112574 & 473 & 473 & 1\\\\\n",
       "\t113049 & 474 & 474 & 1\\\\\n",
       "\t113525 & 475 & 475 & 1\\\\\n",
       "\t114002 & 476 & 476 & 1\\\\\n",
       "\t114480 & 477 & 477 & 1\\\\\n",
       "\t114959 & 478 & 478 & 1\\\\\n",
       "\t115439 & 479 & 479 & 1\\\\\n",
       "\t115920 & 480 & 480 & 1\\\\\n",
       "\t116402 & 481 & 481 & 1\\\\\n",
       "\t116885 & 482 & 482 & 1\\\\\n",
       "\t117369 & 483 & 483 & 1\\\\\n",
       "\t117854 & 484 & 484 & 1\\\\\n",
       "\t118340 & 485 & 485 & 1\\\\\n",
       "\t118827 & 486 & 486 & 1\\\\\n",
       "\t119315 & 487 & 487 & 1\\\\\n",
       "\t119804 & 488 & 488 & 1\\\\\n",
       "\t120294 & 489 & 489 & 1\\\\\n",
       "\t120785 & 490 & 490 & 1\\\\\n",
       "\t121277 & 491 & 491 & 1\\\\\n",
       "\t121770 & 492 & 492 & 1\\\\\n",
       "\t122264 & 493 & 493 & 1\\\\\n",
       "\t122759 & 494 & 494 & 1\\\\\n",
       "\t123255 & 495 & 495 & 1\\\\\n",
       "\t123752 & 496 & 496 & 1\\\\\n",
       "\t124250 & 497 & 497 & 1\\\\\n",
       "\t124749 & 498 & 498 & 1\\\\\n",
       "\t125249 & 499 & 499 & 1\\\\\n",
       "\t125750 & 500 & 500 & 1\\\\\n",
       "\\end{tabular}\n"
      ],
      "text/markdown": [
       "\n",
       "A data.frame: 125750 × 3\n",
       "\n",
       "| <!--/--> | marbels &lt;dbl&gt; | black &lt;dbl&gt; | black_percentage &lt;dbl&gt; |\n",
       "|---|---|---|---|\n",
       "| 1 |  1 | 0 | 0 |\n",
       "| 3 |  2 | 0 | 0 |\n",
       "| 6 |  3 | 0 | 0 |\n",
       "| 10 |  4 | 0 | 0 |\n",
       "| 15 |  5 | 0 | 0 |\n",
       "| 21 |  6 | 0 | 0 |\n",
       "| 28 |  7 | 0 | 0 |\n",
       "| 36 |  8 | 0 | 0 |\n",
       "| 45 |  9 | 0 | 0 |\n",
       "| 55 | 10 | 0 | 0 |\n",
       "| 66 | 11 | 0 | 0 |\n",
       "| 78 | 12 | 0 | 0 |\n",
       "| 91 | 13 | 0 | 0 |\n",
       "| 105 | 14 | 0 | 0 |\n",
       "| 120 | 15 | 0 | 0 |\n",
       "| 136 | 16 | 0 | 0 |\n",
       "| 153 | 17 | 0 | 0 |\n",
       "| 171 | 18 | 0 | 0 |\n",
       "| 190 | 19 | 0 | 0 |\n",
       "| 210 | 20 | 0 | 0 |\n",
       "| 231 | 21 | 0 | 0 |\n",
       "| 253 | 22 | 0 | 0 |\n",
       "| 276 | 23 | 0 | 0 |\n",
       "| 300 | 24 | 0 | 0 |\n",
       "| 325 | 25 | 0 | 0 |\n",
       "| 351 | 26 | 0 | 0 |\n",
       "| 378 | 27 | 0 | 0 |\n",
       "| 406 | 28 | 0 | 0 |\n",
       "| 435 | 29 | 0 | 0 |\n",
       "| 465 | 30 | 0 | 0 |\n",
       "| ⋮ | ⋮ | ⋮ | ⋮ |\n",
       "| 111627 | 471 | 471 | 1 |\n",
       "| 112100 | 472 | 472 | 1 |\n",
       "| 112574 | 473 | 473 | 1 |\n",
       "| 113049 | 474 | 474 | 1 |\n",
       "| 113525 | 475 | 475 | 1 |\n",
       "| 114002 | 476 | 476 | 1 |\n",
       "| 114480 | 477 | 477 | 1 |\n",
       "| 114959 | 478 | 478 | 1 |\n",
       "| 115439 | 479 | 479 | 1 |\n",
       "| 115920 | 480 | 480 | 1 |\n",
       "| 116402 | 481 | 481 | 1 |\n",
       "| 116885 | 482 | 482 | 1 |\n",
       "| 117369 | 483 | 483 | 1 |\n",
       "| 117854 | 484 | 484 | 1 |\n",
       "| 118340 | 485 | 485 | 1 |\n",
       "| 118827 | 486 | 486 | 1 |\n",
       "| 119315 | 487 | 487 | 1 |\n",
       "| 119804 | 488 | 488 | 1 |\n",
       "| 120294 | 489 | 489 | 1 |\n",
       "| 120785 | 490 | 490 | 1 |\n",
       "| 121277 | 491 | 491 | 1 |\n",
       "| 121770 | 492 | 492 | 1 |\n",
       "| 122264 | 493 | 493 | 1 |\n",
       "| 122759 | 494 | 494 | 1 |\n",
       "| 123255 | 495 | 495 | 1 |\n",
       "| 123752 | 496 | 496 | 1 |\n",
       "| 124250 | 497 | 497 | 1 |\n",
       "| 124749 | 498 | 498 | 1 |\n",
       "| 125249 | 499 | 499 | 1 |\n",
       "| 125750 | 500 | 500 | 1 |\n",
       "\n"
      ],
      "text/plain": [
       "       marbels black black_percentage\n",
       "1       1      0     0               \n",
       "3       2      0     0               \n",
       "6       3      0     0               \n",
       "10      4      0     0               \n",
       "15      5      0     0               \n",
       "21      6      0     0               \n",
       "28      7      0     0               \n",
       "36      8      0     0               \n",
       "45      9      0     0               \n",
       "55     10      0     0               \n",
       "66     11      0     0               \n",
       "78     12      0     0               \n",
       "91     13      0     0               \n",
       "105    14      0     0               \n",
       "120    15      0     0               \n",
       "136    16      0     0               \n",
       "153    17      0     0               \n",
       "171    18      0     0               \n",
       "190    19      0     0               \n",
       "210    20      0     0               \n",
       "231    21      0     0               \n",
       "253    22      0     0               \n",
       "276    23      0     0               \n",
       "300    24      0     0               \n",
       "325    25      0     0               \n",
       "351    26      0     0               \n",
       "378    27      0     0               \n",
       "406    28      0     0               \n",
       "435    29      0     0               \n",
       "465    30      0     0               \n",
       "⋮      ⋮       ⋮     ⋮               \n",
       "111627 471     471   1               \n",
       "112100 472     472   1               \n",
       "112574 473     473   1               \n",
       "113049 474     474   1               \n",
       "113525 475     475   1               \n",
       "114002 476     476   1               \n",
       "114480 477     477   1               \n",
       "114959 478     478   1               \n",
       "115439 479     479   1               \n",
       "115920 480     480   1               \n",
       "116402 481     481   1               \n",
       "116885 482     482   1               \n",
       "117369 483     483   1               \n",
       "117854 484     484   1               \n",
       "118340 485     485   1               \n",
       "118827 486     486   1               \n",
       "119315 487     487   1               \n",
       "119804 488     488   1               \n",
       "120294 489     489   1               \n",
       "120785 490     490   1               \n",
       "121277 491     491   1               \n",
       "121770 492     492   1               \n",
       "122264 493     493   1               \n",
       "122759 494     494   1               \n",
       "123255 495     495   1               \n",
       "123752 496     496   1               \n",
       "124250 497     497   1               \n",
       "124749 498     498   1               \n",
       "125249 499     499   1               \n",
       "125750 500     500   1               "
      ]
     },
     "metadata": {},
     "output_type": "display_data"
    }
   ],
   "source": [
    "# We save the possible configuratioins with the percentage of white marbles in an array\n",
    "# We initialize the data frame with all possible configurations for N = 1\n",
    "configurations <- data.frame(\n",
    "\tmarbels = c(1, 1),\n",
    "\tblack = c(0, 1),\n",
    "\tblack_percentage = c(0.0, 1.0)\n",
    ")\n",
    "\n",
    "# We define the max bag size\n",
    "cutoff <- 500\n",
    "\n",
    "for (N in 2:cutoff) {\n",
    "\n",
    "\tfor (x in 0:N) {\n",
    "\t\tconfig <- c(N, x, x/N)\n",
    "\n",
    "\t\tconfigurations <- rbind(configurations, config)\n",
    "\t}\n",
    "\n",
    "}\n",
    "\n",
    "# Finally we sort it by black percentage\n",
    "configurations <- configurations[order(configurations$black_percentage), ]\n",
    "\n",
    "configurations"
   ]
  },
  {
   "attachments": {},
   "cell_type": "markdown",
   "metadata": {},
   "source": [
    "With all configurations noted, we can calculate the probability that a configuration yields the result of drawing 3 white and 6 black marbles with replacement. It is given by the binomial probability formula\n",
    "\n",
    "$$P(k, n, P_b) = \\binom{n}{k} P_b^k (1 - P_b)^{n - k},$$\n",
    "\n",
    "where $k$ = 6 and $n = 9$."
   ]
  },
  {
   "cell_type": "code",
   "execution_count": 2,
   "metadata": {
    "vscode": {
     "languageId": "r"
    }
   },
   "outputs": [
    {
     "data": {
      "text/html": [
       "<table class=\"dataframe\">\n",
       "<caption>A data.frame: 125750 × 4</caption>\n",
       "<thead>\n",
       "\t<tr><th></th><th scope=col>marbels</th><th scope=col>black</th><th scope=col>black_percentage</th><th scope=col>probabilities</th></tr>\n",
       "\t<tr><th></th><th scope=col>&lt;dbl&gt;</th><th scope=col>&lt;dbl&gt;</th><th scope=col>&lt;dbl&gt;</th><th scope=col>&lt;dbl&gt;</th></tr>\n",
       "</thead>\n",
       "<tbody>\n",
       "\t<tr><th scope=row>1</th><td> 1</td><td>0</td><td>0</td><td>0</td></tr>\n",
       "\t<tr><th scope=row>3</th><td> 2</td><td>0</td><td>0</td><td>0</td></tr>\n",
       "\t<tr><th scope=row>6</th><td> 3</td><td>0</td><td>0</td><td>0</td></tr>\n",
       "\t<tr><th scope=row>10</th><td> 4</td><td>0</td><td>0</td><td>0</td></tr>\n",
       "\t<tr><th scope=row>15</th><td> 5</td><td>0</td><td>0</td><td>0</td></tr>\n",
       "\t<tr><th scope=row>21</th><td> 6</td><td>0</td><td>0</td><td>0</td></tr>\n",
       "\t<tr><th scope=row>28</th><td> 7</td><td>0</td><td>0</td><td>0</td></tr>\n",
       "\t<tr><th scope=row>36</th><td> 8</td><td>0</td><td>0</td><td>0</td></tr>\n",
       "\t<tr><th scope=row>45</th><td> 9</td><td>0</td><td>0</td><td>0</td></tr>\n",
       "\t<tr><th scope=row>55</th><td>10</td><td>0</td><td>0</td><td>0</td></tr>\n",
       "\t<tr><th scope=row>66</th><td>11</td><td>0</td><td>0</td><td>0</td></tr>\n",
       "\t<tr><th scope=row>78</th><td>12</td><td>0</td><td>0</td><td>0</td></tr>\n",
       "\t<tr><th scope=row>91</th><td>13</td><td>0</td><td>0</td><td>0</td></tr>\n",
       "\t<tr><th scope=row>105</th><td>14</td><td>0</td><td>0</td><td>0</td></tr>\n",
       "\t<tr><th scope=row>120</th><td>15</td><td>0</td><td>0</td><td>0</td></tr>\n",
       "\t<tr><th scope=row>136</th><td>16</td><td>0</td><td>0</td><td>0</td></tr>\n",
       "\t<tr><th scope=row>153</th><td>17</td><td>0</td><td>0</td><td>0</td></tr>\n",
       "\t<tr><th scope=row>171</th><td>18</td><td>0</td><td>0</td><td>0</td></tr>\n",
       "\t<tr><th scope=row>190</th><td>19</td><td>0</td><td>0</td><td>0</td></tr>\n",
       "\t<tr><th scope=row>210</th><td>20</td><td>0</td><td>0</td><td>0</td></tr>\n",
       "\t<tr><th scope=row>231</th><td>21</td><td>0</td><td>0</td><td>0</td></tr>\n",
       "\t<tr><th scope=row>253</th><td>22</td><td>0</td><td>0</td><td>0</td></tr>\n",
       "\t<tr><th scope=row>276</th><td>23</td><td>0</td><td>0</td><td>0</td></tr>\n",
       "\t<tr><th scope=row>300</th><td>24</td><td>0</td><td>0</td><td>0</td></tr>\n",
       "\t<tr><th scope=row>325</th><td>25</td><td>0</td><td>0</td><td>0</td></tr>\n",
       "\t<tr><th scope=row>351</th><td>26</td><td>0</td><td>0</td><td>0</td></tr>\n",
       "\t<tr><th scope=row>378</th><td>27</td><td>0</td><td>0</td><td>0</td></tr>\n",
       "\t<tr><th scope=row>406</th><td>28</td><td>0</td><td>0</td><td>0</td></tr>\n",
       "\t<tr><th scope=row>435</th><td>29</td><td>0</td><td>0</td><td>0</td></tr>\n",
       "\t<tr><th scope=row>465</th><td>30</td><td>0</td><td>0</td><td>0</td></tr>\n",
       "\t<tr><th scope=row>⋮</th><td>⋮</td><td>⋮</td><td>⋮</td><td>⋮</td></tr>\n",
       "\t<tr><th scope=row>111627</th><td>471</td><td>471</td><td>1</td><td>0</td></tr>\n",
       "\t<tr><th scope=row>112100</th><td>472</td><td>472</td><td>1</td><td>0</td></tr>\n",
       "\t<tr><th scope=row>112574</th><td>473</td><td>473</td><td>1</td><td>0</td></tr>\n",
       "\t<tr><th scope=row>113049</th><td>474</td><td>474</td><td>1</td><td>0</td></tr>\n",
       "\t<tr><th scope=row>113525</th><td>475</td><td>475</td><td>1</td><td>0</td></tr>\n",
       "\t<tr><th scope=row>114002</th><td>476</td><td>476</td><td>1</td><td>0</td></tr>\n",
       "\t<tr><th scope=row>114480</th><td>477</td><td>477</td><td>1</td><td>0</td></tr>\n",
       "\t<tr><th scope=row>114959</th><td>478</td><td>478</td><td>1</td><td>0</td></tr>\n",
       "\t<tr><th scope=row>115439</th><td>479</td><td>479</td><td>1</td><td>0</td></tr>\n",
       "\t<tr><th scope=row>115920</th><td>480</td><td>480</td><td>1</td><td>0</td></tr>\n",
       "\t<tr><th scope=row>116402</th><td>481</td><td>481</td><td>1</td><td>0</td></tr>\n",
       "\t<tr><th scope=row>116885</th><td>482</td><td>482</td><td>1</td><td>0</td></tr>\n",
       "\t<tr><th scope=row>117369</th><td>483</td><td>483</td><td>1</td><td>0</td></tr>\n",
       "\t<tr><th scope=row>117854</th><td>484</td><td>484</td><td>1</td><td>0</td></tr>\n",
       "\t<tr><th scope=row>118340</th><td>485</td><td>485</td><td>1</td><td>0</td></tr>\n",
       "\t<tr><th scope=row>118827</th><td>486</td><td>486</td><td>1</td><td>0</td></tr>\n",
       "\t<tr><th scope=row>119315</th><td>487</td><td>487</td><td>1</td><td>0</td></tr>\n",
       "\t<tr><th scope=row>119804</th><td>488</td><td>488</td><td>1</td><td>0</td></tr>\n",
       "\t<tr><th scope=row>120294</th><td>489</td><td>489</td><td>1</td><td>0</td></tr>\n",
       "\t<tr><th scope=row>120785</th><td>490</td><td>490</td><td>1</td><td>0</td></tr>\n",
       "\t<tr><th scope=row>121277</th><td>491</td><td>491</td><td>1</td><td>0</td></tr>\n",
       "\t<tr><th scope=row>121770</th><td>492</td><td>492</td><td>1</td><td>0</td></tr>\n",
       "\t<tr><th scope=row>122264</th><td>493</td><td>493</td><td>1</td><td>0</td></tr>\n",
       "\t<tr><th scope=row>122759</th><td>494</td><td>494</td><td>1</td><td>0</td></tr>\n",
       "\t<tr><th scope=row>123255</th><td>495</td><td>495</td><td>1</td><td>0</td></tr>\n",
       "\t<tr><th scope=row>123752</th><td>496</td><td>496</td><td>1</td><td>0</td></tr>\n",
       "\t<tr><th scope=row>124250</th><td>497</td><td>497</td><td>1</td><td>0</td></tr>\n",
       "\t<tr><th scope=row>124749</th><td>498</td><td>498</td><td>1</td><td>0</td></tr>\n",
       "\t<tr><th scope=row>125249</th><td>499</td><td>499</td><td>1</td><td>0</td></tr>\n",
       "\t<tr><th scope=row>125750</th><td>500</td><td>500</td><td>1</td><td>0</td></tr>\n",
       "</tbody>\n",
       "</table>\n"
      ],
      "text/latex": [
       "A data.frame: 125750 × 4\n",
       "\\begin{tabular}{r|llll}\n",
       "  & marbels & black & black\\_percentage & probabilities\\\\\n",
       "  & <dbl> & <dbl> & <dbl> & <dbl>\\\\\n",
       "\\hline\n",
       "\t1 &  1 & 0 & 0 & 0\\\\\n",
       "\t3 &  2 & 0 & 0 & 0\\\\\n",
       "\t6 &  3 & 0 & 0 & 0\\\\\n",
       "\t10 &  4 & 0 & 0 & 0\\\\\n",
       "\t15 &  5 & 0 & 0 & 0\\\\\n",
       "\t21 &  6 & 0 & 0 & 0\\\\\n",
       "\t28 &  7 & 0 & 0 & 0\\\\\n",
       "\t36 &  8 & 0 & 0 & 0\\\\\n",
       "\t45 &  9 & 0 & 0 & 0\\\\\n",
       "\t55 & 10 & 0 & 0 & 0\\\\\n",
       "\t66 & 11 & 0 & 0 & 0\\\\\n",
       "\t78 & 12 & 0 & 0 & 0\\\\\n",
       "\t91 & 13 & 0 & 0 & 0\\\\\n",
       "\t105 & 14 & 0 & 0 & 0\\\\\n",
       "\t120 & 15 & 0 & 0 & 0\\\\\n",
       "\t136 & 16 & 0 & 0 & 0\\\\\n",
       "\t153 & 17 & 0 & 0 & 0\\\\\n",
       "\t171 & 18 & 0 & 0 & 0\\\\\n",
       "\t190 & 19 & 0 & 0 & 0\\\\\n",
       "\t210 & 20 & 0 & 0 & 0\\\\\n",
       "\t231 & 21 & 0 & 0 & 0\\\\\n",
       "\t253 & 22 & 0 & 0 & 0\\\\\n",
       "\t276 & 23 & 0 & 0 & 0\\\\\n",
       "\t300 & 24 & 0 & 0 & 0\\\\\n",
       "\t325 & 25 & 0 & 0 & 0\\\\\n",
       "\t351 & 26 & 0 & 0 & 0\\\\\n",
       "\t378 & 27 & 0 & 0 & 0\\\\\n",
       "\t406 & 28 & 0 & 0 & 0\\\\\n",
       "\t435 & 29 & 0 & 0 & 0\\\\\n",
       "\t465 & 30 & 0 & 0 & 0\\\\\n",
       "\t⋮ & ⋮ & ⋮ & ⋮ & ⋮\\\\\n",
       "\t111627 & 471 & 471 & 1 & 0\\\\\n",
       "\t112100 & 472 & 472 & 1 & 0\\\\\n",
       "\t112574 & 473 & 473 & 1 & 0\\\\\n",
       "\t113049 & 474 & 474 & 1 & 0\\\\\n",
       "\t113525 & 475 & 475 & 1 & 0\\\\\n",
       "\t114002 & 476 & 476 & 1 & 0\\\\\n",
       "\t114480 & 477 & 477 & 1 & 0\\\\\n",
       "\t114959 & 478 & 478 & 1 & 0\\\\\n",
       "\t115439 & 479 & 479 & 1 & 0\\\\\n",
       "\t115920 & 480 & 480 & 1 & 0\\\\\n",
       "\t116402 & 481 & 481 & 1 & 0\\\\\n",
       "\t116885 & 482 & 482 & 1 & 0\\\\\n",
       "\t117369 & 483 & 483 & 1 & 0\\\\\n",
       "\t117854 & 484 & 484 & 1 & 0\\\\\n",
       "\t118340 & 485 & 485 & 1 & 0\\\\\n",
       "\t118827 & 486 & 486 & 1 & 0\\\\\n",
       "\t119315 & 487 & 487 & 1 & 0\\\\\n",
       "\t119804 & 488 & 488 & 1 & 0\\\\\n",
       "\t120294 & 489 & 489 & 1 & 0\\\\\n",
       "\t120785 & 490 & 490 & 1 & 0\\\\\n",
       "\t121277 & 491 & 491 & 1 & 0\\\\\n",
       "\t121770 & 492 & 492 & 1 & 0\\\\\n",
       "\t122264 & 493 & 493 & 1 & 0\\\\\n",
       "\t122759 & 494 & 494 & 1 & 0\\\\\n",
       "\t123255 & 495 & 495 & 1 & 0\\\\\n",
       "\t123752 & 496 & 496 & 1 & 0\\\\\n",
       "\t124250 & 497 & 497 & 1 & 0\\\\\n",
       "\t124749 & 498 & 498 & 1 & 0\\\\\n",
       "\t125249 & 499 & 499 & 1 & 0\\\\\n",
       "\t125750 & 500 & 500 & 1 & 0\\\\\n",
       "\\end{tabular}\n"
      ],
      "text/markdown": [
       "\n",
       "A data.frame: 125750 × 4\n",
       "\n",
       "| <!--/--> | marbels &lt;dbl&gt; | black &lt;dbl&gt; | black_percentage &lt;dbl&gt; | probabilities &lt;dbl&gt; |\n",
       "|---|---|---|---|---|\n",
       "| 1 |  1 | 0 | 0 | 0 |\n",
       "| 3 |  2 | 0 | 0 | 0 |\n",
       "| 6 |  3 | 0 | 0 | 0 |\n",
       "| 10 |  4 | 0 | 0 | 0 |\n",
       "| 15 |  5 | 0 | 0 | 0 |\n",
       "| 21 |  6 | 0 | 0 | 0 |\n",
       "| 28 |  7 | 0 | 0 | 0 |\n",
       "| 36 |  8 | 0 | 0 | 0 |\n",
       "| 45 |  9 | 0 | 0 | 0 |\n",
       "| 55 | 10 | 0 | 0 | 0 |\n",
       "| 66 | 11 | 0 | 0 | 0 |\n",
       "| 78 | 12 | 0 | 0 | 0 |\n",
       "| 91 | 13 | 0 | 0 | 0 |\n",
       "| 105 | 14 | 0 | 0 | 0 |\n",
       "| 120 | 15 | 0 | 0 | 0 |\n",
       "| 136 | 16 | 0 | 0 | 0 |\n",
       "| 153 | 17 | 0 | 0 | 0 |\n",
       "| 171 | 18 | 0 | 0 | 0 |\n",
       "| 190 | 19 | 0 | 0 | 0 |\n",
       "| 210 | 20 | 0 | 0 | 0 |\n",
       "| 231 | 21 | 0 | 0 | 0 |\n",
       "| 253 | 22 | 0 | 0 | 0 |\n",
       "| 276 | 23 | 0 | 0 | 0 |\n",
       "| 300 | 24 | 0 | 0 | 0 |\n",
       "| 325 | 25 | 0 | 0 | 0 |\n",
       "| 351 | 26 | 0 | 0 | 0 |\n",
       "| 378 | 27 | 0 | 0 | 0 |\n",
       "| 406 | 28 | 0 | 0 | 0 |\n",
       "| 435 | 29 | 0 | 0 | 0 |\n",
       "| 465 | 30 | 0 | 0 | 0 |\n",
       "| ⋮ | ⋮ | ⋮ | ⋮ | ⋮ |\n",
       "| 111627 | 471 | 471 | 1 | 0 |\n",
       "| 112100 | 472 | 472 | 1 | 0 |\n",
       "| 112574 | 473 | 473 | 1 | 0 |\n",
       "| 113049 | 474 | 474 | 1 | 0 |\n",
       "| 113525 | 475 | 475 | 1 | 0 |\n",
       "| 114002 | 476 | 476 | 1 | 0 |\n",
       "| 114480 | 477 | 477 | 1 | 0 |\n",
       "| 114959 | 478 | 478 | 1 | 0 |\n",
       "| 115439 | 479 | 479 | 1 | 0 |\n",
       "| 115920 | 480 | 480 | 1 | 0 |\n",
       "| 116402 | 481 | 481 | 1 | 0 |\n",
       "| 116885 | 482 | 482 | 1 | 0 |\n",
       "| 117369 | 483 | 483 | 1 | 0 |\n",
       "| 117854 | 484 | 484 | 1 | 0 |\n",
       "| 118340 | 485 | 485 | 1 | 0 |\n",
       "| 118827 | 486 | 486 | 1 | 0 |\n",
       "| 119315 | 487 | 487 | 1 | 0 |\n",
       "| 119804 | 488 | 488 | 1 | 0 |\n",
       "| 120294 | 489 | 489 | 1 | 0 |\n",
       "| 120785 | 490 | 490 | 1 | 0 |\n",
       "| 121277 | 491 | 491 | 1 | 0 |\n",
       "| 121770 | 492 | 492 | 1 | 0 |\n",
       "| 122264 | 493 | 493 | 1 | 0 |\n",
       "| 122759 | 494 | 494 | 1 | 0 |\n",
       "| 123255 | 495 | 495 | 1 | 0 |\n",
       "| 123752 | 496 | 496 | 1 | 0 |\n",
       "| 124250 | 497 | 497 | 1 | 0 |\n",
       "| 124749 | 498 | 498 | 1 | 0 |\n",
       "| 125249 | 499 | 499 | 1 | 0 |\n",
       "| 125750 | 500 | 500 | 1 | 0 |\n",
       "\n"
      ],
      "text/plain": [
       "       marbels black black_percentage probabilities\n",
       "1       1      0     0                0            \n",
       "3       2      0     0                0            \n",
       "6       3      0     0                0            \n",
       "10      4      0     0                0            \n",
       "15      5      0     0                0            \n",
       "21      6      0     0                0            \n",
       "28      7      0     0                0            \n",
       "36      8      0     0                0            \n",
       "45      9      0     0                0            \n",
       "55     10      0     0                0            \n",
       "66     11      0     0                0            \n",
       "78     12      0     0                0            \n",
       "91     13      0     0                0            \n",
       "105    14      0     0                0            \n",
       "120    15      0     0                0            \n",
       "136    16      0     0                0            \n",
       "153    17      0     0                0            \n",
       "171    18      0     0                0            \n",
       "190    19      0     0                0            \n",
       "210    20      0     0                0            \n",
       "231    21      0     0                0            \n",
       "253    22      0     0                0            \n",
       "276    23      0     0                0            \n",
       "300    24      0     0                0            \n",
       "325    25      0     0                0            \n",
       "351    26      0     0                0            \n",
       "378    27      0     0                0            \n",
       "406    28      0     0                0            \n",
       "435    29      0     0                0            \n",
       "465    30      0     0                0            \n",
       "⋮      ⋮       ⋮     ⋮                ⋮            \n",
       "111627 471     471   1                0            \n",
       "112100 472     472   1                0            \n",
       "112574 473     473   1                0            \n",
       "113049 474     474   1                0            \n",
       "113525 475     475   1                0            \n",
       "114002 476     476   1                0            \n",
       "114480 477     477   1                0            \n",
       "114959 478     478   1                0            \n",
       "115439 479     479   1                0            \n",
       "115920 480     480   1                0            \n",
       "116402 481     481   1                0            \n",
       "116885 482     482   1                0            \n",
       "117369 483     483   1                0            \n",
       "117854 484     484   1                0            \n",
       "118340 485     485   1                0            \n",
       "118827 486     486   1                0            \n",
       "119315 487     487   1                0            \n",
       "119804 488     488   1                0            \n",
       "120294 489     489   1                0            \n",
       "120785 490     490   1                0            \n",
       "121277 491     491   1                0            \n",
       "121770 492     492   1                0            \n",
       "122264 493     493   1                0            \n",
       "122759 494     494   1                0            \n",
       "123255 495     495   1                0            \n",
       "123752 496     496   1                0            \n",
       "124250 497     497   1                0            \n",
       "124749 498     498   1                0            \n",
       "125249 499     499   1                0            \n",
       "125750 500     500   1                0            "
      ]
     },
     "metadata": {},
     "output_type": "display_data"
    }
   ],
   "source": [
    "# We add a row to our data frame which calculates the probability above\n",
    "probabilities <- c()\n",
    "\n",
    "for (row in 1:nrow(configurations)) {\n",
    "\tblack_percentage <- configurations[row, \"black_percentage\"]\n",
    "\n",
    "\tprobability <- dbinom(6, 9, black_percentage)\n",
    "\n",
    "\tprobabilities <- append(probabilities, probability)\n",
    "}\n",
    "\n",
    "configurations <- cbind(configurations, probabilities)\n",
    "\n",
    "configurations"
   ]
  },
  {
   "attachments": {},
   "cell_type": "markdown",
   "metadata": {},
   "source": [
    "We construct a partition function by summing up all the probabilities. By doing so, we use the probability to draw the (3, 6) result in a given configuration as the weight of said configuration.\n",
    "\n",
    "$$Z = \\sum_{N \\in \\mathbb Z} \\sum_{N_b \\in \\{0, ..., N\\}} P(6, 9, N_b/N).$$"
   ]
  },
  {
   "cell_type": "code",
   "execution_count": 3,
   "metadata": {
    "vscode": {
     "languageId": "r"
    }
   },
   "outputs": [
    {
     "data": {
      "text/html": [
       "12524.8918666243"
      ],
      "text/latex": [
       "12524.8918666243"
      ],
      "text/markdown": [
       "12524.8918666243"
      ],
      "text/plain": [
       "[1] 12524.89"
      ]
     },
     "metadata": {},
     "output_type": "display_data"
    }
   ],
   "source": [
    "# First we sum over all probabilities\n",
    "sum_all_probabilities <- sum(configurations[\"probabilities\"])\n",
    "sum_all_probabilities"
   ]
  },
  {
   "attachments": {},
   "cell_type": "markdown",
   "metadata": {},
   "source": [
    "We further sum up the weights of configurations that fulfill our criteria, e.g. have a black marbles percentage of less than 20,\n",
    "\n",
    "$$Z_{N_b/N < 0.2} = \\sum_{N \\in \\mathbb Z} \\quad \\sum_{\\{N_b \\in \\{0, ..., N\\}| N_b / N < 0.2\\}} P(6, 9, N_b / N),$$\n",
    "\n",
    "which we then divide by the full partition function to find the probability of our criterion being the case,\n",
    "\n",
    "$$P_{N_b/N < 0.2} = Z_{N_b/N < 0.2} / Z"
   ]
  },
  {
   "cell_type": "code",
   "execution_count": 4,
   "metadata": {
    "vscode": {
     "languageId": "r"
    }
   },
   "outputs": [
    {
     "data": {
      "text/html": [
       "10.6889523082536"
      ],
      "text/latex": [
       "10.6889523082536"
      ],
      "text/markdown": [
       "10.6889523082536"
      ],
      "text/plain": [
       "[1] 10.68895"
      ]
     },
     "metadata": {},
     "output_type": "display_data"
    },
    {
     "data": {
      "text/html": [
       "'Probability that there are less than twenty percent black marbles in the bag:'"
      ],
      "text/latex": [
       "'Probability that there are less than twenty percent black marbles in the bag:'"
      ],
      "text/markdown": [
       "'Probability that there are less than twenty percent black marbles in the bag:'"
      ],
      "text/plain": [
       "[1] \"Probability that there are less than twenty percent black marbles in the bag:\""
      ]
     },
     "metadata": {},
     "output_type": "display_data"
    },
    {
     "data": {
      "text/html": [
       "0.00085341673381923"
      ],
      "text/latex": [
       "0.00085341673381923"
      ],
      "text/markdown": [
       "0.00085341673381923"
      ],
      "text/plain": [
       "[1] 0.0008534167"
      ]
     },
     "metadata": {},
     "output_type": "display_data"
    }
   ],
   "source": [
    "# And then over those with the given cirterion\n",
    "sum_criterion <- 0\n",
    "\n",
    "for (row in 1:nrow(configurations)) {\n",
    "\tblack_percentage <- configurations[row, \"black_percentage\"]\n",
    "\n",
    "\tif (black_percentage < 0.2) {\n",
    "\t\tprobability <- configurations[row, \"probabilities\"]\n",
    "\n",
    "\t\tsum_criterion <- sum_criterion + probability\n",
    "\t}\n",
    "}\n",
    "\n",
    "sum_criterion\n",
    "\n",
    "\"Probability that there are less than twenty percent black marbles in the bag:\"\n",
    "sum_criterion / sum_all_probabilities"
   ]
  },
  {
   "attachments": {},
   "cell_type": "markdown",
   "metadata": {},
   "source": [
    "As we can see the probability to find less than 20 percent black marbles is 0.08 percent. Further we may do the same calculations for different criteria.\n",
    "\n",
    "2. What is the posterior probability that there are more than 80% of black marbles in the bag?"
   ]
  },
  {
   "cell_type": "code",
   "execution_count": 5,
   "metadata": {
    "vscode": {
     "languageId": "r"
    }
   },
   "outputs": [
    {
     "data": {
      "text/html": [
       "1505.06689376472"
      ],
      "text/latex": [
       "1505.06689376472"
      ],
      "text/markdown": [
       "1505.06689376472"
      ],
      "text/plain": [
       "[1] 1505.067"
      ]
     },
     "metadata": {},
     "output_type": "display_data"
    },
    {
     "data": {
      "text/html": [
       "'Probability that there are more than eighty percent black marbles in the bag:'"
      ],
      "text/latex": [
       "'Probability that there are more than eighty percent black marbles in the bag:'"
      ],
      "text/markdown": [
       "'Probability that there are more than eighty percent black marbles in the bag:'"
      ],
      "text/plain": [
       "[1] \"Probability that there are more than eighty percent black marbles in the bag:\""
      ]
     },
     "metadata": {},
     "output_type": "display_data"
    },
    {
     "data": {
      "text/html": [
       "0.120166058900305"
      ],
      "text/latex": [
       "0.120166058900305"
      ],
      "text/markdown": [
       "0.120166058900305"
      ],
      "text/plain": [
       "[1] 0.1201661"
      ]
     },
     "metadata": {},
     "output_type": "display_data"
    }
   ],
   "source": [
    "sum_criterion <- 0\n",
    "\n",
    "for (row in 1:nrow(configurations)) {\n",
    "\tblack_percentage <- configurations[row, \"black_percentage\"]\n",
    "\n",
    "\tif (black_percentage > 0.8) {\n",
    "\t\tprobability <- configurations[row, \"probabilities\"]\n",
    "\n",
    "\t\tsum_criterion <- sum_criterion + probability\n",
    "\t}\n",
    "}\n",
    "\n",
    "sum_criterion\n",
    "\n",
    "\"Probability that there are more than eighty percent black marbles in the bag:\"\n",
    "sum_criterion / sum_all_probabilities"
   ]
  },
  {
   "attachments": {},
   "cell_type": "markdown",
   "metadata": {},
   "source": [
    "The probability to have more than 80 percent black marbles is 11.72 percent.\n",
    "\n",
    "3. What is the posterior probability of having between 20 and 80% of black marbles in the bag?"
   ]
  },
  {
   "cell_type": "code",
   "execution_count": 6,
   "metadata": {
    "vscode": {
     "languageId": "r"
    }
   },
   "outputs": [
    {
     "data": {
      "text/html": [
       "11009.1360205515"
      ],
      "text/latex": [
       "11009.1360205515"
      ],
      "text/markdown": [
       "11009.1360205515"
      ],
      "text/plain": [
       "[1] 11009.14"
      ]
     },
     "metadata": {},
     "output_type": "display_data"
    },
    {
     "data": {
      "text/html": [
       "'Probability that there are between 20 and 80 percent black marbles in the bag:'"
      ],
      "text/latex": [
       "'Probability that there are between 20 and 80 percent black marbles in the bag:'"
      ],
      "text/markdown": [
       "'Probability that there are between 20 and 80 percent black marbles in the bag:'"
      ],
      "text/plain": [
       "[1] \"Probability that there are between 20 and 80 percent black marbles in the bag:\""
      ]
     },
     "metadata": {},
     "output_type": "display_data"
    },
    {
     "data": {
      "text/html": [
       "0.878980524365891"
      ],
      "text/latex": [
       "0.878980524365891"
      ],
      "text/markdown": [
       "0.878980524365891"
      ],
      "text/plain": [
       "[1] 0.8789805"
      ]
     },
     "metadata": {},
     "output_type": "display_data"
    }
   ],
   "source": [
    "sum_criterion <- 0\n",
    "\n",
    "for (row in 1:nrow(configurations)) {\n",
    "\tblack_percentage <- configurations[row, \"black_percentage\"]\n",
    "\n",
    "\tif (black_percentage <= 0.8 && black_percentage >= 0.2) {\n",
    "\t\tprobability <- configurations[row, \"probabilities\"]\n",
    "\n",
    "\t\tsum_criterion <- sum_criterion + probability\n",
    "\t}\n",
    "}\n",
    "\n",
    "sum_criterion\n",
    "\n",
    "\"Probability that there are between 20 and 80 percent black marbles in the bag:\"\n",
    "sum_criterion / sum_all_probabilities"
   ]
  },
  {
   "attachments": {},
   "cell_type": "markdown",
   "metadata": {},
   "source": [
    "Thus the remaining probability is 88.19 for a percentage of black marbles between 20 and 80.\n",
    "\n",
    "4. What fraction of black marbles does the 25% of the posterior probability correspond to?\n",
    "\n",
    "This can be answered by starting to sum up the probabilities contributed by low black marbles percentage until we cross the 25 percent black marbles margin."
   ]
  },
  {
   "cell_type": "code",
   "execution_count": 7,
   "metadata": {
    "vscode": {
     "languageId": "r"
    }
   },
   "outputs": [
    {
     "data": {
      "text/html": [
       "<table class=\"dataframe\">\n",
       "<caption>A data.frame: 125750 × 5</caption>\n",
       "<thead>\n",
       "\t<tr><th></th><th scope=col>marbels</th><th scope=col>black</th><th scope=col>black_percentage</th><th scope=col>probabilities</th><th scope=col>cumulative</th></tr>\n",
       "\t<tr><th></th><th scope=col>&lt;dbl&gt;</th><th scope=col>&lt;dbl&gt;</th><th scope=col>&lt;dbl&gt;</th><th scope=col>&lt;dbl&gt;</th><th scope=col>&lt;dbl&gt;</th></tr>\n",
       "</thead>\n",
       "<tbody>\n",
       "\t<tr><th scope=row>1</th><td> 1</td><td>0</td><td>0</td><td>0</td><td>0</td></tr>\n",
       "\t<tr><th scope=row>3</th><td> 2</td><td>0</td><td>0</td><td>0</td><td>0</td></tr>\n",
       "\t<tr><th scope=row>6</th><td> 3</td><td>0</td><td>0</td><td>0</td><td>0</td></tr>\n",
       "\t<tr><th scope=row>10</th><td> 4</td><td>0</td><td>0</td><td>0</td><td>0</td></tr>\n",
       "\t<tr><th scope=row>15</th><td> 5</td><td>0</td><td>0</td><td>0</td><td>0</td></tr>\n",
       "\t<tr><th scope=row>21</th><td> 6</td><td>0</td><td>0</td><td>0</td><td>0</td></tr>\n",
       "\t<tr><th scope=row>28</th><td> 7</td><td>0</td><td>0</td><td>0</td><td>0</td></tr>\n",
       "\t<tr><th scope=row>36</th><td> 8</td><td>0</td><td>0</td><td>0</td><td>0</td></tr>\n",
       "\t<tr><th scope=row>45</th><td> 9</td><td>0</td><td>0</td><td>0</td><td>0</td></tr>\n",
       "\t<tr><th scope=row>55</th><td>10</td><td>0</td><td>0</td><td>0</td><td>0</td></tr>\n",
       "\t<tr><th scope=row>66</th><td>11</td><td>0</td><td>0</td><td>0</td><td>0</td></tr>\n",
       "\t<tr><th scope=row>78</th><td>12</td><td>0</td><td>0</td><td>0</td><td>0</td></tr>\n",
       "\t<tr><th scope=row>91</th><td>13</td><td>0</td><td>0</td><td>0</td><td>0</td></tr>\n",
       "\t<tr><th scope=row>105</th><td>14</td><td>0</td><td>0</td><td>0</td><td>0</td></tr>\n",
       "\t<tr><th scope=row>120</th><td>15</td><td>0</td><td>0</td><td>0</td><td>0</td></tr>\n",
       "\t<tr><th scope=row>136</th><td>16</td><td>0</td><td>0</td><td>0</td><td>0</td></tr>\n",
       "\t<tr><th scope=row>153</th><td>17</td><td>0</td><td>0</td><td>0</td><td>0</td></tr>\n",
       "\t<tr><th scope=row>171</th><td>18</td><td>0</td><td>0</td><td>0</td><td>0</td></tr>\n",
       "\t<tr><th scope=row>190</th><td>19</td><td>0</td><td>0</td><td>0</td><td>0</td></tr>\n",
       "\t<tr><th scope=row>210</th><td>20</td><td>0</td><td>0</td><td>0</td><td>0</td></tr>\n",
       "\t<tr><th scope=row>231</th><td>21</td><td>0</td><td>0</td><td>0</td><td>0</td></tr>\n",
       "\t<tr><th scope=row>253</th><td>22</td><td>0</td><td>0</td><td>0</td><td>0</td></tr>\n",
       "\t<tr><th scope=row>276</th><td>23</td><td>0</td><td>0</td><td>0</td><td>0</td></tr>\n",
       "\t<tr><th scope=row>300</th><td>24</td><td>0</td><td>0</td><td>0</td><td>0</td></tr>\n",
       "\t<tr><th scope=row>325</th><td>25</td><td>0</td><td>0</td><td>0</td><td>0</td></tr>\n",
       "\t<tr><th scope=row>351</th><td>26</td><td>0</td><td>0</td><td>0</td><td>0</td></tr>\n",
       "\t<tr><th scope=row>378</th><td>27</td><td>0</td><td>0</td><td>0</td><td>0</td></tr>\n",
       "\t<tr><th scope=row>406</th><td>28</td><td>0</td><td>0</td><td>0</td><td>0</td></tr>\n",
       "\t<tr><th scope=row>435</th><td>29</td><td>0</td><td>0</td><td>0</td><td>0</td></tr>\n",
       "\t<tr><th scope=row>465</th><td>30</td><td>0</td><td>0</td><td>0</td><td>0</td></tr>\n",
       "\t<tr><th scope=row>⋮</th><td>⋮</td><td>⋮</td><td>⋮</td><td>⋮</td><td>⋮</td></tr>\n",
       "\t<tr><th scope=row>111627</th><td>471</td><td>471</td><td>1</td><td>0</td><td>12524.89</td></tr>\n",
       "\t<tr><th scope=row>112100</th><td>472</td><td>472</td><td>1</td><td>0</td><td>12524.89</td></tr>\n",
       "\t<tr><th scope=row>112574</th><td>473</td><td>473</td><td>1</td><td>0</td><td>12524.89</td></tr>\n",
       "\t<tr><th scope=row>113049</th><td>474</td><td>474</td><td>1</td><td>0</td><td>12524.89</td></tr>\n",
       "\t<tr><th scope=row>113525</th><td>475</td><td>475</td><td>1</td><td>0</td><td>12524.89</td></tr>\n",
       "\t<tr><th scope=row>114002</th><td>476</td><td>476</td><td>1</td><td>0</td><td>12524.89</td></tr>\n",
       "\t<tr><th scope=row>114480</th><td>477</td><td>477</td><td>1</td><td>0</td><td>12524.89</td></tr>\n",
       "\t<tr><th scope=row>114959</th><td>478</td><td>478</td><td>1</td><td>0</td><td>12524.89</td></tr>\n",
       "\t<tr><th scope=row>115439</th><td>479</td><td>479</td><td>1</td><td>0</td><td>12524.89</td></tr>\n",
       "\t<tr><th scope=row>115920</th><td>480</td><td>480</td><td>1</td><td>0</td><td>12524.89</td></tr>\n",
       "\t<tr><th scope=row>116402</th><td>481</td><td>481</td><td>1</td><td>0</td><td>12524.89</td></tr>\n",
       "\t<tr><th scope=row>116885</th><td>482</td><td>482</td><td>1</td><td>0</td><td>12524.89</td></tr>\n",
       "\t<tr><th scope=row>117369</th><td>483</td><td>483</td><td>1</td><td>0</td><td>12524.89</td></tr>\n",
       "\t<tr><th scope=row>117854</th><td>484</td><td>484</td><td>1</td><td>0</td><td>12524.89</td></tr>\n",
       "\t<tr><th scope=row>118340</th><td>485</td><td>485</td><td>1</td><td>0</td><td>12524.89</td></tr>\n",
       "\t<tr><th scope=row>118827</th><td>486</td><td>486</td><td>1</td><td>0</td><td>12524.89</td></tr>\n",
       "\t<tr><th scope=row>119315</th><td>487</td><td>487</td><td>1</td><td>0</td><td>12524.89</td></tr>\n",
       "\t<tr><th scope=row>119804</th><td>488</td><td>488</td><td>1</td><td>0</td><td>12524.89</td></tr>\n",
       "\t<tr><th scope=row>120294</th><td>489</td><td>489</td><td>1</td><td>0</td><td>12524.89</td></tr>\n",
       "\t<tr><th scope=row>120785</th><td>490</td><td>490</td><td>1</td><td>0</td><td>12524.89</td></tr>\n",
       "\t<tr><th scope=row>121277</th><td>491</td><td>491</td><td>1</td><td>0</td><td>12524.89</td></tr>\n",
       "\t<tr><th scope=row>121770</th><td>492</td><td>492</td><td>1</td><td>0</td><td>12524.89</td></tr>\n",
       "\t<tr><th scope=row>122264</th><td>493</td><td>493</td><td>1</td><td>0</td><td>12524.89</td></tr>\n",
       "\t<tr><th scope=row>122759</th><td>494</td><td>494</td><td>1</td><td>0</td><td>12524.89</td></tr>\n",
       "\t<tr><th scope=row>123255</th><td>495</td><td>495</td><td>1</td><td>0</td><td>12524.89</td></tr>\n",
       "\t<tr><th scope=row>123752</th><td>496</td><td>496</td><td>1</td><td>0</td><td>12524.89</td></tr>\n",
       "\t<tr><th scope=row>124250</th><td>497</td><td>497</td><td>1</td><td>0</td><td>12524.89</td></tr>\n",
       "\t<tr><th scope=row>124749</th><td>498</td><td>498</td><td>1</td><td>0</td><td>12524.89</td></tr>\n",
       "\t<tr><th scope=row>125249</th><td>499</td><td>499</td><td>1</td><td>0</td><td>12524.89</td></tr>\n",
       "\t<tr><th scope=row>125750</th><td>500</td><td>500</td><td>1</td><td>0</td><td>12524.89</td></tr>\n",
       "</tbody>\n",
       "</table>\n"
      ],
      "text/latex": [
       "A data.frame: 125750 × 5\n",
       "\\begin{tabular}{r|lllll}\n",
       "  & marbels & black & black\\_percentage & probabilities & cumulative\\\\\n",
       "  & <dbl> & <dbl> & <dbl> & <dbl> & <dbl>\\\\\n",
       "\\hline\n",
       "\t1 &  1 & 0 & 0 & 0 & 0\\\\\n",
       "\t3 &  2 & 0 & 0 & 0 & 0\\\\\n",
       "\t6 &  3 & 0 & 0 & 0 & 0\\\\\n",
       "\t10 &  4 & 0 & 0 & 0 & 0\\\\\n",
       "\t15 &  5 & 0 & 0 & 0 & 0\\\\\n",
       "\t21 &  6 & 0 & 0 & 0 & 0\\\\\n",
       "\t28 &  7 & 0 & 0 & 0 & 0\\\\\n",
       "\t36 &  8 & 0 & 0 & 0 & 0\\\\\n",
       "\t45 &  9 & 0 & 0 & 0 & 0\\\\\n",
       "\t55 & 10 & 0 & 0 & 0 & 0\\\\\n",
       "\t66 & 11 & 0 & 0 & 0 & 0\\\\\n",
       "\t78 & 12 & 0 & 0 & 0 & 0\\\\\n",
       "\t91 & 13 & 0 & 0 & 0 & 0\\\\\n",
       "\t105 & 14 & 0 & 0 & 0 & 0\\\\\n",
       "\t120 & 15 & 0 & 0 & 0 & 0\\\\\n",
       "\t136 & 16 & 0 & 0 & 0 & 0\\\\\n",
       "\t153 & 17 & 0 & 0 & 0 & 0\\\\\n",
       "\t171 & 18 & 0 & 0 & 0 & 0\\\\\n",
       "\t190 & 19 & 0 & 0 & 0 & 0\\\\\n",
       "\t210 & 20 & 0 & 0 & 0 & 0\\\\\n",
       "\t231 & 21 & 0 & 0 & 0 & 0\\\\\n",
       "\t253 & 22 & 0 & 0 & 0 & 0\\\\\n",
       "\t276 & 23 & 0 & 0 & 0 & 0\\\\\n",
       "\t300 & 24 & 0 & 0 & 0 & 0\\\\\n",
       "\t325 & 25 & 0 & 0 & 0 & 0\\\\\n",
       "\t351 & 26 & 0 & 0 & 0 & 0\\\\\n",
       "\t378 & 27 & 0 & 0 & 0 & 0\\\\\n",
       "\t406 & 28 & 0 & 0 & 0 & 0\\\\\n",
       "\t435 & 29 & 0 & 0 & 0 & 0\\\\\n",
       "\t465 & 30 & 0 & 0 & 0 & 0\\\\\n",
       "\t⋮ & ⋮ & ⋮ & ⋮ & ⋮ & ⋮\\\\\n",
       "\t111627 & 471 & 471 & 1 & 0 & 12524.89\\\\\n",
       "\t112100 & 472 & 472 & 1 & 0 & 12524.89\\\\\n",
       "\t112574 & 473 & 473 & 1 & 0 & 12524.89\\\\\n",
       "\t113049 & 474 & 474 & 1 & 0 & 12524.89\\\\\n",
       "\t113525 & 475 & 475 & 1 & 0 & 12524.89\\\\\n",
       "\t114002 & 476 & 476 & 1 & 0 & 12524.89\\\\\n",
       "\t114480 & 477 & 477 & 1 & 0 & 12524.89\\\\\n",
       "\t114959 & 478 & 478 & 1 & 0 & 12524.89\\\\\n",
       "\t115439 & 479 & 479 & 1 & 0 & 12524.89\\\\\n",
       "\t115920 & 480 & 480 & 1 & 0 & 12524.89\\\\\n",
       "\t116402 & 481 & 481 & 1 & 0 & 12524.89\\\\\n",
       "\t116885 & 482 & 482 & 1 & 0 & 12524.89\\\\\n",
       "\t117369 & 483 & 483 & 1 & 0 & 12524.89\\\\\n",
       "\t117854 & 484 & 484 & 1 & 0 & 12524.89\\\\\n",
       "\t118340 & 485 & 485 & 1 & 0 & 12524.89\\\\\n",
       "\t118827 & 486 & 486 & 1 & 0 & 12524.89\\\\\n",
       "\t119315 & 487 & 487 & 1 & 0 & 12524.89\\\\\n",
       "\t119804 & 488 & 488 & 1 & 0 & 12524.89\\\\\n",
       "\t120294 & 489 & 489 & 1 & 0 & 12524.89\\\\\n",
       "\t120785 & 490 & 490 & 1 & 0 & 12524.89\\\\\n",
       "\t121277 & 491 & 491 & 1 & 0 & 12524.89\\\\\n",
       "\t121770 & 492 & 492 & 1 & 0 & 12524.89\\\\\n",
       "\t122264 & 493 & 493 & 1 & 0 & 12524.89\\\\\n",
       "\t122759 & 494 & 494 & 1 & 0 & 12524.89\\\\\n",
       "\t123255 & 495 & 495 & 1 & 0 & 12524.89\\\\\n",
       "\t123752 & 496 & 496 & 1 & 0 & 12524.89\\\\\n",
       "\t124250 & 497 & 497 & 1 & 0 & 12524.89\\\\\n",
       "\t124749 & 498 & 498 & 1 & 0 & 12524.89\\\\\n",
       "\t125249 & 499 & 499 & 1 & 0 & 12524.89\\\\\n",
       "\t125750 & 500 & 500 & 1 & 0 & 12524.89\\\\\n",
       "\\end{tabular}\n"
      ],
      "text/markdown": [
       "\n",
       "A data.frame: 125750 × 5\n",
       "\n",
       "| <!--/--> | marbels &lt;dbl&gt; | black &lt;dbl&gt; | black_percentage &lt;dbl&gt; | probabilities &lt;dbl&gt; | cumulative &lt;dbl&gt; |\n",
       "|---|---|---|---|---|---|\n",
       "| 1 |  1 | 0 | 0 | 0 | 0 |\n",
       "| 3 |  2 | 0 | 0 | 0 | 0 |\n",
       "| 6 |  3 | 0 | 0 | 0 | 0 |\n",
       "| 10 |  4 | 0 | 0 | 0 | 0 |\n",
       "| 15 |  5 | 0 | 0 | 0 | 0 |\n",
       "| 21 |  6 | 0 | 0 | 0 | 0 |\n",
       "| 28 |  7 | 0 | 0 | 0 | 0 |\n",
       "| 36 |  8 | 0 | 0 | 0 | 0 |\n",
       "| 45 |  9 | 0 | 0 | 0 | 0 |\n",
       "| 55 | 10 | 0 | 0 | 0 | 0 |\n",
       "| 66 | 11 | 0 | 0 | 0 | 0 |\n",
       "| 78 | 12 | 0 | 0 | 0 | 0 |\n",
       "| 91 | 13 | 0 | 0 | 0 | 0 |\n",
       "| 105 | 14 | 0 | 0 | 0 | 0 |\n",
       "| 120 | 15 | 0 | 0 | 0 | 0 |\n",
       "| 136 | 16 | 0 | 0 | 0 | 0 |\n",
       "| 153 | 17 | 0 | 0 | 0 | 0 |\n",
       "| 171 | 18 | 0 | 0 | 0 | 0 |\n",
       "| 190 | 19 | 0 | 0 | 0 | 0 |\n",
       "| 210 | 20 | 0 | 0 | 0 | 0 |\n",
       "| 231 | 21 | 0 | 0 | 0 | 0 |\n",
       "| 253 | 22 | 0 | 0 | 0 | 0 |\n",
       "| 276 | 23 | 0 | 0 | 0 | 0 |\n",
       "| 300 | 24 | 0 | 0 | 0 | 0 |\n",
       "| 325 | 25 | 0 | 0 | 0 | 0 |\n",
       "| 351 | 26 | 0 | 0 | 0 | 0 |\n",
       "| 378 | 27 | 0 | 0 | 0 | 0 |\n",
       "| 406 | 28 | 0 | 0 | 0 | 0 |\n",
       "| 435 | 29 | 0 | 0 | 0 | 0 |\n",
       "| 465 | 30 | 0 | 0 | 0 | 0 |\n",
       "| ⋮ | ⋮ | ⋮ | ⋮ | ⋮ | ⋮ |\n",
       "| 111627 | 471 | 471 | 1 | 0 | 12524.89 |\n",
       "| 112100 | 472 | 472 | 1 | 0 | 12524.89 |\n",
       "| 112574 | 473 | 473 | 1 | 0 | 12524.89 |\n",
       "| 113049 | 474 | 474 | 1 | 0 | 12524.89 |\n",
       "| 113525 | 475 | 475 | 1 | 0 | 12524.89 |\n",
       "| 114002 | 476 | 476 | 1 | 0 | 12524.89 |\n",
       "| 114480 | 477 | 477 | 1 | 0 | 12524.89 |\n",
       "| 114959 | 478 | 478 | 1 | 0 | 12524.89 |\n",
       "| 115439 | 479 | 479 | 1 | 0 | 12524.89 |\n",
       "| 115920 | 480 | 480 | 1 | 0 | 12524.89 |\n",
       "| 116402 | 481 | 481 | 1 | 0 | 12524.89 |\n",
       "| 116885 | 482 | 482 | 1 | 0 | 12524.89 |\n",
       "| 117369 | 483 | 483 | 1 | 0 | 12524.89 |\n",
       "| 117854 | 484 | 484 | 1 | 0 | 12524.89 |\n",
       "| 118340 | 485 | 485 | 1 | 0 | 12524.89 |\n",
       "| 118827 | 486 | 486 | 1 | 0 | 12524.89 |\n",
       "| 119315 | 487 | 487 | 1 | 0 | 12524.89 |\n",
       "| 119804 | 488 | 488 | 1 | 0 | 12524.89 |\n",
       "| 120294 | 489 | 489 | 1 | 0 | 12524.89 |\n",
       "| 120785 | 490 | 490 | 1 | 0 | 12524.89 |\n",
       "| 121277 | 491 | 491 | 1 | 0 | 12524.89 |\n",
       "| 121770 | 492 | 492 | 1 | 0 | 12524.89 |\n",
       "| 122264 | 493 | 493 | 1 | 0 | 12524.89 |\n",
       "| 122759 | 494 | 494 | 1 | 0 | 12524.89 |\n",
       "| 123255 | 495 | 495 | 1 | 0 | 12524.89 |\n",
       "| 123752 | 496 | 496 | 1 | 0 | 12524.89 |\n",
       "| 124250 | 497 | 497 | 1 | 0 | 12524.89 |\n",
       "| 124749 | 498 | 498 | 1 | 0 | 12524.89 |\n",
       "| 125249 | 499 | 499 | 1 | 0 | 12524.89 |\n",
       "| 125750 | 500 | 500 | 1 | 0 | 12524.89 |\n",
       "\n"
      ],
      "text/plain": [
       "       marbels black black_percentage probabilities cumulative\n",
       "1       1      0     0                0             0         \n",
       "3       2      0     0                0             0         \n",
       "6       3      0     0                0             0         \n",
       "10      4      0     0                0             0         \n",
       "15      5      0     0                0             0         \n",
       "21      6      0     0                0             0         \n",
       "28      7      0     0                0             0         \n",
       "36      8      0     0                0             0         \n",
       "45      9      0     0                0             0         \n",
       "55     10      0     0                0             0         \n",
       "66     11      0     0                0             0         \n",
       "78     12      0     0                0             0         \n",
       "91     13      0     0                0             0         \n",
       "105    14      0     0                0             0         \n",
       "120    15      0     0                0             0         \n",
       "136    16      0     0                0             0         \n",
       "153    17      0     0                0             0         \n",
       "171    18      0     0                0             0         \n",
       "190    19      0     0                0             0         \n",
       "210    20      0     0                0             0         \n",
       "231    21      0     0                0             0         \n",
       "253    22      0     0                0             0         \n",
       "276    23      0     0                0             0         \n",
       "300    24      0     0                0             0         \n",
       "325    25      0     0                0             0         \n",
       "351    26      0     0                0             0         \n",
       "378    27      0     0                0             0         \n",
       "406    28      0     0                0             0         \n",
       "435    29      0     0                0             0         \n",
       "465    30      0     0                0             0         \n",
       "⋮      ⋮       ⋮     ⋮                ⋮             ⋮         \n",
       "111627 471     471   1                0             12524.89  \n",
       "112100 472     472   1                0             12524.89  \n",
       "112574 473     473   1                0             12524.89  \n",
       "113049 474     474   1                0             12524.89  \n",
       "113525 475     475   1                0             12524.89  \n",
       "114002 476     476   1                0             12524.89  \n",
       "114480 477     477   1                0             12524.89  \n",
       "114959 478     478   1                0             12524.89  \n",
       "115439 479     479   1                0             12524.89  \n",
       "115920 480     480   1                0             12524.89  \n",
       "116402 481     481   1                0             12524.89  \n",
       "116885 482     482   1                0             12524.89  \n",
       "117369 483     483   1                0             12524.89  \n",
       "117854 484     484   1                0             12524.89  \n",
       "118340 485     485   1                0             12524.89  \n",
       "118827 486     486   1                0             12524.89  \n",
       "119315 487     487   1                0             12524.89  \n",
       "119804 488     488   1                0             12524.89  \n",
       "120294 489     489   1                0             12524.89  \n",
       "120785 490     490   1                0             12524.89  \n",
       "121277 491     491   1                0             12524.89  \n",
       "121770 492     492   1                0             12524.89  \n",
       "122264 493     493   1                0             12524.89  \n",
       "122759 494     494   1                0             12524.89  \n",
       "123255 495     495   1                0             12524.89  \n",
       "123752 496     496   1                0             12524.89  \n",
       "124250 497     497   1                0             12524.89  \n",
       "124749 498     498   1                0             12524.89  \n",
       "125249 499     499   1                0             12524.89  \n",
       "125750 500     500   1                0             12524.89  "
      ]
     },
     "metadata": {},
     "output_type": "display_data"
    }
   ],
   "source": [
    "# We add a row that sums up the cumulative weight of the configurations\n",
    "cumulative <- c()\n",
    "\n",
    "cumulative <- append(cumulative, configurations[1, \"probabilities\"])\n",
    "\n",
    "for (row in 2:nrow(configurations)) {\n",
    "\tsummation <- configurations[row, \"probabilities\"] + cumulative[row - 1]\n",
    "\tcumulative <- append(cumulative, summation)\n",
    "}\n",
    "\n",
    "configurations <- cbind(configurations, cumulative)\n",
    "\n",
    "configurations"
   ]
  },
  {
   "cell_type": "code",
   "execution_count": 8,
   "metadata": {
    "vscode": {
     "languageId": "r"
    }
   },
   "outputs": [
    {
     "name": "stdout",
     "output_type": "stream",
     "text": [
      "[1] 0.5422993\n"
     ]
    }
   ],
   "source": [
    "# Finally we pick the percentage of black marbles at the point where the cumulative probability crosses the threshold\n",
    "threshold <- 0.25 * sum_all_probabilities\n",
    "\n",
    "for (row in 1:nrow(configurations)) {\n",
    "\tcheck <- configurations[row, \"cumulative\"]\n",
    "\n",
    "\tif (check >= threshold) {\n",
    "\t\tprint(configurations[row, \"black_percentage\"])\n",
    "\t\tbreak()\n",
    "\t}\n",
    "}"
   ]
  },
  {
   "attachments": {},
   "cell_type": "markdown",
   "metadata": {},
   "source": [
    "Thus we found that there is a 25 percent probability to have a black marbles percentage of 54 percent or less. We may confirm this result with the same computation done above."
   ]
  },
  {
   "cell_type": "code",
   "execution_count": 9,
   "metadata": {
    "vscode": {
     "languageId": "r"
    }
   },
   "outputs": [
    {
     "data": {
      "text/html": [
       "3123.55828810395"
      ],
      "text/latex": [
       "3123.55828810395"
      ],
      "text/markdown": [
       "3123.55828810395"
      ],
      "text/plain": [
       "[1] 3123.558"
      ]
     },
     "metadata": {},
     "output_type": "display_data"
    },
    {
     "data": {
      "text/html": [
       "'Probability that there are less than twenty percent black marbles in the bag:'"
      ],
      "text/latex": [
       "'Probability that there are less than twenty percent black marbles in the bag:'"
      ],
      "text/markdown": [
       "'Probability that there are less than twenty percent black marbles in the bag:'"
      ],
      "text/plain": [
       "[1] \"Probability that there are less than twenty percent black marbles in the bag:\""
      ]
     },
     "metadata": {},
     "output_type": "display_data"
    },
    {
     "data": {
      "text/html": [
       "0.249388044333336"
      ],
      "text/latex": [
       "0.249388044333336"
      ],
      "text/markdown": [
       "0.249388044333336"
      ],
      "text/plain": [
       "[1] 0.249388"
      ]
     },
     "metadata": {},
     "output_type": "display_data"
    }
   ],
   "source": [
    "sum_criterion <- 0\n",
    "\n",
    "for (row in 1:nrow(configurations)) {\n",
    "\tblack_percentage <- configurations[row, \"black_percentage\"]\n",
    "\n",
    "\tif (black_percentage <= 0.542) {\n",
    "\t\tprobability <- configurations[row, \"probabilities\"]\n",
    "\n",
    "\t\tsum_criterion <- sum_criterion + probability\n",
    "\t}\n",
    "}\n",
    "\n",
    "sum_criterion\n",
    "\n",
    "\"Probability that there are less than twenty percent black marbles in the bag:\"\n",
    "sum_criterion / sum_all_probabilities"
   ]
  },
  {
   "attachments": {},
   "cell_type": "markdown",
   "metadata": {},
   "source": [
    "5. What fraction of black marbles does the 75% of the posterior probability correspond to?"
   ]
  },
  {
   "cell_type": "code",
   "execution_count": 10,
   "metadata": {
    "vscode": {
     "languageId": "r"
    }
   },
   "outputs": [
    {
     "name": "stdout",
     "output_type": "stream",
     "text": [
      "[1] 0.7391304\n"
     ]
    }
   ],
   "source": [
    "threshold <- 0.75 * sum_all_probabilities\n",
    "\n",
    "for (row in 1:nrow(configurations)) {\n",
    "\tcheck <- configurations[row, \"cumulative\"]\n",
    "\n",
    "\tif (check >= threshold) {\n",
    "\t\tprint(configurations[row, \"black_percentage\"])\n",
    "\t\tbreak()\n",
    "\t}\n",
    "}"
   ]
  },
  {
   "attachments": {},
   "cell_type": "markdown",
   "metadata": {},
   "source": [
    "Finally we see that there is a 75 percent probability that we have 74 percent or less black marbles."
   ]
  }
 ],
 "metadata": {
  "kernelspec": {
   "display_name": "R",
   "language": "R",
   "name": "ir"
  },
  "language_info": {
   "codemirror_mode": "r",
   "file_extension": ".r",
   "mimetype": "text/x-r-source",
   "name": "R",
   "pygments_lexer": "r",
   "version": "4.2.2"
  },
  "orig_nbformat": 4
 },
 "nbformat": 4,
 "nbformat_minor": 2
}
