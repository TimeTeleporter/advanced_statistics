{
 "cells": [
  {
   "attachments": {},
   "cell_type": "markdown",
   "metadata": {},
   "source": [
    "# Predictor residual plots\n",
    "## Does mariage cause divorce?\n",
    "\n",
    "We consider the divorce rate over the 50 states "
   ]
  },
  {
   "cell_type": "code",
   "execution_count": 2,
   "metadata": {
    "vscode": {
     "languageId": "r"
    }
   },
   "outputs": [
    {
     "name": "stderr",
     "output_type": "stream",
     "text": [
      "Lade nötiges Paket: rstan\n",
      "\n",
      "Lade nötiges Paket: StanHeaders\n",
      "\n",
      "\n",
      "rstan version 2.26.16 (Stan version 2.26.1)\n",
      "\n",
      "\n",
      "For execution on a local, multicore CPU with excess RAM we recommend calling\n",
      "options(mc.cores = parallel::detectCores()).\n",
      "To avoid recompilation of unchanged Stan programs, we recommend calling\n",
      "rstan_options(auto_write = TRUE)\n",
      "For within-chain threading using `reduce_sum()` or `map_rect()` Stan functions,\n",
      "change `threads_per_chain` option:\n",
      "rstan_options(threads_per_chain = 1)\n",
      "\n",
      "\n",
      "Do not specify '-march=native' in 'LOCAL_CPPFLAGS' or a Makevars file\n",
      "\n",
      "Lade nötiges Paket: cmdstanr\n",
      "\n",
      "This is cmdstanr version 0.5.3\n",
      "\n",
      "- CmdStanR documentation and vignettes: mc-stan.org/cmdstanr\n",
      "\n",
      "- CmdStan path: D:/Users/Immanuel/Documents/.cmdstan/cmdstan-2.31.0\n",
      "\n",
      "- CmdStan version: 2.31.0\n",
      "\n",
      "\n",
      "A newer version of CmdStan is available. See ?install_cmdstan() to install it.\n",
      "To disable this check set option or environment variable CMDSTANR_NO_VER_CHECK=TRUE.\n",
      "\n",
      "Lade nötiges Paket: parallel\n",
      "\n",
      "rethinking (Version 2.31)\n",
      "\n",
      "\n",
      "Attache Paket: 'rethinking'\n",
      "\n",
      "\n",
      "Das folgende Objekt ist maskiert 'package:rstan':\n",
      "\n",
      "    stan\n",
      "\n",
      "\n",
      "Das folgende Objekt ist maskiert 'package:stats':\n",
      "\n",
      "    rstudent\n",
      "\n",
      "\n"
     ]
    }
   ],
   "source": [
    "library(rethinking)\n",
    "data(WaffleDivorce)"
   ]
  },
  {
   "cell_type": "code",
   "execution_count": 3,
   "metadata": {
    "vscode": {
     "languageId": "r"
    }
   },
   "outputs": [
    {
     "data": {
      "text/plain": [
       "   marriage_rate.V1     marriage_age.V1      divorce_rate.V1   \n",
       " Min.   :-1.7414862   Min.   :-2.2948942   Min.   :-1.9705473  \n",
       " 1st Qu.:-0.7870127   1st Qu.:-0.5861871   1st Qu.:-0.7622965  \n",
       " Median :-0.1090075   Median :-0.1238310   Median : 0.0340507  \n",
       " Mean   : 0.0000000   Mean   : 0.0000000   Mean   : 0.0000000  \n",
       " 3rd Qu.: 0.5229198   3rd Qu.: 0.5596519   3rd Qu.: 0.6656364  \n",
       " Max.   : 2.7873258   Max.   : 2.9317394   Max.   : 2.0935693  "
      ]
     },
     "metadata": {},
     "output_type": "display_data"
    }
   ],
   "source": [
    "# summary(WaffleDivorce)\n",
    "d <- data.frame(list(\n",
    "\tmarriage_rate = WaffleDivorce$Marriage,\n",
    "\tmarriage_age = WaffleDivorce$MedianAgeMarriage,\n",
    "\tdivorce_rate = WaffleDivorce$Divorce\n",
    "))\n",
    "d$divorce_rate <- scale(d$divorce_rate)\n",
    "d$marriage_rate <- scale(d$marriage_rate)\n",
    "d$marriage_age <- scale(d$marriage_age)\n",
    "summary(d)"
   ]
  },
  {
   "cell_type": "code",
   "execution_count": 4,
   "metadata": {
    "vscode": {
     "languageId": "r"
    }
   },
   "outputs": [
    {
     "name": "stderr",
     "output_type": "stream",
     "text": [
      "Warning message in map2stan(alist(divorce_rate ~ dnorm(mu, sigma), mu <- a + b_age * :\n",
      "\"DEPRECATED: map2stan is no longer supported and may behave unpredictably or stop working altogether. Start using ulam instead.\"\n",
      "Warning message in map2stan(alist(divorce_rate ~ dnorm(mu, sigma), mu <- a + b_age * :\n",
      "\"Stripping scale attributes from variable marriage_rate\"\n",
      "Warning message in map2stan(alist(divorce_rate ~ dnorm(mu, sigma), mu <- a + b_age * :\n",
      "\"Stripping scale attributes from variable marriage_age\"\n",
      "Warning message in map2stan(alist(divorce_rate ~ dnorm(mu, sigma), mu <- a + b_age * :\n",
      "\"Stripping scale attributes from variable divorce_rate\"\n",
      "Warning in 'C:/Users/Immanuel/AppData/Local/Temp/Rtmpg3ISsJ/model-94069b3416f.stan', line 4, column 4: Declaration\n",
      "    of arrays by placing brackets after a variable name is deprecated and\n",
      "    will be removed in Stan 2.32.0. Instead use the array keyword before the\n",
      "    type. This can be changed automatically using the auto-format flag to\n",
      "    stanc\n",
      "Warning in 'C:/Users/Immanuel/AppData/Local/Temp/Rtmpg3ISsJ/model-94069b3416f.stan', line 5, column 4: Declaration\n",
      "    of arrays by placing brackets after a variable name is deprecated and\n",
      "    will be removed in Stan 2.32.0. Instead use the array keyword before the\n",
      "    type. This can be changed automatically using the auto-format flag to\n",
      "    stanc\n",
      "Warning in 'C:/Users/Immanuel/AppData/Local/Temp/Rtmpg3ISsJ/model-94069b3416f.stan', line 6, column 4: Declaration\n",
      "    of arrays by placing brackets after a variable name is deprecated and\n",
      "    will be removed in Stan 2.32.0. Instead use the array keyword before the\n",
      "    type. This can be changed automatically using the auto-format flag to\n",
      "    stanc\n",
      "\n",
      "\n"
     ]
    },
    {
     "name": "stdout",
     "output_type": "stream",
     "text": [
      "Running MCMC with 8 parallel chains...\n",
      "\n",
      "Chain 1 Iteration:    1 / 2000 [  0%]  (Warmup) \n",
      "Chain 1 Iteration:  100 / 2000 [  5%]  (Warmup) \n",
      "Chain 1 Iteration:  200 / 2000 [ 10%]  (Warmup) \n",
      "Chain 1 Iteration:  300 / 2000 [ 15%]  (Warmup) \n",
      "Chain 1 Iteration:  400 / 2000 [ 20%]  (Warmup) \n",
      "Chain 1 Iteration:  500 / 2000 [ 25%]  (Warmup) \n",
      "Chain 1 Iteration:  600 / 2000 [ 30%]  (Warmup) \n",
      "Chain 1 Iteration:  700 / 2000 [ 35%]  (Warmup) \n",
      "Chain 1 Iteration:  800 / 2000 [ 40%]  (Warmup) \n",
      "Chain 1 Iteration:  900 / 2000 [ 45%]  (Warmup) \n",
      "Chain 1 Iteration: 1000 / 2000 [ 50%]  (Warmup) \n",
      "Chain 1 Iteration: 1001 / 2000 [ 50%]  (Sampling) \n",
      "Chain 1 Iteration: 1100 / 2000 [ 55%]  (Sampling) \n",
      "Chain 1 Iteration: 1200 / 2000 [ 60%]  (Sampling) \n",
      "Chain 1 Iteration: 1300 / 2000 [ 65%]  (Sampling) \n",
      "Chain 1 Iteration: 1400 / 2000 [ 70%]  (Sampling) \n",
      "Chain 1 Iteration: 1500 / 2000 [ 75%]  (Sampling) \n",
      "Chain 1 Iteration: 1600 / 2000 [ 80%]  (Sampling) \n",
      "Chain 1 Iteration: 1700 / 2000 [ 85%]  (Sampling) \n",
      "Chain 1 Iteration: 1800 / 2000 [ 90%]  (Sampling) \n"
     ]
    },
    {
     "name": "stderr",
     "output_type": "stream",
     "text": [
      "Chain 1 Informational Message: The current Metropolis proposal is about to be rejected because of the following issue:\n",
      "\n",
      "Chain 1 Exception: normal_lpdf: Scale parameter is 0, but must be positive! (in 'C:/Users/Immanuel/AppData/Local/Temp/Rtmpg3ISsJ/model-94069b3416f.stan', line 23, column 4 to column 40)\n",
      "\n",
      "Chain 1 If this warning occurs sporadically, such as for highly constrained variable types like covariance matrices, then the sampler is fine,\n",
      "\n",
      "Chain 1 but if this warning occurs often then your model may be either severely ill-conditioned or misspecified.\n",
      "\n",
      "Chain 1 \n",
      "\n"
     ]
    },
    {
     "name": "stdout",
     "output_type": "stream",
     "text": [
      "Chain 2 Iteration:    1 / 2000 [  0%]  (Warmup) \n",
      "Chain 2 Iteration:  100 / 2000 [  5%]  (Warmup) \n",
      "Chain 2 Iteration:  200 / 2000 [ 10%]  (Warmup) \n",
      "Chain 2 Iteration:  300 / 2000 [ 15%]  (Warmup) \n",
      "Chain 2 Iteration:  400 / 2000 [ 20%]  (Warmup) \n",
      "Chain 2 Iteration:  500 / 2000 [ 25%]  (Warmup) \n",
      "Chain 2 Iteration:  600 / 2000 [ 30%]  (Warmup) \n",
      "Chain 2 Iteration:  700 / 2000 [ 35%]  (Warmup) \n",
      "Chain 2 Iteration:  800 / 2000 [ 40%]  (Warmup) \n",
      "Chain 2 Iteration:  900 / 2000 [ 45%]  (Warmup) \n",
      "Chain 2 Iteration: 1000 / 2000 [ 50%]  (Warmup) \n",
      "Chain 2 Iteration: 1001 / 2000 [ 50%]  (Sampling) \n",
      "Chain 2 Iteration: 1100 / 2000 [ 55%]  (Sampling) \n",
      "Chain 2 Iteration: 1200 / 2000 [ 60%]  (Sampling) \n",
      "Chain 2 Iteration: 1300 / 2000 [ 65%]  (Sampling) \n",
      "Chain 2 Iteration: 1400 / 2000 [ 70%]  (Sampling) \n",
      "Chain 2 Iteration: 1500 / 2000 [ 75%]  (Sampling) \n",
      "Chain 3 Iteration:    1 / 2000 [  0%]  (Warmup) \n",
      "Chain 3 Iteration:  100 / 2000 [  5%]  (Warmup) \n",
      "Chain 3 Iteration:  200 / 2000 [ 10%]  (Warmup) \n",
      "Chain 3 Iteration:  300 / 2000 [ 15%]  (Warmup) \n",
      "Chain 3 Iteration:  400 / 2000 [ 20%]  (Warmup) \n",
      "Chain 3 Iteration:  500 / 2000 [ 25%]  (Warmup) \n",
      "Chain 3 Iteration:  600 / 2000 [ 30%]  (Warmup) \n",
      "Chain 3 Iteration:  700 / 2000 [ 35%]  (Warmup) \n",
      "Chain 3 Iteration:  800 / 2000 [ 40%]  (Warmup) \n",
      "Chain 3 Iteration:  900 / 2000 [ 45%]  (Warmup) \n",
      "Chain 3 Iteration: 1000 / 2000 [ 50%]  (Warmup) \n",
      "Chain 3 Iteration: 1001 / 2000 [ 50%]  (Sampling) \n",
      "Chain 3 Iteration: 1100 / 2000 [ 55%]  (Sampling) \n",
      "Chain 3 Iteration: 1200 / 2000 [ 60%]  (Sampling) \n",
      "Chain 3 Iteration: 1300 / 2000 [ 65%]  (Sampling) \n",
      "Chain 3 Iteration: 1400 / 2000 [ 70%]  (Sampling) \n",
      "Chain 3 Iteration: 1500 / 2000 [ 75%]  (Sampling) \n",
      "Chain 3 Iteration: 1600 / 2000 [ 80%]  (Sampling) \n",
      "Chain 3 Iteration: 1700 / 2000 [ 85%]  (Sampling) \n",
      "Chain 3 Iteration: 1800 / 2000 [ 90%]  (Sampling) \n",
      "Chain 4 Iteration:    1 / 2000 [  0%]  (Warmup) \n",
      "Chain 4 Iteration:  100 / 2000 [  5%]  (Warmup) \n",
      "Chain 4 Iteration:  200 / 2000 [ 10%]  (Warmup) \n",
      "Chain 4 Iteration:  300 / 2000 [ 15%]  (Warmup) \n",
      "Chain 4 Iteration:  400 / 2000 [ 20%]  (Warmup) \n",
      "Chain 4 Iteration:  500 / 2000 [ 25%]  (Warmup) \n",
      "Chain 4 Iteration:  600 / 2000 [ 30%]  (Warmup) \n",
      "Chain 4 Iteration:  700 / 2000 [ 35%]  (Warmup) \n",
      "Chain 4 Iteration:  800 / 2000 [ 40%]  (Warmup) \n",
      "Chain 4 Iteration:  900 / 2000 [ 45%]  (Warmup) \n",
      "Chain 4 Iteration: 1000 / 2000 [ 50%]  (Warmup) \n",
      "Chain 4 Iteration: 1001 / 2000 [ 50%]  (Sampling) \n",
      "Chain 4 Iteration: 1100 / 2000 [ 55%]  (Sampling) \n",
      "Chain 4 Iteration: 1200 / 2000 [ 60%]  (Sampling) \n",
      "Chain 4 Iteration: 1300 / 2000 [ 65%]  (Sampling) \n",
      "Chain 4 Iteration: 1400 / 2000 [ 70%]  (Sampling) \n",
      "Chain 4 Iteration: 1500 / 2000 [ 75%]  (Sampling) \n",
      "Chain 4 Iteration: 1600 / 2000 [ 80%]  (Sampling) \n",
      "Chain 5 Iteration:    1 / 2000 [  0%]  (Warmup) \n",
      "Chain 5 Iteration:  100 / 2000 [  5%]  (Warmup) \n",
      "Chain 5 Iteration:  200 / 2000 [ 10%]  (Warmup) \n",
      "Chain 5 Iteration:  300 / 2000 [ 15%]  (Warmup) \n",
      "Chain 5 Iteration:  400 / 2000 [ 20%]  (Warmup) \n",
      "Chain 5 Iteration:  500 / 2000 [ 25%]  (Warmup) \n",
      "Chain 5 Iteration:  600 / 2000 [ 30%]  (Warmup) \n",
      "Chain 5 Iteration:  700 / 2000 [ 35%]  (Warmup) \n",
      "Chain 5 Iteration:  800 / 2000 [ 40%]  (Warmup) \n",
      "Chain 5 Iteration:  900 / 2000 [ 45%]  (Warmup) \n",
      "Chain 5 Iteration: 1000 / 2000 [ 50%]  (Warmup) \n",
      "Chain 5 Iteration: 1001 / 2000 [ 50%]  (Sampling) \n",
      "Chain 5 Iteration: 1100 / 2000 [ 55%]  (Sampling) \n",
      "Chain 5 Iteration: 1200 / 2000 [ 60%]  (Sampling) \n",
      "Chain 5 Iteration: 1300 / 2000 [ 65%]  (Sampling) \n",
      "Chain 5 Iteration: 1400 / 2000 [ 70%]  (Sampling) \n",
      "Chain 6 Iteration:    1 / 2000 [  0%]  (Warmup) \n",
      "Chain 6 Iteration:  100 / 2000 [  5%]  (Warmup) \n",
      "Chain 6 Iteration:  200 / 2000 [ 10%]  (Warmup) \n",
      "Chain 6 Iteration:  300 / 2000 [ 15%]  (Warmup) \n",
      "Chain 6 Iteration:  400 / 2000 [ 20%]  (Warmup) \n",
      "Chain 6 Iteration:  500 / 2000 [ 25%]  (Warmup) \n",
      "Chain 6 Iteration:  600 / 2000 [ 30%]  (Warmup) \n",
      "Chain 6 Iteration:  700 / 2000 [ 35%]  (Warmup) \n",
      "Chain 6 Iteration:  800 / 2000 [ 40%]  (Warmup) \n",
      "Chain 6 Iteration:  900 / 2000 [ 45%]  (Warmup) \n",
      "Chain 6 Iteration: 1000 / 2000 [ 50%]  (Warmup) \n",
      "Chain 6 Iteration: 1001 / 2000 [ 50%]  (Sampling) \n",
      "Chain 6 Iteration: 1100 / 2000 [ 55%]  (Sampling) \n",
      "Chain 6 Iteration: 1200 / 2000 [ 60%]  (Sampling) \n",
      "Chain 7 Iteration:    1 / 2000 [  0%]  (Warmup) \n",
      "Chain 7 Iteration:  100 / 2000 [  5%]  (Warmup) \n",
      "Chain 7 Iteration:  200 / 2000 [ 10%]  (Warmup) \n",
      "Chain 7 Iteration:  300 / 2000 [ 15%]  (Warmup) \n",
      "Chain 7 Iteration:  400 / 2000 [ 20%]  (Warmup) \n",
      "Chain 7 Iteration:  500 / 2000 [ 25%]  (Warmup) \n",
      "Chain 7 Iteration:  600 / 2000 [ 30%]  (Warmup) \n",
      "Chain 7 Iteration:  700 / 2000 [ 35%]  (Warmup) \n",
      "Chain 7 Iteration:  800 / 2000 [ 40%]  (Warmup) \n",
      "Chain 7 Iteration:  900 / 2000 [ 45%]  (Warmup) \n",
      "Chain 7 Iteration: 1000 / 2000 [ 50%]  (Warmup) \n",
      "Chain 7 Iteration: 1001 / 2000 [ 50%]  (Sampling) \n",
      "Chain 7 Iteration: 1100 / 2000 [ 55%]  (Sampling) \n",
      "Chain 7 Iteration: 1200 / 2000 [ 60%]  (Sampling) \n",
      "Chain 7 Iteration: 1300 / 2000 [ 65%]  (Sampling) \n",
      "Chain 7 Iteration: 1400 / 2000 [ 70%]  (Sampling) \n",
      "Chain 7 Iteration: 1500 / 2000 [ 75%]  (Sampling) \n",
      "Chain 8 Iteration:    1 / 2000 [  0%]  (Warmup) \n",
      "Chain 8 Iteration:  100 / 2000 [  5%]  (Warmup) \n",
      "Chain 8 Iteration:  200 / 2000 [ 10%]  (Warmup) \n",
      "Chain 8 Iteration:  300 / 2000 [ 15%]  (Warmup) \n",
      "Chain 8 Iteration:  400 / 2000 [ 20%]  (Warmup) \n",
      "Chain 8 Iteration:  500 / 2000 [ 25%]  (Warmup) \n",
      "Chain 8 Iteration:  600 / 2000 [ 30%]  (Warmup) \n",
      "Chain 8 Iteration:  700 / 2000 [ 35%]  (Warmup) \n",
      "Chain 8 Iteration:  800 / 2000 [ 40%]  (Warmup) \n",
      "Chain 8 Iteration:  900 / 2000 [ 45%]  (Warmup) \n",
      "Chain 8 Iteration: 1000 / 2000 [ 50%]  (Warmup) \n",
      "Chain 8 Iteration: 1001 / 2000 [ 50%]  (Sampling) \n",
      "Chain 8 Iteration: 1100 / 2000 [ 55%]  (Sampling) \n",
      "Chain 8 Iteration: 1200 / 2000 [ 60%]  (Sampling) \n",
      "Chain 8 Iteration: 1300 / 2000 [ 65%]  (Sampling) \n",
      "Chain 1 Iteration: 1900 / 2000 [ 95%]  (Sampling) \n",
      "Chain 1 Iteration: 2000 / 2000 [100%]  (Sampling) \n",
      "Chain 1 finished in 0.2 seconds.\n",
      "Chain 2 Iteration: 1600 / 2000 [ 80%]  (Sampling) \n",
      "Chain 2 Iteration: 1700 / 2000 [ 85%]  (Sampling) \n",
      "Chain 2 Iteration: 1800 / 2000 [ 90%]  (Sampling) \n",
      "Chain 2 Iteration: 1900 / 2000 [ 95%]  (Sampling) \n",
      "Chain 2 Iteration: 2000 / 2000 [100%]  (Sampling) \n",
      "Chain 2 finished in 0.2 seconds.\n",
      "Chain 3 Iteration: 1900 / 2000 [ 95%]  (Sampling) \n",
      "Chain 3 Iteration: 2000 / 2000 [100%]  (Sampling) \n",
      "Chain 3 finished in 0.1 seconds.\n",
      "Chain 4 Iteration: 1700 / 2000 [ 85%]  (Sampling) \n",
      "Chain 4 Iteration: 1800 / 2000 [ 90%]  (Sampling) \n",
      "Chain 4 Iteration: 1900 / 2000 [ 95%]  (Sampling) \n",
      "Chain 4 Iteration: 2000 / 2000 [100%]  (Sampling) \n",
      "Chain 4 finished in 0.2 seconds.\n",
      "Chain 5 Iteration: 1500 / 2000 [ 75%]  (Sampling) \n",
      "Chain 5 Iteration: 1600 / 2000 [ 80%]  (Sampling) \n",
      "Chain 5 Iteration: 1700 / 2000 [ 85%]  (Sampling) \n",
      "Chain 5 Iteration: 1800 / 2000 [ 90%]  (Sampling) \n",
      "Chain 5 Iteration: 1900 / 2000 [ 95%]  (Sampling) \n",
      "Chain 5 Iteration: 2000 / 2000 [100%]  (Sampling) \n",
      "Chain 5 finished in 0.2 seconds.\n",
      "Chain 6 Iteration: 1300 / 2000 [ 65%]  (Sampling) \n",
      "Chain 6 Iteration: 1400 / 2000 [ 70%]  (Sampling) \n",
      "Chain 6 Iteration: 1500 / 2000 [ 75%]  (Sampling) \n",
      "Chain 6 Iteration: 1600 / 2000 [ 80%]  (Sampling) \n",
      "Chain 6 Iteration: 1700 / 2000 [ 85%]  (Sampling) \n",
      "Chain 6 Iteration: 1800 / 2000 [ 90%]  (Sampling) \n",
      "Chain 6 Iteration: 1900 / 2000 [ 95%]  (Sampling) \n",
      "Chain 6 Iteration: 2000 / 2000 [100%]  (Sampling) \n",
      "Chain 6 finished in 0.2 seconds.\n",
      "Chain 7 Iteration: 1600 / 2000 [ 80%]  (Sampling) \n",
      "Chain 7 Iteration: 1700 / 2000 [ 85%]  (Sampling) \n",
      "Chain 7 Iteration: 1800 / 2000 [ 90%]  (Sampling) \n",
      "Chain 7 Iteration: 1900 / 2000 [ 95%]  (Sampling) \n",
      "Chain 7 Iteration: 2000 / 2000 [100%]  (Sampling) \n",
      "Chain 7 finished in 0.1 seconds.\n",
      "Chain 8 Iteration: 1400 / 2000 [ 70%]  (Sampling) \n",
      "Chain 8 Iteration: 1500 / 2000 [ 75%]  (Sampling) \n",
      "Chain 8 Iteration: 1600 / 2000 [ 80%]  (Sampling) \n",
      "Chain 8 Iteration: 1700 / 2000 [ 85%]  (Sampling) \n",
      "Chain 8 Iteration: 1800 / 2000 [ 90%]  (Sampling) \n",
      "Chain 8 Iteration: 1900 / 2000 [ 95%]  (Sampling) \n",
      "Chain 8 Iteration: 2000 / 2000 [100%]  (Sampling) \n",
      "Chain 8 finished in 0.1 seconds.\n",
      "\n",
      "All 8 chains finished successfully.\n",
      "Mean chain execution time: 0.2 seconds.\n",
      "Total execution time: 0.6 seconds.\n",
      "\n"
     ]
    },
    {
     "name": "stderr",
     "output_type": "stream",
     "text": [
      "Computing WAIC\n",
      "\n"
     ]
    }
   ],
   "source": [
    "model <- map2stan(\n",
    "\talist(\n",
    "\t\tdivorce_rate ~ dnorm(mu, sigma),\n",
    "\t\tmu <- a + b_age * marriage_age + b_rate * marriage_rate,\n",
    "\t\tc(a, b_age, b_rate) ~ dnorm(0, 1),\n",
    "\t\tsigma ~ dcauchy(0, 1)\n",
    "\t),\n",
    "\tdata = d, chains = 8, cores = 8\n",
    ")"
   ]
  },
  {
   "attachments": {},
   "cell_type": "markdown",
   "metadata": {},
   "source": [
    "First we make counterfactual plots to investigate our model."
   ]
  },
  {
   "cell_type": "code",
   "execution_count": 5,
   "metadata": {
    "vscode": {
     "languageId": "r"
    }
   },
   "outputs": [
    {
     "name": "stdout",
     "output_type": "stream",
     "text": [
      "[ 1000 / 1000 ]\n",
      "[ 8000 / 8000 ]\n",
      "[ 1000 / 1000 ]\n",
      "[ 8000 / 8000 ]\n",
      "[ 1000 / 1000 ]\n",
      "[ 8000 / 8000 ]\n",
      "[ 1000 / 1000 ]\n",
      "[ 8000 / 8000 ]\n",
      "[ 1000 / 1000 ]\n",
      "[ 8000 / 8000 ]\n",
      "[ 1000 / 1000 ]\n",
      "[ 8000 / 8000 ]\n"
     ]
    },
    {
     "data": {
      "image/png": "[encoded data removed]",
      "text/plain": [
       "Plot with title \"mariage_age = 1\""
      ]
     },
     "metadata": {
      "image/png": {
       "height": 420,
       "width": 420
      }
     },
     "output_type": "display_data"
    }
   ],
   "source": [
    "seq <- seq(from = -3, to = 3, by = 0.01)\n",
    "\n",
    "conf <- 0.92\n",
    "\n",
    "par(mfrow = c(2, 3))\n",
    "# title(paste(\"Conterfactual plots with\"), conf, \"confidence interval\")\n",
    "\n",
    "for (rate in c(-1, 0, 1)) {\n",
    "\n",
    "pred <- list(marriage_age = seq, marriage_rate = rate)\n",
    "mu <- link(model, data = pred)\n",
    "mu_mean <- apply(mu, 2, mean)\n",
    "mu_HPDI <- apply(mu, 2, HPDI, prob = conf)\n",
    "\n",
    "plot(divorce_rate ~ marriage_age, data = d)\n",
    "title(paste(\"mariage_rate =\", rate))\n",
    "lines(seq, mu_mean)\n",
    "shade(mu_HPDI, seq)\n",
    "\n",
    "resp <- sim(model, data = pred, n = 10000)\n",
    "resp_HPDI <- apply(resp, 2, HPDI, prob = conf)\n",
    "shade(resp_HPDI, seq)\n",
    "\n",
    "}\n",
    "for (age in c(-1, 0, 1)) {\n",
    "\n",
    "pred <- list(marriage_rate = seq, marriage_age = age)\n",
    "mu <- link(model, data = pred)\n",
    "mu_mean <- apply(mu, 2, mean)\n",
    "mu_HPDI <- apply(mu, 2, HPDI, prob = conf)\n",
    "\n",
    "plot(divorce_rate ~ marriage_rate, data = d)\n",
    "title(paste(\"mariage_age =\", age))\n",
    "lines(seq, mu_mean)\n",
    "shade(mu_HPDI, seq)\n",
    "\n",
    "resp <- sim(model, data = pred, n = 10000)\n",
    "resp_HPDI <- apply(resp, 2, HPDI, prob = conf)\n",
    "shade(resp_HPDI, seq)\n",
    "\n",
    "}"
   ]
  },
  {
   "attachments": {},
   "cell_type": "markdown",
   "metadata": {},
   "source": [
    "We see that the marriage age has an inverse relation to the divorce rate at the 98 percent confidence interval. The marriage rate has not a significant influence on the divorce rate at 98 percent."
   ]
  },
  {
   "cell_type": "code",
   "execution_count": 6,
   "metadata": {
    "vscode": {
     "languageId": "r"
    }
   },
   "outputs": [
    {
     "name": "stdout",
     "output_type": "stream",
     "text": [
      "[ 1000 / 1000 ]\n",
      "[ 1000 / 1000 ]\n"
     ]
    },
    {
     "data": {
      "image/png": "[encoded data removed]",
      "text/plain": [
       "plot without title"
      ]
     },
     "metadata": {
      "image/png": {
       "height": 420,
       "width": 420
      }
     },
     "output_type": "display_data"
    },
    {
     "data": {
      "image/png": "[encoded data removed]",
      "text/plain": [
       "plot without title"
      ]
     },
     "metadata": {
      "image/png": {
       "height": 420,
       "width": 420
      }
     },
     "output_type": "display_data"
    },
    {
     "data": {
      "image/png": "[encoded data removed]",
      "text/plain": [
       "plot without title"
      ]
     },
     "metadata": {
      "image/png": {
       "height": 420,
       "width": 420
      }
     },
     "output_type": "display_data"
    }
   ],
   "source": [
    "postcheck(model)"
   ]
  },
  {
   "attachments": {},
   "cell_type": "markdown",
   "metadata": {},
   "source": [
    "We see that for all but one case the posterior distribution matches the data."
   ]
  }
 ],
 "metadata": {
  "kernelspec": {
   "display_name": "R",
   "language": "R",
   "name": "ir"
  },
  "language_info": {
   "codemirror_mode": "r",
   "file_extension": ".r",
   "mimetype": "text/x-r-source",
   "name": "R",
   "pygments_lexer": "r",
   "version": "4.2.2"
  },
  "orig_nbformat": 4
 },
 "nbformat": 4,
 "nbformat_minor": 2
}
