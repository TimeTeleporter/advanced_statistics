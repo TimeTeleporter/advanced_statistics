{
 "cells": [
  {
   "attachments": {},
   "cell_type": "markdown",
   "metadata": {},
   "source": [
    "# Exercise sheet 7\n",
    "## Exercise 1\n",
    "\n",
    "For this exercise, you will need to load the dataset (milk) from the rethinking package that we discussed already in the class."
   ]
  },
  {
   "cell_type": "code",
   "execution_count": 1,
   "metadata": {
    "vscode": {
     "languageId": "r"
    }
   },
   "outputs": [
    {
     "name": "stderr",
     "output_type": "stream",
     "text": [
      "Lade nötiges Paket: rstan\n",
      "\n",
      "Lade nötiges Paket: StanHeaders\n",
      "\n",
      "\n",
      "rstan version 2.26.16 (Stan version 2.26.1)\n",
      "\n",
      "\n",
      "For execution on a local, multicore CPU with excess RAM we recommend calling\n",
      "options(mc.cores = parallel::detectCores()).\n",
      "To avoid recompilation of unchanged Stan programs, we recommend calling\n",
      "rstan_options(auto_write = TRUE)\n",
      "For within-chain threading using `reduce_sum()` or `map_rect()` Stan functions,\n",
      "change `threads_per_chain` option:\n",
      "rstan_options(threads_per_chain = 1)\n",
      "\n",
      "\n",
      "Do not specify '-march=native' in 'LOCAL_CPPFLAGS' or a Makevars file\n",
      "\n",
      "Lade nötiges Paket: cmdstanr\n",
      "\n",
      "This is cmdstanr version 0.5.3\n",
      "\n",
      "- CmdStanR documentation and vignettes: mc-stan.org/cmdstanr\n",
      "\n",
      "- CmdStan path: D:/Users/Immanuel/Documents/.cmdstan/cmdstan-2.31.0\n",
      "\n",
      "- CmdStan version: 2.31.0\n",
      "\n",
      "Lade nötiges Paket: parallel\n",
      "\n",
      "rethinking (Version 2.31)\n",
      "\n",
      "\n",
      "Attache Paket: 'rethinking'\n",
      "\n",
      "\n",
      "Das folgende Objekt ist maskiert 'package:rstan':\n",
      "\n",
      "    stan\n",
      "\n",
      "\n",
      "Das folgende Objekt ist maskiert 'package:stats':\n",
      "\n",
      "    rstudent\n",
      "\n",
      "\n"
     ]
    },
    {
     "data": {
      "text/plain": [
       "              clade                 species     kcal.per.g        perc.fat    \n",
       " Ape             :9   A palliata        : 1   Min.   :0.4600   Min.   : 3.93  \n",
       " New World Monkey:9   Alouatta seniculus: 1   1st Qu.:0.4900   1st Qu.:21.22  \n",
       " Old World Monkey:6   Callimico goeldii : 1   Median :0.6000   Median :36.84  \n",
       " Strepsirrhine   :5   Callithrix jacchus: 1   Mean   :0.6417   Mean   :33.99  \n",
       "                      Cebuella pygmaea  : 1   3rd Qu.:0.7300   3rd Qu.:46.08  \n",
       "                      Cebus apella      : 1   Max.   :0.9700   Max.   :55.51  \n",
       "                      (Other)           :23                                   \n",
       "  perc.protein    perc.lactose        mass       neocortex.perc \n",
       " Min.   : 7.37   Min.   :27.09   Min.   : 0.12   Min.   :55.16  \n",
       " 1st Qu.:13.00   1st Qu.:37.80   1st Qu.: 1.62   1st Qu.:64.54  \n",
       " Median :15.80   Median :48.64   Median : 3.47   Median :68.85  \n",
       " Mean   :16.40   Mean   :49.61   Mean   :14.73   Mean   :67.58  \n",
       " 3rd Qu.:20.77   3rd Qu.:60.12   3rd Qu.:10.72   3rd Qu.:71.26  \n",
       " Max.   :25.30   Max.   :71.91   Max.   :97.72   Max.   :76.30  \n",
       "                                                 NA's   :12     "
      ]
     },
     "metadata": {},
     "output_type": "display_data"
    },
    {
     "data": {
      "image/png": "[encoded data removed]",
      "text/plain": [
       "plot without title"
      ]
     },
     "metadata": {
      "image/png": {
       "height": 420,
       "width": 420
      }
     },
     "output_type": "display_data"
    }
   ],
   "source": [
    "library(rethinking)\n",
    "data(milk)\n",
    "d <- milk\n",
    "summary(d)\n",
    "pairs(d)"
   ]
  },
  {
   "attachments": {},
   "cell_type": "markdown",
   "metadata": {},
   "source": [
    "In the class we treated all primates together. You can use categorical variables to characterise different sub-populations of a same sample. To this end, the following self-explanatory command can be used."
   ]
  },
  {
   "cell_type": "code",
   "execution_count": 2,
   "metadata": {
    "vscode": {
     "languageId": "r"
    }
   },
   "outputs": [
    {
     "data": {
      "text/html": [
       "<style>\n",
       ".list-inline {list-style: none; margin:0; padding: 0}\n",
       ".list-inline>li {display: inline-block}\n",
       ".list-inline>li:not(:last-child)::after {content: \"\\00b7\"; padding: 0 .5ex}\n",
       "</style>\n",
       "<ol class=list-inline><li>Strepsirrhine</li><li>New World Monkey</li><li>Old World Monkey</li><li>Ape</li></ol>\n",
       "\n",
       "<details>\n",
       "\t<summary style=display:list-item;cursor:pointer>\n",
       "\t\t<strong>Levels</strong>:\n",
       "\t</summary>\n",
       "\t<style>\n",
       "\t.list-inline {list-style: none; margin:0; padding: 0}\n",
       "\t.list-inline>li {display: inline-block}\n",
       "\t.list-inline>li:not(:last-child)::after {content: \"\\00b7\"; padding: 0 .5ex}\n",
       "\t</style>\n",
       "\t<ol class=list-inline><li>'Ape'</li><li>'New World Monkey'</li><li>'Old World Monkey'</li><li>'Strepsirrhine'</li></ol>\n",
       "</details>"
      ],
      "text/latex": [
       "\\begin{enumerate*}\n",
       "\\item Strepsirrhine\n",
       "\\item New World Monkey\n",
       "\\item Old World Monkey\n",
       "\\item Ape\n",
       "\\end{enumerate*}\n",
       "\n",
       "\\emph{Levels}: \\begin{enumerate*}\n",
       "\\item 'Ape'\n",
       "\\item 'New World Monkey'\n",
       "\\item 'Old World Monkey'\n",
       "\\item 'Strepsirrhine'\n",
       "\\end{enumerate*}\n"
      ],
      "text/markdown": [
       "1. Strepsirrhine\n",
       "2. New World Monkey\n",
       "3. Old World Monkey\n",
       "4. Ape\n",
       "\n",
       "\n",
       "\n",
       "**Levels**: 1. 'Ape'\n",
       "2. 'New World Monkey'\n",
       "3. 'Old World Monkey'\n",
       "4. 'Strepsirrhine'\n",
       "\n",
       "\n"
      ],
      "text/plain": [
       "[1] Strepsirrhine    New World Monkey Old World Monkey Ape             \n",
       "Levels: Ape New World Monkey Old World Monkey Strepsirrhine"
      ]
     },
     "metadata": {},
     "output_type": "display_data"
    }
   ],
   "source": [
    "unique(d$clade)"
   ]
  },
  {
   "attachments": {},
   "cell_type": "markdown",
   "metadata": {},
   "source": [
    "1. Build a single model including all clades with an appropriate choice of “dummy” variables (switching a predictor on and off). Compute the average milk energy for each clade along with credible intervals of your choice. Compare these values. How significant are the differences between each clade?"
   ]
  },
  {
   "cell_type": "code",
   "execution_count": 3,
   "metadata": {
    "vscode": {
     "languageId": "r"
    }
   },
   "outputs": [],
   "source": [
    "d$clade.N <- ifelse(d$clade == \"New World Monkey\",1, ifelse(d$clade == \"Ape\", 2, ifelse(d$clade == \"Old World Monkey\", 3, ifelse(d$clade == \"Strepsirrhine\", 4, 0))))\n"
   ]
  },
  {
   "attachments": {},
   "cell_type": "markdown",
   "metadata": {},
   "source": [
    "We enumerate the clades by 1. New World Monkey, 2. Ape, 3. Old World Monkey and 4. Strepsirrhine.\n",
    "Next we build a model with categorical varuable `clade.N`."
   ]
  },
  {
   "cell_type": "code",
   "execution_count": 4,
   "metadata": {
    "vscode": {
     "languageId": "r"
    }
   },
   "outputs": [
    {
     "data": {
      "image/png": "[encoded data removed]",
      "text/plain": [
       "plot without title"
      ]
     },
     "metadata": {
      "image/png": {
       "height": 420,
       "width": 420
      }
     },
     "output_type": "display_data"
    }
   ],
   "source": [
    "model <- map(\n",
    "\talist(\n",
    "\t\tkcal.per.g ~ dnorm(mu, sigma),\n",
    "\t\tmu <- a[clade.N],\n",
    "\t\ta[clade.N] ~ dnorm(0.5, 0.5),\n",
    "\t\tsigma ~ dunif(0, 5)\n",
    "\t),\n",
    "\tdata = d\n",
    ")\n",
    "plot(coeftab(model))"
   ]
  },
  {
   "attachments": {},
   "cell_type": "markdown",
   "metadata": {},
   "source": [
    "This plot shows that the differences are significant, as the means and their deviations do not always overlap."
   ]
  },
  {
   "attachments": {},
   "cell_type": "markdown",
   "metadata": {},
   "source": [
    "2. Design a model that includes the perc.fat in the milk and the log(mass) of the individual. Characterise the differences between the clades."
   ]
  },
  {
   "cell_type": "code",
   "execution_count": 5,
   "metadata": {
    "vscode": {
     "languageId": "r"
    }
   },
   "outputs": [
    {
     "data": {
      "image/png": "[encoded data removed]",
      "text/plain": [
       "plot without title"
      ]
     },
     "metadata": {
      "image/png": {
       "height": 420,
       "width": 420
      }
     },
     "output_type": "display_data"
    }
   ],
   "source": [
    "model <- map(\n",
    "\talist(\n",
    "\t\tkcal.per.g ~ dnorm(mu, sigma),\n",
    "\t\tmu <- offset[clade.N] + fat_lin[clade.N] * perc.fat + mass_log_lin[clade.N] * log(mass),\n",
    "\t\toffset[clade.N] ~ dnorm(0.5, 0.5),\n",
    "\t\tfat_lin[clade.N] ~ dnorm(0, 1),\n",
    "\t\tmass_log_lin[clade.N] ~ dnorm(0, 1),\n",
    "\t\tsigma ~ dunif(0, 5)\n",
    "\t),\n",
    "\tdata = d\n",
    ")\n",
    "\n",
    "post <- extract.samples(model)\n",
    "\n",
    "plot(coeftab(model))"
   ]
  },
  {
   "cell_type": "code",
   "execution_count": 9,
   "metadata": {
    "vscode": {
     "languageId": "r"
    }
   },
   "outputs": [
    {
     "ename": "ERROR",
     "evalue": "Error in apply(perc.fat.mu, 2, mean): dim(X) muss positive Länge haben\n",
     "output_type": "error",
     "traceback": [
      "Error in apply(perc.fat.mu, 2, mean): dim(X) muss positive Länge haben\nTraceback:\n",
      "1. apply(perc.fat.mu, 2, mean)",
      "2. stop(\"dim(X) must have a positive length\")"
     ]
    }
   ],
   "source": [
    "credible_iterval <- 0.91\n",
    "\n",
    "for (monkey in c(1, 2, 3, 4)) {\n",
    "monkey_data <- d[ d$clade.N == monkey, ]\n",
    "\n",
    "mu.link <- function(perc.fat, mass) post$offset[monkey] + post$fat_lin[monkey] * perc.fat + post$mass_log_lin[monkey] * mass\n",
    "\n",
    "perc.fat.seq <- seq(from = min(monkey_data$perc.fat), to = max(monkey_data$perc.fat), by = 0.01)\n",
    "mass.seq <- seq(from = min(monkey_data$mass), to = max(monkey_data$mass), by = 0.01)\n",
    "perc.fat.mean <- mean(monkey_data$perc.fat)\n",
    "mass.mean <- mean(monkey_data$mass)\n",
    "\n",
    "# For each weight value we calculate a 91 percent credible interval\n",
    "perc.fat.mu <- sapply(perc.fat.seq, mu.link, mass = mass.mean)\n",
    "perc.fat.mu.mean <- apply(perc.fat.mu, 2, mean)\n",
    "perc.fat.mu.HPDI <- apply(perc.fat.mu, 2, HPDI, prob = credible_iterval)\n",
    "mass.mu <- sapply(mass.seq, mu.link, perc.fat = perc.fat.mean)\n",
    "mass.mu.mean <- apply(mass.mu, 2, mean)\n",
    "mass.mu.HPDI <- apply(mass.mu, 2, HPDI, prob = credible_iterval)\n",
    "\n",
    "# Plotting kcal.per.g to perc.fat\n",
    "plot(kcal.per.g ~ perc.fat, monkey_data)\n",
    "lines(perc.fat.seq, perc.fat.mu.mean)\n",
    "shade(perc.fat.mu.HPDI, perc.fat.seq)\n",
    "\n",
    "# We calculate the 91 percent credible interval of the height variables by taking into account the uncertainty of the slope and the standard deviation\n",
    "perc.fat.sim.kcal.per.g <- sim(model, data=list(perc.fat = perc.fat.seq))\n",
    "perc.fat.kcal.per.g.HPDI <- apply(perc.fat.sim.kcal.per.g, 2, HPDI, prob = credible_iterval)\n",
    "shade(perc.fat.kcal.per.g.HPDI, perc.fat.seq)\n",
    "\n",
    "# Plotting kcal.per.g to mass\n",
    "plot(kcal.per.g ~ mass, monkey_data)\n",
    "lines(mass.seq, mass.mu.mean)\n",
    "shade(mass.mu.HPDI, mass.seq)\n",
    "\n",
    "# We calculate the 91 percent credible interval of the height variables by taking into account the uncertainty of the slope and the standard deviation\n",
    "mass.sim.kcal.per.g <- sim(model, data=list(mass = mass.seq))\n",
    "mass.kcal.per.g.HPDI <- apply(mass.sim.kcal.per.g, 2, HPDI, prob = credible_iterval)\n",
    "shade(mass.kcal.per.g.HPDI, mass.seq)\n",
    "\n",
    "}"
   ]
  },
  {
   "attachments": {},
   "cell_type": "markdown",
   "metadata": {},
   "source": [
    "There was an attempt to produce counterfactual plots, but it seems that R did not intend for us to come that far.\n",
    "\n",
    "First we observe that the Strepsirrhine have a wide array of different correlations between their body mass and the energy in their milk. Next we can say that"
   ]
  },
  {
   "attachments": {},
   "cell_type": "markdown",
   "metadata": {},
   "source": [
    "3. The dataset provides for each individual the percentage of proteines (perc.protein) in the milk, in addition to lactose and fat. Examine the data and determine whether including this variable helps in better constraining the source of milk energy for each clade.\n",
    "\n",
    "Looking at the data points, the lactose doesnt seem to be correlated to any of the predictors we considered. Thus I assume it is irrelevant to the discussion."
   ]
  }
 ],
 "metadata": {
  "kernelspec": {
   "display_name": "R",
   "language": "R",
   "name": "ir"
  },
  "language_info": {
   "codemirror_mode": "r",
   "file_extension": ".r",
   "mimetype": "text/x-r-source",
   "name": "R",
   "pygments_lexer": "r",
   "version": "4.2.2"
  },
  "orig_nbformat": 4
 },
 "nbformat": 4,
 "nbformat_minor": 2
}
