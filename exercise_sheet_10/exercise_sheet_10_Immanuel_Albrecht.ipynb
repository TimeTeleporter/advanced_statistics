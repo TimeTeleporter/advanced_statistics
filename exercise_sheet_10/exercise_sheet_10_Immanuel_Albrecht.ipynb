{
 "cells": [
  {
   "attachments": {},
   "cell_type": "markdown",
   "metadata": {},
   "source": [
    "# Exercise sheet 10\n",
    "\n",
    "## NWO grant applications\n",
    "\n",
    "### Exercise 1\n",
    "\n",
    "For this exercise, you will need to load the dataset NWOGrants from the rethinking package. This dataset reports on the funding outcomes of the Netherlands Organisation for Scientific Research (NWO) grant applications over the 2010-2012 period. One study used that dataset to investigate gender bias in the funding awards: https://www.pnas.org/content/112/40/12349. You can read there that a response to this paper has been formulated, as briefly discussed at the beginning of lecture 9. Note that in general less than half applications are awarded funding.\n",
    "\n",
    "Address the same question as the one in the paper by Lee and Ellemers by using binomial GLM to investigate potential gender bias on awards. Quantify the contrast between male and female applicants. In a second step, condition on the discipline as well. What are your conclusions? Should the NWO take specific measures for gender equity in general and across disciplines? Is there any excess variance in the data? If yes, can you elaborate on the nature of possible unaccounted sources?"
   ]
  },
  {
   "cell_type": "code",
   "execution_count": 1,
   "metadata": {
    "vscode": {
     "languageId": "r"
    }
   },
   "outputs": [
    {
     "name": "stderr",
     "output_type": "stream",
     "text": [
      "Lade nötiges Paket: rstan\n",
      "\n",
      "Lade nötiges Paket: StanHeaders\n",
      "\n",
      "\n",
      "rstan version 2.26.16 (Stan version 2.26.1)\n",
      "\n",
      "\n",
      "For execution on a local, multicore CPU with excess RAM we recommend calling\n",
      "options(mc.cores = parallel::detectCores()).\n",
      "To avoid recompilation of unchanged Stan programs, we recommend calling\n",
      "rstan_options(auto_write = TRUE)\n",
      "For within-chain threading using `reduce_sum()` or `map_rect()` Stan functions,\n",
      "change `threads_per_chain` option:\n",
      "rstan_options(threads_per_chain = 1)\n",
      "\n",
      "\n",
      "Do not specify '-march=native' in 'LOCAL_CPPFLAGS' or a Makevars file\n",
      "\n",
      "Lade nötiges Paket: cmdstanr\n",
      "\n",
      "This is cmdstanr version 0.5.3\n",
      "\n",
      "- CmdStanR documentation and vignettes: mc-stan.org/cmdstanr\n",
      "\n",
      "- CmdStan path: D:/Users/Immanuel/Documents/.cmdstan/cmdstan-2.31.0\n",
      "\n",
      "- CmdStan version: 2.31.0\n",
      "\n",
      "\n",
      "A newer version of CmdStan is available. See ?install_cmdstan() to install it.\n",
      "To disable this check set option or environment variable CMDSTANR_NO_VER_CHECK=TRUE.\n",
      "\n",
      "Lade nötiges Paket: parallel\n",
      "\n",
      "rethinking (Version 2.31)\n",
      "\n",
      "\n",
      "Attache Paket: 'rethinking'\n",
      "\n",
      "\n",
      "Das folgende Objekt ist maskiert 'package:rstan':\n",
      "\n",
      "    stan\n",
      "\n",
      "\n",
      "Das folgende Objekt ist maskiert 'package:stats':\n",
      "\n",
      "    rstudent\n",
      "\n",
      "\n"
     ]
    }
   ],
   "source": [
    "library(rethinking)\n",
    "data(NWOGrants)\n",
    "d <- NWOGrants"
   ]
  },
  {
   "cell_type": "code",
   "execution_count": 2,
   "metadata": {
    "vscode": {
     "languageId": "r"
    }
   },
   "outputs": [
    {
     "data": {
      "text/html": [
       "<table class=\"dataframe\">\n",
       "<caption>A data.frame: 18 × 8</caption>\n",
       "<thead>\n",
       "\t<tr><th></th><th scope=col>discipline</th><th scope=col>gender</th><th scope=col>applications</th><th scope=col>awards</th><th scope=col>male</th><th scope=col>field</th><th scope=col>accept</th><th scope=col>accept.scaled</th></tr>\n",
       "\t<tr><th></th><th scope=col>&lt;fct&gt;</th><th scope=col>&lt;fct&gt;</th><th scope=col>&lt;int&gt;</th><th scope=col>&lt;int&gt;</th><th scope=col>&lt;dbl&gt;</th><th scope=col>&lt;int&gt;</th><th scope=col>&lt;dbl&gt;</th><th scope=col>&lt;dbl[,1]&gt;</th></tr>\n",
       "</thead>\n",
       "<tbody>\n",
       "\t<tr><th scope=row>1</th><td>Chemical sciences  </td><td>m</td><td> 83</td><td>22</td><td>1</td><td>1</td><td>0.2650602</td><td> 1.41716126</td></tr>\n",
       "\t<tr><th scope=row>2</th><td>Chemical sciences  </td><td>f</td><td> 39</td><td>10</td><td>0</td><td>1</td><td>0.2564103</td><td> 1.25309407</td></tr>\n",
       "\t<tr><th scope=row>13</th><td>Earth/life sciences</td><td>m</td><td>156</td><td>38</td><td>1</td><td>2</td><td>0.2435897</td><td> 1.00992305</td></tr>\n",
       "\t<tr><th scope=row>14</th><td>Earth/life sciences</td><td>f</td><td>126</td><td>18</td><td>0</td><td>2</td><td>0.1428571</td><td>-0.90070635</td></tr>\n",
       "\t<tr><th scope=row>7</th><td>Humanities         </td><td>m</td><td>230</td><td>33</td><td>1</td><td>3</td><td>0.1434783</td><td>-0.88892539</td></tr>\n",
       "\t<tr><th scope=row>8</th><td>Humanities         </td><td>f</td><td>166</td><td>32</td><td>0</td><td>3</td><td>0.1927711</td><td> 0.04602831</td></tr>\n",
       "\t<tr><th scope=row>11</th><td>Interdisciplinary  </td><td>m</td><td>105</td><td>12</td><td>1</td><td>4</td><td>0.1142857</td><td>-1.44263033</td></tr>\n",
       "\t<tr><th scope=row>12</th><td>Interdisciplinary  </td><td>f</td><td> 78</td><td>17</td><td>0</td><td>4</td><td>0.2179487</td><td> 0.52358102</td></tr>\n",
       "\t<tr><th scope=row>17</th><td>Medical sciences   </td><td>m</td><td>245</td><td>46</td><td>1</td><td>5</td><td>0.1877551</td><td>-0.04911153</td></tr>\n",
       "\t<tr><th scope=row>18</th><td>Medical sciences   </td><td>f</td><td>260</td><td>29</td><td>0</td><td>5</td><td>0.1115385</td><td>-1.49473840</td></tr>\n",
       "\t<tr><th scope=row>3</th><td>Physical sciences  </td><td>m</td><td>135</td><td>26</td><td>1</td><td>6</td><td>0.1925926</td><td> 0.04264279</td></tr>\n",
       "\t<tr><th scope=row>4</th><td>Physical sciences  </td><td>f</td><td> 39</td><td> 9</td><td>0</td><td>6</td><td>0.2307692</td><td> 0.76675204</td></tr>\n",
       "\t<tr><th scope=row>5</th><td>Physics            </td><td>m</td><td> 67</td><td>18</td><td>1</td><td>7</td><td>0.2686567</td><td> 1.48537683</td></tr>\n",
       "\t<tr><th scope=row>6</th><td>Physics            </td><td>f</td><td>  9</td><td> 2</td><td>0</td><td>7</td><td>0.2222222</td><td> 0.60463803</td></tr>\n",
       "\t<tr><th scope=row>15</th><td>Social sciences    </td><td>m</td><td>425</td><td>65</td><td>1</td><td>8</td><td>0.1529412</td><td>-0.70943907</td></tr>\n",
       "\t<tr><th scope=row>16</th><td>Social sciences    </td><td>f</td><td>409</td><td>47</td><td>0</td><td>8</td><td>0.1149144</td><td>-1.43070535</td></tr>\n",
       "\t<tr><th scope=row>9</th><td>Technical sciences </td><td>m</td><td>189</td><td>30</td><td>1</td><td>9</td><td>0.1587302</td><td>-0.59963748</td></tr>\n",
       "\t<tr><th scope=row>10</th><td>Technical sciences </td><td>f</td><td> 62</td><td>13</td><td>0</td><td>9</td><td>0.2096774</td><td> 0.36669650</td></tr>\n",
       "</tbody>\n",
       "</table>\n"
      ],
      "text/latex": [
       "A data.frame: 18 × 8\n",
       "\\begin{tabular}{r|llllllll}\n",
       "  & discipline & gender & applications & awards & male & field & accept & accept.scaled\\\\\n",
       "  & <fct> & <fct> & <int> & <int> & <dbl> & <int> & <dbl> & <dbl{[},1{]}>\\\\\n",
       "\\hline\n",
       "\t1 & Chemical sciences   & m &  83 & 22 & 1 & 1 & 0.2650602 &  1.41716126\\\\\n",
       "\t2 & Chemical sciences   & f &  39 & 10 & 0 & 1 & 0.2564103 &  1.25309407\\\\\n",
       "\t13 & Earth/life sciences & m & 156 & 38 & 1 & 2 & 0.2435897 &  1.00992305\\\\\n",
       "\t14 & Earth/life sciences & f & 126 & 18 & 0 & 2 & 0.1428571 & -0.90070635\\\\\n",
       "\t7 & Humanities          & m & 230 & 33 & 1 & 3 & 0.1434783 & -0.88892539\\\\\n",
       "\t8 & Humanities          & f & 166 & 32 & 0 & 3 & 0.1927711 &  0.04602831\\\\\n",
       "\t11 & Interdisciplinary   & m & 105 & 12 & 1 & 4 & 0.1142857 & -1.44263033\\\\\n",
       "\t12 & Interdisciplinary   & f &  78 & 17 & 0 & 4 & 0.2179487 &  0.52358102\\\\\n",
       "\t17 & Medical sciences    & m & 245 & 46 & 1 & 5 & 0.1877551 & -0.04911153\\\\\n",
       "\t18 & Medical sciences    & f & 260 & 29 & 0 & 5 & 0.1115385 & -1.49473840\\\\\n",
       "\t3 & Physical sciences   & m & 135 & 26 & 1 & 6 & 0.1925926 &  0.04264279\\\\\n",
       "\t4 & Physical sciences   & f &  39 &  9 & 0 & 6 & 0.2307692 &  0.76675204\\\\\n",
       "\t5 & Physics             & m &  67 & 18 & 1 & 7 & 0.2686567 &  1.48537683\\\\\n",
       "\t6 & Physics             & f &   9 &  2 & 0 & 7 & 0.2222222 &  0.60463803\\\\\n",
       "\t15 & Social sciences     & m & 425 & 65 & 1 & 8 & 0.1529412 & -0.70943907\\\\\n",
       "\t16 & Social sciences     & f & 409 & 47 & 0 & 8 & 0.1149144 & -1.43070535\\\\\n",
       "\t9 & Technical sciences  & m & 189 & 30 & 1 & 9 & 0.1587302 & -0.59963748\\\\\n",
       "\t10 & Technical sciences  & f &  62 & 13 & 0 & 9 & 0.2096774 &  0.36669650\\\\\n",
       "\\end{tabular}\n"
      ],
      "text/markdown": [
       "\n",
       "A data.frame: 18 × 8\n",
       "\n",
       "| <!--/--> | discipline &lt;fct&gt; | gender &lt;fct&gt; | applications &lt;int&gt; | awards &lt;int&gt; | male &lt;dbl&gt; | field &lt;int&gt; | accept &lt;dbl&gt; | accept.scaled &lt;dbl[,1]&gt; |\n",
       "|---|---|---|---|---|---|---|---|---|\n",
       "| 1 | Chemical sciences   | m |  83 | 22 | 1 | 1 | 0.2650602 |  1.41716126 |\n",
       "| 2 | Chemical sciences   | f |  39 | 10 | 0 | 1 | 0.2564103 |  1.25309407 |\n",
       "| 13 | Earth/life sciences | m | 156 | 38 | 1 | 2 | 0.2435897 |  1.00992305 |\n",
       "| 14 | Earth/life sciences | f | 126 | 18 | 0 | 2 | 0.1428571 | -0.90070635 |\n",
       "| 7 | Humanities          | m | 230 | 33 | 1 | 3 | 0.1434783 | -0.88892539 |\n",
       "| 8 | Humanities          | f | 166 | 32 | 0 | 3 | 0.1927711 |  0.04602831 |\n",
       "| 11 | Interdisciplinary   | m | 105 | 12 | 1 | 4 | 0.1142857 | -1.44263033 |\n",
       "| 12 | Interdisciplinary   | f |  78 | 17 | 0 | 4 | 0.2179487 |  0.52358102 |\n",
       "| 17 | Medical sciences    | m | 245 | 46 | 1 | 5 | 0.1877551 | -0.04911153 |\n",
       "| 18 | Medical sciences    | f | 260 | 29 | 0 | 5 | 0.1115385 | -1.49473840 |\n",
       "| 3 | Physical sciences   | m | 135 | 26 | 1 | 6 | 0.1925926 |  0.04264279 |\n",
       "| 4 | Physical sciences   | f |  39 |  9 | 0 | 6 | 0.2307692 |  0.76675204 |\n",
       "| 5 | Physics             | m |  67 | 18 | 1 | 7 | 0.2686567 |  1.48537683 |\n",
       "| 6 | Physics             | f |   9 |  2 | 0 | 7 | 0.2222222 |  0.60463803 |\n",
       "| 15 | Social sciences     | m | 425 | 65 | 1 | 8 | 0.1529412 | -0.70943907 |\n",
       "| 16 | Social sciences     | f | 409 | 47 | 0 | 8 | 0.1149144 | -1.43070535 |\n",
       "| 9 | Technical sciences  | m | 189 | 30 | 1 | 9 | 0.1587302 | -0.59963748 |\n",
       "| 10 | Technical sciences  | f |  62 | 13 | 0 | 9 | 0.2096774 |  0.36669650 |\n",
       "\n"
      ],
      "text/plain": [
       "   discipline          gender applications awards male field accept   \n",
       "1  Chemical sciences   m       83          22     1    1     0.2650602\n",
       "2  Chemical sciences   f       39          10     0    1     0.2564103\n",
       "13 Earth/life sciences m      156          38     1    2     0.2435897\n",
       "14 Earth/life sciences f      126          18     0    2     0.1428571\n",
       "7  Humanities          m      230          33     1    3     0.1434783\n",
       "8  Humanities          f      166          32     0    3     0.1927711\n",
       "11 Interdisciplinary   m      105          12     1    4     0.1142857\n",
       "12 Interdisciplinary   f       78          17     0    4     0.2179487\n",
       "17 Medical sciences    m      245          46     1    5     0.1877551\n",
       "18 Medical sciences    f      260          29     0    5     0.1115385\n",
       "3  Physical sciences   m      135          26     1    6     0.1925926\n",
       "4  Physical sciences   f       39           9     0    6     0.2307692\n",
       "5  Physics             m       67          18     1    7     0.2686567\n",
       "6  Physics             f        9           2     0    7     0.2222222\n",
       "15 Social sciences     m      425          65     1    8     0.1529412\n",
       "16 Social sciences     f      409          47     0    8     0.1149144\n",
       "9  Technical sciences  m      189          30     1    9     0.1587302\n",
       "10 Technical sciences  f       62          13     0    9     0.2096774\n",
       "   accept.scaled\n",
       "1   1.41716126  \n",
       "2   1.25309407  \n",
       "13  1.00992305  \n",
       "14 -0.90070635  \n",
       "7  -0.88892539  \n",
       "8   0.04602831  \n",
       "11 -1.44263033  \n",
       "12  0.52358102  \n",
       "17 -0.04911153  \n",
       "18 -1.49473840  \n",
       "3   0.04264279  \n",
       "4   0.76675204  \n",
       "5   1.48537683  \n",
       "6   0.60463803  \n",
       "15 -0.70943907  \n",
       "16 -1.43070535  \n",
       "9  -0.59963748  \n",
       "10  0.36669650  "
      ]
     },
     "metadata": {},
     "output_type": "display_data"
    }
   ],
   "source": [
    "d$male <- as.integer(d$gender) - 1\n",
    "d$field <- as.integer(d$discipline)\n",
    "d$accept <- d$awards / d$applications\n",
    "d <- d[order(d$field), ]\n",
    "d$accept.scaled <- scale(d$accept)\n",
    "d"
   ]
  },
  {
   "cell_type": "code",
   "execution_count": 3,
   "metadata": {
    "vscode": {
     "languageId": "r"
    }
   },
   "outputs": [
    {
     "data": {
      "image/png": "[encoded data removed]",
      "text/plain": [
       "Plot with title \"Acceptance rate per discipline and gender\""
      ]
     },
     "metadata": {
      "image/png": {
       "height": 420,
       "width": 420
      }
     },
     "output_type": "display_data"
    }
   ],
   "source": [
    "par(mar = c(4, 9, 2, 2))\n",
    "barplot(rev(d$accept), names.arg = rev(d$discipline), las=2, xlim = c(0.10, 0.30), xpd = FALSE, horiz = TRUE, col = ifelse(d$male, \"red\", \"blue\"))\n",
    "title(\"Acceptance rate per discipline and gender\")\n",
    "legend(\"right\", c(\"male\", \"female\"), fill = c(\"blue\", \"red\"))"
   ]
  },
  {
   "attachments": {},
   "cell_type": "markdown",
   "metadata": {},
   "source": [
    "So male applicants are more likely to get accepted in humanities, interdiciplinary, physical and technical sciences. Female applicants are more likely to get accepted in chemical, earth/life, medical and social sciences and in physics."
   ]
  },
  {
   "cell_type": "code",
   "execution_count": 4,
   "metadata": {
    "vscode": {
     "languageId": "r"
    }
   },
   "outputs": [
    {
     "data": {
      "text/html": [
       "<table class=\"dataframe\">\n",
       "<caption>A data.frame: 9 × 5</caption>\n",
       "<thead>\n",
       "\t<tr><th></th><th scope=col>discipline</th><th scope=col>applications</th><th scope=col>awards</th><th scope=col>field</th><th scope=col>accept</th></tr>\n",
       "\t<tr><th></th><th scope=col>&lt;chr&gt;</th><th scope=col>&lt;int&gt;</th><th scope=col>&lt;int&gt;</th><th scope=col>&lt;int&gt;</th><th scope=col>&lt;dbl&gt;</th></tr>\n",
       "</thead>\n",
       "<tbody>\n",
       "\t<tr><th scope=row>1</th><td>Chemical sciences  </td><td>122</td><td> 32</td><td>1</td><td>0.2622951</td></tr>\n",
       "\t<tr><th scope=row>2</th><td>Earth/life sciences</td><td>282</td><td> 56</td><td>2</td><td>0.1985816</td></tr>\n",
       "\t<tr><th scope=row>3</th><td>Humanities         </td><td>396</td><td> 65</td><td>3</td><td>0.1641414</td></tr>\n",
       "\t<tr><th scope=row>4</th><td>Interdisciplinary  </td><td>183</td><td> 29</td><td>4</td><td>0.1584699</td></tr>\n",
       "\t<tr><th scope=row>5</th><td>Medical sciences   </td><td>505</td><td> 75</td><td>5</td><td>0.1485149</td></tr>\n",
       "\t<tr><th scope=row>6</th><td>Physical sciences  </td><td>174</td><td> 35</td><td>6</td><td>0.2011494</td></tr>\n",
       "\t<tr><th scope=row>7</th><td>Physics            </td><td> 76</td><td> 20</td><td>7</td><td>0.2631579</td></tr>\n",
       "\t<tr><th scope=row>8</th><td>Social sciences    </td><td>834</td><td>112</td><td>8</td><td>0.1342926</td></tr>\n",
       "\t<tr><th scope=row>9</th><td>Technical sciences </td><td>251</td><td> 43</td><td>9</td><td>0.1713147</td></tr>\n",
       "</tbody>\n",
       "</table>\n"
      ],
      "text/latex": [
       "A data.frame: 9 × 5\n",
       "\\begin{tabular}{r|lllll}\n",
       "  & discipline & applications & awards & field & accept\\\\\n",
       "  & <chr> & <int> & <int> & <int> & <dbl>\\\\\n",
       "\\hline\n",
       "\t1 & Chemical sciences   & 122 &  32 & 1 & 0.2622951\\\\\n",
       "\t2 & Earth/life sciences & 282 &  56 & 2 & 0.1985816\\\\\n",
       "\t3 & Humanities          & 396 &  65 & 3 & 0.1641414\\\\\n",
       "\t4 & Interdisciplinary   & 183 &  29 & 4 & 0.1584699\\\\\n",
       "\t5 & Medical sciences    & 505 &  75 & 5 & 0.1485149\\\\\n",
       "\t6 & Physical sciences   & 174 &  35 & 6 & 0.2011494\\\\\n",
       "\t7 & Physics             &  76 &  20 & 7 & 0.2631579\\\\\n",
       "\t8 & Social sciences     & 834 & 112 & 8 & 0.1342926\\\\\n",
       "\t9 & Technical sciences  & 251 &  43 & 9 & 0.1713147\\\\\n",
       "\\end{tabular}\n"
      ],
      "text/markdown": [
       "\n",
       "A data.frame: 9 × 5\n",
       "\n",
       "| <!--/--> | discipline &lt;chr&gt; | applications &lt;int&gt; | awards &lt;int&gt; | field &lt;int&gt; | accept &lt;dbl&gt; |\n",
       "|---|---|---|---|---|---|\n",
       "| 1 | Chemical sciences   | 122 |  32 | 1 | 0.2622951 |\n",
       "| 2 | Earth/life sciences | 282 |  56 | 2 | 0.1985816 |\n",
       "| 3 | Humanities          | 396 |  65 | 3 | 0.1641414 |\n",
       "| 4 | Interdisciplinary   | 183 |  29 | 4 | 0.1584699 |\n",
       "| 5 | Medical sciences    | 505 |  75 | 5 | 0.1485149 |\n",
       "| 6 | Physical sciences   | 174 |  35 | 6 | 0.2011494 |\n",
       "| 7 | Physics             |  76 |  20 | 7 | 0.2631579 |\n",
       "| 8 | Social sciences     | 834 | 112 | 8 | 0.1342926 |\n",
       "| 9 | Technical sciences  | 251 |  43 | 9 | 0.1713147 |\n",
       "\n"
      ],
      "text/plain": [
       "  discipline          applications awards field accept   \n",
       "1 Chemical sciences   122           32    1     0.2622951\n",
       "2 Earth/life sciences 282           56    2     0.1985816\n",
       "3 Humanities          396           65    3     0.1641414\n",
       "4 Interdisciplinary   183           29    4     0.1584699\n",
       "5 Medical sciences    505           75    5     0.1485149\n",
       "6 Physical sciences   174           35    6     0.2011494\n",
       "7 Physics              76           20    7     0.2631579\n",
       "8 Social sciences     834          112    8     0.1342926\n",
       "9 Technical sciences  251           43    9     0.1713147"
      ]
     },
     "metadata": {},
     "output_type": "display_data"
    }
   ],
   "source": [
    "e <- data.frame(discipline = character(), applications = integer(), awards = integer(), field = integer(), accept = double())\n",
    "for (field in 1:max(d$field)) {\n",
    "\tdat <- d[d$field == field, ]\n",
    "\tdiscipline <- as.character(dat$discipline[1])\n",
    "\tapplications <- sum(dat$applications)\n",
    "\tawards <- sum(dat$awards)\n",
    "\taccept <- awards / applications\n",
    "\te[nrow(e) + 1, ] <- list(discipline, applications, awards, field, accept)\n",
    "}\n",
    "e"
   ]
  },
  {
   "cell_type": "code",
   "execution_count": 5,
   "metadata": {
    "vscode": {
     "languageId": "r"
    }
   },
   "outputs": [
    {
     "data": {
      "image/png": "[encoded data removed]",
      "text/plain": [
       "Plot with title \"Acceptance rate per discipline\""
      ]
     },
     "metadata": {
      "image/png": {
       "height": 420,
       "width": 420
      }
     },
     "output_type": "display_data"
    }
   ],
   "source": [
    "par(mar = c(4, 9, 2, 2))\n",
    "barplot(e$accept, names.arg = e$discipline, las=2, xlim = c(0.10, 0.30), xpd = FALSE, horiz = TRUE)\n",
    "title(\"Acceptance rate per discipline\")"
   ]
  },
  {
   "cell_type": "code",
   "execution_count": 6,
   "metadata": {
    "vscode": {
     "languageId": "r"
    }
   },
   "outputs": [
    {
     "data": {
      "text/html": [
       "0.0283801315911408"
      ],
      "text/latex": [
       "0.0283801315911408"
      ],
      "text/markdown": [
       "0.0283801315911408"
      ],
      "text/plain": [
       "[1] 0.02838013"
      ]
     },
     "metadata": {},
     "output_type": "display_data"
    },
    {
     "data": {
      "image/png": "[encoded data removed]",
      "text/plain": [
       "Plot with title \"Acceptance rate per gender\""
      ]
     },
     "metadata": {
      "image/png": {
       "height": 420,
       "width": 420
      }
     },
     "output_type": "display_data"
    }
   ],
   "source": [
    "male_applications <- sum(d[d$male == 1, ]$applications)\n",
    "female_applications <- sum(d[d$male == 0, ]$applications)\n",
    "male_awards <- sum(d[d$male == 1, ]$awards)\n",
    "female_awards <- sum(d[d$male == 0, ]$awards)\n",
    "male_accept <- male_awards / male_applications\n",
    "female_accept <- female_awards / female_applications\n",
    "\n",
    "barplot(c(male_accept, female_accept), names.arg = c(\"male\", \"female\"), ylim = c(0.14, 0.18), xpd = FALSE, col = c(\"blue\", \"red\"))\n",
    "title(\"Acceptance rate per gender\")\n",
    "\n",
    "mean(male_accept) - mean(female_accept)"
   ]
  },
  {
   "attachments": {},
   "cell_type": "markdown",
   "metadata": {},
   "source": [
    "So in the data there is a difference between the male and female acceptance rate in the data. But is it statistically significant? We construct different models and compare them."
   ]
  },
  {
   "cell_type": "code",
   "execution_count": 7,
   "metadata": {
    "vscode": {
     "languageId": "r"
    }
   },
   "outputs": [],
   "source": [
    "# A single mean over all the data\n",
    "model1 <- map(\n",
    "\talist(\n",
    "\t\tawards ~ dbinom(applications, p),\n",
    "\t\tlogit(p) <- a,\n",
    "\t\ta ~ dnorm(0, 10)\n",
    "\t),\n",
    "\tdata = d\n",
    ")\n",
    "model1_parameter_amount <- 1 # 1"
   ]
  },
  {
   "cell_type": "code",
   "execution_count": 8,
   "metadata": {
    "vscode": {
     "languageId": "r"
    }
   },
   "outputs": [],
   "source": [
    "# One mean for male and one mean for female\n",
    "model_male <- map(\n",
    "\talist(\n",
    "\t\tawards ~ dbinom(applications, p),\n",
    "\t\tlogit(p) <- a + a_male * male,\n",
    "\t\ta ~ dnorm(0, 10),\n",
    "\t\ta_male ~ dnorm(0, 10)\n",
    "\t),\n",
    "\tdata = d\n",
    ")\n",
    "model_male_parameter_amount <- 1 + 1 # 2"
   ]
  },
  {
   "cell_type": "code",
   "execution_count": 9,
   "metadata": {
    "vscode": {
     "languageId": "r"
    }
   },
   "outputs": [],
   "source": [
    "# A model where we dont distinguish between male and female, but the department is relevant\n",
    "model_field <- map(\n",
    "\talist(\n",
    "\t\tawards ~ dbinom(applications, p),\n",
    "\t\tlogit(p) <- a[field],\n",
    "\t\ta[field] ~ dnorm(0, 10)\n",
    "\t),\n",
    "\tdata = d\n",
    ")\n",
    "model_field_parameter_amount <- nrow(e) # 9"
   ]
  },
  {
   "cell_type": "code",
   "execution_count": 10,
   "metadata": {
    "vscode": {
     "languageId": "r"
    }
   },
   "outputs": [],
   "source": [
    "# Each field has its own mean but the change if a participant is male is global\n",
    "model_field_male <- map(\n",
    "\talist(\n",
    "\t\tawards ~ dbinom(applications, p),\n",
    "\t\tlogit(p) <- a[field] + a_male * male,\n",
    "\t\ta[field] ~ dnorm(0, 10),\n",
    "\t\ta_male ~ dnorm(0, 10)\n",
    "\t),\n",
    "\tdata = d\n",
    ")\n",
    "model_field_male_parameter_amount <- nrow(e) + 1 # 10"
   ]
  },
  {
   "cell_type": "code",
   "execution_count": 11,
   "metadata": {
    "vscode": {
     "languageId": "r"
    }
   },
   "outputs": [],
   "source": [
    "# We have the same mean for all fields, but the influence if the participant is male is unique for each field\n",
    "model_male_field <- map(\n",
    "\talist(\n",
    "\t\tawards ~ dbinom(applications, p),\n",
    "\t\tlogit(p) <- a + a_male[field] * male,\n",
    "\t\ta ~ dnorm(0, 10),\n",
    "\t\ta_male[field] ~ dnorm(0, 10)\n",
    "\t),\n",
    "\tdata = d\n",
    ")\n",
    "model_male_field_parameter_amount <- 1 + nrow(e) # 10"
   ]
  },
  {
   "cell_type": "code",
   "execution_count": 12,
   "metadata": {
    "vscode": {
     "languageId": "r"
    }
   },
   "outputs": [],
   "source": [
    "# Both the mean and the offset for a male participant is different for each department\n",
    "model_field_male_field <- map(\n",
    "\talist(\n",
    "\t\tawards ~ dbinom(applications, p),\n",
    "\t\tlogit(p) <- a[field] + a_male[field] * male,\n",
    "\t\ta[field] ~ dnorm(0, 10),\n",
    "\t\ta_male[field] ~ dnorm(0, 10)\n",
    "\t),\n",
    "\tdata = d\n",
    ")\n",
    "model6_field_male_field_parameter_amount <- nrow(e) + nrow(e) # 18"
   ]
  },
  {
   "cell_type": "code",
   "execution_count": 13,
   "metadata": {
    "vscode": {
     "languageId": "r"
    }
   },
   "outputs": [
    {
     "data": {
      "text/html": [
       "<table class=\"dataframe\">\n",
       "<caption>A compareIC: 6 × 6</caption>\n",
       "<thead>\n",
       "\t<tr><th></th><th scope=col>WAIC</th><th scope=col>SE</th><th scope=col>dWAIC</th><th scope=col>dSE</th><th scope=col>pWAIC</th><th scope=col>weight</th></tr>\n",
       "\t<tr><th></th><th scope=col>&lt;dbl&gt;</th><th scope=col>&lt;dbl&gt;</th><th scope=col>&lt;dbl&gt;</th><th scope=col>&lt;dbl&gt;</th><th scope=col>&lt;dbl&gt;</th><th scope=col>&lt;dbl&gt;</th></tr>\n",
       "</thead>\n",
       "<tbody>\n",
       "\t<tr><th scope=row>model_field_male_field</th><td>115.7915</td><td> 3.157655</td><td> 0.000000</td><td>       NA</td><td> 9.631197</td><td>0.9610414407</td></tr>\n",
       "\t<tr><th scope=row>model_male_field</th><td>122.5536</td><td> 7.439860</td><td> 6.762134</td><td> 5.931200</td><td> 7.417447</td><td>0.0326861140</td></tr>\n",
       "\t<tr><th scope=row>model_field</th><td>127.2502</td><td> 9.104048</td><td>11.458688</td><td> 7.312357</td><td>11.513816</td><td>0.0031226232</td></tr>\n",
       "\t<tr><th scope=row>model_field_male</th><td>128.6600</td><td> 8.059377</td><td>12.868567</td><td> 6.444309</td><td>12.687967</td><td>0.0015430084</td></tr>\n",
       "\t<tr><th scope=row>model_male</th><td>129.5456</td><td> 8.728624</td><td>13.754108</td><td> 7.504840</td><td> 4.648225</td><td>0.0009910041</td></tr>\n",
       "\t<tr><th scope=row>model1</th><td>130.4971</td><td>12.936419</td><td>14.705670</td><td>12.085615</td><td> 2.905528</td><td>0.0006158096</td></tr>\n",
       "</tbody>\n",
       "</table>\n"
      ],
      "text/latex": [
       "A compareIC: 6 × 6\n",
       "\\begin{tabular}{r|llllll}\n",
       "  & WAIC & SE & dWAIC & dSE & pWAIC & weight\\\\\n",
       "  & <dbl> & <dbl> & <dbl> & <dbl> & <dbl> & <dbl>\\\\\n",
       "\\hline\n",
       "\tmodel\\_field\\_male\\_field & 115.7915 &  3.157655 &  0.000000 &        NA &  9.631197 & 0.9610414407\\\\\n",
       "\tmodel\\_male\\_field & 122.5536 &  7.439860 &  6.762134 &  5.931200 &  7.417447 & 0.0326861140\\\\\n",
       "\tmodel\\_field & 127.2502 &  9.104048 & 11.458688 &  7.312357 & 11.513816 & 0.0031226232\\\\\n",
       "\tmodel\\_field\\_male & 128.6600 &  8.059377 & 12.868567 &  6.444309 & 12.687967 & 0.0015430084\\\\\n",
       "\tmodel\\_male & 129.5456 &  8.728624 & 13.754108 &  7.504840 &  4.648225 & 0.0009910041\\\\\n",
       "\tmodel1 & 130.4971 & 12.936419 & 14.705670 & 12.085615 &  2.905528 & 0.0006158096\\\\\n",
       "\\end{tabular}\n"
      ],
      "text/markdown": [
       "\n",
       "A compareIC: 6 × 6\n",
       "\n",
       "| <!--/--> | WAIC &lt;dbl&gt; | SE &lt;dbl&gt; | dWAIC &lt;dbl&gt; | dSE &lt;dbl&gt; | pWAIC &lt;dbl&gt; | weight &lt;dbl&gt; |\n",
       "|---|---|---|---|---|---|---|\n",
       "| model_field_male_field | 115.7915 |  3.157655 |  0.000000 |        NA |  9.631197 | 0.9610414407 |\n",
       "| model_male_field | 122.5536 |  7.439860 |  6.762134 |  5.931200 |  7.417447 | 0.0326861140 |\n",
       "| model_field | 127.2502 |  9.104048 | 11.458688 |  7.312357 | 11.513816 | 0.0031226232 |\n",
       "| model_field_male | 128.6600 |  8.059377 | 12.868567 |  6.444309 | 12.687967 | 0.0015430084 |\n",
       "| model_male | 129.5456 |  8.728624 | 13.754108 |  7.504840 |  4.648225 | 0.0009910041 |\n",
       "| model1 | 130.4971 | 12.936419 | 14.705670 | 12.085615 |  2.905528 | 0.0006158096 |\n",
       "\n"
      ],
      "text/plain": [
       "                       WAIC     SE        dWAIC     dSE       pWAIC    \n",
       "model_field_male_field 115.7915  3.157655  0.000000        NA  9.631197\n",
       "model_male_field       122.5536  7.439860  6.762134  5.931200  7.417447\n",
       "model_field            127.2502  9.104048 11.458688  7.312357 11.513816\n",
       "model_field_male       128.6600  8.059377 12.868567  6.444309 12.687967\n",
       "model_male             129.5456  8.728624 13.754108  7.504840  4.648225\n",
       "model1                 130.4971 12.936419 14.705670 12.085615  2.905528\n",
       "                       weight      \n",
       "model_field_male_field 0.9610414407\n",
       "model_male_field       0.0326861140\n",
       "model_field            0.0031226232\n",
       "model_field_male       0.0015430084\n",
       "model_male             0.0009910041\n",
       "model1                 0.0006158096"
      ]
     },
     "metadata": {},
     "output_type": "display_data"
    }
   ],
   "source": [
    "compare(model1, model_male, model_field, model_field_male, model_male_field, model_field_male_field)"
   ]
  },
  {
   "attachments": {},
   "cell_type": "markdown",
   "metadata": {},
   "source": [
    "So we see that the model that is able to distinguish between male and female and also between departments is able to fit the data the best, obviously."
   ]
  },
  {
   "attachments": {},
   "cell_type": "markdown",
   "metadata": {},
   "source": [
    "Now we quantify the contrast while disregarding the field the participants come from. These are the two models ```model_male``` and ```model1```. Because the latter is gender independent, we only have to do this discussion one for the first model."
   ]
  },
  {
   "cell_type": "code",
   "execution_count": 14,
   "metadata": {
    "vscode": {
     "languageId": "r"
    }
   },
   "outputs": [
    {
     "data": {
      "text/html": [
       "<table class=\"dataframe\">\n",
       "<caption>A precis: 1 × 4</caption>\n",
       "<thead>\n",
       "\t<tr><th></th><th scope=col>mean</th><th scope=col>sd</th><th scope=col>5.5%</th><th scope=col>94.5%</th></tr>\n",
       "\t<tr><th></th><th scope=col>&lt;dbl&gt;</th><th scope=col>&lt;dbl&gt;</th><th scope=col>&lt;dbl&gt;</th><th scope=col>&lt;dbl&gt;</th></tr>\n",
       "</thead>\n",
       "<tbody>\n",
       "\t<tr><th scope=row>a</th><td>-1.61835</td><td>0.05065213</td><td>-1.699302</td><td>-1.537398</td></tr>\n",
       "</tbody>\n",
       "</table>\n"
      ],
      "text/latex": [
       "A precis: 1 × 4\n",
       "\\begin{tabular}{r|llll}\n",
       "  & mean & sd & 5.5\\% & 94.5\\%\\\\\n",
       "  & <dbl> & <dbl> & <dbl> & <dbl>\\\\\n",
       "\\hline\n",
       "\ta & -1.61835 & 0.05065213 & -1.699302 & -1.537398\\\\\n",
       "\\end{tabular}\n"
      ],
      "text/markdown": [
       "\n",
       "A precis: 1 × 4\n",
       "\n",
       "| <!--/--> | mean &lt;dbl&gt; | sd &lt;dbl&gt; | 5.5% &lt;dbl&gt; | 94.5% &lt;dbl&gt; |\n",
       "|---|---|---|---|---|\n",
       "| a | -1.61835 | 0.05065213 | -1.699302 | -1.537398 |\n",
       "\n"
      ],
      "text/plain": [
       "  mean     sd         5.5%      94.5%    \n",
       "a -1.61835 0.05065213 -1.699302 -1.537398"
      ]
     },
     "metadata": {},
     "output_type": "display_data"
    },
    {
     "data": {
      "text/html": [
       "<table class=\"dataframe\">\n",
       "<caption>A precis: 2 × 4</caption>\n",
       "<thead>\n",
       "\t<tr><th></th><th scope=col>mean</th><th scope=col>sd</th><th scope=col>5.5%</th><th scope=col>94.5%</th></tr>\n",
       "\t<tr><th></th><th scope=col>&lt;dbl&gt;</th><th scope=col>&lt;dbl&gt;</th><th scope=col>&lt;dbl&gt;</th><th scope=col>&lt;dbl&gt;</th></tr>\n",
       "</thead>\n",
       "<tbody>\n",
       "\t<tr><th scope=row>a</th><td>-1.7424162</td><td>0.08146995</td><td>-1.87262090</td><td>-1.6122115</td></tr>\n",
       "\t<tr><th scope=row>a_male</th><td> 0.2081391</td><td>0.10405967</td><td> 0.04183164</td><td> 0.3744465</td></tr>\n",
       "</tbody>\n",
       "</table>\n"
      ],
      "text/latex": [
       "A precis: 2 × 4\n",
       "\\begin{tabular}{r|llll}\n",
       "  & mean & sd & 5.5\\% & 94.5\\%\\\\\n",
       "  & <dbl> & <dbl> & <dbl> & <dbl>\\\\\n",
       "\\hline\n",
       "\ta & -1.7424162 & 0.08146995 & -1.87262090 & -1.6122115\\\\\n",
       "\ta\\_male &  0.2081391 & 0.10405967 &  0.04183164 &  0.3744465\\\\\n",
       "\\end{tabular}\n"
      ],
      "text/markdown": [
       "\n",
       "A precis: 2 × 4\n",
       "\n",
       "| <!--/--> | mean &lt;dbl&gt; | sd &lt;dbl&gt; | 5.5% &lt;dbl&gt; | 94.5% &lt;dbl&gt; |\n",
       "|---|---|---|---|---|\n",
       "| a | -1.7424162 | 0.08146995 | -1.87262090 | -1.6122115 |\n",
       "| a_male |  0.2081391 | 0.10405967 |  0.04183164 |  0.3744465 |\n",
       "\n"
      ],
      "text/plain": [
       "       mean       sd         5.5%        94.5%     \n",
       "a      -1.7424162 0.08146995 -1.87262090 -1.6122115\n",
       "a_male  0.2081391 0.10405967  0.04183164  0.3744465"
      ]
     },
     "metadata": {},
     "output_type": "display_data"
    }
   ],
   "source": [
    "# The relative scale, which in most cases can be disregarded.\n",
    "summary(model1)\n",
    "summary(model_male)"
   ]
  },
  {
   "cell_type": "code",
   "execution_count": 15,
   "metadata": {
    "vscode": {
     "languageId": "r"
    }
   },
   "outputs": [
    {
     "data": {
      "text/html": [
       "<table class=\"dataframe\">\n",
       "<caption>A compareIC: 2 × 6</caption>\n",
       "<thead>\n",
       "\t<tr><th></th><th scope=col>WAIC</th><th scope=col>SE</th><th scope=col>dWAIC</th><th scope=col>dSE</th><th scope=col>pWAIC</th><th scope=col>weight</th></tr>\n",
       "\t<tr><th></th><th scope=col>&lt;dbl&gt;</th><th scope=col>&lt;dbl&gt;</th><th scope=col>&lt;dbl&gt;</th><th scope=col>&lt;dbl&gt;</th><th scope=col>&lt;dbl&gt;</th><th scope=col>&lt;dbl&gt;</th></tr>\n",
       "</thead>\n",
       "<tbody>\n",
       "\t<tr><th scope=row>model_male</th><td>129.5348</td><td> 8.791674</td><td>0.0000000</td><td>      NA</td><td>4.636433</td><td>0.6101221</td></tr>\n",
       "\t<tr><th scope=row>model1</th><td>130.4305</td><td>13.061795</td><td>0.8956508</td><td>6.515686</td><td>2.840859</td><td>0.3898779</td></tr>\n",
       "</tbody>\n",
       "</table>\n"
      ],
      "text/latex": [
       "A compareIC: 2 × 6\n",
       "\\begin{tabular}{r|llllll}\n",
       "  & WAIC & SE & dWAIC & dSE & pWAIC & weight\\\\\n",
       "  & <dbl> & <dbl> & <dbl> & <dbl> & <dbl> & <dbl>\\\\\n",
       "\\hline\n",
       "\tmodel\\_male & 129.5348 &  8.791674 & 0.0000000 &       NA & 4.636433 & 0.6101221\\\\\n",
       "\tmodel1 & 130.4305 & 13.061795 & 0.8956508 & 6.515686 & 2.840859 & 0.3898779\\\\\n",
       "\\end{tabular}\n"
      ],
      "text/markdown": [
       "\n",
       "A compareIC: 2 × 6\n",
       "\n",
       "| <!--/--> | WAIC &lt;dbl&gt; | SE &lt;dbl&gt; | dWAIC &lt;dbl&gt; | dSE &lt;dbl&gt; | pWAIC &lt;dbl&gt; | weight &lt;dbl&gt; |\n",
       "|---|---|---|---|---|---|---|\n",
       "| model_male | 129.5348 |  8.791674 | 0.0000000 |       NA | 4.636433 | 0.6101221 |\n",
       "| model1 | 130.4305 | 13.061795 | 0.8956508 | 6.515686 | 2.840859 | 0.3898779 |\n",
       "\n"
      ],
      "text/plain": [
       "           WAIC     SE        dWAIC     dSE      pWAIC    weight   \n",
       "model_male 129.5348  8.791674 0.0000000       NA 4.636433 0.6101221\n",
       "model1     130.4305 13.061795 0.8956508 6.515686 2.840859 0.3898779"
      ]
     },
     "metadata": {},
     "output_type": "display_data"
    }
   ],
   "source": [
    "# Better to compare the models with an information criterion\n",
    "compare(model1, model_male)"
   ]
  },
  {
   "attachments": {},
   "cell_type": "markdown",
   "metadata": {},
   "source": [
    "We see that the inclusion of the male parameter makes a difference, although its not that significant. Next we look at the contrast between the number of male and female awardees in the second model."
   ]
  },
  {
   "cell_type": "code",
   "execution_count": 16,
   "metadata": {
    "vscode": {
     "languageId": "r"
    }
   },
   "outputs": [
    {
     "data": {
      "text/html": [
       "<style>\n",
       ".dl-inline {width: auto; margin:0; padding: 0}\n",
       ".dl-inline>dt, .dl-inline>dd {float: none; width: auto; display: inline-block}\n",
       ".dl-inline>dt::after {content: \":\\0020\"; padding-right: .5ex}\n",
       ".dl-inline>dt:not(:first-of-type) {padding-left: .5ex}\n",
       "</style><dl class=dl-inline><dt>2.5%</dt><dd>0.000280652155881645</dd><dt>50%</dt><dd>0.0284697161921506</dd><dt>97.5%</dt><dd>0.0553008686492095</dd></dl>\n"
      ],
      "text/latex": [
       "\\begin{description*}\n",
       "\\item[2.5\\textbackslash{}\\%] 0.000280652155881645\n",
       "\\item[50\\textbackslash{}\\%] 0.0284697161921506\n",
       "\\item[97.5\\textbackslash{}\\%] 0.0553008686492095\n",
       "\\end{description*}\n"
      ],
      "text/markdown": [
       "2.5%\n",
       ":   0.00028065215588164550%\n",
       ":   0.028469716192150697.5%\n",
       ":   0.0553008686492095\n",
       "\n"
      ],
      "text/plain": [
       "        2.5%          50%        97.5% \n",
       "0.0002806522 0.0284697162 0.0553008686 "
      ]
     },
     "metadata": {},
     "output_type": "display_data"
    }
   ],
   "source": [
    "post <- extract.samples(model_male)\n",
    "p.award.male <- logistic(post$a + post$a_male)\n",
    "p.award.female <- logistic(post$a)\n",
    "diff.award <- p.award.male - p.award.female\n",
    "quantile(diff.award, c(0.025, 0.5, 0.975))"
   ]
  },
  {
   "attachments": {},
   "cell_type": "markdown",
   "metadata": {},
   "source": [
    "We see that as in the data, the model generated a gap between male and female of 0.028, which means that males are 3 percent more likely to be awarded than females. Next we also include the field of study. We consider the model ```model_field_male_field```."
   ]
  },
  {
   "cell_type": "code",
   "execution_count": 21,
   "metadata": {
    "vscode": {
     "languageId": "r"
    }
   },
   "outputs": [
    {
     "data": {
      "image/png": "[encoded data removed]",
      "text/plain": [
       "Plot with title \"Award probability gender difference per discipline\""
      ]
     },
     "metadata": {
      "image/png": {
       "height": 420,
       "width": 420
      }
     },
     "output_type": "display_data"
    }
   ],
   "source": [
    "post <- extract.samples(model_field_male_field)\n",
    "p.award.male <- logistic(post$a + post$a_male)\n",
    "p.award.female <- logistic(post$a)\n",
    "diff.award <- p.award.male - p.award.female\n",
    "\n",
    "means <- c()\n",
    "stds <- c()\n",
    "names <- c()\n",
    "for (index in 1:ncol(diff.award)) {\n",
    "\tmeans <- append(means, mean(diff.award[, index]))\n",
    "\tstds <- append(stds, sd(diff.award[, index]))\n",
    "\tnames <- append(names, e[e$field == index, ]$discipline)\n",
    "}\n",
    "\n",
    "scale <- 1.2\n",
    "offset <- 0.5\n",
    "\n",
    "par(mar = c(4, 9, 2, 2))\n",
    "bp <- barplot(means, names.arg = names, las=2, xpd = FALSE, horiz = TRUE, xlim = c(-0.2, 0.2))\n",
    "arrows(means+stds, (1:9) * scale - offset, means-stds, (1:9) * scale - offset, angle = 90, code = 3, length = 0.1, col = \"black\")\n",
    "title(\"Award probability gender difference per discipline\")"
   ]
  }
 ],
 "metadata": {
  "kernelspec": {
   "display_name": "R",
   "language": "R",
   "name": "ir"
  },
  "language_info": {
   "codemirror_mode": "r",
   "file_extension": ".r",
   "mimetype": "text/x-r-source",
   "name": "R",
   "pygments_lexer": "r",
   "version": "4.2.2"
  },
  "orig_nbformat": 4
 },
 "nbformat": 4,
 "nbformat_minor": 2
}
