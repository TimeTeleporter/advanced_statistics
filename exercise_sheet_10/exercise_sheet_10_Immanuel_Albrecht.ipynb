{
 "cells": [
  {
   "attachments": {},
   "cell_type": "markdown",
   "metadata": {},
   "source": [
    "# Exercise sheet 10\n",
    "\n",
    "## NWO grant applications\n",
    "\n",
    "### Exercise 1\n",
    "\n",
    "For this exercise, you will need to load the dataset NWOGrants from the rethinking package. This dataset reports on the funding outcomes of the Netherlands Organisation for Scientific Research (NWO) grant applications over the 2010-2012 period. One study used that dataset to investigate gender bias in the funding awards: https://www.pnas.org/content/112/40/12349. You can read there that a response to this paper has been formulated, as briefly discussed at the beginning of lecture 9. Note that in general less than half applications are awarded funding.\n",
    "\n",
    "Address the same question as the one in the paper by Lee and Ellemers by using binomial GLM to investigate potential gender bias on awards. Quantify the contrast between male and female applicants. In a second step, condition on the discipline as well. What are your conclusions? Should the NWO take specific measures for gender equity in general and across disciplines? Is there any excess variance in the data? If yes, can you elaborate on the nature of possible unaccounted sources?"
   ]
  },
  {
   "cell_type": "code",
   "execution_count": 24,
   "metadata": {
    "vscode": {
     "languageId": "r"
    }
   },
   "outputs": [],
   "source": [
    "library(rethinking)\n",
    "data(NWOGrants)\n",
    "d <- NWOGrants"
   ]
  },
  {
   "cell_type": "code",
   "execution_count": 77,
   "metadata": {
    "vscode": {
     "languageId": "r"
    }
   },
   "outputs": [
    {
     "data": {
      "text/html": [
       "<table class=\"dataframe\">\n",
       "<caption>A data.frame: 18 × 7</caption>\n",
       "<thead>\n",
       "\t<tr><th></th><th scope=col>discipline</th><th scope=col>gender</th><th scope=col>applications</th><th scope=col>awards</th><th scope=col>male</th><th scope=col>field</th><th scope=col>accept</th></tr>\n",
       "\t<tr><th></th><th scope=col>&lt;fct&gt;</th><th scope=col>&lt;fct&gt;</th><th scope=col>&lt;int&gt;</th><th scope=col>&lt;int&gt;</th><th scope=col>&lt;dbl&gt;</th><th scope=col>&lt;int&gt;</th><th scope=col>&lt;dbl&gt;</th></tr>\n",
       "</thead>\n",
       "<tbody>\n",
       "\t<tr><th scope=row>1</th><td>Chemical sciences  </td><td>m</td><td> 83</td><td>22</td><td>1</td><td>1</td><td>0.2650602</td></tr>\n",
       "\t<tr><th scope=row>2</th><td>Chemical sciences  </td><td>f</td><td> 39</td><td>10</td><td>0</td><td>1</td><td>0.2564103</td></tr>\n",
       "\t<tr><th scope=row>13</th><td>Earth/life sciences</td><td>m</td><td>156</td><td>38</td><td>1</td><td>2</td><td>0.2435897</td></tr>\n",
       "\t<tr><th scope=row>14</th><td>Earth/life sciences</td><td>f</td><td>126</td><td>18</td><td>0</td><td>2</td><td>0.1428571</td></tr>\n",
       "\t<tr><th scope=row>7</th><td>Humanities         </td><td>m</td><td>230</td><td>33</td><td>1</td><td>3</td><td>0.1434783</td></tr>\n",
       "\t<tr><th scope=row>8</th><td>Humanities         </td><td>f</td><td>166</td><td>32</td><td>0</td><td>3</td><td>0.1927711</td></tr>\n",
       "\t<tr><th scope=row>11</th><td>Interdisciplinary  </td><td>m</td><td>105</td><td>12</td><td>1</td><td>4</td><td>0.1142857</td></tr>\n",
       "\t<tr><th scope=row>12</th><td>Interdisciplinary  </td><td>f</td><td> 78</td><td>17</td><td>0</td><td>4</td><td>0.2179487</td></tr>\n",
       "\t<tr><th scope=row>17</th><td>Medical sciences   </td><td>m</td><td>245</td><td>46</td><td>1</td><td>5</td><td>0.1877551</td></tr>\n",
       "\t<tr><th scope=row>18</th><td>Medical sciences   </td><td>f</td><td>260</td><td>29</td><td>0</td><td>5</td><td>0.1115385</td></tr>\n",
       "\t<tr><th scope=row>3</th><td>Physical sciences  </td><td>m</td><td>135</td><td>26</td><td>1</td><td>6</td><td>0.1925926</td></tr>\n",
       "\t<tr><th scope=row>4</th><td>Physical sciences  </td><td>f</td><td> 39</td><td> 9</td><td>0</td><td>6</td><td>0.2307692</td></tr>\n",
       "\t<tr><th scope=row>5</th><td>Physics            </td><td>m</td><td> 67</td><td>18</td><td>1</td><td>7</td><td>0.2686567</td></tr>\n",
       "\t<tr><th scope=row>6</th><td>Physics            </td><td>f</td><td>  9</td><td> 2</td><td>0</td><td>7</td><td>0.2222222</td></tr>\n",
       "\t<tr><th scope=row>15</th><td>Social sciences    </td><td>m</td><td>425</td><td>65</td><td>1</td><td>8</td><td>0.1529412</td></tr>\n",
       "\t<tr><th scope=row>16</th><td>Social sciences    </td><td>f</td><td>409</td><td>47</td><td>0</td><td>8</td><td>0.1149144</td></tr>\n",
       "\t<tr><th scope=row>9</th><td>Technical sciences </td><td>m</td><td>189</td><td>30</td><td>1</td><td>9</td><td>0.1587302</td></tr>\n",
       "\t<tr><th scope=row>10</th><td>Technical sciences </td><td>f</td><td> 62</td><td>13</td><td>0</td><td>9</td><td>0.2096774</td></tr>\n",
       "</tbody>\n",
       "</table>\n"
      ],
      "text/latex": [
       "A data.frame: 18 × 7\n",
       "\\begin{tabular}{r|lllllll}\n",
       "  & discipline & gender & applications & awards & male & field & accept\\\\\n",
       "  & <fct> & <fct> & <int> & <int> & <dbl> & <int> & <dbl>\\\\\n",
       "\\hline\n",
       "\t1 & Chemical sciences   & m &  83 & 22 & 1 & 1 & 0.2650602\\\\\n",
       "\t2 & Chemical sciences   & f &  39 & 10 & 0 & 1 & 0.2564103\\\\\n",
       "\t13 & Earth/life sciences & m & 156 & 38 & 1 & 2 & 0.2435897\\\\\n",
       "\t14 & Earth/life sciences & f & 126 & 18 & 0 & 2 & 0.1428571\\\\\n",
       "\t7 & Humanities          & m & 230 & 33 & 1 & 3 & 0.1434783\\\\\n",
       "\t8 & Humanities          & f & 166 & 32 & 0 & 3 & 0.1927711\\\\\n",
       "\t11 & Interdisciplinary   & m & 105 & 12 & 1 & 4 & 0.1142857\\\\\n",
       "\t12 & Interdisciplinary   & f &  78 & 17 & 0 & 4 & 0.2179487\\\\\n",
       "\t17 & Medical sciences    & m & 245 & 46 & 1 & 5 & 0.1877551\\\\\n",
       "\t18 & Medical sciences    & f & 260 & 29 & 0 & 5 & 0.1115385\\\\\n",
       "\t3 & Physical sciences   & m & 135 & 26 & 1 & 6 & 0.1925926\\\\\n",
       "\t4 & Physical sciences   & f &  39 &  9 & 0 & 6 & 0.2307692\\\\\n",
       "\t5 & Physics             & m &  67 & 18 & 1 & 7 & 0.2686567\\\\\n",
       "\t6 & Physics             & f &   9 &  2 & 0 & 7 & 0.2222222\\\\\n",
       "\t15 & Social sciences     & m & 425 & 65 & 1 & 8 & 0.1529412\\\\\n",
       "\t16 & Social sciences     & f & 409 & 47 & 0 & 8 & 0.1149144\\\\\n",
       "\t9 & Technical sciences  & m & 189 & 30 & 1 & 9 & 0.1587302\\\\\n",
       "\t10 & Technical sciences  & f &  62 & 13 & 0 & 9 & 0.2096774\\\\\n",
       "\\end{tabular}\n"
      ],
      "text/markdown": [
       "\n",
       "A data.frame: 18 × 7\n",
       "\n",
       "| <!--/--> | discipline &lt;fct&gt; | gender &lt;fct&gt; | applications &lt;int&gt; | awards &lt;int&gt; | male &lt;dbl&gt; | field &lt;int&gt; | accept &lt;dbl&gt; |\n",
       "|---|---|---|---|---|---|---|---|\n",
       "| 1 | Chemical sciences   | m |  83 | 22 | 1 | 1 | 0.2650602 |\n",
       "| 2 | Chemical sciences   | f |  39 | 10 | 0 | 1 | 0.2564103 |\n",
       "| 13 | Earth/life sciences | m | 156 | 38 | 1 | 2 | 0.2435897 |\n",
       "| 14 | Earth/life sciences | f | 126 | 18 | 0 | 2 | 0.1428571 |\n",
       "| 7 | Humanities          | m | 230 | 33 | 1 | 3 | 0.1434783 |\n",
       "| 8 | Humanities          | f | 166 | 32 | 0 | 3 | 0.1927711 |\n",
       "| 11 | Interdisciplinary   | m | 105 | 12 | 1 | 4 | 0.1142857 |\n",
       "| 12 | Interdisciplinary   | f |  78 | 17 | 0 | 4 | 0.2179487 |\n",
       "| 17 | Medical sciences    | m | 245 | 46 | 1 | 5 | 0.1877551 |\n",
       "| 18 | Medical sciences    | f | 260 | 29 | 0 | 5 | 0.1115385 |\n",
       "| 3 | Physical sciences   | m | 135 | 26 | 1 | 6 | 0.1925926 |\n",
       "| 4 | Physical sciences   | f |  39 |  9 | 0 | 6 | 0.2307692 |\n",
       "| 5 | Physics             | m |  67 | 18 | 1 | 7 | 0.2686567 |\n",
       "| 6 | Physics             | f |   9 |  2 | 0 | 7 | 0.2222222 |\n",
       "| 15 | Social sciences     | m | 425 | 65 | 1 | 8 | 0.1529412 |\n",
       "| 16 | Social sciences     | f | 409 | 47 | 0 | 8 | 0.1149144 |\n",
       "| 9 | Technical sciences  | m | 189 | 30 | 1 | 9 | 0.1587302 |\n",
       "| 10 | Technical sciences  | f |  62 | 13 | 0 | 9 | 0.2096774 |\n",
       "\n"
      ],
      "text/plain": [
       "   discipline          gender applications awards male field accept   \n",
       "1  Chemical sciences   m       83          22     1    1     0.2650602\n",
       "2  Chemical sciences   f       39          10     0    1     0.2564103\n",
       "13 Earth/life sciences m      156          38     1    2     0.2435897\n",
       "14 Earth/life sciences f      126          18     0    2     0.1428571\n",
       "7  Humanities          m      230          33     1    3     0.1434783\n",
       "8  Humanities          f      166          32     0    3     0.1927711\n",
       "11 Interdisciplinary   m      105          12     1    4     0.1142857\n",
       "12 Interdisciplinary   f       78          17     0    4     0.2179487\n",
       "17 Medical sciences    m      245          46     1    5     0.1877551\n",
       "18 Medical sciences    f      260          29     0    5     0.1115385\n",
       "3  Physical sciences   m      135          26     1    6     0.1925926\n",
       "4  Physical sciences   f       39           9     0    6     0.2307692\n",
       "5  Physics             m       67          18     1    7     0.2686567\n",
       "6  Physics             f        9           2     0    7     0.2222222\n",
       "15 Social sciences     m      425          65     1    8     0.1529412\n",
       "16 Social sciences     f      409          47     0    8     0.1149144\n",
       "9  Technical sciences  m      189          30     1    9     0.1587302\n",
       "10 Technical sciences  f       62          13     0    9     0.2096774"
      ]
     },
     "metadata": {},
     "output_type": "display_data"
    }
   ],
   "source": [
    "d$male <- as.integer(d$gender) - 1\n",
    "d$field <- as.integer(d$discipline)\n",
    "d$accept <- d$awards / d$applications\n",
    "d <- d[order(d$field), ]\n",
    "d"
   ]
  },
  {
   "cell_type": "code",
   "execution_count": 87,
   "metadata": {
    "vscode": {
     "languageId": "r"
    }
   },
   "outputs": [
    {
     "data": {
      "image/png": "[encoded data removed]",
      "text/plain": [
       "Plot with title \"Acceptance rate per discipline and gender\""
      ]
     },
     "metadata": {
      "image/png": {
       "height": 420,
       "width": 420
      }
     },
     "output_type": "display_data"
    }
   ],
   "source": [
    "par(mar = c(4, 9, 2, 2))\n",
    "barplot(rev(d$accept), names.arg = rev(d$discipline), las=2, xlim = c(0.10, 0.30), xpd = FALSE, horiz = TRUE, col = ifelse(d$male, \"blue\", \"red\"))\n",
    "title(\"Acceptance rate per discipline and gender\")\n",
    "legend(\"right\", c(\"male\", \"female\"), fill = c(\"blue\", \"red\"))"
   ]
  },
  {
   "cell_type": "code",
   "execution_count": 34,
   "metadata": {
    "vscode": {
     "languageId": "r"
    }
   },
   "outputs": [
    {
     "data": {
      "text/html": [
       "<table class=\"dataframe\">\n",
       "<caption>A data.frame: 9 × 5</caption>\n",
       "<thead>\n",
       "\t<tr><th></th><th scope=col>discipline</th><th scope=col>applications</th><th scope=col>awards</th><th scope=col>field</th><th scope=col>accept</th></tr>\n",
       "\t<tr><th></th><th scope=col>&lt;chr&gt;</th><th scope=col>&lt;int&gt;</th><th scope=col>&lt;int&gt;</th><th scope=col>&lt;int&gt;</th><th scope=col>&lt;dbl&gt;</th></tr>\n",
       "</thead>\n",
       "<tbody>\n",
       "\t<tr><th scope=row>1</th><td>Chemical sciences  </td><td>122</td><td> 32</td><td>1</td><td>0.2622951</td></tr>\n",
       "\t<tr><th scope=row>2</th><td>Earth/life sciences</td><td>282</td><td> 56</td><td>2</td><td>0.1985816</td></tr>\n",
       "\t<tr><th scope=row>3</th><td>Humanities         </td><td>396</td><td> 65</td><td>3</td><td>0.1641414</td></tr>\n",
       "\t<tr><th scope=row>4</th><td>Interdisciplinary  </td><td>183</td><td> 29</td><td>4</td><td>0.1584699</td></tr>\n",
       "\t<tr><th scope=row>5</th><td>Medical sciences   </td><td>505</td><td> 75</td><td>5</td><td>0.1485149</td></tr>\n",
       "\t<tr><th scope=row>6</th><td>Physical sciences  </td><td>174</td><td> 35</td><td>6</td><td>0.2011494</td></tr>\n",
       "\t<tr><th scope=row>7</th><td>Physics            </td><td> 76</td><td> 20</td><td>7</td><td>0.2631579</td></tr>\n",
       "\t<tr><th scope=row>8</th><td>Social sciences    </td><td>834</td><td>112</td><td>8</td><td>0.1342926</td></tr>\n",
       "\t<tr><th scope=row>9</th><td>Technical sciences </td><td>251</td><td> 43</td><td>9</td><td>0.1713147</td></tr>\n",
       "</tbody>\n",
       "</table>\n"
      ],
      "text/latex": [
       "A data.frame: 9 × 5\n",
       "\\begin{tabular}{r|lllll}\n",
       "  & discipline & applications & awards & field & accept\\\\\n",
       "  & <chr> & <int> & <int> & <int> & <dbl>\\\\\n",
       "\\hline\n",
       "\t1 & Chemical sciences   & 122 &  32 & 1 & 0.2622951\\\\\n",
       "\t2 & Earth/life sciences & 282 &  56 & 2 & 0.1985816\\\\\n",
       "\t3 & Humanities          & 396 &  65 & 3 & 0.1641414\\\\\n",
       "\t4 & Interdisciplinary   & 183 &  29 & 4 & 0.1584699\\\\\n",
       "\t5 & Medical sciences    & 505 &  75 & 5 & 0.1485149\\\\\n",
       "\t6 & Physical sciences   & 174 &  35 & 6 & 0.2011494\\\\\n",
       "\t7 & Physics             &  76 &  20 & 7 & 0.2631579\\\\\n",
       "\t8 & Social sciences     & 834 & 112 & 8 & 0.1342926\\\\\n",
       "\t9 & Technical sciences  & 251 &  43 & 9 & 0.1713147\\\\\n",
       "\\end{tabular}\n"
      ],
      "text/markdown": [
       "\n",
       "A data.frame: 9 × 5\n",
       "\n",
       "| <!--/--> | discipline &lt;chr&gt; | applications &lt;int&gt; | awards &lt;int&gt; | field &lt;int&gt; | accept &lt;dbl&gt; |\n",
       "|---|---|---|---|---|---|\n",
       "| 1 | Chemical sciences   | 122 |  32 | 1 | 0.2622951 |\n",
       "| 2 | Earth/life sciences | 282 |  56 | 2 | 0.1985816 |\n",
       "| 3 | Humanities          | 396 |  65 | 3 | 0.1641414 |\n",
       "| 4 | Interdisciplinary   | 183 |  29 | 4 | 0.1584699 |\n",
       "| 5 | Medical sciences    | 505 |  75 | 5 | 0.1485149 |\n",
       "| 6 | Physical sciences   | 174 |  35 | 6 | 0.2011494 |\n",
       "| 7 | Physics             |  76 |  20 | 7 | 0.2631579 |\n",
       "| 8 | Social sciences     | 834 | 112 | 8 | 0.1342926 |\n",
       "| 9 | Technical sciences  | 251 |  43 | 9 | 0.1713147 |\n",
       "\n"
      ],
      "text/plain": [
       "  discipline          applications awards field accept   \n",
       "1 Chemical sciences   122           32    1     0.2622951\n",
       "2 Earth/life sciences 282           56    2     0.1985816\n",
       "3 Humanities          396           65    3     0.1641414\n",
       "4 Interdisciplinary   183           29    4     0.1584699\n",
       "5 Medical sciences    505           75    5     0.1485149\n",
       "6 Physical sciences   174           35    6     0.2011494\n",
       "7 Physics              76           20    7     0.2631579\n",
       "8 Social sciences     834          112    8     0.1342926\n",
       "9 Technical sciences  251           43    9     0.1713147"
      ]
     },
     "metadata": {},
     "output_type": "display_data"
    }
   ],
   "source": [
    "e <- data.frame(discipline = character(), applications = integer(), awards = integer(), field = integer(), accept = double())\n",
    "for (field in 1:max(d$field)) {\n",
    "\tdat <- d[d$field == field, ]\n",
    "\tdiscipline <- as.character(dat$discipline[1])\n",
    "\tapplications <- sum(dat$applications)\n",
    "\tawards <- sum(dat$awards)\n",
    "\taccept <- awards / applications\n",
    "\te[nrow(e) + 1, ] <- list(discipline, applications, awards, field, accept)\n",
    "}\n",
    "e"
   ]
  },
  {
   "cell_type": "code",
   "execution_count": 72,
   "metadata": {
    "vscode": {
     "languageId": "r"
    }
   },
   "outputs": [
    {
     "data": {
      "image/png": "[encoded data removed]",
      "text/plain": [
       "Plot with title \"Acceptance rate per discipline\""
      ]
     },
     "metadata": {
      "image/png": {
       "height": 420,
       "width": 420
      }
     },
     "output_type": "display_data"
    }
   ],
   "source": [
    "par(mar = c(4, 9, 2, 2))\n",
    "barplot(e$accept, names.arg = e$discipline, las=2, xlim = c(0.10, 0.30), xpd = FALSE, horiz = TRUE)\n",
    "title(\"Acceptance rate per discipline\")"
   ]
  }
 ],
 "metadata": {
  "kernelspec": {
   "display_name": "R",
   "language": "R",
   "name": "ir"
  },
  "language_info": {
   "codemirror_mode": "r",
   "file_extension": ".r",
   "mimetype": "text/x-r-source",
   "name": "R",
   "pygments_lexer": "r",
   "version": "4.2.2"
  },
  "orig_nbformat": 4
 },
 "nbformat": 4,
 "nbformat_minor": 2
}
