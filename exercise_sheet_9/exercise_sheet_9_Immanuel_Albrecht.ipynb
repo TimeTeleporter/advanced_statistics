{
 "cells": [
  {
   "attachments": {},
   "cell_type": "markdown",
   "metadata": {},
   "source": [
    "# Exercise sheet 9 - Wine tasting\n",
    "\n",
    "For this exercise, you will need to load the dataset (Wines2012) from the rethinking package that we discussed already\n",
    "in the class."
   ]
  },
  {
   "cell_type": "code",
   "execution_count": 1,
   "metadata": {
    "vscode": {
     "languageId": "r"
    }
   },
   "outputs": [
    {
     "name": "stderr",
     "output_type": "stream",
     "text": [
      "Lade nötiges Paket: rstan\n",
      "\n",
      "Lade nötiges Paket: StanHeaders\n",
      "\n",
      "\n",
      "rstan version 2.26.16 (Stan version 2.26.1)\n",
      "\n",
      "\n",
      "For execution on a local, multicore CPU with excess RAM we recommend calling\n",
      "options(mc.cores = parallel::detectCores()).\n",
      "To avoid recompilation of unchanged Stan programs, we recommend calling\n",
      "rstan_options(auto_write = TRUE)\n",
      "For within-chain threading using `reduce_sum()` or `map_rect()` Stan functions,\n",
      "change `threads_per_chain` option:\n",
      "rstan_options(threads_per_chain = 1)\n",
      "\n",
      "\n",
      "Do not specify '-march=native' in 'LOCAL_CPPFLAGS' or a Makevars file\n",
      "\n",
      "Lade nötiges Paket: cmdstanr\n",
      "\n",
      "This is cmdstanr version 0.5.3\n",
      "\n",
      "- CmdStanR documentation and vignettes: mc-stan.org/cmdstanr\n",
      "\n",
      "- CmdStan path: D:/Users/Immanuel/Documents/.cmdstan/cmdstan-2.31.0\n",
      "\n",
      "- CmdStan version: 2.31.0\n",
      "\n",
      "\n",
      "A newer version of CmdStan is available. See ?install_cmdstan() to install it.\n",
      "To disable this check set option or environment variable CMDSTANR_NO_VER_CHECK=TRUE.\n",
      "\n",
      "Lade nötiges Paket: parallel\n",
      "\n",
      "rethinking (Version 2.31)\n",
      "\n",
      "\n",
      "Attache Paket: 'rethinking'\n",
      "\n",
      "\n",
      "Das folgende Objekt ist maskiert 'package:rstan':\n",
      "\n",
      "    stan\n",
      "\n",
      "\n",
      "Das folgende Objekt ist maskiert 'package:stats':\n",
      "\n",
      "    rstudent\n",
      "\n",
      "\n"
     ]
    }
   ],
   "source": [
    "library(rethinking)\n",
    "data(Wines2012)\n",
    "d <- Wines2012"
   ]
  },
  {
   "attachments": {},
   "cell_type": "markdown",
   "metadata": {},
   "source": [
    "This dataset comes from the judgment of Princeton, which was a wine tasting event that took place in 2012 in\n",
    "Princeton (NJ, USA). The goal was to compare French wines to the ones produced by the New Jersey wine industry.\n",
    "This dataset contains the following variables that we will be using:\n",
    "\n",
    "- score: rating assigned by each judge to each wine.\n",
    "- wine: wine id\n",
    "- judge: judge name\n",
    "- flight: red or white wine\n",
    "- wine.amer: american or french wine\n",
    "- judge.amer: american or french (or belgian) judge\n",
    "\n",
    "The goal is to model the score variable (standardise it to facilitate the exercises below) based on the predictors listed\n",
    "above. Mention clearly the priors you are using throughout the exercises."
   ]
  },
  {
   "attachments": {},
   "cell_type": "markdown",
   "metadata": {},
   "source": [
    "## Exercise 1\n",
    "\n",
    "Focus on the interaction between the variables judge and wine. Use indices for these two variables, e.g. judgeid <- as.integer(d$judge). Start by using a simple linear model to measure the relationship between the score and the 9 judges and 20 wines. Use a figure to summarise the model output. Is there any visible pattern amongst the judges in the one hand and amongst the wines in the other hand? Are there wines that consistently got low/high ratings? Are there judges that are more severe than others?"
   ]
  },
  {
   "cell_type": "code",
   "execution_count": 2,
   "metadata": {
    "vscode": {
     "languageId": "r"
    }
   },
   "outputs": [],
   "source": [
    "d$judgeid <- as.integer(d$judge)\n",
    "# d$judgeid <- scale(d$judgeid)\n",
    "d$wineid <- as.integer(d$wine)\n",
    "# d$wineid <- scale(d$wineid)\n",
    "d.score.max <- max(d$score)\n",
    "# d$score <- d$score / d.score.max\n",
    "d$flightid <- as.integer(d$flight) - 1"
   ]
  },
  {
   "cell_type": "code",
   "execution_count": 3,
   "metadata": {
    "vscode": {
     "languageId": "r"
    }
   },
   "outputs": [
    {
     "data": {
      "image/png": "[encoded data removed]",
      "text/plain": [
       "plot without title"
      ]
     },
     "metadata": {
      "image/png": {
       "height": 420,
       "width": 420
      }
     },
     "output_type": "display_data"
    },
    {
     "data": {
      "text/html": [
       "<table class=\"dataframe\">\n",
       "<caption>A data.frame: 180 × 9</caption>\n",
       "<thead>\n",
       "\t<tr><th scope=col>judge</th><th scope=col>flight</th><th scope=col>wine</th><th scope=col>score</th><th scope=col>wine.amer</th><th scope=col>judge.amer</th><th scope=col>judgeid</th><th scope=col>wineid</th><th scope=col>flightid</th></tr>\n",
       "\t<tr><th scope=col>&lt;fct&gt;</th><th scope=col>&lt;fct&gt;</th><th scope=col>&lt;fct&gt;</th><th scope=col>&lt;dbl&gt;</th><th scope=col>&lt;int&gt;</th><th scope=col>&lt;int&gt;</th><th scope=col>&lt;int&gt;</th><th scope=col>&lt;int&gt;</th><th scope=col>&lt;dbl&gt;</th></tr>\n",
       "</thead>\n",
       "<tbody>\n",
       "\t<tr><td>Jean-M Cardebat</td><td>white</td><td>A1</td><td>10.0</td><td>1</td><td>0</td><td>4</td><td> 1</td><td>1</td></tr>\n",
       "\t<tr><td>Jean-M Cardebat</td><td>white</td><td>B1</td><td>13.0</td><td>1</td><td>0</td><td>4</td><td> 3</td><td>1</td></tr>\n",
       "\t<tr><td>Jean-M Cardebat</td><td>white</td><td>C1</td><td>14.0</td><td>0</td><td>0</td><td>4</td><td> 5</td><td>1</td></tr>\n",
       "\t<tr><td>Jean-M Cardebat</td><td>white</td><td>D1</td><td>15.0</td><td>0</td><td>0</td><td>4</td><td> 7</td><td>1</td></tr>\n",
       "\t<tr><td>Jean-M Cardebat</td><td>white</td><td>E1</td><td> 8.0</td><td>1</td><td>0</td><td>4</td><td> 9</td><td>1</td></tr>\n",
       "\t<tr><td>Jean-M Cardebat</td><td>white</td><td>F1</td><td>13.0</td><td>1</td><td>0</td><td>4</td><td>11</td><td>1</td></tr>\n",
       "\t<tr><td>Jean-M Cardebat</td><td>white</td><td>G1</td><td>15.0</td><td>1</td><td>0</td><td>4</td><td>13</td><td>1</td></tr>\n",
       "\t<tr><td>Jean-M Cardebat</td><td>white</td><td>H1</td><td>11.0</td><td>0</td><td>0</td><td>4</td><td>15</td><td>1</td></tr>\n",
       "\t<tr><td>Jean-M Cardebat</td><td>white</td><td>I1</td><td> 9.0</td><td>1</td><td>0</td><td>4</td><td>17</td><td>1</td></tr>\n",
       "\t<tr><td>Jean-M Cardebat</td><td>white</td><td>J1</td><td>12.0</td><td>0</td><td>0</td><td>4</td><td>19</td><td>1</td></tr>\n",
       "\t<tr><td>Tyler Colman   </td><td>white</td><td>A1</td><td>16.0</td><td>1</td><td>1</td><td>9</td><td> 1</td><td>1</td></tr>\n",
       "\t<tr><td>Tyler Colman   </td><td>white</td><td>B1</td><td>14.0</td><td>1</td><td>1</td><td>9</td><td> 3</td><td>1</td></tr>\n",
       "\t<tr><td>Tyler Colman   </td><td>white</td><td>C1</td><td>14.0</td><td>0</td><td>1</td><td>9</td><td> 5</td><td>1</td></tr>\n",
       "\t<tr><td>Tyler Colman   </td><td>white</td><td>D1</td><td>16.0</td><td>0</td><td>1</td><td>9</td><td> 7</td><td>1</td></tr>\n",
       "\t<tr><td>Tyler Colman   </td><td>white</td><td>E1</td><td>12.0</td><td>1</td><td>1</td><td>9</td><td> 9</td><td>1</td></tr>\n",
       "\t<tr><td>Tyler Colman   </td><td>white</td><td>F1</td><td>11.0</td><td>1</td><td>1</td><td>9</td><td>11</td><td>1</td></tr>\n",
       "\t<tr><td>Tyler Colman   </td><td>white</td><td>G1</td><td>11.0</td><td>1</td><td>1</td><td>9</td><td>13</td><td>1</td></tr>\n",
       "\t<tr><td>Tyler Colman   </td><td>white</td><td>H1</td><td>14.0</td><td>0</td><td>1</td><td>9</td><td>15</td><td>1</td></tr>\n",
       "\t<tr><td>Tyler Colman   </td><td>white</td><td>I1</td><td>11.0</td><td>1</td><td>1</td><td>9</td><td>17</td><td>1</td></tr>\n",
       "\t<tr><td>Tyler Colman   </td><td>white</td><td>J1</td><td>14.0</td><td>0</td><td>1</td><td>9</td><td>19</td><td>1</td></tr>\n",
       "\t<tr><td>John Foy       </td><td>white</td><td>A1</td><td>16.0</td><td>1</td><td>1</td><td>5</td><td> 1</td><td>1</td></tr>\n",
       "\t<tr><td>John Foy       </td><td>white</td><td>B1</td><td>17.0</td><td>1</td><td>1</td><td>5</td><td> 3</td><td>1</td></tr>\n",
       "\t<tr><td>John Foy       </td><td>white</td><td>C1</td><td>16.0</td><td>0</td><td>1</td><td>5</td><td> 5</td><td>1</td></tr>\n",
       "\t<tr><td>John Foy       </td><td>white</td><td>D1</td><td>15.0</td><td>0</td><td>1</td><td>5</td><td> 7</td><td>1</td></tr>\n",
       "\t<tr><td>John Foy       </td><td>white</td><td>E1</td><td>14.5</td><td>1</td><td>1</td><td>5</td><td> 9</td><td>1</td></tr>\n",
       "\t<tr><td>John Foy       </td><td>white</td><td>F1</td><td>14.5</td><td>1</td><td>1</td><td>5</td><td>11</td><td>1</td></tr>\n",
       "\t<tr><td>John Foy       </td><td>white</td><td>G1</td><td>16.0</td><td>1</td><td>1</td><td>5</td><td>13</td><td>1</td></tr>\n",
       "\t<tr><td>John Foy       </td><td>white</td><td>H1</td><td>17.0</td><td>0</td><td>1</td><td>5</td><td>15</td><td>1</td></tr>\n",
       "\t<tr><td>John Foy       </td><td>white</td><td>I1</td><td>15.0</td><td>1</td><td>1</td><td>5</td><td>17</td><td>1</td></tr>\n",
       "\t<tr><td>John Foy       </td><td>white</td><td>J1</td><td>17.5</td><td>0</td><td>1</td><td>5</td><td>19</td><td>1</td></tr>\n",
       "\t<tr><td>⋮</td><td>⋮</td><td>⋮</td><td>⋮</td><td>⋮</td><td>⋮</td><td>⋮</td><td>⋮</td><td>⋮</td></tr>\n",
       "\t<tr><td>Daniele Meulder</td><td>red</td><td>A2</td><td>14.0</td><td>0</td><td>0</td><td>1</td><td> 2</td><td>0</td></tr>\n",
       "\t<tr><td>Daniele Meulder</td><td>red</td><td>B2</td><td>16.0</td><td>0</td><td>0</td><td>1</td><td> 4</td><td>0</td></tr>\n",
       "\t<tr><td>Daniele Meulder</td><td>red</td><td>C2</td><td>11.0</td><td>1</td><td>0</td><td>1</td><td> 6</td><td>0</td></tr>\n",
       "\t<tr><td>Daniele Meulder</td><td>red</td><td>D2</td><td>16.0</td><td>1</td><td>0</td><td>1</td><td> 8</td><td>0</td></tr>\n",
       "\t<tr><td>Daniele Meulder</td><td>red</td><td>E2</td><td>14.0</td><td>1</td><td>0</td><td>1</td><td>10</td><td>0</td></tr>\n",
       "\t<tr><td>Daniele Meulder</td><td>red</td><td>F2</td><td>15.0</td><td>1</td><td>0</td><td>1</td><td>12</td><td>0</td></tr>\n",
       "\t<tr><td>Daniele Meulder</td><td>red</td><td>G2</td><td>13.0</td><td>0</td><td>0</td><td>1</td><td>14</td><td>0</td></tr>\n",
       "\t<tr><td>Daniele Meulder</td><td>red</td><td>H2</td><td>11.0</td><td>1</td><td>0</td><td>1</td><td>16</td><td>0</td></tr>\n",
       "\t<tr><td>Daniele Meulder</td><td>red</td><td>I2</td><td>10.0</td><td>1</td><td>0</td><td>1</td><td>18</td><td>0</td></tr>\n",
       "\t<tr><td>Daniele Meulder</td><td>red</td><td>J2</td><td>15.0</td><td>0</td><td>0</td><td>1</td><td>20</td><td>0</td></tr>\n",
       "\t<tr><td>Jamal Rayyis   </td><td>red</td><td>A2</td><td>15.0</td><td>0</td><td>0</td><td>3</td><td> 2</td><td>0</td></tr>\n",
       "\t<tr><td>Jamal Rayyis   </td><td>red</td><td>B2</td><td>19.5</td><td>0</td><td>0</td><td>3</td><td> 4</td><td>0</td></tr>\n",
       "\t<tr><td>Jamal Rayyis   </td><td>red</td><td>C2</td><td>14.0</td><td>1</td><td>0</td><td>3</td><td> 6</td><td>0</td></tr>\n",
       "\t<tr><td>Jamal Rayyis   </td><td>red</td><td>D2</td><td>12.0</td><td>1</td><td>0</td><td>3</td><td> 8</td><td>0</td></tr>\n",
       "\t<tr><td>Jamal Rayyis   </td><td>red</td><td>E2</td><td>13.0</td><td>1</td><td>0</td><td>3</td><td>10</td><td>0</td></tr>\n",
       "\t<tr><td>Jamal Rayyis   </td><td>red</td><td>F2</td><td>16.0</td><td>1</td><td>0</td><td>3</td><td>12</td><td>0</td></tr>\n",
       "\t<tr><td>Jamal Rayyis   </td><td>red</td><td>G2</td><td>14.5</td><td>0</td><td>0</td><td>3</td><td>14</td><td>0</td></tr>\n",
       "\t<tr><td>Jamal Rayyis   </td><td>red</td><td>H2</td><td>15.0</td><td>1</td><td>0</td><td>3</td><td>16</td><td>0</td></tr>\n",
       "\t<tr><td>Jamal Rayyis   </td><td>red</td><td>I2</td><td>16.0</td><td>1</td><td>0</td><td>3</td><td>18</td><td>0</td></tr>\n",
       "\t<tr><td>Jamal Rayyis   </td><td>red</td><td>J2</td><td>16.0</td><td>0</td><td>0</td><td>3</td><td>20</td><td>0</td></tr>\n",
       "\t<tr><td>Francis Schott </td><td>red</td><td>A2</td><td>19.0</td><td>0</td><td>1</td><td>2</td><td> 2</td><td>0</td></tr>\n",
       "\t<tr><td>Francis Schott </td><td>red</td><td>B2</td><td>18.0</td><td>0</td><td>1</td><td>2</td><td> 4</td><td>0</td></tr>\n",
       "\t<tr><td>Francis Schott </td><td>red</td><td>C2</td><td> 8.0</td><td>1</td><td>1</td><td>2</td><td> 6</td><td>0</td></tr>\n",
       "\t<tr><td>Francis Schott </td><td>red</td><td>D2</td><td>15.0</td><td>1</td><td>1</td><td>2</td><td> 8</td><td>0</td></tr>\n",
       "\t<tr><td>Francis Schott </td><td>red</td><td>E2</td><td>15.0</td><td>1</td><td>1</td><td>2</td><td>10</td><td>0</td></tr>\n",
       "\t<tr><td>Francis Schott </td><td>red</td><td>F2</td><td>12.0</td><td>1</td><td>1</td><td>2</td><td>12</td><td>0</td></tr>\n",
       "\t<tr><td>Francis Schott </td><td>red</td><td>G2</td><td>15.0</td><td>0</td><td>1</td><td>2</td><td>14</td><td>0</td></tr>\n",
       "\t<tr><td>Francis Schott </td><td>red</td><td>H2</td><td>16.0</td><td>1</td><td>1</td><td>2</td><td>16</td><td>0</td></tr>\n",
       "\t<tr><td>Francis Schott </td><td>red</td><td>I2</td><td> 7.0</td><td>1</td><td>1</td><td>2</td><td>18</td><td>0</td></tr>\n",
       "\t<tr><td>Francis Schott </td><td>red</td><td>J2</td><td>17.0</td><td>0</td><td>1</td><td>2</td><td>20</td><td>0</td></tr>\n",
       "</tbody>\n",
       "</table>\n"
      ],
      "text/latex": [
       "A data.frame: 180 × 9\n",
       "\\begin{tabular}{lllllllll}\n",
       " judge & flight & wine & score & wine.amer & judge.amer & judgeid & wineid & flightid\\\\\n",
       " <fct> & <fct> & <fct> & <dbl> & <int> & <int> & <int> & <int> & <dbl>\\\\\n",
       "\\hline\n",
       "\t Jean-M Cardebat & white & A1 & 10.0 & 1 & 0 & 4 &  1 & 1\\\\\n",
       "\t Jean-M Cardebat & white & B1 & 13.0 & 1 & 0 & 4 &  3 & 1\\\\\n",
       "\t Jean-M Cardebat & white & C1 & 14.0 & 0 & 0 & 4 &  5 & 1\\\\\n",
       "\t Jean-M Cardebat & white & D1 & 15.0 & 0 & 0 & 4 &  7 & 1\\\\\n",
       "\t Jean-M Cardebat & white & E1 &  8.0 & 1 & 0 & 4 &  9 & 1\\\\\n",
       "\t Jean-M Cardebat & white & F1 & 13.0 & 1 & 0 & 4 & 11 & 1\\\\\n",
       "\t Jean-M Cardebat & white & G1 & 15.0 & 1 & 0 & 4 & 13 & 1\\\\\n",
       "\t Jean-M Cardebat & white & H1 & 11.0 & 0 & 0 & 4 & 15 & 1\\\\\n",
       "\t Jean-M Cardebat & white & I1 &  9.0 & 1 & 0 & 4 & 17 & 1\\\\\n",
       "\t Jean-M Cardebat & white & J1 & 12.0 & 0 & 0 & 4 & 19 & 1\\\\\n",
       "\t Tyler Colman    & white & A1 & 16.0 & 1 & 1 & 9 &  1 & 1\\\\\n",
       "\t Tyler Colman    & white & B1 & 14.0 & 1 & 1 & 9 &  3 & 1\\\\\n",
       "\t Tyler Colman    & white & C1 & 14.0 & 0 & 1 & 9 &  5 & 1\\\\\n",
       "\t Tyler Colman    & white & D1 & 16.0 & 0 & 1 & 9 &  7 & 1\\\\\n",
       "\t Tyler Colman    & white & E1 & 12.0 & 1 & 1 & 9 &  9 & 1\\\\\n",
       "\t Tyler Colman    & white & F1 & 11.0 & 1 & 1 & 9 & 11 & 1\\\\\n",
       "\t Tyler Colman    & white & G1 & 11.0 & 1 & 1 & 9 & 13 & 1\\\\\n",
       "\t Tyler Colman    & white & H1 & 14.0 & 0 & 1 & 9 & 15 & 1\\\\\n",
       "\t Tyler Colman    & white & I1 & 11.0 & 1 & 1 & 9 & 17 & 1\\\\\n",
       "\t Tyler Colman    & white & J1 & 14.0 & 0 & 1 & 9 & 19 & 1\\\\\n",
       "\t John Foy        & white & A1 & 16.0 & 1 & 1 & 5 &  1 & 1\\\\\n",
       "\t John Foy        & white & B1 & 17.0 & 1 & 1 & 5 &  3 & 1\\\\\n",
       "\t John Foy        & white & C1 & 16.0 & 0 & 1 & 5 &  5 & 1\\\\\n",
       "\t John Foy        & white & D1 & 15.0 & 0 & 1 & 5 &  7 & 1\\\\\n",
       "\t John Foy        & white & E1 & 14.5 & 1 & 1 & 5 &  9 & 1\\\\\n",
       "\t John Foy        & white & F1 & 14.5 & 1 & 1 & 5 & 11 & 1\\\\\n",
       "\t John Foy        & white & G1 & 16.0 & 1 & 1 & 5 & 13 & 1\\\\\n",
       "\t John Foy        & white & H1 & 17.0 & 0 & 1 & 5 & 15 & 1\\\\\n",
       "\t John Foy        & white & I1 & 15.0 & 1 & 1 & 5 & 17 & 1\\\\\n",
       "\t John Foy        & white & J1 & 17.5 & 0 & 1 & 5 & 19 & 1\\\\\n",
       "\t ⋮ & ⋮ & ⋮ & ⋮ & ⋮ & ⋮ & ⋮ & ⋮ & ⋮\\\\\n",
       "\t Daniele Meulder & red & A2 & 14.0 & 0 & 0 & 1 &  2 & 0\\\\\n",
       "\t Daniele Meulder & red & B2 & 16.0 & 0 & 0 & 1 &  4 & 0\\\\\n",
       "\t Daniele Meulder & red & C2 & 11.0 & 1 & 0 & 1 &  6 & 0\\\\\n",
       "\t Daniele Meulder & red & D2 & 16.0 & 1 & 0 & 1 &  8 & 0\\\\\n",
       "\t Daniele Meulder & red & E2 & 14.0 & 1 & 0 & 1 & 10 & 0\\\\\n",
       "\t Daniele Meulder & red & F2 & 15.0 & 1 & 0 & 1 & 12 & 0\\\\\n",
       "\t Daniele Meulder & red & G2 & 13.0 & 0 & 0 & 1 & 14 & 0\\\\\n",
       "\t Daniele Meulder & red & H2 & 11.0 & 1 & 0 & 1 & 16 & 0\\\\\n",
       "\t Daniele Meulder & red & I2 & 10.0 & 1 & 0 & 1 & 18 & 0\\\\\n",
       "\t Daniele Meulder & red & J2 & 15.0 & 0 & 0 & 1 & 20 & 0\\\\\n",
       "\t Jamal Rayyis    & red & A2 & 15.0 & 0 & 0 & 3 &  2 & 0\\\\\n",
       "\t Jamal Rayyis    & red & B2 & 19.5 & 0 & 0 & 3 &  4 & 0\\\\\n",
       "\t Jamal Rayyis    & red & C2 & 14.0 & 1 & 0 & 3 &  6 & 0\\\\\n",
       "\t Jamal Rayyis    & red & D2 & 12.0 & 1 & 0 & 3 &  8 & 0\\\\\n",
       "\t Jamal Rayyis    & red & E2 & 13.0 & 1 & 0 & 3 & 10 & 0\\\\\n",
       "\t Jamal Rayyis    & red & F2 & 16.0 & 1 & 0 & 3 & 12 & 0\\\\\n",
       "\t Jamal Rayyis    & red & G2 & 14.5 & 0 & 0 & 3 & 14 & 0\\\\\n",
       "\t Jamal Rayyis    & red & H2 & 15.0 & 1 & 0 & 3 & 16 & 0\\\\\n",
       "\t Jamal Rayyis    & red & I2 & 16.0 & 1 & 0 & 3 & 18 & 0\\\\\n",
       "\t Jamal Rayyis    & red & J2 & 16.0 & 0 & 0 & 3 & 20 & 0\\\\\n",
       "\t Francis Schott  & red & A2 & 19.0 & 0 & 1 & 2 &  2 & 0\\\\\n",
       "\t Francis Schott  & red & B2 & 18.0 & 0 & 1 & 2 &  4 & 0\\\\\n",
       "\t Francis Schott  & red & C2 &  8.0 & 1 & 1 & 2 &  6 & 0\\\\\n",
       "\t Francis Schott  & red & D2 & 15.0 & 1 & 1 & 2 &  8 & 0\\\\\n",
       "\t Francis Schott  & red & E2 & 15.0 & 1 & 1 & 2 & 10 & 0\\\\\n",
       "\t Francis Schott  & red & F2 & 12.0 & 1 & 1 & 2 & 12 & 0\\\\\n",
       "\t Francis Schott  & red & G2 & 15.0 & 0 & 1 & 2 & 14 & 0\\\\\n",
       "\t Francis Schott  & red & H2 & 16.0 & 1 & 1 & 2 & 16 & 0\\\\\n",
       "\t Francis Schott  & red & I2 &  7.0 & 1 & 1 & 2 & 18 & 0\\\\\n",
       "\t Francis Schott  & red & J2 & 17.0 & 0 & 1 & 2 & 20 & 0\\\\\n",
       "\\end{tabular}\n"
      ],
      "text/markdown": [
       "\n",
       "A data.frame: 180 × 9\n",
       "\n",
       "| judge &lt;fct&gt; | flight &lt;fct&gt; | wine &lt;fct&gt; | score &lt;dbl&gt; | wine.amer &lt;int&gt; | judge.amer &lt;int&gt; | judgeid &lt;int&gt; | wineid &lt;int&gt; | flightid &lt;dbl&gt; |\n",
       "|---|---|---|---|---|---|---|---|---|\n",
       "| Jean-M Cardebat | white | A1 | 10.0 | 1 | 0 | 4 |  1 | 1 |\n",
       "| Jean-M Cardebat | white | B1 | 13.0 | 1 | 0 | 4 |  3 | 1 |\n",
       "| Jean-M Cardebat | white | C1 | 14.0 | 0 | 0 | 4 |  5 | 1 |\n",
       "| Jean-M Cardebat | white | D1 | 15.0 | 0 | 0 | 4 |  7 | 1 |\n",
       "| Jean-M Cardebat | white | E1 |  8.0 | 1 | 0 | 4 |  9 | 1 |\n",
       "| Jean-M Cardebat | white | F1 | 13.0 | 1 | 0 | 4 | 11 | 1 |\n",
       "| Jean-M Cardebat | white | G1 | 15.0 | 1 | 0 | 4 | 13 | 1 |\n",
       "| Jean-M Cardebat | white | H1 | 11.0 | 0 | 0 | 4 | 15 | 1 |\n",
       "| Jean-M Cardebat | white | I1 |  9.0 | 1 | 0 | 4 | 17 | 1 |\n",
       "| Jean-M Cardebat | white | J1 | 12.0 | 0 | 0 | 4 | 19 | 1 |\n",
       "| Tyler Colman    | white | A1 | 16.0 | 1 | 1 | 9 |  1 | 1 |\n",
       "| Tyler Colman    | white | B1 | 14.0 | 1 | 1 | 9 |  3 | 1 |\n",
       "| Tyler Colman    | white | C1 | 14.0 | 0 | 1 | 9 |  5 | 1 |\n",
       "| Tyler Colman    | white | D1 | 16.0 | 0 | 1 | 9 |  7 | 1 |\n",
       "| Tyler Colman    | white | E1 | 12.0 | 1 | 1 | 9 |  9 | 1 |\n",
       "| Tyler Colman    | white | F1 | 11.0 | 1 | 1 | 9 | 11 | 1 |\n",
       "| Tyler Colman    | white | G1 | 11.0 | 1 | 1 | 9 | 13 | 1 |\n",
       "| Tyler Colman    | white | H1 | 14.0 | 0 | 1 | 9 | 15 | 1 |\n",
       "| Tyler Colman    | white | I1 | 11.0 | 1 | 1 | 9 | 17 | 1 |\n",
       "| Tyler Colman    | white | J1 | 14.0 | 0 | 1 | 9 | 19 | 1 |\n",
       "| John Foy        | white | A1 | 16.0 | 1 | 1 | 5 |  1 | 1 |\n",
       "| John Foy        | white | B1 | 17.0 | 1 | 1 | 5 |  3 | 1 |\n",
       "| John Foy        | white | C1 | 16.0 | 0 | 1 | 5 |  5 | 1 |\n",
       "| John Foy        | white | D1 | 15.0 | 0 | 1 | 5 |  7 | 1 |\n",
       "| John Foy        | white | E1 | 14.5 | 1 | 1 | 5 |  9 | 1 |\n",
       "| John Foy        | white | F1 | 14.5 | 1 | 1 | 5 | 11 | 1 |\n",
       "| John Foy        | white | G1 | 16.0 | 1 | 1 | 5 | 13 | 1 |\n",
       "| John Foy        | white | H1 | 17.0 | 0 | 1 | 5 | 15 | 1 |\n",
       "| John Foy        | white | I1 | 15.0 | 1 | 1 | 5 | 17 | 1 |\n",
       "| John Foy        | white | J1 | 17.5 | 0 | 1 | 5 | 19 | 1 |\n",
       "| ⋮ | ⋮ | ⋮ | ⋮ | ⋮ | ⋮ | ⋮ | ⋮ | ⋮ |\n",
       "| Daniele Meulder | red | A2 | 14.0 | 0 | 0 | 1 |  2 | 0 |\n",
       "| Daniele Meulder | red | B2 | 16.0 | 0 | 0 | 1 |  4 | 0 |\n",
       "| Daniele Meulder | red | C2 | 11.0 | 1 | 0 | 1 |  6 | 0 |\n",
       "| Daniele Meulder | red | D2 | 16.0 | 1 | 0 | 1 |  8 | 0 |\n",
       "| Daniele Meulder | red | E2 | 14.0 | 1 | 0 | 1 | 10 | 0 |\n",
       "| Daniele Meulder | red | F2 | 15.0 | 1 | 0 | 1 | 12 | 0 |\n",
       "| Daniele Meulder | red | G2 | 13.0 | 0 | 0 | 1 | 14 | 0 |\n",
       "| Daniele Meulder | red | H2 | 11.0 | 1 | 0 | 1 | 16 | 0 |\n",
       "| Daniele Meulder | red | I2 | 10.0 | 1 | 0 | 1 | 18 | 0 |\n",
       "| Daniele Meulder | red | J2 | 15.0 | 0 | 0 | 1 | 20 | 0 |\n",
       "| Jamal Rayyis    | red | A2 | 15.0 | 0 | 0 | 3 |  2 | 0 |\n",
       "| Jamal Rayyis    | red | B2 | 19.5 | 0 | 0 | 3 |  4 | 0 |\n",
       "| Jamal Rayyis    | red | C2 | 14.0 | 1 | 0 | 3 |  6 | 0 |\n",
       "| Jamal Rayyis    | red | D2 | 12.0 | 1 | 0 | 3 |  8 | 0 |\n",
       "| Jamal Rayyis    | red | E2 | 13.0 | 1 | 0 | 3 | 10 | 0 |\n",
       "| Jamal Rayyis    | red | F2 | 16.0 | 1 | 0 | 3 | 12 | 0 |\n",
       "| Jamal Rayyis    | red | G2 | 14.5 | 0 | 0 | 3 | 14 | 0 |\n",
       "| Jamal Rayyis    | red | H2 | 15.0 | 1 | 0 | 3 | 16 | 0 |\n",
       "| Jamal Rayyis    | red | I2 | 16.0 | 1 | 0 | 3 | 18 | 0 |\n",
       "| Jamal Rayyis    | red | J2 | 16.0 | 0 | 0 | 3 | 20 | 0 |\n",
       "| Francis Schott  | red | A2 | 19.0 | 0 | 1 | 2 |  2 | 0 |\n",
       "| Francis Schott  | red | B2 | 18.0 | 0 | 1 | 2 |  4 | 0 |\n",
       "| Francis Schott  | red | C2 |  8.0 | 1 | 1 | 2 |  6 | 0 |\n",
       "| Francis Schott  | red | D2 | 15.0 | 1 | 1 | 2 |  8 | 0 |\n",
       "| Francis Schott  | red | E2 | 15.0 | 1 | 1 | 2 | 10 | 0 |\n",
       "| Francis Schott  | red | F2 | 12.0 | 1 | 1 | 2 | 12 | 0 |\n",
       "| Francis Schott  | red | G2 | 15.0 | 0 | 1 | 2 | 14 | 0 |\n",
       "| Francis Schott  | red | H2 | 16.0 | 1 | 1 | 2 | 16 | 0 |\n",
       "| Francis Schott  | red | I2 |  7.0 | 1 | 1 | 2 | 18 | 0 |\n",
       "| Francis Schott  | red | J2 | 17.0 | 0 | 1 | 2 | 20 | 0 |\n",
       "\n"
      ],
      "text/plain": [
       "    judge           flight wine score wine.amer judge.amer judgeid wineid\n",
       "1   Jean-M Cardebat white  A1   10.0  1         0          4        1    \n",
       "2   Jean-M Cardebat white  B1   13.0  1         0          4        3    \n",
       "3   Jean-M Cardebat white  C1   14.0  0         0          4        5    \n",
       "4   Jean-M Cardebat white  D1   15.0  0         0          4        7    \n",
       "5   Jean-M Cardebat white  E1    8.0  1         0          4        9    \n",
       "6   Jean-M Cardebat white  F1   13.0  1         0          4       11    \n",
       "7   Jean-M Cardebat white  G1   15.0  1         0          4       13    \n",
       "8   Jean-M Cardebat white  H1   11.0  0         0          4       15    \n",
       "9   Jean-M Cardebat white  I1    9.0  1         0          4       17    \n",
       "10  Jean-M Cardebat white  J1   12.0  0         0          4       19    \n",
       "11  Tyler Colman    white  A1   16.0  1         1          9        1    \n",
       "12  Tyler Colman    white  B1   14.0  1         1          9        3    \n",
       "13  Tyler Colman    white  C1   14.0  0         1          9        5    \n",
       "14  Tyler Colman    white  D1   16.0  0         1          9        7    \n",
       "15  Tyler Colman    white  E1   12.0  1         1          9        9    \n",
       "16  Tyler Colman    white  F1   11.0  1         1          9       11    \n",
       "17  Tyler Colman    white  G1   11.0  1         1          9       13    \n",
       "18  Tyler Colman    white  H1   14.0  0         1          9       15    \n",
       "19  Tyler Colman    white  I1   11.0  1         1          9       17    \n",
       "20  Tyler Colman    white  J1   14.0  0         1          9       19    \n",
       "21  John Foy        white  A1   16.0  1         1          5        1    \n",
       "22  John Foy        white  B1   17.0  1         1          5        3    \n",
       "23  John Foy        white  C1   16.0  0         1          5        5    \n",
       "24  John Foy        white  D1   15.0  0         1          5        7    \n",
       "25  John Foy        white  E1   14.5  1         1          5        9    \n",
       "26  John Foy        white  F1   14.5  1         1          5       11    \n",
       "27  John Foy        white  G1   16.0  1         1          5       13    \n",
       "28  John Foy        white  H1   17.0  0         1          5       15    \n",
       "29  John Foy        white  I1   15.0  1         1          5       17    \n",
       "30  John Foy        white  J1   17.5  0         1          5       19    \n",
       "⋮   ⋮               ⋮      ⋮    ⋮     ⋮         ⋮          ⋮       ⋮     \n",
       "151 Daniele Meulder red    A2   14.0  0         0          1        2    \n",
       "152 Daniele Meulder red    B2   16.0  0         0          1        4    \n",
       "153 Daniele Meulder red    C2   11.0  1         0          1        6    \n",
       "154 Daniele Meulder red    D2   16.0  1         0          1        8    \n",
       "155 Daniele Meulder red    E2   14.0  1         0          1       10    \n",
       "156 Daniele Meulder red    F2   15.0  1         0          1       12    \n",
       "157 Daniele Meulder red    G2   13.0  0         0          1       14    \n",
       "158 Daniele Meulder red    H2   11.0  1         0          1       16    \n",
       "159 Daniele Meulder red    I2   10.0  1         0          1       18    \n",
       "160 Daniele Meulder red    J2   15.0  0         0          1       20    \n",
       "161 Jamal Rayyis    red    A2   15.0  0         0          3        2    \n",
       "162 Jamal Rayyis    red    B2   19.5  0         0          3        4    \n",
       "163 Jamal Rayyis    red    C2   14.0  1         0          3        6    \n",
       "164 Jamal Rayyis    red    D2   12.0  1         0          3        8    \n",
       "165 Jamal Rayyis    red    E2   13.0  1         0          3       10    \n",
       "166 Jamal Rayyis    red    F2   16.0  1         0          3       12    \n",
       "167 Jamal Rayyis    red    G2   14.5  0         0          3       14    \n",
       "168 Jamal Rayyis    red    H2   15.0  1         0          3       16    \n",
       "169 Jamal Rayyis    red    I2   16.0  1         0          3       18    \n",
       "170 Jamal Rayyis    red    J2   16.0  0         0          3       20    \n",
       "171 Francis Schott  red    A2   19.0  0         1          2        2    \n",
       "172 Francis Schott  red    B2   18.0  0         1          2        4    \n",
       "173 Francis Schott  red    C2    8.0  1         1          2        6    \n",
       "174 Francis Schott  red    D2   15.0  1         1          2        8    \n",
       "175 Francis Schott  red    E2   15.0  1         1          2       10    \n",
       "176 Francis Schott  red    F2   12.0  1         1          2       12    \n",
       "177 Francis Schott  red    G2   15.0  0         1          2       14    \n",
       "178 Francis Schott  red    H2   16.0  1         1          2       16    \n",
       "179 Francis Schott  red    I2    7.0  1         1          2       18    \n",
       "180 Francis Schott  red    J2   17.0  0         1          2       20    \n",
       "    flightid\n",
       "1   1       \n",
       "2   1       \n",
       "3   1       \n",
       "4   1       \n",
       "5   1       \n",
       "6   1       \n",
       "7   1       \n",
       "8   1       \n",
       "9   1       \n",
       "10  1       \n",
       "11  1       \n",
       "12  1       \n",
       "13  1       \n",
       "14  1       \n",
       "15  1       \n",
       "16  1       \n",
       "17  1       \n",
       "18  1       \n",
       "19  1       \n",
       "20  1       \n",
       "21  1       \n",
       "22  1       \n",
       "23  1       \n",
       "24  1       \n",
       "25  1       \n",
       "26  1       \n",
       "27  1       \n",
       "28  1       \n",
       "29  1       \n",
       "30  1       \n",
       "⋮   ⋮       \n",
       "151 0       \n",
       "152 0       \n",
       "153 0       \n",
       "154 0       \n",
       "155 0       \n",
       "156 0       \n",
       "157 0       \n",
       "158 0       \n",
       "159 0       \n",
       "160 0       \n",
       "161 0       \n",
       "162 0       \n",
       "163 0       \n",
       "164 0       \n",
       "165 0       \n",
       "166 0       \n",
       "167 0       \n",
       "168 0       \n",
       "169 0       \n",
       "170 0       \n",
       "171 0       \n",
       "172 0       \n",
       "173 0       \n",
       "174 0       \n",
       "175 0       \n",
       "176 0       \n",
       "177 0       \n",
       "178 0       \n",
       "179 0       \n",
       "180 0       "
      ]
     },
     "metadata": {},
     "output_type": "display_data"
    },
    {
     "data": {
      "image/png": "[encoded data removed]",
      "text/plain": [
       "plot without title"
      ]
     },
     "metadata": {
      "image/png": {
       "height": 420,
       "width": 420
      }
     },
     "output_type": "display_data"
    }
   ],
   "source": [
    "plot(d$judgeid, d$score)\n",
    "plot(d$wineid, d$score)\n",
    "d"
   ]
  },
  {
   "cell_type": "code",
   "execution_count": 4,
   "metadata": {
    "vscode": {
     "languageId": "r"
    }
   },
   "outputs": [],
   "source": [
    "model <- map(\n",
    "\talist(\n",
    "\t\tscore <- dnorm(mu, sigma),\n",
    "\t\tmu <- a + bj * judgeid + bw * wineid + bjw * judgeid * wineid,\n",
    "\t\ta ~ dnorm(mean(d$score), 10),\n",
    "\t\tbj ~ dnorm(0, 10),\n",
    "\t\tbw ~ dnorm(0, 10),\n",
    "\t\tbjw ~ dnorm(0, 10),\n",
    "\t\tsigma ~ dunif(0, 20)\n",
    "\t),\n",
    "\tdata = d\n",
    ")\n",
    "\n",
    "post <- extract.samples(model)\n",
    "mu.link <- function(judgeid, wineid) post$a + post$bj * judgeid + post$bw * wineid + post$bjw * judgeid * wineid\n",
    "mu.link.judgeid <- function(judgeid) mu.link(judgeid, wineid = mean(d$wineid))\n",
    "mu.link.wineid <- function(wineid) mu.link(judgeid = mean(d$judgeid), wineid)"
   ]
  },
  {
   "cell_type": "code",
   "execution_count": 5,
   "metadata": {
    "vscode": {
     "languageId": "r"
    }
   },
   "outputs": [],
   "source": [
    "judgeid.seq <- seq(from = min(d$judgeid), to = max(d$judgeid), by = 0.01)\n",
    "wineid.seq <- seq(from = min(d$wineid), to = max(d$wineid), by = 0.01)"
   ]
  },
  {
   "cell_type": "code",
   "execution_count": 6,
   "metadata": {
    "vscode": {
     "languageId": "r"
    }
   },
   "outputs": [
    {
     "data": {
      "image/png": "[encoded data removed]",
      "text/plain": [
       "plot without title"
      ]
     },
     "metadata": {
      "image/png": {
       "height": 420,
       "width": 420
      }
     },
     "output_type": "display_data"
    },
    {
     "data": {
      "image/png": "[encoded data removed]",
      "text/plain": [
       "plot without title"
      ]
     },
     "metadata": {
      "image/png": {
       "height": 420,
       "width": 420
      }
     },
     "output_type": "display_data"
    }
   ],
   "source": [
    "# This function plots a given model with shades\n",
    "plot_with_shade_judgeid <- function(output, mu.link) {\n",
    "# For each weight value we calculate a 91 percent credible interval\n",
    "mu <- sapply(judgeid.seq, mu.link)\n",
    "mu.mean <- apply(mu, 2, mean)\n",
    "mu.HPDI <- apply(mu, 2, HPDI, prob = 0.91)\n",
    "\n",
    "plot(score ~ judgeid, d)\n",
    "lines(judgeid.seq, mu.mean)\n",
    "shade(mu.HPDI, judgeid.seq)\n",
    "\n",
    "# We calculate the 91 percent credible interval of the height variables by taking into account the uncertainty of the slope and the standard deviation\n",
    "sim.score <- sim(output, data = list(judgeid = judgeid.seq, wineid = mean(d$wineid)))\n",
    "score.HPDI <- apply(sim.score, 2, HPDI, prob = 0.91)\n",
    "shade(score.HPDI, judgeid.seq)\n",
    "}\n",
    "\n",
    "plot_with_shade_wineid <- function(output, mu.link) {\n",
    "# For each weight value we calculate a 91 percent credible interval\n",
    "mu <- sapply(wineid.seq, mu.link)\n",
    "mu.mean <- apply(mu, 2, mean)\n",
    "mu.HPDI <- apply(mu, 2, HPDI, prob = 0.91)\n",
    "\n",
    "plot(score ~ wineid, d)\n",
    "lines(wineid.seq, mu.mean)\n",
    "shade(mu.HPDI, wineid.seq)\n",
    "\n",
    "# We calculate the 91 percent credible interval of the height variables by taking into account the uncertainty of the slope and the standard deviation\n",
    "sim.score <- sim(output, data = list(wineid = wineid.seq, judgeid = mean(d$judgeid)))\n",
    "score.HPDI <- apply(sim.score, 2, HPDI, prob = 0.91)\n",
    "shade(score.HPDI, wineid.seq)\n",
    "}\n",
    "\n",
    "plot_with_shade_judgeid(model, mu.link.judgeid)\n",
    "plot_with_shade_wineid(model, mu.link.wineid)"
   ]
  },
  {
   "attachments": {},
   "cell_type": "markdown",
   "metadata": {},
   "source": [
    "This was a dud. The linear model obviously doesnt tell us anything. We see that some wines have a little better scores than others, and some judges give on average better scores than others. For the useless model we used quite harmless priors that nearly dont restrict the parameters."
   ]
  },
  {
   "attachments": {},
   "cell_type": "markdown",
   "metadata": {},
   "source": [
    "## Exercise 2\n",
    "\n",
    "Focus now on the flight, wine.amer and judge.amer variables. Build a linear model (without interactions for the time being) to model the score form these three predictors. Is there an identifiable bias between judge and wine regions? Is one flight favoured over the other? Compute posterior differences to aid in your analysis of the results."
   ]
  },
  {
   "cell_type": "code",
   "execution_count": 17,
   "metadata": {
    "vscode": {
     "languageId": "r"
    }
   },
   "outputs": [
    {
     "data": {
      "image/png": "[encoded data removed]",
      "text/plain": [
       "plot without title"
      ]
     },
     "metadata": {
      "image/png": {
       "height": 420,
       "width": 420
      }
     },
     "output_type": "display_data"
    }
   ],
   "source": [
    "model1 <- map(\n",
    "\talist(\n",
    "\t\tscore ~ dnorm(mu, sigma),\n",
    "\t\tmu <- a + bfw * flightid + bfr * (1 - flightid) + bwa * wine.amer + bwe * (1 - wine.amer) + bja * judge.amer + bje * (1 - judge.amer),\n",
    "\t\ta ~ dnorm(mean(d$score), 10),\n",
    "\t\tbfw ~ dnorm(0, 10),\n",
    "\t\tbfr ~ dnorm(0, 10),\n",
    "\t\tbwa ~ dnorm(0, 10),\n",
    "\t\tbwe ~ dnorm(0, 10),\n",
    "\t\tbja ~ dnorm(0, 10),\n",
    "\t\tbje ~ dnorm(0, 10),\n",
    "\t\tsigma ~ dunif(0, 10)\n",
    "\t),\n",
    "\tdata = d\n",
    ")\n",
    "\n",
    "plot(summary(model1))"
   ]
  }
 ],
 "metadata": {
  "kernelspec": {
   "display_name": "R",
   "language": "R",
   "name": "ir"
  },
  "language_info": {
   "codemirror_mode": "r",
   "file_extension": ".r",
   "mimetype": "text/x-r-source",
   "name": "R",
   "pygments_lexer": "r",
   "version": "4.2.2"
  },
  "orig_nbformat": 4
 },
 "nbformat": 4,
 "nbformat_minor": 2
}
