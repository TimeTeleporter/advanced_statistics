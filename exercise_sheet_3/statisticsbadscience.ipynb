{
 "cells": [
  {
   "attachments": {},
   "cell_type": "markdown",
   "metadata": {},
   "source": [
    "# Exercise 1: Statistics cannot save bad science\n",
    "\n",
    "History of science suggests that the basic rate at which hypotheses are true is small, between 1 and 5%. If we assume that the probability of a positive finding, given that an hypothesis is true, is 0.95. What is the probability that an hypothesis is actually true given a positive finding?"
   ]
  },
  {
   "attachments": {},
   "cell_type": "markdown",
   "metadata": {},
   "source": [
    "We use bayesian inference, similar to what we did last week with the werewolves. We know $P(\\text{true}) = x$, where $x \\in [0.01, 0.05]$ and $P(\\text{positive | true}) = 0.95$. Thus we can reason that $P(\\text{false}) = 1 - x$ and $P(\\text{negative | true}) = 0.05$\n",
    "\n",
    "$$P(\\text{true | positive}) = P(\\text{positive | true})P(\\text{true}) / P(\\text{positive}).$$\n",
    "\n",
    "Next we see that\n",
    "\n",
    "$$P(\\text{positive}) = P(\\text{positive | true})P(\\text{true}) + P(\\text{positive | false})P(\\text{false}),$$\n",
    "\n",
    "which gives us the relation\n",
    "\n",
    "$$P(\\text{true | positive}) = \\frac{0.95 x}{0.95 x + y (1 - x)}.$$\n",
    "\n",
    "Beacuse the system is underdetermined, we set $P(\\text{positive | false}) = y$. "
   ]
  },
  {
   "cell_type": "code",
   "execution_count": 1,
   "metadata": {
    "vscode": {
     "languageId": "r"
    }
   },
   "outputs": [],
   "source": [
    "# We define the two known variables for the calculation\n",
    "tru <- 0.05\n",
    "pos_tru <- 0.95"
   ]
  }
 ],
 "metadata": {
  "kernelspec": {
   "display_name": "R",
   "language": "R",
   "name": "ir"
  },
  "language_info": {
   "codemirror_mode": "r",
   "file_extension": ".r",
   "mimetype": "text/x-r-source",
   "name": "R",
   "pygments_lexer": "r",
   "version": "4.2.2"
  },
  "orig_nbformat": 4,
  "vscode": {
   "interpreter": {
    "hash": "e42634819b8c191a5d07eaf23810ff32516dd8d3875f28ec3e488928fbd3c187"
   }
  }
 },
 "nbformat": 4,
 "nbformat_minor": 2
}
