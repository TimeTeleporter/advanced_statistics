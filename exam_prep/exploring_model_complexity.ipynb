{
 "cells": [
  {
   "attachments": {},
   "cell_type": "markdown",
   "metadata": {},
   "source": [
    "# Exercise sheet 5\n",
    "## Exercise 2 - Exploring model complexity\n",
    "\n",
    "Load again the data from the Howell study, using all rows (no selection on age).\n",
    "\n",
    "1. Fit a linear trend to these data, comment on your findings and discuss whether the model of H vs. W could be improved using plots as basis for discussion.\n",
    "2. Use different models of your choosing and using map, investigate on whether you can identify one model that fits the data better than in (1). Use the range of diagnosis tools (plots, vcov, precis/summary) as a basis for discussion.\n",
    "3. Explore on how the model performs out of sample using counterfactual plots. Have you found a model that reproduces well the behaviour of the human body?"
   ]
  },
  {
   "cell_type": "code",
   "execution_count": 93,
   "metadata": {
    "vscode": {
     "languageId": "r"
    }
   },
   "outputs": [],
   "source": [
    "library(rethinking)\n",
    "data(Howell1)\n",
    "dat <- Howell1"
   ]
  },
  {
   "attachments": {},
   "cell_type": "markdown",
   "metadata": {},
   "source": [
    "### Considering the effect of gender on weight"
   ]
  },
  {
   "attachments": {},
   "cell_type": "markdown",
   "metadata": {},
   "source": [
    "Lets first investigate the effect of gender on weight. We start by looking at the data."
   ]
  },
  {
   "cell_type": "code",
   "execution_count": 80,
   "metadata": {
    "vscode": {
     "languageId": "r"
    }
   },
   "outputs": [
    {
     "data": {
      "text/html": [
       "38.026240896109"
      ],
      "text/latex": [
       "38.026240896109"
      ],
      "text/markdown": [
       "38.026240896109"
      ],
      "text/plain": [
       "[1] 38.02624"
      ]
     },
     "metadata": {},
     "output_type": "display_data"
    },
    {
     "data": {
      "text/html": [
       "33.447498466899"
      ],
      "text/latex": [
       "33.447498466899"
      ],
      "text/markdown": [
       "33.447498466899"
      ],
      "text/plain": [
       "[1] 33.4475"
      ]
     },
     "metadata": {},
     "output_type": "display_data"
    }
   ],
   "source": [
    "d <- data.frame(list(weight = dat$weight, male = dat$male))\n",
    "mean(d$weight[d$male == 1])\n",
    "mean(d$weight[d$male == 0])"
   ]
  },
  {
   "attachments": {},
   "cell_type": "markdown",
   "metadata": {},
   "source": [
    "We see that there is a difference in the data. Lets now construct a model to investigate the difference further."
   ]
  },
  {
   "cell_type": "code",
   "execution_count": 81,
   "metadata": {
    "vscode": {
     "languageId": "r"
    }
   },
   "outputs": [],
   "source": [
    "# Standardize the weight data\n",
    "d$weight <- scale(d$weight)"
   ]
  },
  {
   "cell_type": "code",
   "execution_count": 82,
   "metadata": {
    "vscode": {
     "languageId": "r"
    }
   },
   "outputs": [
    {
     "name": "stderr",
     "output_type": "stream",
     "text": [
      "Warning message in map2stan(alist(weight ~ dnorm(mu, sigma), mu <- a + a_male * :\n",
      "\"DEPRECATED: map2stan is no longer supported and may behave unpredictably or stop working altogether. Start using ulam instead.\"\n",
      "Warning message in map2stan(alist(weight ~ dnorm(mu, sigma), mu <- a + a_male * :\n",
      "\"Stripping scale attributes from variable weight\"\n",
      "Warning in 'C:/Users/immal/AppData/Local/Temp/RtmpwXqVqA/model-33bc755463a4.stan', line 4, column 4: Declaration\n",
      "    of arrays by placing brackets after a variable name is deprecated and\n",
      "    will be removed in Stan 2.32.0. Instead use the array keyword before the\n",
      "    type. This can be changed automatically using the auto-format flag to\n",
      "    stanc\n",
      "Warning in 'C:/Users/immal/AppData/Local/Temp/RtmpwXqVqA/model-33bc755463a4.stan', line 5, column 4: Declaration\n",
      "    of arrays by placing brackets after a variable name is deprecated and\n",
      "    will be removed in Stan 2.32.0. Instead use the array keyword before the\n",
      "    type. This can be changed automatically using the auto-format flag to\n",
      "    stanc\n",
      "\n",
      "\n"
     ]
    },
    {
     "name": "stdout",
     "output_type": "stream",
     "text": [
      "Running MCMC with 7 parallel chains...\n",
      "\n",
      "Chain 1 Iteration:    1 / 2000 [  0%]  (Warmup) \n",
      "Chain 2 Iteration:    1 / 2000 [  0%]  (Warmup) \n",
      "Chain 3 Iteration:    1 / 2000 [  0%]  (Warmup) \n",
      "Chain 4 Iteration:    1 / 2000 [  0%]  (Warmup) \n"
     ]
    },
    {
     "name": "stderr",
     "output_type": "stream",
     "text": [
      "Chain 4 Informational Message: The current Metropolis proposal is about to be rejected because of the following issue:\n",
      "\n",
      "Chain 4 Exception: normal_lpdf: Scale parameter is 0, but must be positive! (in 'C:/Users/immal/AppData/Local/Temp/RtmpwXqVqA/model-33bc755463a4.stan', line 20, column 4 to column 34)\n",
      "\n",
      "Chain 4 If this warning occurs sporadically, such as for highly constrained variable types like covariance matrices, then the sampler is fine,\n",
      "\n",
      "Chain 4 but if this warning occurs often then your model may be either severely ill-conditioned or misspecified.\n",
      "\n",
      "Chain 4 \n",
      "\n"
     ]
    },
    {
     "name": "stdout",
     "output_type": "stream",
     "text": [
      "Chain 5 Iteration:    1 / 2000 [  0%]  (Warmup) \n"
     ]
    },
    {
     "name": "stderr",
     "output_type": "stream",
     "text": [
      "Chain 5 Informational Message: The current Metropolis proposal is about to be rejected because of the following issue:\n",
      "\n",
      "Chain 5 Exception: normal_lpdf: Scale parameter is 0, but must be positive! (in 'C:/Users/immal/AppData/Local/Temp/RtmpwXqVqA/model-33bc755463a4.stan', line 20, column 4 to column 34)\n",
      "\n",
      "Chain 5 If this warning occurs sporadically, such as for highly constrained variable types like covariance matrices, then the sampler is fine,\n",
      "\n",
      "Chain 5 but if this warning occurs often then your model may be either severely ill-conditioned or misspecified.\n",
      "\n",
      "Chain 5 \n",
      "\n"
     ]
    },
    {
     "name": "stdout",
     "output_type": "stream",
     "text": [
      "Chain 6 Iteration:    1 / 2000 [  0%]  (Warmup) \n"
     ]
    },
    {
     "name": "stderr",
     "output_type": "stream",
     "text": [
      "Chain 6 Informational Message: The current Metropolis proposal is about to be rejected because of the following issue:\n",
      "\n",
      "Chain 6 Exception: normal_lpdf: Scale parameter is 0, but must be positive! (in 'C:/Users/immal/AppData/Local/Temp/RtmpwXqVqA/model-33bc755463a4.stan', line 20, column 4 to column 34)\n",
      "\n",
      "Chain 6 If this warning occurs sporadically, such as for highly constrained variable types like covariance matrices, then the sampler is fine,\n",
      "\n",
      "Chain 6 but if this warning occurs often then your model may be either severely ill-conditioned or misspecified.\n",
      "\n",
      "Chain 6 \n",
      "\n"
     ]
    },
    {
     "name": "stdout",
     "output_type": "stream",
     "text": [
      "Chain 7 Iteration:    1 / 2000 [  0%]  (Warmup) \n"
     ]
    },
    {
     "name": "stderr",
     "output_type": "stream",
     "text": [
      "Chain 7 Informational Message: The current Metropolis proposal is about to be rejected because of the following issue:\n",
      "\n",
      "Chain 7 Exception: normal_lpdf: Scale parameter is 0, but must be positive! (in 'C:/Users/immal/AppData/Local/Temp/RtmpwXqVqA/model-33bc755463a4.stan', line 20, column 4 to column 34)\n",
      "\n",
      "Chain 7 If this warning occurs sporadically, such as for highly constrained variable types like covariance matrices, then the sampler is fine,\n",
      "\n",
      "Chain 7 but if this warning occurs often then your model may be either severely ill-conditioned or misspecified.\n",
      "\n",
      "Chain 7 \n",
      "\n"
     ]
    },
    {
     "name": "stdout",
     "output_type": "stream",
     "text": [
      "Chain 1 Iteration:  100 / 2000 [  5%]  (Warmup) \n",
      "Chain 1 Iteration:  200 / 2000 [ 10%]  (Warmup) \n",
      "Chain 1 Iteration:  300 / 2000 [ 15%]  (Warmup) \n",
      "Chain 1 Iteration:  400 / 2000 [ 20%]  (Warmup) \n",
      "Chain 1 Iteration:  500 / 2000 [ 25%]  (Warmup) \n",
      "Chain 2 Iteration:  100 / 2000 [  5%]  (Warmup) \n",
      "Chain 2 Iteration:  200 / 2000 [ 10%]  (Warmup) \n",
      "Chain 2 Iteration:  300 / 2000 [ 15%]  (Warmup) \n",
      "Chain 2 Iteration:  400 / 2000 [ 20%]  (Warmup) \n",
      "Chain 2 Iteration:  500 / 2000 [ 25%]  (Warmup) \n",
      "Chain 3 Iteration:  100 / 2000 [  5%]  (Warmup) \n",
      "Chain 3 Iteration:  200 / 2000 [ 10%]  (Warmup) \n",
      "Chain 3 Iteration:  300 / 2000 [ 15%]  (Warmup) \n",
      "Chain 3 Iteration:  400 / 2000 [ 20%]  (Warmup) \n",
      "Chain 3 Iteration:  500 / 2000 [ 25%]  (Warmup) \n",
      "Chain 4 Iteration:  100 / 2000 [  5%]  (Warmup) \n",
      "Chain 4 Iteration:  200 / 2000 [ 10%]  (Warmup) \n",
      "Chain 4 Iteration:  300 / 2000 [ 15%]  (Warmup) \n",
      "Chain 4 Iteration:  400 / 2000 [ 20%]  (Warmup) \n",
      "Chain 4 Iteration:  500 / 2000 [ 25%]  (Warmup) \n",
      "Chain 5 Iteration:  100 / 2000 [  5%]  (Warmup) \n",
      "Chain 5 Iteration:  200 / 2000 [ 10%]  (Warmup) \n",
      "Chain 5 Iteration:  300 / 2000 [ 15%]  (Warmup) \n",
      "Chain 5 Iteration:  400 / 2000 [ 20%]  (Warmup) \n",
      "Chain 5 Iteration:  500 / 2000 [ 25%]  (Warmup) \n",
      "Chain 6 Iteration:  100 / 2000 [  5%]  (Warmup) \n",
      "Chain 6 Iteration:  200 / 2000 [ 10%]  (Warmup) \n",
      "Chain 6 Iteration:  300 / 2000 [ 15%]  (Warmup) \n",
      "Chain 6 Iteration:  400 / 2000 [ 20%]  (Warmup) \n",
      "Chain 6 Iteration:  500 / 2000 [ 25%]  (Warmup) \n",
      "Chain 7 Iteration:  100 / 2000 [  5%]  (Warmup) \n",
      "Chain 7 Iteration:  200 / 2000 [ 10%]  (Warmup) \n",
      "Chain 7 Iteration:  300 / 2000 [ 15%]  (Warmup) \n",
      "Chain 7 Iteration:  400 / 2000 [ 20%]  (Warmup) \n",
      "Chain 7 Iteration:  500 / 2000 [ 25%]  (Warmup) \n",
      "Chain 1 Iteration:  600 / 2000 [ 30%]  (Warmup) \n",
      "Chain 2 Iteration:  600 / 2000 [ 30%]  (Warmup) \n",
      "Chain 3 Iteration:  600 / 2000 [ 30%]  (Warmup) \n",
      "Chain 4 Iteration:  600 / 2000 [ 30%]  (Warmup) \n",
      "Chain 5 Iteration:  600 / 2000 [ 30%]  (Warmup) \n",
      "Chain 6 Iteration:  600 / 2000 [ 30%]  (Warmup) \n",
      "Chain 7 Iteration:  600 / 2000 [ 30%]  (Warmup) \n",
      "Chain 1 Iteration:  700 / 2000 [ 35%]  (Warmup) \n",
      "Chain 2 Iteration:  700 / 2000 [ 35%]  (Warmup) \n",
      "Chain 3 Iteration:  700 / 2000 [ 35%]  (Warmup) \n",
      "Chain 4 Iteration:  700 / 2000 [ 35%]  (Warmup) \n",
      "Chain 5 Iteration:  700 / 2000 [ 35%]  (Warmup) \n",
      "Chain 6 Iteration:  700 / 2000 [ 35%]  (Warmup) \n",
      "Chain 7 Iteration:  700 / 2000 [ 35%]  (Warmup) \n",
      "Chain 1 Iteration:  800 / 2000 [ 40%]  (Warmup) \n",
      "Chain 2 Iteration:  800 / 2000 [ 40%]  (Warmup) \n",
      "Chain 3 Iteration:  800 / 2000 [ 40%]  (Warmup) \n",
      "Chain 4 Iteration:  800 / 2000 [ 40%]  (Warmup) \n",
      "Chain 5 Iteration:  800 / 2000 [ 40%]  (Warmup) \n",
      "Chain 6 Iteration:  800 / 2000 [ 40%]  (Warmup) \n",
      "Chain 7 Iteration:  800 / 2000 [ 40%]  (Warmup) \n",
      "Chain 1 Iteration:  900 / 2000 [ 45%]  (Warmup) \n",
      "Chain 2 Iteration:  900 / 2000 [ 45%]  (Warmup) \n",
      "Chain 3 Iteration:  900 / 2000 [ 45%]  (Warmup) \n",
      "Chain 4 Iteration:  900 / 2000 [ 45%]  (Warmup) \n",
      "Chain 5 Iteration:  900 / 2000 [ 45%]  (Warmup) \n",
      "Chain 6 Iteration:  900 / 2000 [ 45%]  (Warmup) \n",
      "Chain 7 Iteration:  900 / 2000 [ 45%]  (Warmup) \n",
      "Chain 1 Iteration: 1000 / 2000 [ 50%]  (Warmup) \n",
      "Chain 1 Iteration: 1001 / 2000 [ 50%]  (Sampling) \n",
      "Chain 2 Iteration: 1000 / 2000 [ 50%]  (Warmup) \n",
      "Chain 3 Iteration: 1000 / 2000 [ 50%]  (Warmup) \n",
      "Chain 4 Iteration: 1000 / 2000 [ 50%]  (Warmup) \n",
      "Chain 5 Iteration: 1000 / 2000 [ 50%]  (Warmup) \n",
      "Chain 6 Iteration: 1000 / 2000 [ 50%]  (Warmup) \n",
      "Chain 7 Iteration: 1000 / 2000 [ 50%]  (Warmup) \n",
      "Chain 1 Iteration: 1100 / 2000 [ 55%]  (Sampling) \n",
      "Chain 2 Iteration: 1001 / 2000 [ 50%]  (Sampling) \n",
      "Chain 3 Iteration: 1001 / 2000 [ 50%]  (Sampling) \n",
      "Chain 4 Iteration: 1001 / 2000 [ 50%]  (Sampling) \n",
      "Chain 4 Iteration: 1100 / 2000 [ 55%]  (Sampling) \n",
      "Chain 5 Iteration: 1001 / 2000 [ 50%]  (Sampling) \n",
      "Chain 6 Iteration: 1001 / 2000 [ 50%]  (Sampling) \n",
      "Chain 7 Iteration: 1001 / 2000 [ 50%]  (Sampling) \n",
      "Chain 2 Iteration: 1100 / 2000 [ 55%]  (Sampling) \n",
      "Chain 3 Iteration: 1100 / 2000 [ 55%]  (Sampling) \n",
      "Chain 5 Iteration: 1100 / 2000 [ 55%]  (Sampling) \n",
      "Chain 6 Iteration: 1100 / 2000 [ 55%]  (Sampling) \n",
      "Chain 7 Iteration: 1100 / 2000 [ 55%]  (Sampling) \n",
      "Chain 1 Iteration: 1200 / 2000 [ 60%]  (Sampling) \n",
      "Chain 2 Iteration: 1200 / 2000 [ 60%]  (Sampling) \n",
      "Chain 4 Iteration: 1200 / 2000 [ 60%]  (Sampling) \n",
      "Chain 6 Iteration: 1200 / 2000 [ 60%]  (Sampling) \n",
      "Chain 3 Iteration: 1200 / 2000 [ 60%]  (Sampling) \n",
      "Chain 5 Iteration: 1200 / 2000 [ 60%]  (Sampling) \n",
      "Chain 7 Iteration: 1200 / 2000 [ 60%]  (Sampling) \n",
      "Chain 1 Iteration: 1300 / 2000 [ 65%]  (Sampling) \n",
      "Chain 2 Iteration: 1300 / 2000 [ 65%]  (Sampling) \n",
      "Chain 3 Iteration: 1300 / 2000 [ 65%]  (Sampling) \n",
      "Chain 4 Iteration: 1300 / 2000 [ 65%]  (Sampling) \n",
      "Chain 6 Iteration: 1300 / 2000 [ 65%]  (Sampling) \n",
      "Chain 1 Iteration: 1400 / 2000 [ 70%]  (Sampling) \n",
      "Chain 5 Iteration: 1300 / 2000 [ 65%]  (Sampling) \n",
      "Chain 7 Iteration: 1300 / 2000 [ 65%]  (Sampling) \n",
      "Chain 2 Iteration: 1400 / 2000 [ 70%]  (Sampling) \n",
      "Chain 3 Iteration: 1400 / 2000 [ 70%]  (Sampling) \n",
      "Chain 4 Iteration: 1400 / 2000 [ 70%]  (Sampling) \n",
      "Chain 6 Iteration: 1400 / 2000 [ 70%]  (Sampling) \n",
      "Chain 1 Iteration: 1500 / 2000 [ 75%]  (Sampling) \n",
      "Chain 5 Iteration: 1400 / 2000 [ 70%]  (Sampling) \n",
      "Chain 7 Iteration: 1400 / 2000 [ 70%]  (Sampling) \n",
      "Chain 2 Iteration: 1500 / 2000 [ 75%]  (Sampling) \n",
      "Chain 3 Iteration: 1500 / 2000 [ 75%]  (Sampling) \n",
      "Chain 4 Iteration: 1500 / 2000 [ 75%]  (Sampling) \n",
      "Chain 5 Iteration: 1500 / 2000 [ 75%]  (Sampling) \n",
      "Chain 6 Iteration: 1500 / 2000 [ 75%]  (Sampling) \n",
      "Chain 7 Iteration: 1500 / 2000 [ 75%]  (Sampling) \n",
      "Chain 1 Iteration: 1600 / 2000 [ 80%]  (Sampling) \n",
      "Chain 2 Iteration: 1600 / 2000 [ 80%]  (Sampling) \n",
      "Chain 3 Iteration: 1600 / 2000 [ 80%]  (Sampling) \n",
      "Chain 4 Iteration: 1600 / 2000 [ 80%]  (Sampling) \n",
      "Chain 5 Iteration: 1600 / 2000 [ 80%]  (Sampling) \n",
      "Chain 6 Iteration: 1600 / 2000 [ 80%]  (Sampling) \n",
      "Chain 7 Iteration: 1600 / 2000 [ 80%]  (Sampling) \n",
      "Chain 1 Iteration: 1700 / 2000 [ 85%]  (Sampling) \n",
      "Chain 4 Iteration: 1700 / 2000 [ 85%]  (Sampling) \n",
      "Chain 2 Iteration: 1700 / 2000 [ 85%]  (Sampling) \n",
      "Chain 3 Iteration: 1700 / 2000 [ 85%]  (Sampling) \n",
      "Chain 5 Iteration: 1700 / 2000 [ 85%]  (Sampling) \n",
      "Chain 6 Iteration: 1700 / 2000 [ 85%]  (Sampling) \n",
      "Chain 7 Iteration: 1700 / 2000 [ 85%]  (Sampling) \n",
      "Chain 1 Iteration: 1800 / 2000 [ 90%]  (Sampling) \n",
      "Chain 4 Iteration: 1800 / 2000 [ 90%]  (Sampling) \n",
      "Chain 2 Iteration: 1800 / 2000 [ 90%]  (Sampling) \n",
      "Chain 3 Iteration: 1800 / 2000 [ 90%]  (Sampling) \n",
      "Chain 5 Iteration: 1800 / 2000 [ 90%]  (Sampling) \n",
      "Chain 6 Iteration: 1800 / 2000 [ 90%]  (Sampling) \n",
      "Chain 7 Iteration: 1800 / 2000 [ 90%]  (Sampling) \n",
      "Chain 1 Iteration: 1900 / 2000 [ 95%]  (Sampling) \n",
      "Chain 4 Iteration: 1900 / 2000 [ 95%]  (Sampling) \n",
      "Chain 2 Iteration: 1900 / 2000 [ 95%]  (Sampling) \n",
      "Chain 3 Iteration: 1900 / 2000 [ 95%]  (Sampling) \n",
      "Chain 5 Iteration: 1900 / 2000 [ 95%]  (Sampling) \n",
      "Chain 6 Iteration: 1900 / 2000 [ 95%]  (Sampling) \n",
      "Chain 7 Iteration: 1900 / 2000 [ 95%]  (Sampling) \n",
      "Chain 1 Iteration: 2000 / 2000 [100%]  (Sampling) \n",
      "Chain 4 Iteration: 2000 / 2000 [100%]  (Sampling) \n",
      "Chain 6 Iteration: 2000 / 2000 [100%]  (Sampling) \n",
      "Chain 1 finished in 4.7 seconds.\n",
      "Chain 3 Iteration: 2000 / 2000 [100%]  (Sampling) \n",
      "Chain 3 finished in 0.0 seconds.\n",
      "Chain 4 finished in 4.7 seconds.\n",
      "Chain 6 finished in 4.7 seconds.\n",
      "Chain 2 Iteration: 2000 / 2000 [100%]  (Sampling) \n",
      "Chain 5 Iteration: 2000 / 2000 [100%]  (Sampling) \n",
      "Chain 7 Iteration: 2000 / 2000 [100%]  (Sampling) \n",
      "Chain 2 finished in 4.8 seconds.\n",
      "Chain 3 finished in 4.8 seconds.\n",
      "Chain 5 finished in 4.8 seconds.\n",
      "Chain 7 finished in 4.7 seconds.\n",
      "\n",
      "All 7 chains finished successfully.\n",
      "Mean chain execution time: 4.7 seconds.\n",
      "Total execution time: 5.0 seconds.\n",
      "\n"
     ]
    },
    {
     "name": "stderr",
     "output_type": "stream",
     "text": [
      "Computing WAIC\n",
      "\n"
     ]
    }
   ],
   "source": [
    "# Build a model of a simple offset over all and then one offset that is only sensitive to males.\n",
    "model <- map2stan(\n",
    "    alist(\n",
    "        weight ~ dnorm(mu, sigma),\n",
    "        mu <- a + a_male * male,\n",
    "        c(a, a_male) ~ dnorm(0, 1),\n",
    "        sigma ~ dcauchy(0, 1)\n",
    "    ),\n",
    "    data = d,\n",
    "    constraints = list(sigma = \"lower=0\"),\n",
    "    cores = 7, chains = 7\n",
    ")"
   ]
  },
  {
   "cell_type": "code",
   "execution_count": 83,
   "metadata": {
    "vscode": {
     "languageId": "r"
    }
   },
   "outputs": [
    {
     "name": "stderr",
     "output_type": "stream",
     "text": [
      "544 vector or matrix parameters hidden. Use depth=2 to show them.\n",
      "\n"
     ]
    },
    {
     "data": {
      "text/html": [
       "<table class=\"dataframe\">\n",
       "<caption>A precis: 3 × 6</caption>\n",
       "<thead>\n",
       "\t<tr><th></th><th scope=col>mean</th><th scope=col>sd</th><th scope=col>5.5%</th><th scope=col>94.5%</th><th scope=col>n_eff</th><th scope=col>Rhat4</th></tr>\n",
       "\t<tr><th></th><th scope=col>&lt;dbl&gt;</th><th scope=col>&lt;dbl&gt;</th><th scope=col>&lt;dbl&gt;</th><th scope=col>&lt;dbl&gt;</th><th scope=col>&lt;dbl&gt;</th><th scope=col>&lt;dbl&gt;</th></tr>\n",
       "</thead>\n",
       "<tbody>\n",
       "\t<tr><th scope=row>a</th><td>-0.1453619</td><td>0.05921608</td><td>-0.2413264</td><td>-0.05299327</td><td>3447.389</td><td>1.001878</td></tr>\n",
       "\t<tr><th scope=row>a_male</th><td> 0.3093652</td><td>0.08529938</td><td> 0.1726227</td><td> 0.44386185</td><td>3538.097</td><td>1.000919</td></tr>\n",
       "\t<tr><th scope=row>sigma</th><td> 0.9907215</td><td>0.02989790</td><td> 0.9435556</td><td> 1.03933330</td><td>4789.052</td><td>1.000336</td></tr>\n",
       "</tbody>\n",
       "</table>\n"
      ],
      "text/latex": [
       "A precis: 3 × 6\n",
       "\\begin{tabular}{r|llllll}\n",
       "  & mean & sd & 5.5\\% & 94.5\\% & n\\_eff & Rhat4\\\\\n",
       "  & <dbl> & <dbl> & <dbl> & <dbl> & <dbl> & <dbl>\\\\\n",
       "\\hline\n",
       "\ta & -0.1453619 & 0.05921608 & -0.2413264 & -0.05299327 & 3447.389 & 1.001878\\\\\n",
       "\ta\\_male &  0.3093652 & 0.08529938 &  0.1726227 &  0.44386185 & 3538.097 & 1.000919\\\\\n",
       "\tsigma &  0.9907215 & 0.02989790 &  0.9435556 &  1.03933330 & 4789.052 & 1.000336\\\\\n",
       "\\end{tabular}\n"
      ],
      "text/markdown": [
       "\n",
       "A precis: 3 × 6\n",
       "\n",
       "| <!--/--> | mean &lt;dbl&gt; | sd &lt;dbl&gt; | 5.5% &lt;dbl&gt; | 94.5% &lt;dbl&gt; | n_eff &lt;dbl&gt; | Rhat4 &lt;dbl&gt; |\n",
       "|---|---|---|---|---|---|---|\n",
       "| a | -0.1453619 | 0.05921608 | -0.2413264 | -0.05299327 | 3447.389 | 1.001878 |\n",
       "| a_male |  0.3093652 | 0.08529938 |  0.1726227 |  0.44386185 | 3538.097 | 1.000919 |\n",
       "| sigma |  0.9907215 | 0.02989790 |  0.9435556 |  1.03933330 | 4789.052 | 1.000336 |\n",
       "\n"
      ],
      "text/plain": [
       "       mean       sd         5.5%       94.5%       n_eff    Rhat4   \n",
       "a      -0.1453619 0.05921608 -0.2413264 -0.05299327 3447.389 1.001878\n",
       "a_male  0.3093652 0.08529938  0.1726227  0.44386185 3538.097 1.000919\n",
       "sigma   0.9907215 0.02989790  0.9435556  1.03933330 4789.052 1.000336"
      ]
     },
     "metadata": {},
     "output_type": "display_data"
    }
   ],
   "source": [
    "precis(model)"
   ]
  },
  {
   "cell_type": "code",
   "execution_count": 84,
   "metadata": {
    "vscode": {
     "languageId": "r"
    }
   },
   "outputs": [
    {
     "name": "stdout",
     "output_type": "stream",
     "text": [
      "[ 1000 / 1000 ]\n"
     ]
    },
    {
     "data": {
      "image/png": "[encoded data removed]",
      "text/plain": [
       "plot without title"
      ]
     },
     "metadata": {
      "image/png": {
       "height": 420,
       "width": 420
      }
     },
     "output_type": "display_data"
    }
   ],
   "source": [
    "weights <- d$weight[d$male == 1]\n",
    "plot(weights)\n",
    "\n",
    "post <- extract.samples(model)\n",
    "mu <- post$a + post$a_male\n",
    "\n",
    "mu_mean <- mean(mu)\n",
    "mu_HPDI <- HPDI(mu, prob = 0.92)\n",
    "\n",
    "lines(1:length(weights), rep(mu_mean, times = length(weights)))\n",
    "lines(1:length(weights), rep(mu_HPDI[1], times = length(weights)), lty = 3)\n",
    "lines(1:length(weights), rep(mu_HPDI[2], times = length(weights)), lty = 3)\n",
    "\n",
    "weight_sim <- sim(model, data = list(male = 1))\n",
    "weight_HPDI <- HPDI(weight_sim)\n",
    "\n",
    "lines(1:length(weights), rep(weight_HPDI[1], times = length(weights)), lty = 5)\n",
    "lines(1:length(weights), rep(weight_HPDI[2], times = length(weights)), lty = 5)"
   ]
  },
  {
   "cell_type": "code",
   "execution_count": 85,
   "metadata": {
    "vscode": {
     "languageId": "r"
    }
   },
   "outputs": [
    {
     "name": "stdout",
     "output_type": "stream",
     "text": [
      "[ 1000 / 1000 ]\n"
     ]
    },
    {
     "data": {
      "image/png": "[encoded data removed]",
      "text/plain": [
       "plot without title"
      ]
     },
     "metadata": {
      "image/png": {
       "height": 420,
       "width": 420
      }
     },
     "output_type": "display_data"
    }
   ],
   "source": [
    "weights <- d$weight[d$male == 0]\n",
    "plot(weights, ylim = c(-2, 2))\n",
    "\n",
    "post <- extract.samples(model)\n",
    "mu <- post$a #+ post$a_male\n",
    "\n",
    "mu_mean <- mean(mu)\n",
    "mu_HPDI <- HPDI(mu, prob = 0.92)\n",
    "\n",
    "lines(1:length(weights), rep(mu_mean, times = length(weights)))\n",
    "lines(1:length(weights), rep(mu_HPDI[1], times = length(weights)), lty = 3)\n",
    "lines(1:length(weights), rep(mu_HPDI[2], times = length(weights)), lty = 3)\n",
    "\n",
    "weight_sim <- sim(model, data = list(male = 0))\n",
    "weight_HPDI <- HPDI(weight_sim)\n",
    "\n",
    "lines(1:length(weights), rep(weight_HPDI[1], times = length(weights)), lty = 5)\n",
    "lines(1:length(weights), rep(weight_HPDI[2], times = length(weights)), lty = 5)"
   ]
  },
  {
   "attachments": {},
   "cell_type": "markdown",
   "metadata": {},
   "source": [
    "We see that for most of the data seems to agree with the means and credible intervals. For highter indices there is some notable divergence to below the HPDI lower border, which means that there are some unaccounted for predictors (such as age). Notably, we get that there is a significant difference of the weight from the gender and that the females were on average lighter than the males."
   ]
  },
  {
   "attachments": {},
   "cell_type": "markdown",
   "metadata": {},
   "source": [
    "### Considering the effect of weight on height"
   ]
  },
  {
   "attachments": {},
   "cell_type": "markdown",
   "metadata": {},
   "source": [
    "We first investigate the general relation between the two factors."
   ]
  },
  {
   "cell_type": "code",
   "execution_count": 97,
   "metadata": {
    "vscode": {
     "languageId": "r"
    }
   },
   "outputs": [
    {
     "name": "stderr",
     "output_type": "stream",
     "text": [
      "Warning message in map2stan(alist(height ~ dnorm(mu, sigma), mu <- a + b_weight * :\n",
      "\"DEPRECATED: map2stan is no longer supported and may behave unpredictably or stop working altogether. Start using ulam instead.\"\n",
      "Warning message in map2stan(alist(height ~ dnorm(mu, sigma), mu <- a + b_weight * :\n",
      "\"Stripping scale attributes from variable weight\"\n",
      "Warning message in map2stan(alist(height ~ dnorm(mu, sigma), mu <- a + b_weight * :\n",
      "\"Stripping scale attributes from variable height\"\n",
      "Warning in 'C:/Users/immal/AppData/Local/Temp/RtmpwXqVqA/model-33bc36b4531c.stan', line 4, column 4: Declaration\n",
      "    of arrays by placing brackets after a variable name is deprecated and\n",
      "    will be removed in Stan 2.32.0. Instead use the array keyword before the\n",
      "    type. This can be changed automatically using the auto-format flag to\n",
      "    stanc\n",
      "Warning in 'C:/Users/immal/AppData/Local/Temp/RtmpwXqVqA/model-33bc36b4531c.stan', line 5, column 4: Declaration\n",
      "    of arrays by placing brackets after a variable name is deprecated and\n",
      "    will be removed in Stan 2.32.0. Instead use the array keyword before the\n",
      "    type. This can be changed automatically using the auto-format flag to\n",
      "    stanc\n",
      "\n",
      "\n"
     ]
    },
    {
     "name": "stdout",
     "output_type": "stream",
     "text": [
      "Running MCMC with 7 parallel chains...\n",
      "\n",
      "Chain 1 Iteration:    1 / 2000 [  0%]  (Warmup) \n",
      "Chain 2 Iteration:    1 / 2000 [  0%]  (Warmup) \n"
     ]
    },
    {
     "name": "stderr",
     "output_type": "stream",
     "text": [
      "Chain 2 Informational Message: The current Metropolis proposal is about to be rejected because of the following issue:\n",
      "\n",
      "Chain 2 Exception: normal_lpdf: Scale parameter is 0, but must be positive! (in 'C:/Users/immal/AppData/Local/Temp/RtmpwXqVqA/model-33bc36b4531c.stan', line 20, column 4 to column 34)\n",
      "\n",
      "Chain 2 If this warning occurs sporadically, such as for highly constrained variable types like covariance matrices, then the sampler is fine,\n",
      "\n",
      "Chain 2 but if this warning occurs often then your model may be either severely ill-conditioned or misspecified.\n",
      "\n",
      "Chain 2 \n",
      "\n"
     ]
    },
    {
     "name": "stdout",
     "output_type": "stream",
     "text": [
      "Chain 3 Iteration:    1 / 2000 [  0%]  (Warmup) \n"
     ]
    },
    {
     "name": "stderr",
     "output_type": "stream",
     "text": [
      "Chain 3 Informational Message: The current Metropolis proposal is about to be rejected because of the following issue:\n",
      "\n",
      "Chain 3 Exception: normal_lpdf: Scale parameter is 0, but must be positive! (in 'C:/Users/immal/AppData/Local/Temp/RtmpwXqVqA/model-33bc36b4531c.stan', line 20, column 4 to column 34)\n",
      "\n",
      "Chain 3 If this warning occurs sporadically, such as for highly constrained variable types like covariance matrices, then the sampler is fine,\n",
      "\n",
      "Chain 3 but if this warning occurs often then your model may be either severely ill-conditioned or misspecified.\n",
      "\n",
      "Chain 3 \n",
      "\n"
     ]
    },
    {
     "name": "stdout",
     "output_type": "stream",
     "text": [
      "Chain 4 Iteration:    1 / 2000 [  0%]  (Warmup) \n",
      "Chain 5 Iteration:    1 / 2000 [  0%]  (Warmup) \n",
      "Chain 6 Iteration:    1 / 2000 [  0%]  (Warmup) \n",
      "Chain 7 Iteration:    1 / 2000 [  0%]  (Warmup) \n",
      "Chain 1 Iteration:  100 / 2000 [  5%]  (Warmup) \n",
      "Chain 1 Iteration:  200 / 2000 [ 10%]  (Warmup) \n",
      "Chain 1 Iteration:  300 / 2000 [ 15%]  (Warmup) \n",
      "Chain 1 Iteration:  400 / 2000 [ 20%]  (Warmup) \n",
      "Chain 1 Iteration:  500 / 2000 [ 25%]  (Warmup) \n",
      "Chain 2 Iteration:  100 / 2000 [  5%]  (Warmup) \n",
      "Chain 2 Iteration:  200 / 2000 [ 10%]  (Warmup) \n",
      "Chain 2 Iteration:  300 / 2000 [ 15%]  (Warmup) \n",
      "Chain 2 Iteration:  400 / 2000 [ 20%]  (Warmup) \n",
      "Chain 2 Iteration:  500 / 2000 [ 25%]  (Warmup) \n",
      "Chain 3 Iteration:  100 / 2000 [  5%]  (Warmup) \n",
      "Chain 3 Iteration:  200 / 2000 [ 10%]  (Warmup) \n",
      "Chain 3 Iteration:  300 / 2000 [ 15%]  (Warmup) \n",
      "Chain 3 Iteration:  400 / 2000 [ 20%]  (Warmup) \n",
      "Chain 3 Iteration:  500 / 2000 [ 25%]  (Warmup) \n",
      "Chain 4 Iteration:  100 / 2000 [  5%]  (Warmup) \n",
      "Chain 4 Iteration:  200 / 2000 [ 10%]  (Warmup) \n",
      "Chain 4 Iteration:  300 / 2000 [ 15%]  (Warmup) \n",
      "Chain 4 Iteration:  400 / 2000 [ 20%]  (Warmup) \n",
      "Chain 5 Iteration:  100 / 2000 [  5%]  (Warmup) \n",
      "Chain 5 Iteration:  200 / 2000 [ 10%]  (Warmup) \n",
      "Chain 5 Iteration:  300 / 2000 [ 15%]  (Warmup) \n",
      "Chain 5 Iteration:  400 / 2000 [ 20%]  (Warmup) \n",
      "Chain 6 Iteration:  100 / 2000 [  5%]  (Warmup) \n",
      "Chain 6 Iteration:  200 / 2000 [ 10%]  (Warmup) \n",
      "Chain 6 Iteration:  300 / 2000 [ 15%]  (Warmup) \n",
      "Chain 6 Iteration:  400 / 2000 [ 20%]  (Warmup) \n",
      "Chain 7 Iteration:  100 / 2000 [  5%]  (Warmup) \n",
      "Chain 7 Iteration:  200 / 2000 [ 10%]  (Warmup) \n",
      "Chain 7 Iteration:  300 / 2000 [ 15%]  (Warmup) \n",
      "Chain 7 Iteration:  400 / 2000 [ 20%]  (Warmup) \n",
      "Chain 1 Iteration:  600 / 2000 [ 30%]  (Warmup) \n",
      "Chain 2 Iteration:  600 / 2000 [ 30%]  (Warmup) \n",
      "Chain 3 Iteration:  600 / 2000 [ 30%]  (Warmup) \n",
      "Chain 4 Iteration:  500 / 2000 [ 25%]  (Warmup) \n",
      "Chain 5 Iteration:  500 / 2000 [ 25%]  (Warmup) \n",
      "Chain 6 Iteration:  500 / 2000 [ 25%]  (Warmup) \n",
      "Chain 7 Iteration:  500 / 2000 [ 25%]  (Warmup) \n",
      "Chain 1 Iteration:  700 / 2000 [ 35%]  (Warmup) \n",
      "Chain 4 Iteration:  600 / 2000 [ 30%]  (Warmup) \n",
      "Chain 2 Iteration:  700 / 2000 [ 35%]  (Warmup) \n",
      "Chain 3 Iteration:  700 / 2000 [ 35%]  (Warmup) \n",
      "Chain 5 Iteration:  600 / 2000 [ 30%]  (Warmup) \n",
      "Chain 6 Iteration:  600 / 2000 [ 30%]  (Warmup) \n",
      "Chain 7 Iteration:  600 / 2000 [ 30%]  (Warmup) \n",
      "Chain 1 Iteration:  800 / 2000 [ 40%]  (Warmup) \n",
      "Chain 4 Iteration:  700 / 2000 [ 35%]  (Warmup) \n",
      "Chain 2 Iteration:  800 / 2000 [ 40%]  (Warmup) \n",
      "Chain 3 Iteration:  800 / 2000 [ 40%]  (Warmup) \n",
      "Chain 5 Iteration:  700 / 2000 [ 35%]  (Warmup) \n",
      "Chain 7 Iteration:  700 / 2000 [ 35%]  (Warmup) \n",
      "Chain 1 Iteration:  900 / 2000 [ 45%]  (Warmup) \n",
      "Chain 4 Iteration:  800 / 2000 [ 40%]  (Warmup) \n",
      "Chain 6 Iteration:  700 / 2000 [ 35%]  (Warmup) \n",
      "Chain 3 Iteration:  900 / 2000 [ 45%]  (Warmup) \n",
      "Chain 2 Iteration:  900 / 2000 [ 45%]  (Warmup) \n",
      "Chain 6 Iteration:  800 / 2000 [ 40%]  (Warmup) \n",
      "Chain 7 Iteration:  800 / 2000 [ 40%]  (Warmup) \n",
      "Chain 1 Iteration: 1000 / 2000 [ 50%]  (Warmup) \n",
      "Chain 3 Iteration: 1000 / 2000 [ 50%]  (Warmup) \n",
      "Chain 4 Iteration:  900 / 2000 [ 45%]  (Warmup) \n",
      "Chain 5 Iteration:  800 / 2000 [ 40%]  (Warmup) \n",
      "Chain 1 Iteration: 1001 / 2000 [ 50%]  (Sampling) \n",
      "Chain 3 Iteration: 1001 / 2000 [ 50%]  (Sampling) \n",
      "Chain 6 Iteration:  900 / 2000 [ 45%]  (Warmup) \n",
      "Chain 1 Iteration: 1100 / 2000 [ 55%]  (Sampling) \n",
      "Chain 2 Iteration: 1000 / 2000 [ 50%]  (Warmup) \n",
      "Chain 3 Iteration: 1100 / 2000 [ 55%]  (Sampling) \n",
      "Chain 4 Iteration: 1000 / 2000 [ 50%]  (Warmup) \n",
      "Chain 5 Iteration:  900 / 2000 [ 45%]  (Warmup) \n",
      "Chain 7 Iteration:  900 / 2000 [ 45%]  (Warmup) \n",
      "Chain 2 Iteration: 1001 / 2000 [ 50%]  (Sampling) \n",
      "Chain 4 Iteration: 1001 / 2000 [ 50%]  (Sampling) \n",
      "Chain 6 Iteration: 1000 / 2000 [ 50%]  (Warmup) \n",
      "Chain 1 Iteration: 1200 / 2000 [ 60%]  (Sampling) \n",
      "Chain 2 Iteration: 1100 / 2000 [ 55%]  (Sampling) \n",
      "Chain 4 Iteration: 1100 / 2000 [ 55%]  (Sampling) \n",
      "Chain 5 Iteration: 1000 / 2000 [ 50%]  (Warmup) \n",
      "Chain 6 Iteration: 1001 / 2000 [ 50%]  (Sampling) \n",
      "Chain 3 Iteration: 1200 / 2000 [ 60%]  (Sampling) \n",
      "Chain 5 Iteration: 1001 / 2000 [ 50%]  (Sampling) \n",
      "Chain 6 Iteration: 1100 / 2000 [ 55%]  (Sampling) \n",
      "Chain 7 Iteration: 1000 / 2000 [ 50%]  (Warmup) \n",
      "Chain 7 Iteration: 1001 / 2000 [ 50%]  (Sampling) \n",
      "Chain 1 Iteration: 1300 / 2000 [ 65%]  (Sampling) \n",
      "Chain 2 Iteration: 1200 / 2000 [ 60%]  (Sampling) \n",
      "Chain 3 Iteration: 1300 / 2000 [ 65%]  (Sampling) \n",
      "Chain 4 Iteration: 1200 / 2000 [ 60%]  (Sampling) \n",
      "Chain 5 Iteration: 1100 / 2000 [ 55%]  (Sampling) \n",
      "Chain 7 Iteration: 1100 / 2000 [ 55%]  (Sampling) \n",
      "Chain 6 Iteration: 1200 / 2000 [ 60%]  (Sampling) \n",
      "Chain 2 Iteration: 1300 / 2000 [ 65%]  (Sampling) \n",
      "Chain 5 Iteration: 1200 / 2000 [ 60%]  (Sampling) \n",
      "Chain 1 Iteration: 1400 / 2000 [ 70%]  (Sampling) \n",
      "Chain 3 Iteration: 1400 / 2000 [ 70%]  (Sampling) \n",
      "Chain 4 Iteration: 1300 / 2000 [ 65%]  (Sampling) \n",
      "Chain 6 Iteration: 1300 / 2000 [ 65%]  (Sampling) \n",
      "Chain 7 Iteration: 1200 / 2000 [ 60%]  (Sampling) \n",
      "Chain 1 Iteration: 1500 / 2000 [ 75%]  (Sampling) \n",
      "Chain 2 Iteration: 1400 / 2000 [ 70%]  (Sampling) \n",
      "Chain 3 Iteration: 1500 / 2000 [ 75%]  (Sampling) \n",
      "Chain 4 Iteration: 1400 / 2000 [ 70%]  (Sampling) \n",
      "Chain 5 Iteration: 1300 / 2000 [ 65%]  (Sampling) \n",
      "Chain 7 Iteration: 1300 / 2000 [ 65%]  (Sampling) \n",
      "Chain 6 Iteration: 1400 / 2000 [ 70%]  (Sampling) \n",
      "Chain 2 Iteration: 1500 / 2000 [ 75%]  (Sampling) \n",
      "Chain 1 Iteration: 1600 / 2000 [ 80%]  (Sampling) \n",
      "Chain 3 Iteration: 1600 / 2000 [ 80%]  (Sampling) \n",
      "Chain 4 Iteration: 1500 / 2000 [ 75%]  (Sampling) \n",
      "Chain 5 Iteration: 1400 / 2000 [ 70%]  (Sampling) \n",
      "Chain 6 Iteration: 1500 / 2000 [ 75%]  (Sampling) \n",
      "Chain 7 Iteration: 1400 / 2000 [ 70%]  (Sampling) \n",
      "Chain 2 Iteration: 1600 / 2000 [ 80%]  (Sampling) \n",
      "Chain 6 Iteration: 1600 / 2000 [ 80%]  (Sampling) \n",
      "Chain 1 Iteration: 1700 / 2000 [ 85%]  (Sampling) \n",
      "Chain 3 Iteration: 1700 / 2000 [ 85%]  (Sampling) \n",
      "Chain 5 Iteration: 1500 / 2000 [ 75%]  (Sampling) \n",
      "Chain 7 Iteration: 1500 / 2000 [ 75%]  (Sampling) \n",
      "Chain 2 Iteration: 1700 / 2000 [ 85%]  (Sampling) \n",
      "Chain 4 Iteration: 1600 / 2000 [ 80%]  (Sampling) \n",
      "Chain 1 Iteration: 1800 / 2000 [ 90%]  (Sampling) \n",
      "Chain 5 Iteration: 1600 / 2000 [ 80%]  (Sampling) \n",
      "Chain 6 Iteration: 1700 / 2000 [ 85%]  (Sampling) \n",
      "Chain 3 Iteration: 1800 / 2000 [ 90%]  (Sampling) \n",
      "Chain 4 Iteration: 1700 / 2000 [ 85%]  (Sampling) \n",
      "Chain 7 Iteration: 1600 / 2000 [ 80%]  (Sampling) \n",
      "Chain 2 Iteration: 1800 / 2000 [ 90%]  (Sampling) \n",
      "Chain 6 Iteration: 1800 / 2000 [ 90%]  (Sampling) \n",
      "Chain 7 Iteration: 1700 / 2000 [ 85%]  (Sampling) \n",
      "Chain 1 Iteration: 1900 / 2000 [ 95%]  (Sampling) \n",
      "Chain 3 Iteration: 1900 / 2000 [ 95%]  (Sampling) \n",
      "Chain 5 Iteration: 1700 / 2000 [ 85%]  (Sampling) \n",
      "Chain 2 Iteration: 1900 / 2000 [ 95%]  (Sampling) \n",
      "Chain 1 Iteration: 2000 / 2000 [100%]  (Sampling) \n",
      "Chain 3 Iteration: 2000 / 2000 [100%]  (Sampling) \n",
      "Chain 4 Iteration: 1800 / 2000 [ 90%]  (Sampling) \n",
      "Chain 6 Iteration: 1900 / 2000 [ 95%]  (Sampling) \n",
      "Chain 1 finished in 6.7 seconds.\n",
      "Chain 2 Iteration: 2000 / 2000 [100%]  (Sampling) \n",
      "Chain 2 finished in 0.0 seconds.\n",
      "Chain 3 finished in 6.7 seconds.\n",
      "Chain 6 Iteration: 2000 / 2000 [100%]  (Sampling) \n",
      "Chain 6 finished in 6.9 seconds.\n",
      "Chain 4 Iteration: 1900 / 2000 [ 95%]  (Sampling) \n",
      "Chain 4 Iteration: 2000 / 2000 [100%]  (Sampling) \n",
      "Chain 5 Iteration: 1800 / 2000 [ 90%]  (Sampling) \n",
      "Chain 7 Iteration: 1800 / 2000 [ 90%]  (Sampling) \n",
      "Chain 2 finished in 7.0 seconds.\n",
      "Chain 4 finished in 7.2 seconds.\n",
      "Chain 5 Iteration: 1900 / 2000 [ 95%]  (Sampling) \n",
      "Chain 5 Iteration: 2000 / 2000 [100%]  (Sampling) \n",
      "Chain 5 finished in 7.2 seconds.\n",
      "Chain 7 Iteration: 1900 / 2000 [ 95%]  (Sampling) \n",
      "Chain 7 Iteration: 2000 / 2000 [100%]  (Sampling) \n",
      "Chain 7 finished in 7.2 seconds.\n",
      "\n",
      "All 7 chains finished successfully.\n",
      "Mean chain execution time: 7.0 seconds.\n",
      "Total execution time: 7.4 seconds.\n",
      "\n"
     ]
    },
    {
     "name": "stderr",
     "output_type": "stream",
     "text": [
      "Computing WAIC\n",
      "\n"
     ]
    }
   ],
   "source": [
    "# We build a linear model for the relationship\n",
    "# Build a model of a simple offset over all and then one offset that is only sensitive to males.\n",
    "model2 <- map2stan(\n",
    "    alist(\n",
    "        height ~ dnorm(mu, sigma),\n",
    "        mu <- a + b_weight * weight,\n",
    "        a ~ dnorm(0, 2),\n",
    "        b_weight ~ dnorm(0, 2),\n",
    "        sigma ~ dcauchy(0, 2)\n",
    "    ),\n",
    "    data = d,\n",
    "    constraints = list(sigma = \"lower=0\"),\n",
    "    cores = 7, chains = 7\n",
    ")"
   ]
  },
  {
   "cell_type": "code",
   "execution_count": 90,
   "metadata": {
    "vscode": {
     "languageId": "r"
    }
   },
   "outputs": [
    {
     "name": "stdout",
     "output_type": "stream",
     "text": [
      "[ 1000 / 1000 ]\n"
     ]
    },
    {
     "data": {
      "image/png": "[encoded data removed]",
      "text/plain": [
       "plot without title"
      ]
     },
     "metadata": {
      "image/png": {
       "height": 420,
       "width": 420
      }
     },
     "output_type": "display_data"
    }
   ],
   "source": [
    "post2 <- extract.samples(model2)\n",
    "mu_link2 <- function (weight) post2$a + post2$b_weight * weight\n",
    "weight_seq <- seq(from = -2, to = 2, by = 0.02)\n",
    "\n",
    "plot(height ~ weight, data = d)\n",
    "\n",
    "mu <- sapply(weight_seq, mu_link2)\n",
    "mu_mean <- apply(mu, 2, mean)\n",
    "mu_HPDI <- apply(mu, 2, HPDI, prob = 0.92)\n",
    "\n",
    "lines(weight_seq, mu_mean)\n",
    "shade(mu_HPDI, weight_seq)\n",
    "\n",
    "height_sim <- sim(model2, data = list(weight = weight_seq))\n",
    "height_HPDI <- apply(height_sim, 2, HPDI, prob = 0.92)\n",
    "\n",
    "shade(height_HPDI, weight_seq)"
   ]
  },
  {
   "attachments": {},
   "cell_type": "markdown",
   "metadata": {},
   "source": [
    "As we can see, while the data fits well in the HPDI of the model, it overestimates the mean for low weights and underestimates it for highter weights, while the slope for the highest cluster is very much not correct. This gives us the incentive to use a log model."
   ]
  },
  {
   "cell_type": "code",
   "execution_count": 99,
   "metadata": {
    "vscode": {
     "languageId": "r"
    }
   },
   "outputs": [
    {
     "data": {
      "text/html": [
       "<table class=\"dataframe\">\n",
       "<caption>A data.frame: 544 × 4</caption>\n",
       "<thead>\n",
       "\t<tr><th scope=col>weight</th><th scope=col>male</th><th scope=col>height</th><th scope=col>logweight</th></tr>\n",
       "\t<tr><th scope=col>&lt;dbl[,1]&gt;</th><th scope=col>&lt;int&gt;</th><th scope=col>&lt;dbl[,1]&gt;</th><th scope=col>&lt;dbl&gt;</th></tr>\n",
       "</thead>\n",
       "<tbody>\n",
       "\t<tr><td> 0.829868948</td><td>1</td><td> 0.48913791</td><td>3.867561</td></tr>\n",
       "\t<tr><td> 0.059459088</td><td>0</td><td> 0.05203900</td><td>3.596923</td></tr>\n",
       "\t<tr><td>-0.254482930</td><td>0</td><td>-0.06298703</td><td>3.461503</td></tr>\n",
       "\t<tr><td> 1.184257483</td><td>1</td><td> 0.67317956</td><td>3.971082</td></tr>\n",
       "\t<tr><td> 0.384957254</td><td>0</td><td> 0.25908585</td><td>3.720302</td></tr>\n",
       "\t<tr><td> 1.860292135</td><td>1</td><td> 0.92623683</td><td>4.143017</td></tr>\n",
       "\t<tr><td> 0.178872616</td><td>0</td><td> 0.39711709</td><td>3.643973</td></tr>\n",
       "\t<tr><td> 1.349895603</td><td>1</td><td> 1.11027848</td><td>4.016022</td></tr>\n",
       "\t<tr><td>-0.050324317</td><td>0</td><td> 0.35110668</td><td>3.551624</td></tr>\n",
       "\t<tr><td> 1.282484740</td><td>1</td><td> 0.97224725</td><td>3.997976</td></tr>\n",
       "\t<tr><td> 0.970468747</td><td>0</td><td> 0.58115874</td><td>3.909923</td></tr>\n",
       "\t<tr><td> 0.381105204</td><td>1</td><td> 0.46613271</td><td>3.718928</td></tr>\n",
       "\t<tr><td> 0.028642693</td><td>0</td><td> 0.23608065</td><td>3.584413</td></tr>\n",
       "\t<tr><td> 0.821335421</td><td>0</td><td> 0.42157144</td><td>3.864931</td></tr>\n",
       "\t<tr><td>-0.119661205</td><td>0</td><td> 0.44312750</td><td>3.521918</td></tr>\n",
       "\t<tr><td> 0.879945589</td><td>1</td><td> 0.90323163</td><td>3.882856</td></tr>\n",
       "\t<tr><td> 0.456220166</td><td>1</td><td> 0.69618477</td><td>3.745397</td></tr>\n",
       "\t<tr><td> 0.186576715</td><td>0</td><td> 0.20571377</td><td>3.646934</td></tr>\n",
       "\t<tr><td>-1.086525579</td><td>1</td><td>-0.59210678</td><td>2.976440</td></tr>\n",
       "\t<tr><td>-1.471730509</td><td>0</td><td>-1.19024214</td><td>2.635333</td></tr>\n",
       "\t<tr><td>-1.706705516</td><td>0</td><td>-1.88039833</td><td>2.350357</td></tr>\n",
       "\t<tr><td> 0.908835958</td><td>1</td><td> 0.83421601</td><td>3.891574</td></tr>\n",
       "\t<tr><td> 0.483184511</td><td>0</td><td> 0.65017436</td><td>3.754730</td></tr>\n",
       "\t<tr><td>-0.816882128</td><td>1</td><td>-0.31604430</td><td>3.160687</td></tr>\n",
       "\t<tr><td>-1.333056734</td><td>0</td><td>-1.05221090</td><td>2.771908</td></tr>\n",
       "\t<tr><td>-0.007951775</td><td>1</td><td> 0.29477109</td><td>3.569352</td></tr>\n",
       "\t<tr><td> 0.155760320</td><td>0</td><td> 0.37411188</td><td>3.635038</td></tr>\n",
       "\t<tr><td>-0.009877800</td><td>0</td><td> 0.32810147</td><td>3.568553</td></tr>\n",
       "\t<tr><td>-0.562646874</td><td>1</td><td>-0.03998183</td><td>3.307945</td></tr>\n",
       "\t<tr><td>-0.878514917</td><td>0</td><td>-0.45407554</td><td>3.121466</td></tr>\n",
       "\t<tr><td>⋮</td><td>⋮</td><td>⋮</td><td>⋮</td></tr>\n",
       "\t<tr><td> 0.48896258</td><td>0</td><td> 0.4891379</td><td>3.756719</td></tr>\n",
       "\t<tr><td> 0.01901257</td><td>0</td><td> 0.3741119</td><td>3.580472</td></tr>\n",
       "\t<tr><td> 0.58526382</td><td>0</td><td> 0.5581535</td><td>3.789295</td></tr>\n",
       "\t<tr><td>-2.13043094</td><td>0</td><td>-3.0536638</td><td>1.447489</td></tr>\n",
       "\t<tr><td> 0.16731647</td><td>0</td><td> 0.3050963</td><td>3.639515</td></tr>\n",
       "\t<tr><td>-2.06879815</td><td>0</td><td>-2.9616430</td><td>1.640861</td></tr>\n",
       "\t<tr><td>-1.44669219</td><td>1</td><td>-1.3512786</td><td>2.661413</td></tr>\n",
       "\t<tr><td>-0.84192045</td><td>1</td><td>-0.5921068</td><td>3.144938</td></tr>\n",
       "\t<tr><td>-1.69514937</td><td>0</td><td>-2.0533975</td><td>2.366443</td></tr>\n",
       "\t<tr><td> 0.57755972</td><td>1</td><td> 0.6041639</td><td>3.786728</td></tr>\n",
       "\t<tr><td> 0.57178164</td><td>0</td><td> 0.6501744</td><td>3.784798</td></tr>\n",
       "\t<tr><td>-0.72250692</td><td>1</td><td>-0.2010183</td><td>3.217912</td></tr>\n",
       "\t<tr><td>-0.88429299</td><td>0</td><td>-0.4770807</td><td>3.117709</td></tr>\n",
       "\t<tr><td>-1.44476616</td><td>0</td><td>-1.3282734</td><td>2.663391</td></tr>\n",
       "\t<tr><td> 0.83372100</td><td>1</td><td> 0.8112108</td><td>3.868746</td></tr>\n",
       "\t<tr><td> 0.25783963</td><td>0</td><td> 0.2820911</td><td>3.673913</td></tr>\n",
       "\t<tr><td>-0.73598909</td><td>0</td><td>-0.2010183</td><td>3.209934</td></tr>\n",
       "\t<tr><td>-1.69514937</td><td>0</td><td>-1.8343879</td><td>2.366443</td></tr>\n",
       "\t<tr><td> 0.36954906</td><td>1</td><td> 0.6501744</td><td>3.714793</td></tr>\n",
       "\t<tr><td> 0.35414086</td><td>0</td><td> 0.5121431</td><td>3.709253</td></tr>\n",
       "\t<tr><td> 0.77594026</td><td>0</td><td> 0.8802264</td><td>3.850824</td></tr>\n",
       "\t<tr><td>-1.22905140</td><td>1</td><td>-0.8451640</td><td>2.863343</td></tr>\n",
       "\t<tr><td>-1.92819835</td><td>0</td><td>-2.5475493</td><td>1.978118</td></tr>\n",
       "\t<tr><td>-0.09269686</td><td>0</td><td> 0.1670650</td><td>3.533575</td></tr>\n",
       "\t<tr><td>-1.87426966</td><td>1</td><td>-2.2254764</td><td>2.082301</td></tr>\n",
       "\t<tr><td>-0.30455957</td><td>1</td><td> 0.2590859</td><td>3.438100</td></tr>\n",
       "\t<tr><td> 1.12455072</td><td>1</td><td> 0.8802264</td><td>3.954375</td></tr>\n",
       "\t<tr><td> 1.25359437</td><td>0</td><td> 0.6501744</td><td>3.990141</td></tr>\n",
       "\t<tr><td>-1.87234364</td><td>1</td><td>-2.4325233</td><td>2.085828</td></tr>\n",
       "\t<tr><td> 1.14958904</td><td>1</td><td> 0.7421952</td><td>3.961415</td></tr>\n",
       "</tbody>\n",
       "</table>\n"
      ],
      "text/latex": [
       "A data.frame: 544 × 4\n",
       "\\begin{tabular}{llll}\n",
       " weight & male & height & logweight\\\\\n",
       " <dbl{[},1{]}> & <int> & <dbl{[},1{]}> & <dbl>\\\\\n",
       "\\hline\n",
       "\t  0.829868948 & 1 &  0.48913791 & 3.867561\\\\\n",
       "\t  0.059459088 & 0 &  0.05203900 & 3.596923\\\\\n",
       "\t -0.254482930 & 0 & -0.06298703 & 3.461503\\\\\n",
       "\t  1.184257483 & 1 &  0.67317956 & 3.971082\\\\\n",
       "\t  0.384957254 & 0 &  0.25908585 & 3.720302\\\\\n",
       "\t  1.860292135 & 1 &  0.92623683 & 4.143017\\\\\n",
       "\t  0.178872616 & 0 &  0.39711709 & 3.643973\\\\\n",
       "\t  1.349895603 & 1 &  1.11027848 & 4.016022\\\\\n",
       "\t -0.050324317 & 0 &  0.35110668 & 3.551624\\\\\n",
       "\t  1.282484740 & 1 &  0.97224725 & 3.997976\\\\\n",
       "\t  0.970468747 & 0 &  0.58115874 & 3.909923\\\\\n",
       "\t  0.381105204 & 1 &  0.46613271 & 3.718928\\\\\n",
       "\t  0.028642693 & 0 &  0.23608065 & 3.584413\\\\\n",
       "\t  0.821335421 & 0 &  0.42157144 & 3.864931\\\\\n",
       "\t -0.119661205 & 0 &  0.44312750 & 3.521918\\\\\n",
       "\t  0.879945589 & 1 &  0.90323163 & 3.882856\\\\\n",
       "\t  0.456220166 & 1 &  0.69618477 & 3.745397\\\\\n",
       "\t  0.186576715 & 0 &  0.20571377 & 3.646934\\\\\n",
       "\t -1.086525579 & 1 & -0.59210678 & 2.976440\\\\\n",
       "\t -1.471730509 & 0 & -1.19024214 & 2.635333\\\\\n",
       "\t -1.706705516 & 0 & -1.88039833 & 2.350357\\\\\n",
       "\t  0.908835958 & 1 &  0.83421601 & 3.891574\\\\\n",
       "\t  0.483184511 & 0 &  0.65017436 & 3.754730\\\\\n",
       "\t -0.816882128 & 1 & -0.31604430 & 3.160687\\\\\n",
       "\t -1.333056734 & 0 & -1.05221090 & 2.771908\\\\\n",
       "\t -0.007951775 & 1 &  0.29477109 & 3.569352\\\\\n",
       "\t  0.155760320 & 0 &  0.37411188 & 3.635038\\\\\n",
       "\t -0.009877800 & 0 &  0.32810147 & 3.568553\\\\\n",
       "\t -0.562646874 & 1 & -0.03998183 & 3.307945\\\\\n",
       "\t -0.878514917 & 0 & -0.45407554 & 3.121466\\\\\n",
       "\t ⋮ & ⋮ & ⋮ & ⋮\\\\\n",
       "\t  0.48896258 & 0 &  0.4891379 & 3.756719\\\\\n",
       "\t  0.01901257 & 0 &  0.3741119 & 3.580472\\\\\n",
       "\t  0.58526382 & 0 &  0.5581535 & 3.789295\\\\\n",
       "\t -2.13043094 & 0 & -3.0536638 & 1.447489\\\\\n",
       "\t  0.16731647 & 0 &  0.3050963 & 3.639515\\\\\n",
       "\t -2.06879815 & 0 & -2.9616430 & 1.640861\\\\\n",
       "\t -1.44669219 & 1 & -1.3512786 & 2.661413\\\\\n",
       "\t -0.84192045 & 1 & -0.5921068 & 3.144938\\\\\n",
       "\t -1.69514937 & 0 & -2.0533975 & 2.366443\\\\\n",
       "\t  0.57755972 & 1 &  0.6041639 & 3.786728\\\\\n",
       "\t  0.57178164 & 0 &  0.6501744 & 3.784798\\\\\n",
       "\t -0.72250692 & 1 & -0.2010183 & 3.217912\\\\\n",
       "\t -0.88429299 & 0 & -0.4770807 & 3.117709\\\\\n",
       "\t -1.44476616 & 0 & -1.3282734 & 2.663391\\\\\n",
       "\t  0.83372100 & 1 &  0.8112108 & 3.868746\\\\\n",
       "\t  0.25783963 & 0 &  0.2820911 & 3.673913\\\\\n",
       "\t -0.73598909 & 0 & -0.2010183 & 3.209934\\\\\n",
       "\t -1.69514937 & 0 & -1.8343879 & 2.366443\\\\\n",
       "\t  0.36954906 & 1 &  0.6501744 & 3.714793\\\\\n",
       "\t  0.35414086 & 0 &  0.5121431 & 3.709253\\\\\n",
       "\t  0.77594026 & 0 &  0.8802264 & 3.850824\\\\\n",
       "\t -1.22905140 & 1 & -0.8451640 & 2.863343\\\\\n",
       "\t -1.92819835 & 0 & -2.5475493 & 1.978118\\\\\n",
       "\t -0.09269686 & 0 &  0.1670650 & 3.533575\\\\\n",
       "\t -1.87426966 & 1 & -2.2254764 & 2.082301\\\\\n",
       "\t -0.30455957 & 1 &  0.2590859 & 3.438100\\\\\n",
       "\t  1.12455072 & 1 &  0.8802264 & 3.954375\\\\\n",
       "\t  1.25359437 & 0 &  0.6501744 & 3.990141\\\\\n",
       "\t -1.87234364 & 1 & -2.4325233 & 2.085828\\\\\n",
       "\t  1.14958904 & 1 &  0.7421952 & 3.961415\\\\\n",
       "\\end{tabular}\n"
      ],
      "text/markdown": [
       "\n",
       "A data.frame: 544 × 4\n",
       "\n",
       "| weight &lt;dbl[,1]&gt; | male &lt;int&gt; | height &lt;dbl[,1]&gt; | logweight &lt;dbl&gt; |\n",
       "|---|---|---|---|\n",
       "|  0.829868948 | 1 |  0.48913791 | 3.867561 |\n",
       "|  0.059459088 | 0 |  0.05203900 | 3.596923 |\n",
       "| -0.254482930 | 0 | -0.06298703 | 3.461503 |\n",
       "|  1.184257483 | 1 |  0.67317956 | 3.971082 |\n",
       "|  0.384957254 | 0 |  0.25908585 | 3.720302 |\n",
       "|  1.860292135 | 1 |  0.92623683 | 4.143017 |\n",
       "|  0.178872616 | 0 |  0.39711709 | 3.643973 |\n",
       "|  1.349895603 | 1 |  1.11027848 | 4.016022 |\n",
       "| -0.050324317 | 0 |  0.35110668 | 3.551624 |\n",
       "|  1.282484740 | 1 |  0.97224725 | 3.997976 |\n",
       "|  0.970468747 | 0 |  0.58115874 | 3.909923 |\n",
       "|  0.381105204 | 1 |  0.46613271 | 3.718928 |\n",
       "|  0.028642693 | 0 |  0.23608065 | 3.584413 |\n",
       "|  0.821335421 | 0 |  0.42157144 | 3.864931 |\n",
       "| -0.119661205 | 0 |  0.44312750 | 3.521918 |\n",
       "|  0.879945589 | 1 |  0.90323163 | 3.882856 |\n",
       "|  0.456220166 | 1 |  0.69618477 | 3.745397 |\n",
       "|  0.186576715 | 0 |  0.20571377 | 3.646934 |\n",
       "| -1.086525579 | 1 | -0.59210678 | 2.976440 |\n",
       "| -1.471730509 | 0 | -1.19024214 | 2.635333 |\n",
       "| -1.706705516 | 0 | -1.88039833 | 2.350357 |\n",
       "|  0.908835958 | 1 |  0.83421601 | 3.891574 |\n",
       "|  0.483184511 | 0 |  0.65017436 | 3.754730 |\n",
       "| -0.816882128 | 1 | -0.31604430 | 3.160687 |\n",
       "| -1.333056734 | 0 | -1.05221090 | 2.771908 |\n",
       "| -0.007951775 | 1 |  0.29477109 | 3.569352 |\n",
       "|  0.155760320 | 0 |  0.37411188 | 3.635038 |\n",
       "| -0.009877800 | 0 |  0.32810147 | 3.568553 |\n",
       "| -0.562646874 | 1 | -0.03998183 | 3.307945 |\n",
       "| -0.878514917 | 0 | -0.45407554 | 3.121466 |\n",
       "| ⋮ | ⋮ | ⋮ | ⋮ |\n",
       "|  0.48896258 | 0 |  0.4891379 | 3.756719 |\n",
       "|  0.01901257 | 0 |  0.3741119 | 3.580472 |\n",
       "|  0.58526382 | 0 |  0.5581535 | 3.789295 |\n",
       "| -2.13043094 | 0 | -3.0536638 | 1.447489 |\n",
       "|  0.16731647 | 0 |  0.3050963 | 3.639515 |\n",
       "| -2.06879815 | 0 | -2.9616430 | 1.640861 |\n",
       "| -1.44669219 | 1 | -1.3512786 | 2.661413 |\n",
       "| -0.84192045 | 1 | -0.5921068 | 3.144938 |\n",
       "| -1.69514937 | 0 | -2.0533975 | 2.366443 |\n",
       "|  0.57755972 | 1 |  0.6041639 | 3.786728 |\n",
       "|  0.57178164 | 0 |  0.6501744 | 3.784798 |\n",
       "| -0.72250692 | 1 | -0.2010183 | 3.217912 |\n",
       "| -0.88429299 | 0 | -0.4770807 | 3.117709 |\n",
       "| -1.44476616 | 0 | -1.3282734 | 2.663391 |\n",
       "|  0.83372100 | 1 |  0.8112108 | 3.868746 |\n",
       "|  0.25783963 | 0 |  0.2820911 | 3.673913 |\n",
       "| -0.73598909 | 0 | -0.2010183 | 3.209934 |\n",
       "| -1.69514937 | 0 | -1.8343879 | 2.366443 |\n",
       "|  0.36954906 | 1 |  0.6501744 | 3.714793 |\n",
       "|  0.35414086 | 0 |  0.5121431 | 3.709253 |\n",
       "|  0.77594026 | 0 |  0.8802264 | 3.850824 |\n",
       "| -1.22905140 | 1 | -0.8451640 | 2.863343 |\n",
       "| -1.92819835 | 0 | -2.5475493 | 1.978118 |\n",
       "| -0.09269686 | 0 |  0.1670650 | 3.533575 |\n",
       "| -1.87426966 | 1 | -2.2254764 | 2.082301 |\n",
       "| -0.30455957 | 1 |  0.2590859 | 3.438100 |\n",
       "|  1.12455072 | 1 |  0.8802264 | 3.954375 |\n",
       "|  1.25359437 | 0 |  0.6501744 | 3.990141 |\n",
       "| -1.87234364 | 1 | -2.4325233 | 2.085828 |\n",
       "|  1.14958904 | 1 |  0.7421952 | 3.961415 |\n",
       "\n"
      ],
      "text/plain": [
       "    weight       male height      logweight\n",
       "1    0.829868948 1     0.48913791 3.867561 \n",
       "2    0.059459088 0     0.05203900 3.596923 \n",
       "3   -0.254482930 0    -0.06298703 3.461503 \n",
       "4    1.184257483 1     0.67317956 3.971082 \n",
       "5    0.384957254 0     0.25908585 3.720302 \n",
       "6    1.860292135 1     0.92623683 4.143017 \n",
       "7    0.178872616 0     0.39711709 3.643973 \n",
       "8    1.349895603 1     1.11027848 4.016022 \n",
       "9   -0.050324317 0     0.35110668 3.551624 \n",
       "10   1.282484740 1     0.97224725 3.997976 \n",
       "11   0.970468747 0     0.58115874 3.909923 \n",
       "12   0.381105204 1     0.46613271 3.718928 \n",
       "13   0.028642693 0     0.23608065 3.584413 \n",
       "14   0.821335421 0     0.42157144 3.864931 \n",
       "15  -0.119661205 0     0.44312750 3.521918 \n",
       "16   0.879945589 1     0.90323163 3.882856 \n",
       "17   0.456220166 1     0.69618477 3.745397 \n",
       "18   0.186576715 0     0.20571377 3.646934 \n",
       "19  -1.086525579 1    -0.59210678 2.976440 \n",
       "20  -1.471730509 0    -1.19024214 2.635333 \n",
       "21  -1.706705516 0    -1.88039833 2.350357 \n",
       "22   0.908835958 1     0.83421601 3.891574 \n",
       "23   0.483184511 0     0.65017436 3.754730 \n",
       "24  -0.816882128 1    -0.31604430 3.160687 \n",
       "25  -1.333056734 0    -1.05221090 2.771908 \n",
       "26  -0.007951775 1     0.29477109 3.569352 \n",
       "27   0.155760320 0     0.37411188 3.635038 \n",
       "28  -0.009877800 0     0.32810147 3.568553 \n",
       "29  -0.562646874 1    -0.03998183 3.307945 \n",
       "30  -0.878514917 0    -0.45407554 3.121466 \n",
       "⋮   ⋮            ⋮    ⋮           ⋮        \n",
       "515  0.48896258  0     0.4891379  3.756719 \n",
       "516  0.01901257  0     0.3741119  3.580472 \n",
       "517  0.58526382  0     0.5581535  3.789295 \n",
       "518 -2.13043094  0    -3.0536638  1.447489 \n",
       "519  0.16731647  0     0.3050963  3.639515 \n",
       "520 -2.06879815  0    -2.9616430  1.640861 \n",
       "521 -1.44669219  1    -1.3512786  2.661413 \n",
       "522 -0.84192045  1    -0.5921068  3.144938 \n",
       "523 -1.69514937  0    -2.0533975  2.366443 \n",
       "524  0.57755972  1     0.6041639  3.786728 \n",
       "525  0.57178164  0     0.6501744  3.784798 \n",
       "526 -0.72250692  1    -0.2010183  3.217912 \n",
       "527 -0.88429299  0    -0.4770807  3.117709 \n",
       "528 -1.44476616  0    -1.3282734  2.663391 \n",
       "529  0.83372100  1     0.8112108  3.868746 \n",
       "530  0.25783963  0     0.2820911  3.673913 \n",
       "531 -0.73598909  0    -0.2010183  3.209934 \n",
       "532 -1.69514937  0    -1.8343879  2.366443 \n",
       "533  0.36954906  1     0.6501744  3.714793 \n",
       "534  0.35414086  0     0.5121431  3.709253 \n",
       "535  0.77594026  0     0.8802264  3.850824 \n",
       "536 -1.22905140  1    -0.8451640  2.863343 \n",
       "537 -1.92819835  0    -2.5475493  1.978118 \n",
       "538 -0.09269686  0     0.1670650  3.533575 \n",
       "539 -1.87426966  1    -2.2254764  2.082301 \n",
       "540 -0.30455957  1     0.2590859  3.438100 \n",
       "541  1.12455072  1     0.8802264  3.954375 \n",
       "542  1.25359437  0     0.6501744  3.990141 \n",
       "543 -1.87234364  1    -2.4325233  2.085828 \n",
       "544  1.14958904  1     0.7421952  3.961415 "
      ]
     },
     "metadata": {},
     "output_type": "display_data"
    }
   ],
   "source": [
    "d$logweight <- log(dat$weight)\n",
    "d"
   ]
  },
  {
   "cell_type": "code",
   "execution_count": 98,
   "metadata": {
    "vscode": {
     "languageId": "r"
    }
   },
   "outputs": [
    {
     "name": "stderr",
     "output_type": "stream",
     "text": [
      "Warning message in map2stan(alist(height ~ dnorm(mu, sigma), mu <- a + b_weight * :\n",
      "\"DEPRECATED: map2stan is no longer supported and may behave unpredictably or stop working altogether. Start using ulam instead.\"\n",
      "Warning message in map2stan(alist(height ~ dnorm(mu, sigma), mu <- a + b_weight * :\n",
      "\"Stripping scale attributes from variable weight\"\n",
      "Warning message in map2stan(alist(height ~ dnorm(mu, sigma), mu <- a + b_weight * :\n",
      "\"Stripping scale attributes from variable height\"\n",
      "Warning in 'C:/Users/immal/AppData/Local/Temp/RtmpwXqVqA/model-33bc6a591a44.stan', line 4, column 4: Declaration\n",
      "    of arrays by placing brackets after a variable name is deprecated and\n",
      "    will be removed in Stan 2.32.0. Instead use the array keyword before the\n",
      "    type. This can be changed automatically using the auto-format flag to\n",
      "    stanc\n",
      "Warning in 'C:/Users/immal/AppData/Local/Temp/RtmpwXqVqA/model-33bc6a591a44.stan', line 5, column 4: Declaration\n",
      "    of arrays by placing brackets after a variable name is deprecated and\n",
      "    will be removed in Stan 2.32.0. Instead use the array keyword before the\n",
      "    type. This can be changed automatically using the auto-format flag to\n",
      "    stanc\n",
      "\n",
      "\n"
     ]
    },
    {
     "name": "stdout",
     "output_type": "stream",
     "text": [
      "Running MCMC with 7 parallel chains...\n",
      "\n",
      "Chain 1 Iteration:    1 / 2000 [  0%]  (Warmup) \n"
     ]
    },
    {
     "name": "stderr",
     "output_type": "stream",
     "text": [
      "Chain 1 Informational Message: The current Metropolis proposal is about to be rejected because of the following issue:\n",
      "\n",
      "Chain 1 Exception: normal_lpdf: Scale parameter is 0, but must be positive! (in 'C:/Users/immal/AppData/Local/Temp/RtmpwXqVqA/model-33bc6a591a44.stan', line 20, column 4 to column 34)\n",
      "\n",
      "Chain 1 If this warning occurs sporadically, such as for highly constrained variable types like covariance matrices, then the sampler is fine,\n",
      "\n",
      "Chain 1 but if this warning occurs often then your model may be either severely ill-conditioned or misspecified.\n",
      "\n",
      "Chain 1 \n",
      "\n"
     ]
    },
    {
     "name": "stdout",
     "output_type": "stream",
     "text": [
      "Chain 2 Iteration:    1 / 2000 [  0%]  (Warmup) \n"
     ]
    },
    {
     "name": "stderr",
     "output_type": "stream",
     "text": [
      "Chain 2 Informational Message: The current Metropolis proposal is about to be rejected because of the following issue:\n",
      "\n",
      "Chain 2 Exception: normal_lpdf: Scale parameter is 0, but must be positive! (in 'C:/Users/immal/AppData/Local/Temp/RtmpwXqVqA/model-33bc6a591a44.stan', line 20, column 4 to column 34)\n",
      "\n",
      "Chain 2 If this warning occurs sporadically, such as for highly constrained variable types like covariance matrices, then the sampler is fine,\n",
      "\n",
      "Chain 2 but if this warning occurs often then your model may be either severely ill-conditioned or misspecified.\n",
      "\n",
      "Chain 2 \n",
      "\n"
     ]
    },
    {
     "name": "stdout",
     "output_type": "stream",
     "text": [
      "Chain 3 Iteration:    1 / 2000 [  0%]  (Warmup) \n",
      "Chain 4 Iteration:    1 / 2000 [  0%]  (Warmup) \n",
      "Chain 5 Iteration:    1 / 2000 [  0%]  (Warmup) \n"
     ]
    },
    {
     "name": "stderr",
     "output_type": "stream",
     "text": [
      "Chain 5 Informational Message: The current Metropolis proposal is about to be rejected because of the following issue:\n",
      "\n",
      "Chain 5 Exception: normal_lpdf: Scale parameter is 0, but must be positive! (in 'C:/Users/immal/AppData/Local/Temp/RtmpwXqVqA/model-33bc6a591a44.stan', line 20, column 4 to column 34)\n",
      "\n",
      "Chain 5 If this warning occurs sporadically, such as for highly constrained variable types like covariance matrices, then the sampler is fine,\n",
      "\n",
      "Chain 5 but if this warning occurs often then your model may be either severely ill-conditioned or misspecified.\n",
      "\n",
      "Chain 5 \n",
      "\n"
     ]
    },
    {
     "name": "stdout",
     "output_type": "stream",
     "text": [
      "Chain 6 Iteration:    1 / 2000 [  0%]  (Warmup) \n"
     ]
    },
    {
     "name": "stderr",
     "output_type": "stream",
     "text": [
      "Chain 6 Informational Message: The current Metropolis proposal is about to be rejected because of the following issue:\n",
      "\n",
      "Chain 6 Exception: normal_lpdf: Scale parameter is 0, but must be positive! (in 'C:/Users/immal/AppData/Local/Temp/RtmpwXqVqA/model-33bc6a591a44.stan', line 20, column 4 to column 34)\n",
      "\n",
      "Chain 6 If this warning occurs sporadically, such as for highly constrained variable types like covariance matrices, then the sampler is fine,\n",
      "\n",
      "Chain 6 but if this warning occurs often then your model may be either severely ill-conditioned or misspecified.\n",
      "\n",
      "Chain 6 \n",
      "\n"
     ]
    },
    {
     "name": "stdout",
     "output_type": "stream",
     "text": [
      "Chain 7 Iteration:    1 / 2000 [  0%]  (Warmup) \n"
     ]
    },
    {
     "name": "stderr",
     "output_type": "stream",
     "text": [
      "Chain 7 Informational Message: The current Metropolis proposal is about to be rejected because of the following issue:\n",
      "\n",
      "Chain 7 Exception: normal_lpdf: Scale parameter is 0, but must be positive! (in 'C:/Users/immal/AppData/Local/Temp/RtmpwXqVqA/model-33bc6a591a44.stan', line 20, column 4 to column 34)\n",
      "\n",
      "Chain 7 If this warning occurs sporadically, such as for highly constrained variable types like covariance matrices, then the sampler is fine,\n",
      "\n",
      "Chain 7 but if this warning occurs often then your model may be either severely ill-conditioned or misspecified.\n",
      "\n",
      "Chain 7 \n",
      "\n"
     ]
    },
    {
     "name": "stdout",
     "output_type": "stream",
     "text": [
      "Chain 1 Iteration:  100 / 2000 [  5%]  (Warmup) \n",
      "Chain 1 Iteration:  200 / 2000 [ 10%]  (Warmup) \n",
      "Chain 1 Iteration:  300 / 2000 [ 15%]  (Warmup) \n",
      "Chain 1 Iteration:  400 / 2000 [ 20%]  (Warmup) \n",
      "Chain 2 Iteration:  100 / 2000 [  5%]  (Warmup) \n",
      "Chain 2 Iteration:  200 / 2000 [ 10%]  (Warmup) \n",
      "Chain 2 Iteration:  300 / 2000 [ 15%]  (Warmup) \n",
      "Chain 3 Iteration:  100 / 2000 [  5%]  (Warmup) \n",
      "Chain 3 Iteration:  200 / 2000 [ 10%]  (Warmup) \n",
      "Chain 3 Iteration:  300 / 2000 [ 15%]  (Warmup) \n",
      "Chain 4 Iteration:  100 / 2000 [  5%]  (Warmup) \n",
      "Chain 4 Iteration:  200 / 2000 [ 10%]  (Warmup) \n",
      "Chain 4 Iteration:  300 / 2000 [ 15%]  (Warmup) \n",
      "Chain 5 Iteration:  100 / 2000 [  5%]  (Warmup) \n",
      "Chain 5 Iteration:  200 / 2000 [ 10%]  (Warmup) \n",
      "Chain 5 Iteration:  300 / 2000 [ 15%]  (Warmup) \n",
      "Chain 5 Iteration:  400 / 2000 [ 20%]  (Warmup) \n",
      "Chain 6 Iteration:  100 / 2000 [  5%]  (Warmup) \n",
      "Chain 6 Iteration:  200 / 2000 [ 10%]  (Warmup) \n",
      "Chain 6 Iteration:  300 / 2000 [ 15%]  (Warmup) \n",
      "Chain 7 Iteration:  100 / 2000 [  5%]  (Warmup) \n",
      "Chain 7 Iteration:  200 / 2000 [ 10%]  (Warmup) \n",
      "Chain 2 Iteration:  400 / 2000 [ 20%]  (Warmup) \n",
      "Chain 3 Iteration:  400 / 2000 [ 20%]  (Warmup) \n",
      "Chain 7 Iteration:  300 / 2000 [ 15%]  (Warmup) \n",
      "Chain 4 Iteration:  400 / 2000 [ 20%]  (Warmup) \n",
      "Chain 5 Iteration:  500 / 2000 [ 25%]  (Warmup) \n",
      "Chain 6 Iteration:  400 / 2000 [ 20%]  (Warmup) \n",
      "Chain 1 Iteration:  500 / 2000 [ 25%]  (Warmup) \n",
      "Chain 2 Iteration:  500 / 2000 [ 25%]  (Warmup) \n",
      "Chain 7 Iteration:  400 / 2000 [ 20%]  (Warmup) \n",
      "Chain 3 Iteration:  500 / 2000 [ 25%]  (Warmup) \n",
      "Chain 4 Iteration:  500 / 2000 [ 25%]  (Warmup) \n",
      "Chain 5 Iteration:  600 / 2000 [ 30%]  (Warmup) \n",
      "Chain 1 Iteration:  600 / 2000 [ 30%]  (Warmup) \n",
      "Chain 2 Iteration:  600 / 2000 [ 30%]  (Warmup) \n",
      "Chain 3 Iteration:  600 / 2000 [ 30%]  (Warmup) \n",
      "Chain 4 Iteration:  600 / 2000 [ 30%]  (Warmup) \n",
      "Chain 6 Iteration:  500 / 2000 [ 25%]  (Warmup) \n",
      "Chain 7 Iteration:  500 / 2000 [ 25%]  (Warmup) \n",
      "Chain 2 Iteration:  700 / 2000 [ 35%]  (Warmup) \n",
      "Chain 5 Iteration:  700 / 2000 [ 35%]  (Warmup) \n",
      "Chain 7 Iteration:  600 / 2000 [ 30%]  (Warmup) \n",
      "Chain 1 Iteration:  700 / 2000 [ 35%]  (Warmup) \n",
      "Chain 3 Iteration:  700 / 2000 [ 35%]  (Warmup) \n",
      "Chain 4 Iteration:  700 / 2000 [ 35%]  (Warmup) \n",
      "Chain 6 Iteration:  600 / 2000 [ 30%]  (Warmup) \n",
      "Chain 2 Iteration:  800 / 2000 [ 40%]  (Warmup) \n",
      "Chain 5 Iteration:  800 / 2000 [ 40%]  (Warmup) \n",
      "Chain 1 Iteration:  800 / 2000 [ 40%]  (Warmup) \n",
      "Chain 3 Iteration:  800 / 2000 [ 40%]  (Warmup) \n",
      "Chain 4 Iteration:  800 / 2000 [ 40%]  (Warmup) \n",
      "Chain 7 Iteration:  700 / 2000 [ 35%]  (Warmup) \n",
      "Chain 6 Iteration:  700 / 2000 [ 35%]  (Warmup) \n",
      "Chain 2 Iteration:  900 / 2000 [ 45%]  (Warmup) \n",
      "Chain 5 Iteration:  900 / 2000 [ 45%]  (Warmup) \n",
      "Chain 1 Iteration:  900 / 2000 [ 45%]  (Warmup) \n",
      "Chain 3 Iteration:  900 / 2000 [ 45%]  (Warmup) \n",
      "Chain 6 Iteration:  800 / 2000 [ 40%]  (Warmup) \n",
      "Chain 4 Iteration:  900 / 2000 [ 45%]  (Warmup) \n",
      "Chain 5 Iteration: 1000 / 2000 [ 50%]  (Warmup) \n",
      "Chain 7 Iteration:  800 / 2000 [ 40%]  (Warmup) \n",
      "Chain 5 Iteration: 1001 / 2000 [ 50%]  (Sampling) \n",
      "Chain 2 Iteration: 1000 / 2000 [ 50%]  (Warmup) \n",
      "Chain 3 Iteration: 1000 / 2000 [ 50%]  (Warmup) \n",
      "Chain 1 Iteration: 1000 / 2000 [ 50%]  (Warmup) \n",
      "Chain 2 Iteration: 1001 / 2000 [ 50%]  (Sampling) \n",
      "Chain 3 Iteration: 1001 / 2000 [ 50%]  (Sampling) \n",
      "Chain 1 Iteration: 1001 / 2000 [ 50%]  (Sampling) \n",
      "Chain 5 Iteration: 1100 / 2000 [ 55%]  (Sampling) \n",
      "Chain 6 Iteration:  900 / 2000 [ 45%]  (Warmup) \n",
      "Chain 7 Iteration:  900 / 2000 [ 45%]  (Warmup) \n",
      "Chain 3 Iteration: 1100 / 2000 [ 55%]  (Sampling) \n",
      "Chain 4 Iteration: 1000 / 2000 [ 50%]  (Warmup) \n",
      "Chain 2 Iteration: 1100 / 2000 [ 55%]  (Sampling) \n",
      "Chain 4 Iteration: 1001 / 2000 [ 50%]  (Sampling) \n",
      "Chain 1 Iteration: 1100 / 2000 [ 55%]  (Sampling) \n",
      "Chain 5 Iteration: 1200 / 2000 [ 60%]  (Sampling) \n",
      "Chain 7 Iteration: 1000 / 2000 [ 50%]  (Warmup) \n",
      "Chain 3 Iteration: 1200 / 2000 [ 60%]  (Sampling) \n",
      "Chain 4 Iteration: 1100 / 2000 [ 55%]  (Sampling) \n",
      "Chain 6 Iteration: 1000 / 2000 [ 50%]  (Warmup) \n",
      "Chain 7 Iteration: 1001 / 2000 [ 50%]  (Sampling) \n",
      "Chain 2 Iteration: 1200 / 2000 [ 60%]  (Sampling) \n",
      "Chain 6 Iteration: 1001 / 2000 [ 50%]  (Sampling) \n",
      "Chain 1 Iteration: 1200 / 2000 [ 60%]  (Sampling) \n",
      "Chain 5 Iteration: 1300 / 2000 [ 65%]  (Sampling) \n",
      "Chain 7 Iteration: 1100 / 2000 [ 55%]  (Sampling) \n",
      "Chain 3 Iteration: 1300 / 2000 [ 65%]  (Sampling) \n",
      "Chain 6 Iteration: 1100 / 2000 [ 55%]  (Sampling) \n",
      "Chain 2 Iteration: 1300 / 2000 [ 65%]  (Sampling) \n",
      "Chain 4 Iteration: 1200 / 2000 [ 60%]  (Sampling) \n",
      "Chain 1 Iteration: 1300 / 2000 [ 65%]  (Sampling) \n",
      "Chain 5 Iteration: 1400 / 2000 [ 70%]  (Sampling) \n",
      "Chain 7 Iteration: 1200 / 2000 [ 60%]  (Sampling) \n",
      "Chain 3 Iteration: 1400 / 2000 [ 70%]  (Sampling) \n",
      "Chain 4 Iteration: 1300 / 2000 [ 65%]  (Sampling) \n",
      "Chain 6 Iteration: 1200 / 2000 [ 60%]  (Sampling) \n",
      "Chain 2 Iteration: 1400 / 2000 [ 70%]  (Sampling) \n",
      "Chain 5 Iteration: 1500 / 2000 [ 75%]  (Sampling) \n",
      "Chain 1 Iteration: 1400 / 2000 [ 70%]  (Sampling) \n",
      "Chain 3 Iteration: 1500 / 2000 [ 75%]  (Sampling) \n",
      "Chain 6 Iteration: 1300 / 2000 [ 65%]  (Sampling) \n",
      "Chain 7 Iteration: 1300 / 2000 [ 65%]  (Sampling) \n",
      "Chain 4 Iteration: 1400 / 2000 [ 70%]  (Sampling) \n",
      "Chain 2 Iteration: 1500 / 2000 [ 75%]  (Sampling) \n",
      "Chain 5 Iteration: 1600 / 2000 [ 80%]  (Sampling) \n",
      "Chain 7 Iteration: 1400 / 2000 [ 70%]  (Sampling) \n",
      "Chain 1 Iteration: 1500 / 2000 [ 75%]  (Sampling) \n",
      "Chain 3 Iteration: 1600 / 2000 [ 80%]  (Sampling) \n",
      "Chain 4 Iteration: 1500 / 2000 [ 75%]  (Sampling) \n",
      "Chain 6 Iteration: 1400 / 2000 [ 70%]  (Sampling) \n",
      "Chain 2 Iteration: 1600 / 2000 [ 80%]  (Sampling) \n",
      "Chain 5 Iteration: 1700 / 2000 [ 85%]  (Sampling) \n",
      "Chain 4 Iteration: 1600 / 2000 [ 80%]  (Sampling) \n",
      "Chain 6 Iteration: 1500 / 2000 [ 75%]  (Sampling) \n",
      "Chain 7 Iteration: 1500 / 2000 [ 75%]  (Sampling) \n",
      "Chain 1 Iteration: 1600 / 2000 [ 80%]  (Sampling) \n",
      "Chain 2 Iteration: 1700 / 2000 [ 85%]  (Sampling) \n",
      "Chain 3 Iteration: 1700 / 2000 [ 85%]  (Sampling) \n",
      "Chain 5 Iteration: 1800 / 2000 [ 90%]  (Sampling) \n",
      "Chain 3 Iteration: 1800 / 2000 [ 90%]  (Sampling) \n",
      "Chain 4 Iteration: 1700 / 2000 [ 85%]  (Sampling) \n",
      "Chain 6 Iteration: 1600 / 2000 [ 80%]  (Sampling) \n",
      "Chain 7 Iteration: 1600 / 2000 [ 80%]  (Sampling) \n",
      "Chain 1 Iteration: 1700 / 2000 [ 85%]  (Sampling) \n",
      "Chain 2 Iteration: 1800 / 2000 [ 90%]  (Sampling) \n",
      "Chain 5 Iteration: 1900 / 2000 [ 95%]  (Sampling) \n",
      "Chain 3 Iteration: 1900 / 2000 [ 95%]  (Sampling) \n",
      "Chain 4 Iteration: 1800 / 2000 [ 90%]  (Sampling) \n",
      "Chain 7 Iteration: 1700 / 2000 [ 85%]  (Sampling) \n",
      "Chain 1 Iteration: 1800 / 2000 [ 90%]  (Sampling) \n",
      "Chain 2 Iteration: 1900 / 2000 [ 95%]  (Sampling) \n",
      "Chain 5 Iteration: 2000 / 2000 [100%]  (Sampling) \n",
      "Chain 6 Iteration: 1700 / 2000 [ 85%]  (Sampling) \n",
      "Chain 5 finished in 10.2 seconds.\n",
      "Chain 3 Iteration: 2000 / 2000 [100%]  (Sampling) \n",
      "Chain 4 Iteration: 1900 / 2000 [ 95%]  (Sampling) \n",
      "Chain 7 Iteration: 1800 / 2000 [ 90%]  (Sampling) \n",
      "Chain 3 finished in 10.6 seconds.\n",
      "Chain 1 Iteration: 1900 / 2000 [ 95%]  (Sampling) \n",
      "Chain 6 Iteration: 1800 / 2000 [ 90%]  (Sampling) \n",
      "Chain 2 Iteration: 2000 / 2000 [100%]  (Sampling) \n",
      "Chain 2 finished in 10.8 seconds.\n",
      "Chain 4 Iteration: 2000 / 2000 [100%]  (Sampling) \n",
      "Chain 4 finished in 11.0 seconds.\n",
      "Chain 7 Iteration: 1900 / 2000 [ 95%]  (Sampling) \n",
      "Chain 1 Iteration: 2000 / 2000 [100%]  (Sampling) \n",
      "Chain 6 Iteration: 1900 / 2000 [ 95%]  (Sampling) \n",
      "Chain 1 finished in 11.2 seconds.\n",
      "Chain 7 Iteration: 2000 / 2000 [100%]  (Sampling) \n",
      "Chain 7 finished in 11.2 seconds.\n",
      "Chain 6 Iteration: 2000 / 2000 [100%]  (Sampling) \n",
      "Chain 6 finished in 11.3 seconds.\n",
      "\n",
      "All 7 chains finished successfully.\n",
      "Mean chain execution time: 10.9 seconds.\n",
      "Total execution time: 11.6 seconds.\n",
      "\n"
     ]
    },
    {
     "name": "stderr",
     "output_type": "stream",
     "text": [
      "Computing WAIC\n",
      "\n"
     ]
    }
   ],
   "source": [
    "# Log model\n",
    "model3 <- map2stan(\n",
    "    alist(\n",
    "        height ~ dnorm(mu, sigma),\n",
    "        mu <- a + b_weight * logweight,\n",
    "        a ~ dnorm(0, 2),\n",
    "        b_weight ~ dnorm(0, 2),\n",
    "        sigma ~ dcauchy(0, 2)\n",
    "    ),\n",
    "    data = d,\n",
    "    constraints = list(sigma = \"lower=0\"),\n",
    "    cores = 7, chains = 7\n",
    ")"
   ]
  },
  {
   "cell_type": "code",
   "execution_count": 102,
   "metadata": {
    "vscode": {
     "languageId": "r"
    }
   },
   "outputs": [
    {
     "name": "stdout",
     "output_type": "stream",
     "text": [
      "[ 1000 / 1000 ]\n"
     ]
    },
    {
     "data": {
      "image/png": "[encoded data removed]",
      "text/plain": [
       "plot without title"
      ]
     },
     "metadata": {
      "image/png": {
       "height": 420,
       "width": 420
      }
     },
     "output_type": "display_data"
    }
   ],
   "source": [
    "post3 <- extract.samples(model3)\n",
    "mu_link3 <- function (logweight) post3$a + post3$b_weight * logweight\n",
    "logweight_seq <- seq(from = 1, to = 5, by = 0.02)\n",
    "\n",
    "plot(height ~ logweight, data = d)\n",
    "\n",
    "mu <- sapply(logweight_seq, mu_link3)\n",
    "mu_mean <- apply(mu, 2, mean)\n",
    "mu_HPDI <- apply(mu, 2, HPDI, prob = 0.92)\n",
    "\n",
    "lines(logweight_seq, mu_mean)\n",
    "shade(mu_HPDI, logweight_seq)\n",
    "\n",
    "height_sim <- sim(model3, data = list(logweight = logweight_seq))\n",
    "height_HPDI <- apply(height_sim, 2, HPDI, prob = 0.92)\n",
    "\n",
    "shade(height_HPDI, logweight_seq)"
   ]
  },
  {
   "attachments": {},
   "cell_type": "markdown",
   "metadata": {},
   "source": [
    "This shows us that the logartihmic scale is the right one to discuss this relation. We may present the findings in a different way, not using a log axis for the plot."
   ]
  },
  {
   "cell_type": "code",
   "execution_count": 105,
   "metadata": {
    "vscode": {
     "languageId": "r"
    }
   },
   "outputs": [],
   "source": [
    "d$weight_unscaled <- dat$weight"
   ]
  },
  {
   "cell_type": "code",
   "execution_count": 107,
   "metadata": {
    "vscode": {
     "languageId": "r"
    }
   },
   "outputs": [
    {
     "name": "stdout",
     "output_type": "stream",
     "text": [
      "[ 1000 / 1000 ]\n"
     ]
    },
    {
     "data": {
      "image/png": "[encoded data removed]",
      "text/plain": [
       "plot without title"
      ]
     },
     "metadata": {
      "image/png": {
       "height": 420,
       "width": 420
      }
     },
     "output_type": "display_data"
    }
   ],
   "source": [
    "post3 <- extract.samples(model3)\n",
    "mu_link3 <- function (weight_unscaled) post3$a + post3$b_weight * log(weight_unscaled)\n",
    "weight_seq <- seq(from = 0, to = 100, by = 1)\n",
    "\n",
    "plot(height ~ weight_unscaled, data = d)\n",
    "\n",
    "mu <- sapply(weight_seq, mu_link3)\n",
    "mu_mean <- apply(mu, 2, mean)\n",
    "mu_HPDI <- apply(mu, 2, HPDI, prob = 0.92)\n",
    "\n",
    "lines(weight_seq, mu_mean)\n",
    "shade(mu_HPDI, weight_seq)\n",
    "\n",
    "height_sim <- sim(model3, data = list(logweight = log(weight_seq)))\n",
    "height_HPDI <- apply(height_sim, 2, HPDI, prob = 0.92)\n",
    "\n",
    "shade(height_HPDI, weight_seq)"
   ]
  },
  {
   "attachments": {},
   "cell_type": "markdown",
   "metadata": {},
   "source": [
    "Inside the observed ragne we reproduce the data accuratly. Beyond that, there is a weight where above it there is not an expected increase in height that the model suggests comes with the increase in height. At that weight the height becomes in our oppinion unciorrelated with weiht, which we could represent in the model."
   ]
  },
  {
   "cell_type": "code",
   "execution_count": 111,
   "metadata": {
    "vscode": {
     "languageId": "r"
    }
   },
   "outputs": [
    {
     "name": "stdout",
     "output_type": "stream",
     "text": [
      "[ 1000 / 1000 ]\n"
     ]
    },
    {
     "data": {
      "image/png": "[encoded data removed]",
      "text/plain": [
       "plot without title"
      ]
     },
     "metadata": {
      "image/png": {
       "height": 420,
       "width": 420
      }
     },
     "output_type": "display_data"
    }
   ],
   "source": [
    "# A simple counterfactual plot can be created by increasing the weight range, e.g. going from 0 to 200 kg.\n",
    "post3 <- extract.samples(model3)\n",
    "mu_link3 <- function (weight_unscaled) post3$a + post3$b_weight * log(weight_unscaled)\n",
    "weight_seq <- seq(from = 0, to = 200, by = 1)\n",
    "\n",
    "plot(height ~ weight_unscaled, data = d, xlim = c(0, 200), ylim = c(0, 4))\n",
    "\n",
    "mu <- sapply(weight_seq, mu_link3)\n",
    "mu_mean <- apply(mu, 2, mean)\n",
    "mu_HPDI <- apply(mu, 2, HPDI, prob = 0.92)\n",
    "\n",
    "lines(weight_seq, mu_mean)\n",
    "shade(mu_HPDI, weight_seq)\n",
    "\n",
    "height_sim <- sim(model3, data = list(logweight = log(weight_seq)))\n",
    "height_HPDI <- apply(height_sim, 2, HPDI, prob = 0.92)\n",
    "\n",
    "shade(height_HPDI, weight_seq)"
   ]
  }
 ],
 "metadata": {
  "kernelspec": {
   "display_name": "R",
   "language": "R",
   "name": "ir"
  },
  "language_info": {
   "codemirror_mode": "r",
   "file_extension": ".r",
   "mimetype": "text/x-r-source",
   "name": "R",
   "pygments_lexer": "r",
   "version": "4.2.3"
  },
  "orig_nbformat": 4
 },
 "nbformat": 4,
 "nbformat_minor": 2
}
