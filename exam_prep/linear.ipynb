{
 "cells": [
  {
   "attachments": {},
   "cell_type": "markdown",
   "metadata": {},
   "source": [
    "# Linear models\n",
    "# Kalahari foragers\n",
    "\n",
    "Fit a linear model between the height and the weight of the population."
   ]
  },
  {
   "cell_type": "code",
   "execution_count": 1,
   "metadata": {
    "vscode": {
     "languageId": "r"
    }
   },
   "outputs": [
    {
     "name": "stderr",
     "output_type": "stream",
     "text": [
      "Lade nötiges Paket: rstan\n",
      "\n",
      "Lade nötiges Paket: StanHeaders\n",
      "\n",
      "\n",
      "rstan version 2.26.16 (Stan version 2.26.1)\n",
      "\n",
      "\n",
      "For execution on a local, multicore CPU with excess RAM we recommend calling\n",
      "options(mc.cores = parallel::detectCores()).\n",
      "To avoid recompilation of unchanged Stan programs, we recommend calling\n",
      "rstan_options(auto_write = TRUE)\n",
      "For within-chain threading using `reduce_sum()` or `map_rect()` Stan functions,\n",
      "change `threads_per_chain` option:\n",
      "rstan_options(threads_per_chain = 1)\n",
      "\n",
      "\n",
      "Do not specify '-march=native' in 'LOCAL_CPPFLAGS' or a Makevars file\n",
      "\n",
      "Lade nötiges Paket: cmdstanr\n",
      "\n",
      "This is cmdstanr version 0.5.3\n",
      "\n",
      "- CmdStanR documentation and vignettes: mc-stan.org/cmdstanr\n",
      "\n",
      "- CmdStan path: D:/Users/Immanuel/Documents/.cmdstan/cmdstan-2.31.0\n",
      "\n",
      "- CmdStan version: 2.31.0\n",
      "\n",
      "\n",
      "A newer version of CmdStan is available. See ?install_cmdstan() to install it.\n",
      "To disable this check set option or environment variable CMDSTANR_NO_VER_CHECK=TRUE.\n",
      "\n",
      "Lade nötiges Paket: parallel\n",
      "\n",
      "rethinking (Version 2.31)\n",
      "\n",
      "\n",
      "Attache Paket: 'rethinking'\n",
      "\n",
      "\n",
      "Das folgende Objekt ist maskiert 'package:rstan':\n",
      "\n",
      "    stan\n",
      "\n",
      "\n",
      "Das folgende Objekt ist maskiert 'package:stats':\n",
      "\n",
      "    rstudent\n",
      "\n",
      "\n"
     ]
    }
   ],
   "source": [
    "library(rethinking)"
   ]
  },
  {
   "cell_type": "code",
   "execution_count": 2,
   "metadata": {
    "vscode": {
     "languageId": "r"
    }
   },
   "outputs": [
    {
     "data": {
      "text/plain": [
       "     height          weight           age             male       \n",
       " Min.   :136.5   Min.   :31.07   Min.   :18.00   Min.   :0.0000  \n",
       " 1st Qu.:148.6   1st Qu.:40.26   1st Qu.:28.00   1st Qu.:0.0000  \n",
       " Median :154.3   Median :44.79   Median :39.00   Median :0.0000  \n",
       " Mean   :154.6   Mean   :44.99   Mean   :41.14   Mean   :0.4688  \n",
       " 3rd Qu.:160.7   3rd Qu.:49.29   3rd Qu.:51.00   3rd Qu.:1.0000  \n",
       " Max.   :179.1   Max.   :62.99   Max.   :88.00   Max.   :1.0000  "
      ]
     },
     "metadata": {},
     "output_type": "display_data"
    }
   ],
   "source": [
    "data(Howell1)\n",
    "dat <- Howell1\n",
    "d <- dat[dat$age >= 18, ]\n",
    "summary(d)"
   ]
  },
  {
   "cell_type": "code",
   "execution_count": 3,
   "metadata": {
    "vscode": {
     "languageId": "r"
    }
   },
   "outputs": [
    {
     "name": "stderr",
     "output_type": "stream",
     "text": [
      "In file included from stan/lib/stan_math/lib/boost_1.78.0/boost/multi_array/multi_array_ref.hpp:32,\n",
      "                 from stan/lib/stan_math/lib/boost_1.78.0/boost/multi_array.hpp:34,\n",
      "                 from stan/lib/stan_math/lib/boost_1.78.0/boost/numeric/odeint/algebra/multi_array_algebra.hpp:22,\n",
      "                 from stan/lib/stan_math/lib/boost_1.78.0/boost/numeric/odeint.hpp:63,\n",
      "                 from stan/lib/stan_math/stan/math/prim/functor/ode_rk45.hpp:9,\n",
      "                 from stan/lib/stan_math/stan/math/prim/functor/integrate_ode_rk45.hpp:6,\n",
      "                 from stan/lib/stan_math/stan/math/prim/functor.hpp:14,\n",
      "                 from stan/lib/stan_math/stan/math/rev/fun.hpp:198,\n",
      "                 from stan/lib/stan_math/stan/math/rev.hpp:10,\n",
      "                 from stan/lib/stan_math/stan/math.hpp:19,\n",
      "                 from stan/src/stan/model/model_header.hpp:4,\n",
      "                 from C:/Users/Immanuel/AppData/Local/Temp/RtmpS4oCLS/model-3b2458761147.hpp:3:\n",
      "stan/lib/stan_math/lib/boost_1.78.0/boost/functional.hpp:180:45: warning: 'template<class _Arg, class _Result> struct std::unary_function' is deprecated [-Wdeprecated-declarations]\n",
      "  180 |         : public boost::functional::detail::unary_function<typename unary_traits<Predicate>::argument_type,bool>\n",
      "      |                                             ^~~~~~~~~~~~~~\n",
      "\n",
      "\n",
      "In file included from C:/rtools42/ucrt64/include/c++/12.2.0/string:48,\n",
      "                 from C:/rtools42/ucrt64/include/c++/12.2.0/bits/locale_classes.h:40,\n",
      "                 from C:/rtools42/ucrt64/include/c++/12.2.0/bits/ios_base.h:41,\n",
      "                 from C:/rtools42/ucrt64/include/c++/12.2.0/ios:42,\n",
      "                 from C:/rtools42/ucrt64/include/c++/12.2.0/istream:38,\n",
      "                 from C:/rtools42/ucrt64/include/c++/12.2.0/sstream:38,\n",
      "                 from C:/rtools42/ucrt64/include/c++/12.2.0/complex:45,\n",
      "                 from stan/lib/stan_math/lib/eigen_3.3.9/Eigen/Core:96,\n",
      "                 from stan/lib/stan_math/lib/eigen_3.3.9/Eigen/Dense:1,\n",
      "                 from stan/lib/stan_math/stan/math/prim/fun/Eigen.hpp:22,\n",
      "                 from stan/lib/stan_math/stan/math/rev.hpp:4:\n",
      "C:/rtools42/ucrt64/include/c++/12.2.0/bits/stl_function.h:117:12: note: declared here\n",
      "  117 |     struct unary_function\n",
      "      |            ^~~~~~~~~~~~~~\n",
      "stan/lib/stan_math/lib/boost_1.78.0/boost/functional.hpp:214:45: warning: 'template<class _Arg1, class _Arg2, class _Result> struct std::binary_function' is deprecated [-Wdeprecated-declarations]\n",
      "  214 |         : public boost::functional::detail::binary_function<\n",
      "      |                                             ^~~~~~~~~~~~~~~\n",
      "C:/rtools42/ucrt64/include/c++/12.2.0/bits/stl_function.h:131:12: note: declared here\n",
      "  131 |     struct binary_function\n",
      "      |            ^~~~~~~~~~~~~~~\n",
      "stan/lib/stan_math/lib/boost_1.78.0/boost/functional.hpp:252:45: warning: 'template<class _Arg, class _Result> struct std::unary_function' is deprecated [-Wdeprecated-declarations]\n",
      "  252 |         : public boost::functional::detail::unary_function<\n",
      "      |                                             ^~~~~~~~~~~~~~\n",
      "C:/rtools42/ucrt64/include/c++/12.2.0/bits/stl_function.h:117:12: note: declared here\n",
      "  117 |     struct unary_function\n",
      "      |            ^~~~~~~~~~~~~~\n",
      "stan/lib/stan_math/lib/boost_1.78.0/boost/functional.hpp:299:45: warning: 'template<cl\n",
      "\n",
      "ass _Arg, class _Result> struct std::unary_function' is deprecated [-Wdeprecated-declarations]\n",
      "  299 |         : public boost::functional::detail::unary_function<\n",
      "      |                                             ^~~~~~~~~~~~~~\n",
      "C:/rtools42/ucrt64/include/c++/12.2.0/bits/stl_function.h:117:12: note: declared here\n",
      "  117 |     struct unary_function\n",
      "      |            ^~~~~~~~~~~~~~\n",
      "stan/lib/stan_math/lib/boost_1.78.0/boost/functional.hpp:345:57: warning: 'template<class _Arg, class _Result> struct std::unary_function' is deprecated [-Wdeprecated-declarations]\n",
      "  345 |     class mem_fun_t : public boost::functional::detail::unary_function<T*, S>\n",
      "      |                                                         ^~~~~~~~~~~~~~\n",
      "C:/rtools42/ucrt64/include/c++/12.2.0/bits/stl_function.h:117:12: note: declared here\n",
      "  117 |     struct unary_function\n",
      "      |            ^~~~~~~~~~~~~~\n",
      "stan/lib/stan_math/lib/boost_1.78.0/boost/functional.hpp:361:58: warning: 'template<class _Arg1, class _Arg2, class _Result> struct std::binary_function' is deprecated [-Wdeprecated-declarations]\n",
      "  361 |     class mem_fun1_t : public boost::functional::detail::binary_function<T*, A, S>\n",
      "      |                                                          ^~~~~~~~~~~~~~~\n",
      "C:/rtools42/ucrt64/include/c++/12.2.0/bits/stl_function.h:131:12: note: declared here\n",
      "  131 |     struct binary_function\n",
      "      |            ^~~~~~~~~~~~~~~\n",
      "stan/lib/stan_math/lib/boost_1.78.0/boost/functional.hpp:377:63: warning: 'template<class _Arg, class _Result> struct std::unary_function' is deprecated [-Wdeprecated-declarations]\n",
      "  377 |     class const_mem_fun_t : public boost::functional::detail::unary_function<const T*, S>\n",
      "      |                                                               ^~~~~~~~~~~~~~\n",
      "C:/rtools42/ucrt64/include/c++/12.2.0/bits/stl_function.h:117:12: note: declared here\n",
      "  117 |     struct unary_function\n",
      "      |            ^~~~~~~~~~~~~~\n",
      "stan/lib/stan_math/lib/boost_1.78.0/boost/functional.hpp:393:64: warning: \n",
      "\n",
      "'template<class _Arg1, class _Arg2, class _Result> struct std::binary_function' is deprecated [-Wdeprecated-declarations]\n",
      "  393 |     class const_mem_fun1_t : public boost::functional::detail::binary_function<const T*, A, S>\n",
      "      |                                                                ^~~~~~~~~~~~~~~\n",
      "C:/rtools42/ucrt64/include/c++/12.2.0/bits/stl_function.h:131:12: note: declared here\n",
      "  131 |     struct binary_function\n",
      "      |            ^~~~~~~~~~~~~~~\n",
      "stan/lib/stan_math/lib/boost_1.78.0/boost/functional.hpp:438:61: warning: 'template<class _Arg, class _Result> struct std::unary_function' is deprecated [-Wdeprecated-declarations]\n",
      "  438 |     class mem_fun_ref_t : public boost::functional::detail::unary_function<T&, S>\n",
      "      |                                                             ^~~~~~~~~~~~~~\n",
      "C:/rtools42/ucrt64/include/c++/12.2.0/bits/stl_function.h:117:12: note: declared here\n",
      "  117 |     struct unary_function\n",
      "      |            ^~~~~~~~~~~~~~\n",
      "stan/lib/stan_math/lib/boost_1.78.0/boost/functional.hpp:454:62: warning: 'template<class _Arg1, class _Arg2, class _Result> struct std::binary_function' is deprecated [-Wdeprecated-declarations]\n",
      "  454 |     class mem_fun1_ref_t : public boost::functional::detail::binary_function<T&, A, S>\n",
      "      |                                                              ^~~~~~~~~~~~~~~\n",
      "C:/rtools42/ucrt64/include/c++/12.2.0/bits/stl_function.h:131:12: note: declared here\n",
      "  131 |     struct binary_function\n",
      "      |            ^~~~~~~~~~~~~~~\n",
      "stan/lib/stan_math/lib/boost_1.78.0/boost/functional.hpp:470:67: warning: 'template<class _Arg, class _Result> struct std::unary_function' is deprecated [-Wdeprecated-declarations]\n",
      "  470 |     class const_mem_fun_ref_t : public boost::functional::detail::unary_function<const T&, S>\n",
      "      |                                                                   ^~~~~~~~~~~~~~\n",
      "C:/rtools42/ucrt64/include/c++/12.2.0/bits/stl_function.h:117:12: note: declared here\n",
      "  117 |     struct unary_function\n",
      "\n",
      "\n",
      "      |            ^~~~~~~~~~~~~~\n",
      "stan/lib/stan_math/lib/boost_1.78.0/boost/functional.hpp:487:68: warning: 'template<class _Arg1, class _Arg2, class _Result> struct std::binary_function' is deprecated [-Wdeprecated-declarations]\n",
      "  487 |     class const_mem_fun1_ref_t : public boost::functional::detail::binary_function<const T&, A, S>\n",
      "      |                                                                    ^~~~~~~~~~~~~~~\n",
      "C:/rtools42/ucrt64/include/c++/12.2.0/bits/stl_function.h:131:12: note: declared here\n",
      "  131 |     struct binary_function\n",
      "      |            ^~~~~~~~~~~~~~~\n",
      "stan/lib/stan_math/lib/boost_1.78.0/boost/functional.hpp:533:73: warning: 'template<class _Arg, class _Result> struct std::unary_function' is deprecated [-Wdeprecated-declarations]\n",
      "  533 |     class pointer_to_unary_function : public boost::functional::detail::unary_function<Arg,Result>\n",
      "      |                                                                         ^~~~~~~~~~~~~~\n",
      "C:/rtools42/ucrt64/include/c++/12.2.0/bits/stl_function.h:117:12: note: declared here\n",
      "  117 |     struct unary_function\n",
      "      |            ^~~~~~~~~~~~~~\n",
      "stan/lib/stan_math/lib/boost_1.78.0/boost/functional.hpp:557:74: warning: 'template<class _Arg1, class _Arg2, class _Result> struct std::binary_function' is deprecated [-Wdeprecated-declarations]\n",
      "  557 |     class pointer_to_binary_function : public boost::functional::detail::binary_function<Arg1,Arg2,Result>\n",
      "      |                                                                          ^~~~~~~~~~~~~~~\n",
      "C:/rtools42/ucrt64/include/c++/12.2.0/bits/stl_function.h:131:12: note: declared here\n",
      "  131 |     struct binary_function\n",
      "      |            ^~~~~~~~~~~~~~~\n",
      "\n",
      "\n"
     ]
    },
    {
     "name": "stdout",
     "output_type": "stream",
     "text": [
      "Running MCMC with 8 parallel chains, with 1 thread(s) per chain...\n",
      "\n",
      "Chain 1 Iteration:   1 / 1000 [  0%]  (Warmup) \n",
      "Chain 1 Iteration: 100 / 1000 [ 10%]  (Warmup) \n",
      "Chain 1 Iteration: 200 / 1000 [ 20%]  (Warmup) \n",
      "Chain 1 Iteration: 300 / 1000 [ 30%]  (Warmup) \n"
     ]
    },
    {
     "name": "stderr",
     "output_type": "stream",
     "text": [
      "Chain 2 Rejecting initial value:\n",
      "\n",
      "Chain 2   Error evaluating the log probability at the initial value.\n",
      "\n",
      "Chain 2 Exception: normal_lpdf: Scale parameter is -1.75156, but must be positive! (in 'C:/Users/Immanuel/AppData/Local/Temp/RtmpS4oCLS/model-3b2458761147.stan', line 20, column 4 to column 34)\n",
      "\n",
      "Chain 2 Exception: normal_lpdf: Scale parameter is -1.75156, but must be positive! (in 'C:/Users/Immanuel/AppData/Local/Temp/RtmpS4oCLS/model-3b2458761147.stan', line 20, column 4 to column 34)\n",
      "\n"
     ]
    },
    {
     "name": "stdout",
     "output_type": "stream",
     "text": [
      "Chain 2 Iteration:   1 / 1000 [  0%]  (Warmup) \n",
      "Chain 2 Iteration: 100 / 1000 [ 10%]  (Warmup) \n",
      "Chain 2 Iteration: 200 / 1000 [ 20%]  (Warmup) \n",
      "Chain 2 Iteration: 300 / 1000 [ 30%]  (Warmup) \n",
      "Chain 2 Iteration: 400 / 1000 [ 40%]  (Warmup) \n",
      "Chain 2 Iteration: 500 / 1000 [ 50%]  (Warmup) \n",
      "Chain 2 Iteration: 501 / 1000 [ 50%]  (Sampling) \n"
     ]
    },
    {
     "name": "stderr",
     "output_type": "stream",
     "text": [
      "Chain 3 Rejecting initial value:\n",
      "\n",
      "Chain 3   Error evaluating the log probability at the initial value.\n",
      "\n",
      "Chain 3 Exception: normal_lpdf: Scale parameter is -0.668159, but must be positive! (in 'C:/Users/Immanuel/AppData/Local/Temp/RtmpS4oCLS/model-3b2458761147.stan', line 20, column 4 to column 34)\n",
      "\n",
      "Chain 3 Exception: normal_lpdf: Scale parameter is -0.668159, but must be positive! (in 'C:/Users/Immanuel/AppData/Local/Temp/RtmpS4oCLS/model-3b2458761147.stan', line 20, column 4 to column 34)\n",
      "\n"
     ]
    },
    {
     "name": "stdout",
     "output_type": "stream",
     "text": [
      "Chain 3 Iteration:   1 / 1000 [  0%]  (Warmup) \n",
      "Chain 3 Iteration: 100 / 1000 [ 10%]  (Warmup) \n",
      "Chain 3 Iteration: 200 / 1000 [ 20%]  (Warmup) \n",
      "Chain 3 Iteration: 300 / 1000 [ 30%]  (Warmup) \n",
      "Chain 3 Iteration: 400 / 1000 [ 40%]  (Warmup) \n",
      "Chain 3 Iteration: 500 / 1000 [ 50%]  (Warmup) \n",
      "Chain 3 Iteration: 501 / 1000 [ 50%]  (Sampling) \n",
      "Chain 3 Iteration: 600 / 1000 [ 60%]  (Sampling) \n"
     ]
    },
    {
     "name": "stderr",
     "output_type": "stream",
     "text": [
      "Chain 3 Informational Message: The current Metropolis proposal is about to be rejected because of the following issue:\n",
      "\n",
      "Chain 3 Exception: normal_lpdf: Scale parameter is -26.15, but must be positive! (in 'C:/Users/Immanuel/AppData/Local/Temp/RtmpS4oCLS/model-3b2458761147.stan', line 20, column 4 to column 34)\n",
      "\n",
      "Chain 3 If this warning occurs sporadically, such as for highly constrained variable types like covariance matrices, then the sampler is fine,\n",
      "\n",
      "Chain 3 but if this warning occurs often then your model may be either severely ill-conditioned or misspecified.\n",
      "\n",
      "Chain 3 \n",
      "\n"
     ]
    },
    {
     "name": "stdout",
     "output_type": "stream",
     "text": [
      "Chain 4 Iteration:   1 / 1000 [  0%]  (Warmup) \n",
      "Chain 4 Iteration: 100 / 1000 [ 10%]  (Warmup) \n",
      "Chain 4 Iteration: 200 / 1000 [ 20%]  (Warmup) \n",
      "Chain 4 Iteration: 300 / 1000 [ 30%]  (Warmup) \n",
      "Chain 4 Iteration: 400 / 1000 [ 40%]  (Warmup) \n",
      "Chain 4 Iteration: 500 / 1000 [ 50%]  (Warmup) \n",
      "Chain 4 Iteration: 501 / 1000 [ 50%]  (Sampling) \n",
      "Chain 5 Iteration:   1 / 1000 [  0%]  (Warmup) \n",
      "Chain 5 Iteration: 100 / 1000 [ 10%]  (Warmup) \n",
      "Chain 6 Iteration:   1 / 1000 [  0%]  (Warmup) \n",
      "Chain 6 Iteration: 100 / 1000 [ 10%]  (Warmup) \n"
     ]
    },
    {
     "name": "stderr",
     "output_type": "stream",
     "text": [
      "Chain 7 Rejecting initial value:\n",
      "\n",
      "Chain 7   Error evaluating the log probability at the initial value.\n",
      "\n",
      "Chain 7 Exception: normal_lpdf: Scale parameter is -0.707527, but must be positive! (in 'C:/Users/Immanuel/AppData/Local/Temp/RtmpS4oCLS/model-3b2458761147.stan', line 20, column 4 to column 34)\n",
      "\n",
      "Chain 7 Exception: normal_lpdf: Scale parameter is -0.707527, but must be positive! (in 'C:/Users/Immanuel/AppData/Local/Temp/RtmpS4oCLS/model-3b2458761147.stan', line 20, column 4 to column 34)\n",
      "\n"
     ]
    },
    {
     "name": "stdout",
     "output_type": "stream",
     "text": [
      "Chain 7 Iteration:   1 / 1000 [  0%]  (Warmup) \n",
      "Chain 7 Iteration: 100 / 1000 [ 10%]  (Warmup) \n",
      "Chain 7 Iteration: 200 / 1000 [ 20%]  (Warmup) \n",
      "Chain 7 Iteration: 300 / 1000 [ 30%]  (Warmup) \n",
      "Chain 8 Iteration:   1 / 1000 [  0%]  (Warmup) \n",
      "Chain 8 Iteration: 100 / 1000 [ 10%]  (Warmup) \n",
      "Chain 8 Iteration: 200 / 1000 [ 20%]  (Warmup) \n",
      "Chain 8 Iteration: 300 / 1000 [ 30%]  (Warmup) \n",
      "Chain 1 Iteration: 400 / 1000 [ 40%]  (Warmup) \n",
      "Chain 1 Iteration: 500 / 1000 [ 50%]  (Warmup) \n",
      "Chain 1 Iteration: 501 / 1000 [ 50%]  (Sampling) \n",
      "Chain 1 Iteration: 600 / 1000 [ 60%]  (Sampling) \n",
      "Chain 1 Iteration: 700 / 1000 [ 70%]  (Sampling) \n",
      "Chain 1 Iteration: 800 / 1000 [ 80%]  (Sampling) \n",
      "Chain 1 Iteration: 900 / 1000 [ 90%]  (Sampling) \n",
      "Chain 1 Iteration: 1000 / 1000 [100%]  (Sampling) \n",
      "Chain 1 finished in 0.3 seconds.\n",
      "Chain 2 Iteration: 600 / 1000 [ 60%]  (Sampling) \n",
      "Chain 2 Iteration: 700 / 1000 [ 70%]  (Sampling) \n",
      "Chain 2 Iteration: 800 / 1000 [ 80%]  (Sampling) \n",
      "Chain 2 Iteration: 900 / 1000 [ 90%]  (Sampling) \n",
      "Chain 2 Iteration: 1000 / 1000 [100%]  (Sampling) \n",
      "Chain 2 finished in 0.2 seconds.\n",
      "Chain 3 Iteration: 700 / 1000 [ 70%]  (Sampling) \n",
      "Chain 3 Iteration: 800 / 1000 [ 80%]  (Sampling) \n",
      "Chain 3 Iteration: 900 / 1000 [ 90%]  (Sampling) \n",
      "Chain 3 Iteration: 1000 / 1000 [100%]  (Sampling) \n",
      "Chain 3 finished in 0.2 seconds.\n",
      "Chain 4 Iteration: 600 / 1000 [ 60%]  (Sampling) \n",
      "Chain 4 Iteration: 700 / 1000 [ 70%]  (Sampling) \n",
      "Chain 4 Iteration: 800 / 1000 [ 80%]  (Sampling) \n",
      "Chain 4 Iteration: 900 / 1000 [ 90%]  (Sampling) \n",
      "Chain 4 Iteration: 1000 / 1000 [100%]  (Sampling) \n",
      "Chain 4 finished in 0.2 seconds.\n",
      "Chain 5 Iteration: 200 / 1000 [ 20%]  (Warmup) \n",
      "Chain 5 Iteration: 300 / 1000 [ 30%]  (Warmup) \n",
      "Chain 5 Iteration: 400 / 1000 [ 40%]  (Warmup) \n",
      "Chain 5 Iteration: 500 / 1000 [ 50%]  (Warmup) \n",
      "Chain 5 Iteration: 501 / 1000 [ 50%]  (Sampling) \n",
      "Chain 5 Iteration: 600 / 1000 [ 60%]  (Sampling) \n",
      "Chain 5 Iteration: 700 / 1000 [ 70%]  (Sampling) \n",
      "Chain 5 Iteration: 800 / 1000 [ 80%]  (Sampling) \n",
      "Chain 5 Iteration: 900 / 1000 [ 90%]  (Sampling) \n",
      "Chain 5 Iteration: 1000 / 1000 [100%]  (Sampling) \n",
      "Chain 5 finished in 0.3 seconds.\n",
      "Chain 6 Iteration: 200 / 1000 [ 20%]  (Warmup) \n",
      "Chain 6 Iteration: 300 / 1000 [ 30%]  (Warmup) \n",
      "Chain 6 Iteration: 400 / 1000 [ 40%]  (Warmup) \n",
      "Chain 6 Iteration: 500 / 1000 [ 50%]  (Warmup) \n",
      "Chain 6 Iteration: 501 / 1000 [ 50%]  (Sampling) \n",
      "Chain 6 Iteration: 600 / 1000 [ 60%]  (Sampling) \n",
      "Chain 6 Iteration: 700 / 1000 [ 70%]  (Sampling) \n",
      "Chain 6 Iteration: 800 / 1000 [ 80%]  (Sampling) \n",
      "Chain 6 Iteration: 900 / 1000 [ 90%]  (Sampling) \n",
      "Chain 6 Iteration: 1000 / 1000 [100%]  (Sampling) \n",
      "Chain 6 finished in 0.3 seconds.\n",
      "Chain 7 Iteration: 400 / 1000 [ 40%]  (Warmup) \n",
      "Chain 7 Iteration: 500 / 1000 [ 50%]  (Warmup) \n",
      "Chain 7 Iteration: 501 / 1000 [ 50%]  (Sampling) \n",
      "Chain 7 Iteration: 600 / 1000 [ 60%]  (Sampling) \n",
      "Chain 7 Iteration: 700 / 1000 [ 70%]  (Sampling) \n",
      "Chain 7 Iteration: 800 / 1000 [ 80%]  (Sampling) \n",
      "Chain 7 Iteration: 900 / 1000 [ 90%]  (Sampling) \n",
      "Chain 7 Iteration: 1000 / 1000 [100%]  (Sampling) \n",
      "Chain 7 finished in 0.2 seconds.\n",
      "Chain 8 Iteration: 400 / 1000 [ 40%]  (Warmup) \n",
      "Chain 8 Iteration: 500 / 1000 [ 50%]  (Warmup) \n",
      "Chain 8 Iteration: 501 / 1000 [ 50%]  (Sampling) \n",
      "Chain 8 Iteration: 600 / 1000 [ 60%]  (Sampling) \n",
      "Chain 8 Iteration: 700 / 1000 [ 70%]  (Sampling) \n",
      "Chain 8 Iteration: 800 / 1000 [ 80%]  (Sampling) \n",
      "Chain 8 Iteration: 900 / 1000 [ 90%]  (Sampling) \n",
      "Chain 8 Iteration: 1000 / 1000 [100%]  (Sampling) \n",
      "Chain 8 finished in 0.2 seconds.\n",
      "\n",
      "All 8 chains finished successfully.\n",
      "Mean chain execution time: 0.2 seconds.\n",
      "Total execution time: 0.6 seconds.\n",
      "\n"
     ]
    }
   ],
   "source": [
    "model <- ulam(\n",
    "\talist(\n",
    "\t\theight ~ dnorm(mu, sigma),\n",
    "\t\tmu <- a + b_weight * weight,\n",
    "\t\ta ~ dnorm(150, 50),\n",
    "\t\tb_weight ~ dnorm(0, 10),\n",
    "\t\tsigma ~ dcauchy(0, 10)\n",
    "\t),\n",
    "\tdata = d, chains = 8, cores = 8\n",
    ")"
   ]
  },
  {
   "cell_type": "code",
   "execution_count": 21,
   "metadata": {
    "vscode": {
     "languageId": "r"
    }
   },
   "outputs": [
    {
     "data": {
      "image/png": "[encoded data removed]",
      "text/plain": [
       "plot without title"
      ]
     },
     "metadata": {
      "image/png": {
       "height": 420,
       "width": 420
      }
     },
     "output_type": "display_data"
    }
   ],
   "source": [
    "weight_seq <- seq(from = 30, to = 70, by = 1)\n",
    "\n",
    "mu <- link(model, data = list(weight = weight_seq))\n",
    "mu_mean <- apply(mu, 2, mean)\n",
    "mu_HPDI <- apply(mu, 2, HPDI, prob = 0.98)\n",
    "\n",
    "plot(height ~ weight, data = d)\n",
    "lines(weight_seq, mu_mean)\n",
    "shade(mu_HPDI, weight_seq)\n",
    "\n",
    "sim_height <- sim(model, data = list(weight = weight_seq), n = 10000)\n",
    "height_HPDI <- apply(sim_height, 2, HPDI, prob = 0.98)\n",
    "shade(height_HPDI, weight_seq)"
   ]
  }
 ],
 "metadata": {
  "kernelspec": {
   "display_name": "R",
   "language": "R",
   "name": "ir"
  },
  "language_info": {
   "codemirror_mode": "r",
   "file_extension": ".r",
   "mimetype": "text/x-r-source",
   "name": "R",
   "pygments_lexer": "r",
   "version": "4.2.2"
  },
  "orig_nbformat": 4
 },
 "nbformat": 4,
 "nbformat_minor": 2
}
