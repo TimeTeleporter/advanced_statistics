{
 "cells": [
  {
   "attachments": {},
   "cell_type": "markdown",
   "metadata": {},
   "source": [
    "## Exercise sheet 4\n",
    "\n",
    "### Exercise 1\n",
    "\n",
    "We are getting back to the Kalahari foragers population study by Nancy Howell. After having installed the rethinking package (see above), fit a linear model between heights as in the course. Some individuals got only their weights recorded during the census: 43, 36, 52, 44, 69 kg. Compute the predicted heights for these individuals along with credible intervals of your choice (specify them)."
   ]
  },
  {
   "cell_type": "code",
   "execution_count": 15,
   "metadata": {
    "vscode": {
     "languageId": "r"
    }
   },
   "outputs": [],
   "source": [
    "library(rethinking)\n",
    "data(Howell1)\n",
    "d <- Howell1\n",
    "\n",
    "# Height and weight of all individuals aged 18 or higher\n",
    "d2 <- d[d$age >=  18, ]"
   ]
  },
  {
   "attachments": {},
   "cell_type": "markdown",
   "metadata": {},
   "source": [
    "We construct a model as in the course. The height $h_i$ is a normal distribution around some value depending on the offset parameter $\\alpha$ and a linear parameter $\\beta$ of the weight $x_i$.\n",
    "\n",
    "$$\\mu_i = \\alpha + \\beta x_i$$\n",
    "\n",
    "We also take the standard deviation $\\sigma$ as a parameter of the model, where we note that it does not depend on the weight $x$.\n",
    "\n",
    "$$h_i \\sim \\text{Normal}(\\mu_i, \\sigma) = \\text{Normal}(\\alpha + \\beta x_i, \\sigma)$$\n",
    "\n",
    "As a prior probability of the parameters we take $\\alpha$ and $\\beta$ to be normally distributed, and for $\\sigma$ we take a non-negative, uniform distribution.\n",
    "\n",
    "$$\\alpha \\sim \\text{Normal}(178, 100)$$\n",
    "$$\\beta \\sim \\text{Normal}(0, 10)$$\n",
    "$$\\sigma \\sim \\text{Uniform}(0, 50)$$"
   ]
  },
  {
   "cell_type": "code",
   "execution_count": 16,
   "metadata": {
    "vscode": {
     "languageId": "r"
    }
   },
   "outputs": [
    {
     "data": {
      "text/html": [
       "<table class=\"dataframe\">\n",
       "<caption>A precis: 3 × 4</caption>\n",
       "<thead>\n",
       "\t<tr><th></th><th scope=col>mean</th><th scope=col>sd</th><th scope=col>5.5%</th><th scope=col>94.5%</th></tr>\n",
       "\t<tr><th></th><th scope=col>&lt;dbl&gt;</th><th scope=col>&lt;dbl&gt;</th><th scope=col>&lt;dbl&gt;</th><th scope=col>&lt;dbl&gt;</th></tr>\n",
       "</thead>\n",
       "<tbody>\n",
       "\t<tr><th scope=row>alpha</th><td>113.9033810</td><td>1.9052673</td><td>110.8583959</td><td>116.9483661</td></tr>\n",
       "\t<tr><th scope=row>beta</th><td>  0.9045064</td><td>0.0419201</td><td>  0.8375099</td><td>  0.9715028</td></tr>\n",
       "\t<tr><th scope=row>sigma</th><td>  5.0718673</td><td>0.1911533</td><td>  4.7663675</td><td>  5.3773672</td></tr>\n",
       "</tbody>\n",
       "</table>\n"
      ],
      "text/latex": [
       "A precis: 3 × 4\n",
       "\\begin{tabular}{r|llll}\n",
       "  & mean & sd & 5.5\\% & 94.5\\%\\\\\n",
       "  & <dbl> & <dbl> & <dbl> & <dbl>\\\\\n",
       "\\hline\n",
       "\talpha & 113.9033810 & 1.9052673 & 110.8583959 & 116.9483661\\\\\n",
       "\tbeta &   0.9045064 & 0.0419201 &   0.8375099 &   0.9715028\\\\\n",
       "\tsigma &   5.0718673 & 0.1911533 &   4.7663675 &   5.3773672\\\\\n",
       "\\end{tabular}\n"
      ],
      "text/markdown": [
       "\n",
       "A precis: 3 × 4\n",
       "\n",
       "| <!--/--> | mean &lt;dbl&gt; | sd &lt;dbl&gt; | 5.5% &lt;dbl&gt; | 94.5% &lt;dbl&gt; |\n",
       "|---|---|---|---|---|\n",
       "| alpha | 113.9033810 | 1.9052673 | 110.8583959 | 116.9483661 |\n",
       "| beta |   0.9045064 | 0.0419201 |   0.8375099 |   0.9715028 |\n",
       "| sigma |   5.0718673 | 0.1911533 |   4.7663675 |   5.3773672 |\n",
       "\n"
      ],
      "text/plain": [
       "      mean        sd        5.5%        94.5%      \n",
       "alpha 113.9033810 1.9052673 110.8583959 116.9483661\n",
       "beta    0.9045064 0.0419201   0.8375099   0.9715028\n",
       "sigma   5.0718673 0.1911533   4.7663675   5.3773672"
      ]
     },
     "metadata": {},
     "output_type": "display_data"
    }
   ],
   "source": [
    "flist <- alist(height~dnorm(mu, sigma), mu<-alpha+beta*weight, alpha~dnorm(178, 100), beta~dnorm(0,10), sigma~dunif(0,50))\n",
    "\n",
    "# The parameters as determined by the maximum a porsteriori fit\n",
    "output <- map(flist, data=d2)\n",
    "\n",
    "summary(output)"
   ]
  },
  {
   "attachments": {},
   "cell_type": "markdown",
   "metadata": {},
   "source": [
    "We thus get the mean and the standard deviation for the parameters $a$ $b$ and $sigma$. Lets find the predicted heights for the individuals where only the height has been reported."
   ]
  },
  {
   "cell_type": "code",
   "execution_count": 17,
   "metadata": {
    "vscode": {
     "languageId": "r"
    }
   },
   "outputs": [
    {
     "data": {
      "text/html": [
       "<style>\n",
       ".list-inline {list-style: none; margin:0; padding: 0}\n",
       ".list-inline>li {display: inline-block}\n",
       ".list-inline>li:not(:last-child)::after {content: \"\\00b7\"; padding: 0 .5ex}\n",
       "</style>\n",
       "<ol class=list-inline><li>152.7972536</li><li>146.4660777</li><li>160.9373369</li><li>153.7017073</li><li>176.3130498</li></ol>\n"
      ],
      "text/latex": [
       "\\begin{enumerate*}\n",
       "\\item 152.7972536\n",
       "\\item 146.4660777\n",
       "\\item 160.9373369\n",
       "\\item 153.7017073\n",
       "\\item 176.3130498\n",
       "\\end{enumerate*}\n"
      ],
      "text/markdown": [
       "1. 152.7972536\n",
       "2. 146.4660777\n",
       "3. 160.9373369\n",
       "4. 153.7017073\n",
       "5. 176.3130498\n",
       "\n",
       "\n"
      ],
      "text/plain": [
       "[1] 152.7973 146.4661 160.9373 153.7017 176.3130"
      ]
     },
     "metadata": {},
     "output_type": "display_data"
    }
   ],
   "source": [
    "# How do you extract the parameters automatically?\n",
    "alpha <- 113.9057445\n",
    "beta <- 0.9044537\n",
    "\n",
    "# Weights array of the inviduals without height data\n",
    "new_weights <- c(43, 36, 52, 44, 69)\n",
    "\n",
    "# Predicted heights given the weights\n",
    "new_heights <- alpha + beta * new_weights\n",
    "\n",
    "new_heights"
   ]
  },
  {
   "attachments": {},
   "cell_type": "markdown",
   "metadata": {},
   "source": [
    "Thus the predicted heights are\n",
    "\n",
    "$$[152.7, 146.4, 160.9, 153.7, 176.3]$$"
   ]
  },
  {
   "attachments": {},
   "cell_type": "markdown",
   "metadata": {},
   "source": [
    "To find the credible interval we have to sample the posterior dirstribution."
   ]
  },
  {
   "cell_type": "code",
   "execution_count": 18,
   "metadata": {
    "vscode": {
     "languageId": "r"
    }
   },
   "outputs": [
    {
     "data": {
      "image/png": "[encoded data removed]",
      "text/plain": [
       "plot without title"
      ]
     },
     "metadata": {
      "image/png": {
       "height": 420,
       "width": 420
      }
     },
     "output_type": "display_data"
    }
   ],
   "source": [
    "# Sampling the posterior distribution of the parameters\n",
    "post <- extract.samples(output)\n",
    "mu.link <- function(weight) post$a + post$b * weight\n",
    "\n",
    "# Defining the weight grid\n",
    "weight.seq <- seq(from = 25, to = 70, by = 1)\n",
    "\n",
    "# For each weight value we calculate a 91 percent credible interval\n",
    "mu <- sapply(weight.seq, mu.link)\n",
    "mu.mean <- apply(mu, 2, mean)\n",
    "mu.HPDI <- apply(mu, 2, HPDI, prob = 0.91)\n",
    "\n",
    "plot(height ~ weight, d2)\n",
    "lines(weight.seq, mu.mean)\n",
    "shade(mu.HPDI, weight.seq)\n",
    "\n",
    "# We calculate the 91 percent credible interval of the height variables by taking into account the uncertainty of the slope and the standard deviation\n",
    "sim.height <- sim(output, data=list(weight = weight.seq))\n",
    "height.PI <- apply(sim.height, 2, HPDI, prob = 0.91)\n",
    "shade(height.PI, weight.seq)"
   ]
  },
  {
   "attachments": {},
   "cell_type": "markdown",
   "metadata": {},
   "source": [
    "Thus we may identify the 91 percent credible interval for each individual without height measurement."
   ]
  },
  {
   "cell_type": "code",
   "execution_count": 19,
   "metadata": {
    "vscode": {
     "languageId": "r"
    }
   },
   "outputs": [
    {
     "data": {
      "text/html": [
       "<style>\n",
       ".list-inline {list-style: none; margin:0; padding: 0}\n",
       ".list-inline>li {display: inline-block}\n",
       ".list-inline>li:not(:last-child)::after {content: \"\\00b7\"; padding: 0 .5ex}\n",
       "</style>\n",
       "<ol class=list-inline><li>43</li><li>36</li><li>52</li><li>44</li><li>69</li></ol>\n"
      ],
      "text/latex": [
       "\\begin{enumerate*}\n",
       "\\item 43\n",
       "\\item 36\n",
       "\\item 52\n",
       "\\item 44\n",
       "\\item 69\n",
       "\\end{enumerate*}\n"
      ],
      "text/markdown": [
       "1. 43\n",
       "2. 36\n",
       "3. 52\n",
       "4. 44\n",
       "5. 69\n",
       "\n",
       "\n"
      ],
      "text/plain": [
       "[1] 43 36 52 44 69"
      ]
     },
     "metadata": {},
     "output_type": "display_data"
    },
    {
     "data": {
      "text/html": [
       "<style>\n",
       ".list-inline {list-style: none; margin:0; padding: 0}\n",
       ".list-inline>li {display: inline-block}\n",
       ".list-inline>li:not(:last-child)::after {content: \"\\00b7\"; padding: 0 .5ex}\n",
       "</style>\n",
       "<ol class=list-inline><li>152.793691444677</li><li>146.459289730554</li><li>160.937922219978</li><li>153.698605975266</li><li>176.321469239991</li></ol>\n"
      ],
      "text/latex": [
       "\\begin{enumerate*}\n",
       "\\item 152.793691444677\n",
       "\\item 146.459289730554\n",
       "\\item 160.937922219978\n",
       "\\item 153.698605975266\n",
       "\\item 176.321469239991\n",
       "\\end{enumerate*}\n"
      ],
      "text/markdown": [
       "1. 152.793691444677\n",
       "2. 146.459289730554\n",
       "3. 160.937922219978\n",
       "4. 153.698605975266\n",
       "5. 176.321469239991\n",
       "\n",
       "\n"
      ],
      "text/plain": [
       "[1] 152.7937 146.4593 160.9379 153.6986 176.3215"
      ]
     },
     "metadata": {},
     "output_type": "display_data"
    },
    {
     "data": {
      "text/html": [
       "<table class=\"dataframe\">\n",
       "<caption>A matrix: 2 × 5 of type dbl</caption>\n",
       "<tbody>\n",
       "\t<tr><th scope=row>|0.91</th><td>143.8225</td><td>137.3975</td><td>152.9829</td><td>145.7550</td><td>167.3198</td></tr>\n",
       "\t<tr><th scope=row>0.91|</th><td>160.4976</td><td>154.3310</td><td>169.9818</td><td>162.6241</td><td>184.5086</td></tr>\n",
       "</tbody>\n",
       "</table>\n"
      ],
      "text/latex": [
       "A matrix: 2 × 5 of type dbl\n",
       "\\begin{tabular}{r|lllll}\n",
       "\t\\textbar{}0.91 & 143.8225 & 137.3975 & 152.9829 & 145.7550 & 167.3198\\\\\n",
       "\t0.91\\textbar{} & 160.4976 & 154.3310 & 169.9818 & 162.6241 & 184.5086\\\\\n",
       "\\end{tabular}\n"
      ],
      "text/markdown": [
       "\n",
       "A matrix: 2 × 5 of type dbl\n",
       "\n",
       "| |0.91 | 143.8225 | 137.3975 | 152.9829 | 145.7550 | 167.3198 |\n",
       "| 0.91| | 160.4976 | 154.3310 | 169.9818 | 162.6241 | 184.5086 |\n",
       "\n"
      ],
      "text/plain": [
       "      [,1]     [,2]     [,3]     [,4]     [,5]    \n",
       "|0.91 143.8225 137.3975 152.9829 145.7550 167.3198\n",
       "0.91| 160.4976 154.3310 169.9818 162.6241 184.5086"
      ]
     },
     "metadata": {},
     "output_type": "display_data"
    }
   ],
   "source": [
    "new_weights\n",
    "mu.mean[new_weights - 24]\n",
    "height.PI[, new_weights - 24]"
   ]
  },
  {
   "attachments": {},
   "cell_type": "markdown",
   "metadata": {},
   "source": [
    "This data can be read as the first individum with weight 43 has a height between 144.1 and 161.1 with 91 precent probability."
   ]
  },
  {
   "attachments": {},
   "cell_type": "markdown",
   "metadata": {},
   "source": [
    "### Exercise 2\n",
    "\n",
    "The census performed on the Kalahari foragers include both children and adults. We focused on the latter in the course by specifically selecting individuals who are at least 18 years old. For this exercise, select individuals with ages less than 18 years old."
   ]
  },
  {
   "attachments": {},
   "cell_type": "markdown",
   "metadata": {},
   "source": [
    "1. Fit a linear model to these data. Summarise your findings (best-fit parameters values and credible intervals) and comment both on the model (incl. parameters behaviour) and the results."
   ]
  },
  {
   "attachments": {},
   "cell_type": "markdown",
   "metadata": {},
   "source": [
    "This has been done above."
   ]
  },
  {
   "attachments": {},
   "cell_type": "markdown",
   "metadata": {},
   "source": [
    "2. Check the model fit by superimposing the mean model with the raw data on a plot. Include the highest-probability density interval (HPDI) for the mean and for the predicted heights. Comment on the results."
   ]
  },
  {
   "attachments": {},
   "cell_type": "markdown",
   "metadata": {},
   "source": [
    "We see that the HPDI is centered around not the predicted mu, but the mean of the data?"
   ]
  },
  {
   "attachments": {},
   "cell_type": "markdown",
   "metadata": {},
   "source": [
    "3. Is this a good model? If not, explain why and elaborate on the possible (ie: real-world process) origin."
   ]
  },
  {
   "attachments": {},
   "cell_type": "markdown",
   "metadata": {},
   "source": [
    "The model needs improvement as the sigma does not depend on the weight itself. And as we dont have the same amount of data for all weight ranges, we also need to repsect this."
   ]
  },
  {
   "attachments": {},
   "cell_type": "markdown",
   "metadata": {},
   "source": [
    "4. How this model could be improved? What assumptions would you change to improve the results?"
   ]
  },
  {
   "attachments": {},
   "cell_type": "markdown",
   "metadata": {},
   "source": [
    "As said we can change sigma to depend on the weight, which would look as\n",
    "\n",
    "$$\\sigma_i = \\gamma + \\delta x_i,$$\n",
    "\n",
    "where $\\gamma$ and $\\delta$ are normally distributed parameters."
   ]
  },
  {
   "attachments": {},
   "cell_type": "markdown",
   "metadata": {},
   "source": [
    "## Exercise 3\n",
    "\n",
    "We would like to model the heights of all Kalahari foragers with no selection biases on their ages (i.e.: including both children and adults in the model). Here the key is to use the log scale.\n",
    "\n",
    "1. Try different types of models and comment on your estimates (mean and credible intervals). Do you identify a satisfactory fit? Summarise and critique your results."
   ]
  },
  {
   "attachments": {},
   "cell_type": "markdown",
   "metadata": {},
   "source": [
    "We now consider a model where we make the standard deviation of the height normal distribution linearly dependent on the weight\n",
    "\n",
    "$$h_i \\sim \\text{Normal}(\\mu_i, \\sigma_i) = \\text{Normal}(\\alpha + \\beta x_i, \\gamma + \\delta x_i),$$\n",
    "\n",
    "with the priors\n",
    "\n",
    "$$\\alpha \\sim \\text{Normal}(178, 100),$$\n",
    "$$\\beta \\sim \\text{Normal}(0, 10),$$\n",
    "$$\\gamma \\sim \\text{Normal}(25, 10),$$\n",
    "$$\\delta \\sim \\text{Normal}(0, 10).$$"
   ]
  },
  {
   "cell_type": "code",
   "execution_count": 20,
   "metadata": {
    "vscode": {
     "languageId": "r"
    }
   },
   "outputs": [
    {
     "data": {
      "text/html": [
       "<table class=\"dataframe\">\n",
       "<caption>A precis: 4 × 4</caption>\n",
       "<thead>\n",
       "\t<tr><th></th><th scope=col>mean</th><th scope=col>sd</th><th scope=col>5.5%</th><th scope=col>94.5%</th></tr>\n",
       "\t<tr><th></th><th scope=col>&lt;dbl&gt;</th><th scope=col>&lt;dbl&gt;</th><th scope=col>&lt;dbl&gt;</th><th scope=col>&lt;dbl&gt;</th></tr>\n",
       "</thead>\n",
       "<tbody>\n",
       "\t<tr><th scope=row>alpha</th><td>85.3574696</td><td>1.64907888</td><td>82.721923</td><td>87.9930162</td></tr>\n",
       "\t<tr><th scope=row>beta</th><td> 1.5011291</td><td>0.03885977</td><td> 1.439024</td><td> 1.5632345</td></tr>\n",
       "\t<tr><th scope=row>gamma</th><td>15.5111789</td><td>0.85039966</td><td>14.152076</td><td>16.8702818</td></tr>\n",
       "\t<tr><th scope=row>delta</th><td>-0.1824824</td><td>0.01868336</td><td>-0.212342</td><td>-0.1526228</td></tr>\n",
       "</tbody>\n",
       "</table>\n"
      ],
      "text/latex": [
       "A precis: 4 × 4\n",
       "\\begin{tabular}{r|llll}\n",
       "  & mean & sd & 5.5\\% & 94.5\\%\\\\\n",
       "  & <dbl> & <dbl> & <dbl> & <dbl>\\\\\n",
       "\\hline\n",
       "\talpha & 85.3574696 & 1.64907888 & 82.721923 & 87.9930162\\\\\n",
       "\tbeta &  1.5011291 & 0.03885977 &  1.439024 &  1.5632345\\\\\n",
       "\tgamma & 15.5111789 & 0.85039966 & 14.152076 & 16.8702818\\\\\n",
       "\tdelta & -0.1824824 & 0.01868336 & -0.212342 & -0.1526228\\\\\n",
       "\\end{tabular}\n"
      ],
      "text/markdown": [
       "\n",
       "A precis: 4 × 4\n",
       "\n",
       "| <!--/--> | mean &lt;dbl&gt; | sd &lt;dbl&gt; | 5.5% &lt;dbl&gt; | 94.5% &lt;dbl&gt; |\n",
       "|---|---|---|---|---|\n",
       "| alpha | 85.3574696 | 1.64907888 | 82.721923 | 87.9930162 |\n",
       "| beta |  1.5011291 | 0.03885977 |  1.439024 |  1.5632345 |\n",
       "| gamma | 15.5111789 | 0.85039966 | 14.152076 | 16.8702818 |\n",
       "| delta | -0.1824824 | 0.01868336 | -0.212342 | -0.1526228 |\n",
       "\n"
      ],
      "text/plain": [
       "      mean       sd         5.5%      94.5%     \n",
       "alpha 85.3574696 1.64907888 82.721923 87.9930162\n",
       "beta   1.5011291 0.03885977  1.439024  1.5632345\n",
       "gamma 15.5111789 0.85039966 14.152076 16.8702818\n",
       "delta -0.1824824 0.01868336 -0.212342 -0.1526228"
      ]
     },
     "metadata": {},
     "output_type": "display_data"
    },
    {
     "data": {
      "image/png": "[encoded data removed]",
      "text/plain": [
       "plot without title"
      ]
     },
     "metadata": {
      "image/png": {
       "height": 420,
       "width": 420
      }
     },
     "output_type": "display_data"
    }
   ],
   "source": [
    "flist <- alist(height~dnorm(mu, sigma), mu<-alpha+beta*weight, sigma~gamma+delta*weight, alpha~dnorm(178, 100), beta~dnorm(0,10), gamma~dnorm(25,10), delta~dnorm(0, 10))\n",
    "\n",
    "# The parameters as determined by the maximum a porsteriori fit\n",
    "output <- map(flist, data=d)\n",
    "\n",
    "summary(output)\n",
    "\n",
    "# Sampling the posterior distribution of the parameters\n",
    "post <- extract.samples(output)\n",
    "mu.link <- function(weight) post$a + post$b * weight\n",
    "\n",
    "# Defining the weight grid\n",
    "weight.seq <- seq(from = 0, to = 70, by = 1)\n",
    "\n",
    "# For each weight value we calculate a 91 percent credible interval\n",
    "mu <- sapply(weight.seq, mu.link)\n",
    "mu.mean <- apply(mu, 2, mean)\n",
    "mu.HPDI <- apply(mu, 2, HPDI, prob = 0.91)\n",
    "\n",
    "plot(height ~ weight, d)\n",
    "lines(weight.seq, mu.mean)\n",
    "shade(mu.HPDI, weight.seq)\n",
    "\n",
    "# We calculate the 91 percent credible interval of the height variables by taking into account the uncertainty of the slope and the standard deviation\n",
    "sim.height <- sim(output, data=list(weight = weight.seq))\n",
    "height.PI <- apply(sim.height, 2, HPDI, prob = 0.91)\n",
    "shade(height.PI, weight.seq)"
   ]
  },
  {
   "attachments": {},
   "cell_type": "markdown",
   "metadata": {},
   "source": [
    "Having done the model this way, we now want to consider different fits. After the linear fit we look at the quadratic. We modify the relation to the height variable and introduce a quadratic parameter.\n",
    "\n",
    "$$h_i \\sim \\text{Normal}(\\mu_i, \\sigma_i) = \\text{Normal}(\\alpha + \\beta x_i + \\epsilon x_i^2, \\gamma + \\delta x_i)$$\n",
    "\n",
    "The priors we take as before, for $\\epsilon$ we take\n",
    "\n",
    "$$\\epsilon \\sim \\text{Normal}(25, 10).$$"
   ]
  },
  {
   "cell_type": "code",
   "execution_count": 25,
   "metadata": {
    "vscode": {
     "languageId": "r"
    }
   },
   "outputs": [
    {
     "ename": "ERROR",
     "evalue": "Error in map(flist, data = d): Anfangswert in 'vmmin' ist nicht endlich\n",
     "output_type": "error",
     "traceback": [
      "Error in map(flist, data = d): Anfangswert in 'vmmin' ist nicht endlich\nTraceback:\n",
      "1. map(flist, data = d)",
      "2. stop(msg)"
     ]
    }
   ],
   "source": [
    "# Yeah idk why this doesnt work\n",
    "\n",
    "flist <- alist(height~dnorm(mu, sigma),\n",
    "mu<-alpha+beta*weight+epsilon*weight*weight,\n",
    "sigma~gamma+delta*weight, alpha~dnorm(178, 100),\n",
    "beta~dnorm(0,10),\n",
    "gamma~dnorm(0,10),\n",
    "delta~dnorm(0, 10),\n",
    "epsilon~dnorm(0,10))\n",
    "\n",
    "# The parameters as determined by the maximum a porsteriori fit\n",
    "output <- map(flist, data=d)\n",
    "\n",
    "summary(output)\n",
    "\n",
    "# Sampling the posterior distribution of the parameters\n",
    "post <- extract.samples(output)\n",
    "\n",
    "summary(post)\n",
    "\n",
    "mu.link <- function(weight) post$alpha + post$beta * weight + post$epsilon * weight * weight\n",
    "\n",
    "# Defining the weight grid\n",
    "weight.seq <- seq(from = 1, to = 70, by = 1)\n",
    "\n",
    "# For each weight value we calculate a 91 percent credible interval\n",
    "mu <- sapply(weight.seq, mu.link)\n",
    "mu.mean <- apply(mu, 2, mean)\n",
    "mu.HPDI <- apply(mu, 2, HPDI, prob = 0.91)\n",
    "\n",
    "plot(height ~ weight, d)\n",
    "lines(weight.seq, mu.mean)\n",
    "shade(mu.HPDI, weight.seq)\n",
    "\n",
    "# We calculate the 91 percent credible interval of the height variables by taking into account the uncertainty of the slope and the standard deviation\n",
    "sim.height <- sim(output, data=list(weight = weight.seq))\n",
    "height.PI <- apply(sim.height, 2, HPDI, prob = 0.91)\n",
    "shade(height.PI, weight.seq)"
   ]
  },
  {
   "attachments": {},
   "cell_type": "markdown",
   "metadata": {},
   "source": [
    "Stangely a qubic field does work, but a quadratic doesnt. This might have some easy explaination, but I cant think of one at the moment. Nonetheless, the cubic looks like quite a good fit."
   ]
  },
  {
   "cell_type": "code",
   "execution_count": 23,
   "metadata": {
    "vscode": {
     "languageId": "r"
    }
   },
   "outputs": [
    {
     "data": {
      "text/html": [
       "<table class=\"dataframe\">\n",
       "<caption>A precis: 5 × 4</caption>\n",
       "<thead>\n",
       "\t<tr><th></th><th scope=col>mean</th><th scope=col>sd</th><th scope=col>5.5%</th><th scope=col>94.5%</th></tr>\n",
       "\t<tr><th></th><th scope=col>&lt;dbl&gt;</th><th scope=col>&lt;dbl&gt;</th><th scope=col>&lt;dbl&gt;</th><th scope=col>&lt;dbl&gt;</th></tr>\n",
       "</thead>\n",
       "<tbody>\n",
       "\t<tr><th scope=row>alpha</th><td>45.806960899</td><td>1.497906816</td><td>43.41301650</td><td>48.20090530</td></tr>\n",
       "\t<tr><th scope=row>beta</th><td> 4.204609233</td><td>0.111900888</td><td> 4.02577000</td><td> 4.38344847</td></tr>\n",
       "\t<tr><th scope=row>gamma</th><td> 5.850332288</td><td>0.528320218</td><td> 5.00597454</td><td> 6.69469004</td></tr>\n",
       "\t<tr><th scope=row>delta</th><td>-0.002652652</td><td>0.013889700</td><td>-0.02485108</td><td> 0.01954577</td></tr>\n",
       "\t<tr><th scope=row>epsilon</th><td>-0.038582818</td><td>0.001745403</td><td>-0.04137231</td><td>-0.03579333</td></tr>\n",
       "</tbody>\n",
       "</table>\n"
      ],
      "text/latex": [
       "A precis: 5 × 4\n",
       "\\begin{tabular}{r|llll}\n",
       "  & mean & sd & 5.5\\% & 94.5\\%\\\\\n",
       "  & <dbl> & <dbl> & <dbl> & <dbl>\\\\\n",
       "\\hline\n",
       "\talpha & 45.806960899 & 1.497906816 & 43.41301650 & 48.20090530\\\\\n",
       "\tbeta &  4.204609233 & 0.111900888 &  4.02577000 &  4.38344847\\\\\n",
       "\tgamma &  5.850332288 & 0.528320218 &  5.00597454 &  6.69469004\\\\\n",
       "\tdelta & -0.002652652 & 0.013889700 & -0.02485108 &  0.01954577\\\\\n",
       "\tepsilon & -0.038582818 & 0.001745403 & -0.04137231 & -0.03579333\\\\\n",
       "\\end{tabular}\n"
      ],
      "text/markdown": [
       "\n",
       "A precis: 5 × 4\n",
       "\n",
       "| <!--/--> | mean &lt;dbl&gt; | sd &lt;dbl&gt; | 5.5% &lt;dbl&gt; | 94.5% &lt;dbl&gt; |\n",
       "|---|---|---|---|---|\n",
       "| alpha | 45.806960899 | 1.497906816 | 43.41301650 | 48.20090530 |\n",
       "| beta |  4.204609233 | 0.111900888 |  4.02577000 |  4.38344847 |\n",
       "| gamma |  5.850332288 | 0.528320218 |  5.00597454 |  6.69469004 |\n",
       "| delta | -0.002652652 | 0.013889700 | -0.02485108 |  0.01954577 |\n",
       "| epsilon | -0.038582818 | 0.001745403 | -0.04137231 | -0.03579333 |\n",
       "\n"
      ],
      "text/plain": [
       "        mean         sd          5.5%        94.5%      \n",
       "alpha   45.806960899 1.497906816 43.41301650 48.20090530\n",
       "beta     4.204609233 0.111900888  4.02577000  4.38344847\n",
       "gamma    5.850332288 0.528320218  5.00597454  6.69469004\n",
       "delta   -0.002652652 0.013889700 -0.02485108  0.01954577\n",
       "epsilon -0.038582818 0.001745403 -0.04137231 -0.03579333"
      ]
     },
     "metadata": {},
     "output_type": "display_data"
    },
    {
     "data": {
      "text/plain": [
       "     alpha            beta           gamma           delta          \n",
       " Min.   :40.30   Min.   :3.793   Min.   :3.946   Min.   :-0.052223  \n",
       " 1st Qu.:44.78   1st Qu.:4.129   1st Qu.:5.510   1st Qu.:-0.012102  \n",
       " Median :45.81   Median :4.203   Median :5.853   Median :-0.002670  \n",
       " Mean   :45.81   Mean   :4.204   Mean   :5.857   Mean   :-0.002824  \n",
       " 3rd Qu.:46.81   3rd Qu.:4.278   3rd Qu.:6.205   3rd Qu.: 0.006426  \n",
       " Max.   :51.27   Max.   :4.642   Max.   :7.852   Max.   : 0.051224  \n",
       "    epsilon        \n",
       " Min.   :-0.04554  \n",
       " 1st Qu.:-0.03973  \n",
       " Median :-0.03857  \n",
       " Mean   :-0.03856  \n",
       " 3rd Qu.:-0.03740  \n",
       " Max.   :-0.03224  "
      ]
     },
     "metadata": {},
     "output_type": "display_data"
    },
    {
     "data": {
      "image/png": "[encoded data removed]",
      "text/plain": [
       "plot without title"
      ]
     },
     "metadata": {
      "image/png": {
       "height": 420,
       "width": 420
      }
     },
     "output_type": "display_data"
    }
   ],
   "source": [
    "flist <- alist(height~dnorm(mu, sigma),\n",
    "mu<-alpha+beta*weight+epsilon*weight*weight,\n",
    "sigma~gamma+delta*weight, alpha~dnorm(178, 100),\n",
    "beta~dnorm(0,10),\n",
    "gamma~dnorm(25,10),\n",
    "delta~dnorm(0, 10),\n",
    "epsilon~dnorm(25,10))\n",
    "\n",
    "# The parameters as determined by the maximum a porsteriori fit\n",
    "output <- map(flist, data=d)\n",
    "\n",
    "summary(output)\n",
    "\n",
    "# Sampling the posterior distribution of the parameters\n",
    "post <- extract.samples(output)\n",
    "\n",
    "summary(post)\n",
    "\n",
    "mu.link <- function(weight) post$alpha + post$beta * weight + post$epsilon * weight * weight\n",
    "\n",
    "# Defining the weight grid\n",
    "weight.seq <- seq(from = 0, to = 70, by = 1)\n",
    "\n",
    "# For each weight value we calculate a 91 percent credible interval\n",
    "mu <- sapply(weight.seq, mu.link)\n",
    "mu.mean <- apply(mu, 2, mean)\n",
    "mu.HPDI <- apply(mu, 2, HPDI, prob = 0.91)\n",
    "\n",
    "plot(height ~ weight, d)\n",
    "lines(weight.seq, mu.mean)\n",
    "shade(mu.HPDI, weight.seq)\n",
    "\n",
    "# We calculate the 91 percent credible interval of the height variables by taking into account the uncertainty of the slope and the standard deviation\n",
    "sim.height <- sim(output, data=list(weight = weight.seq))\n",
    "height.PI <- apply(sim.height, 2, HPDI, prob = 0.91)\n",
    "shade(height.PI, weight.seq)"
   ]
  },
  {
   "attachments": {},
   "cell_type": "markdown",
   "metadata": {},
   "source": [
    "We also want to look at logarithmic models as hinted at during the lecture."
   ]
  },
  {
   "cell_type": "code",
   "execution_count": 27,
   "metadata": {
    "vscode": {
     "languageId": "r"
    }
   },
   "outputs": [
    {
     "ename": "ERROR",
     "evalue": "Error in map(flist, data = d): Anfangswert in 'vmmin' ist nicht endlich\n",
     "output_type": "error",
     "traceback": [
      "Error in map(flist, data = d): Anfangswert in 'vmmin' ist nicht endlich\nTraceback:\n",
      "1. map(flist, data = d)",
      "2. stop(msg)"
     ]
    }
   ],
   "source": [
    "flist <- alist(height~dnorm(mu, sigma),\n",
    "mu<-alpha+beta*log(weight),\n",
    "sigma~gamma+delta*weight, alpha~dnorm(178, 100),\n",
    "beta~dnorm(0,10),\n",
    "gamma~dnorm(25,10),\n",
    "delta~dnorm(0, 10))\n",
    "\n",
    "# The parameters as determined by the maximum a porsteriori fit\n",
    "output <- map(flist, data=d)\n",
    "\n",
    "summary(output)\n",
    "\n",
    "# Sampling the posterior distribution of the parameters\n",
    "post <- extract.samples(output)\n",
    "\n",
    "summary(post)\n",
    "\n",
    "mu.link <- function(weight) post$alpha + post$beta * log(weight)\n",
    "\n",
    "# Defining the weight grid\n",
    "weight.seq <- seq(from = 1, to = 70, by = 1)\n",
    "\n",
    "# For each weight value we calculate a 91 percent credible interval\n",
    "mu <- sapply(weight.seq, mu.link)\n",
    "mu.mean <- apply(mu, 2, mean)\n",
    "mu.HPDI <- apply(mu, 2, HPDI, prob = 0.91)\n",
    "\n",
    "plot(height ~ weight, d)\n",
    "lines(weight.seq, mu.mean)\n",
    "shade(mu.HPDI, weight.seq)\n",
    "\n",
    "# We calculate the 91 percent credible interval of the height variables by taking into account the uncertainty of the slope and the standard deviation\n",
    "sim.height <- sim(output, data=list(weight = weight.seq))\n",
    "height.PI <- apply(sim.height, 2, HPDI, prob = 0.91)\n",
    "shade(height.PI, weight.seq)"
   ]
  },
  {
   "attachments": {},
   "cell_type": "markdown",
   "metadata": {},
   "source": [
    "This doesnt work as well and the error message is not helping either. Thus to conclude the only better model that worked was the qubic model and it fit the data quite well. Although if I were to repair the calculation for the other models that would definitly inspire more confidence in the findings.\n",
    "\n",
    "2. As in exercise 2, sample from the posterior distribution and superimpose the raw data with the model uncertainty on the mean and the predicted heights.\n",
    "\n",
    "As I did above."
   ]
  }
 ],
 "metadata": {
  "kernelspec": {
   "display_name": "R",
   "language": "R",
   "name": "ir"
  },
  "language_info": {
   "codemirror_mode": "r",
   "file_extension": ".r",
   "mimetype": "text/x-r-source",
   "name": "R",
   "pygments_lexer": "r",
   "version": "4.2.2"
  },
  "orig_nbformat": 4
 },
 "nbformat": 4,
 "nbformat_minor": 2
}
